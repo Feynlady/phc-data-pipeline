{
 "cells": [
  {
   "cell_type": "code",
   "execution_count": 3,
   "metadata": {},
   "outputs": [
    {
     "name": "stderr",
     "output_type": "stream",
     "text": [
      "/rwthfs/rz/cluster/home/kz035322/Thesis/venv/lib/python3.7/site-packages/ipykernel_launcher.py:3: SettingWithCopyWarning: \n",
      "A value is trying to be set on a copy of a slice from a DataFrame.\n",
      "Try using .loc[row_indexer,col_indexer] = value instead\n",
      "\n",
      "See the caveats in the documentation: http://pandas.pydata.org/pandas-docs/stable/indexing.html#indexing-view-versus-copy\n",
      "  This is separate from the ipykernel package so we can avoid doing imports until\n"
     ]
    }
   ],
   "source": [
    "full = pd.read_csv('data/runs/full.csv').drop('Unnamed: 0', axis=1)\n",
    "clean = full[full['Quality']>-0.95]\n",
    "clean['started'] = pd.to_datetime(clean['started'])\n",
    "clean = clean[clean['started'] > pd.to_datetime('2020-04-15 18:00:00')]\n",
    "full['started'] = pd.to_datetime(full['started'])\n",
    "full = full[full['started'] > pd.to_datetime('2020-04-15 18:00:00')]"
   ]
  },
  {
   "cell_type": "markdown",
   "metadata": {},
   "source": [
    "# ANOVA"
   ]
  },
  {
   "cell_type": "markdown",
   "metadata": {},
   "source": [
    "Here we train an ANOVA model on the configurations of the pipeline and their respective drug-agnostic $ r^2 $ to determine which factors lead to a bigger improvement in performance"
   ]
  },
  {
   "cell_type": "code",
   "execution_count": 40,
   "metadata": {},
   "outputs": [],
   "source": [
    "import matplotlib.pyplot as plt\n",
    "import numpy as np\n",
    "import seaborn as sns\n",
    "import pandas as pd\n",
    "from scipy import stats"
   ]
  },
  {
   "cell_type": "code",
   "execution_count": 41,
   "metadata": {},
   "outputs": [],
   "source": [
    "clean = pd.read_csv('data/runs/clean.csv')"
   ]
  },
  {
   "cell_type": "code",
   "execution_count": 42,
   "metadata": {},
   "outputs": [
    {
     "data": {
      "text/plain": [
       "(119804, 77)"
      ]
     },
     "execution_count": 42,
     "metadata": {},
     "output_type": "execute_result"
    }
   ],
   "source": [
    "clean.shape"
   ]
  },
  {
   "cell_type": "code",
   "execution_count": 43,
   "metadata": {},
   "outputs": [
    {
     "data": {
      "text/html": [
       "<div>\n",
       "<style scoped>\n",
       "    .dataframe tbody tr th:only-of-type {\n",
       "        vertical-align: middle;\n",
       "    }\n",
       "\n",
       "    .dataframe tbody tr th {\n",
       "        vertical-align: top;\n",
       "    }\n",
       "\n",
       "    .dataframe thead tr th {\n",
       "        text-align: left;\n",
       "    }\n",
       "\n",
       "    .dataframe thead tr:last-of-type th {\n",
       "        text-align: right;\n",
       "    }\n",
       "</style>\n",
       "<table border=\"1\" class=\"dataframe\">\n",
       "  <thead>\n",
       "    <tr>\n",
       "      <th></th>\n",
       "      <th colspan=\"8\" halign=\"left\">r2_score</th>\n",
       "    </tr>\n",
       "    <tr>\n",
       "      <th></th>\n",
       "      <th>count</th>\n",
       "      <th>mean</th>\n",
       "      <th>std</th>\n",
       "      <th>min</th>\n",
       "      <th>25%</th>\n",
       "      <th>50%</th>\n",
       "      <th>75%</th>\n",
       "      <th>max</th>\n",
       "    </tr>\n",
       "    <tr>\n",
       "      <th>Drug</th>\n",
       "      <th></th>\n",
       "      <th></th>\n",
       "      <th></th>\n",
       "      <th></th>\n",
       "      <th></th>\n",
       "      <th></th>\n",
       "      <th></th>\n",
       "      <th></th>\n",
       "    </tr>\n",
       "  </thead>\n",
       "  <tbody>\n",
       "    <tr>\n",
       "      <th>Selumetinib</th>\n",
       "      <td>4512.0</td>\n",
       "      <td>0.189548</td>\n",
       "      <td>0.177463</td>\n",
       "      <td>-0.586784</td>\n",
       "      <td>0.003512</td>\n",
       "      <td>0.215650</td>\n",
       "      <td>0.337072</td>\n",
       "      <td>0.598656</td>\n",
       "    </tr>\n",
       "    <tr>\n",
       "      <th>Nutlin-3</th>\n",
       "      <td>4480.0</td>\n",
       "      <td>0.042574</td>\n",
       "      <td>0.222276</td>\n",
       "      <td>-1.956753</td>\n",
       "      <td>-0.029524</td>\n",
       "      <td>0.013063</td>\n",
       "      <td>0.129311</td>\n",
       "      <td>0.738862</td>\n",
       "    </tr>\n",
       "    <tr>\n",
       "      <th>Paclitaxel</th>\n",
       "      <td>4479.0</td>\n",
       "      <td>0.114114</td>\n",
       "      <td>0.157428</td>\n",
       "      <td>-0.866935</td>\n",
       "      <td>-0.003286</td>\n",
       "      <td>0.121838</td>\n",
       "      <td>0.223766</td>\n",
       "      <td>0.479926</td>\n",
       "    </tr>\n",
       "    <tr>\n",
       "      <th>Saracatinib</th>\n",
       "      <td>4452.0</td>\n",
       "      <td>0.089953</td>\n",
       "      <td>0.155960</td>\n",
       "      <td>-1.412134</td>\n",
       "      <td>-0.006891</td>\n",
       "      <td>0.083961</td>\n",
       "      <td>0.181256</td>\n",
       "      <td>0.586263</td>\n",
       "    </tr>\n",
       "    <tr>\n",
       "      <th>TAE684</th>\n",
       "      <td>4451.0</td>\n",
       "      <td>0.054032</td>\n",
       "      <td>0.166655</td>\n",
       "      <td>-0.774732</td>\n",
       "      <td>-0.022764</td>\n",
       "      <td>0.016381</td>\n",
       "      <td>0.126441</td>\n",
       "      <td>0.693535</td>\n",
       "    </tr>\n",
       "  </tbody>\n",
       "</table>\n",
       "</div>"
      ],
      "text/plain": [
       "            r2_score                                                    \\\n",
       "               count      mean       std       min       25%       50%   \n",
       "Drug                                                                     \n",
       "Selumetinib   4512.0  0.189548  0.177463 -0.586784  0.003512  0.215650   \n",
       "Nutlin-3      4480.0  0.042574  0.222276 -1.956753 -0.029524  0.013063   \n",
       "Paclitaxel    4479.0  0.114114  0.157428 -0.866935 -0.003286  0.121838   \n",
       "Saracatinib   4452.0  0.089953  0.155960 -1.412134 -0.006891  0.083961   \n",
       "TAE684        4451.0  0.054032  0.166655 -0.774732 -0.022764  0.016381   \n",
       "\n",
       "                                 \n",
       "                  75%       max  \n",
       "Drug                             \n",
       "Selumetinib  0.337072  0.598656  \n",
       "Nutlin-3     0.129311  0.738862  \n",
       "Paclitaxel   0.223766  0.479926  \n",
       "Saracatinib  0.181256  0.586263  \n",
       "TAE684       0.126441  0.693535  "
      ]
     },
     "execution_count": 43,
     "metadata": {},
     "output_type": "execute_result"
    }
   ],
   "source": [
    "clean[['Drug', 'r2_score']].groupby('Drug').describe().sort_values(('r2_score', 'count'), ascending=False).head()"
   ]
  },
  {
   "cell_type": "code",
   "execution_count": 44,
   "metadata": {},
   "outputs": [
    {
     "data": {
      "text/plain": [
       "Index(['C', 'Drug', 'algorithm', 'alpha', 'bootstrap', 'cache_size', 'coef0',\n",
       "       'copy_X', 'criterion', 'degree', 'epsilon', 'fit_intercept', 'gamma',\n",
       "       'kernel', 'l1_ratio', 'leaf_size', 'max_depth', 'max_features',\n",
       "       'max_iter', 'max_leaf_nodes', 'mean_absolute_error',\n",
       "       'mean_squared_error', 'median_absolute_error', 'metric',\n",
       "       'metric_params', 'min_impurity_decrease', 'min_impurity_split',\n",
       "       'min_samples_leaf', 'min_samples_split', 'min_weight_fraction_leaf',\n",
       "       'n_estimators', 'n_jobs', 'n_neighbors', 'normalize', 'oob_score', 'p',\n",
       "       'positive', 'precompute', 'presort', 'r2_score', 'random_state', 'run',\n",
       "       'selection', 'shrinking', 'splitter', 'tol', 'verbose', 'warm_start',\n",
       "       'weights', 'operation', 'started', 'time', 'status', 'label', 'ajive',\n",
       "       'ccle', 'ctrp', 'cutoff', 'drugs', 'feda', 'fs', 'gdsc', 'metric_drug',\n",
       "       'model', 'n', 'norm', 'test', 'threshold', 'step', 'r_2_mean',\n",
       "       'r_2_std', 'seconds', 'datasets', 'Quality', 'r2', 'da', 'catn'],\n",
       "      dtype='object')"
      ]
     },
     "execution_count": 44,
     "metadata": {},
     "output_type": "execute_result"
    }
   ],
   "source": [
    "clean.columns"
   ]
  },
  {
   "cell_type": "markdown",
   "metadata": {},
   "source": [
    "# ANOVA"
   ]
  },
  {
   "cell_type": "markdown",
   "metadata": {},
   "source": [
    "We start by determining the factors and interaction factors using the patsy formula api"
   ]
  },
  {
   "cell_type": "code",
   "execution_count": 59,
   "metadata": {},
   "outputs": [],
   "source": [
    "import patsy\n",
    "import statsmodels.api as sm\n",
    "f = 'r2 ~catn +Quality + fs:model + model +catn:model+ +norm:model+da:model+da+ctrp + gdsc + norm+C(datasets)+metric_drug'\n",
    "y, X = patsy.dmatrices(f,clean.drop('C', axis=1), return_type='dataframe')"
   ]
  },
  {
   "cell_type": "code",
   "execution_count": 60,
   "metadata": {},
   "outputs": [],
   "source": [
    "#X.columns"
   ]
  },
  {
   "cell_type": "markdown",
   "metadata": {},
   "source": [
    "We drop factors that either don't exist on our model aand those that would cause multicolinearity"
   ]
  },
  {
   "cell_type": "code",
   "execution_count": 61,
   "metadata": {},
   "outputs": [],
   "source": [
    "X = X.drop(['fs[T.f_regression]:model[DecisionTreeRegressor]', 'fs[T.ElasticNet]:model[ElasticNet]', 'fs[T.RandomForestRegressor]:model[RandomForestRegressor]'], axis=1)"
   ]
  },
  {
   "cell_type": "markdown",
   "metadata": {},
   "source": [
    "We turn the results of the OLS from a `SimpleTable` into a `DataFrame`"
   ]
  },
  {
   "cell_type": "code",
   "execution_count": 62,
   "metadata": {},
   "outputs": [],
   "source": [
    "mod = sm.OLS(y, X).fit()\n",
    "results = pd.DataFrame(mod.summary(alpha=0.01).tables[1].data).set_index(0)\n",
    "results = results.rename(columns=results.iloc[0])[1:]"
   ]
  },
  {
   "cell_type": "code",
   "execution_count": 63,
   "metadata": {},
   "outputs": [],
   "source": [
    "results['[0.005'] = pd.to_numeric(results['[0.005'])\n",
    "results['0.995]'] = pd.to_numeric(results['0.995]'])"
   ]
  },
  {
   "cell_type": "markdown",
   "metadata": {},
   "source": [
    "We plot the factors for which 0 is not within the 99% confidence interval"
   ]
  },
  {
   "cell_type": "code",
   "execution_count": 64,
   "metadata": {},
   "outputs": [
    {
     "data": {
      "text/html": [
       "<div>\n",
       "<style scoped>\n",
       "    .dataframe tbody tr th:only-of-type {\n",
       "        vertical-align: middle;\n",
       "    }\n",
       "\n",
       "    .dataframe tbody tr th {\n",
       "        vertical-align: top;\n",
       "    }\n",
       "\n",
       "    .dataframe thead th {\n",
       "        text-align: right;\n",
       "    }\n",
       "</style>\n",
       "<table border=\"1\" class=\"dataframe\">\n",
       "  <thead>\n",
       "    <tr style=\"text-align: right;\">\n",
       "      <th></th>\n",
       "      <th>coef</th>\n",
       "      <th>std err</th>\n",
       "      <th>t</th>\n",
       "      <th>P&gt;|t|</th>\n",
       "      <th>[0.005</th>\n",
       "      <th>0.995]</th>\n",
       "    </tr>\n",
       "    <tr>\n",
       "      <th>0</th>\n",
       "      <th></th>\n",
       "      <th></th>\n",
       "      <th></th>\n",
       "      <th></th>\n",
       "      <th></th>\n",
       "      <th></th>\n",
       "    </tr>\n",
       "  </thead>\n",
       "  <tbody>\n",
       "    <tr>\n",
       "      <th>C(datasets)[T.2]</th>\n",
       "      <td>0.0165</td>\n",
       "      <td>0.002</td>\n",
       "      <td>7.532</td>\n",
       "      <td>0.000</td>\n",
       "      <td>0.011</td>\n",
       "      <td>0.022</td>\n",
       "    </tr>\n",
       "    <tr>\n",
       "      <th>da[T.none]</th>\n",
       "      <td>0.0173</td>\n",
       "      <td>0.005</td>\n",
       "      <td>3.775</td>\n",
       "      <td>0.000</td>\n",
       "      <td>0.005</td>\n",
       "      <td>0.029</td>\n",
       "    </tr>\n",
       "    <tr>\n",
       "      <th>fs[T.Lasso]:model[RandomForestRegressor]</th>\n",
       "      <td>0.0180</td>\n",
       "      <td>0.006</td>\n",
       "      <td>2.833</td>\n",
       "      <td>0.005</td>\n",
       "      <td>0.002</td>\n",
       "      <td>0.034</td>\n",
       "    </tr>\n",
       "    <tr>\n",
       "      <th>catn[T.mid]</th>\n",
       "      <td>0.0199</td>\n",
       "      <td>0.005</td>\n",
       "      <td>4.014</td>\n",
       "      <td>0.000</td>\n",
       "      <td>0.007</td>\n",
       "      <td>0.033</td>\n",
       "    </tr>\n",
       "    <tr>\n",
       "      <th>fs[T.ElasticNet]:model[SVR]</th>\n",
       "      <td>0.0217</td>\n",
       "      <td>0.007</td>\n",
       "      <td>2.955</td>\n",
       "      <td>0.003</td>\n",
       "      <td>0.003</td>\n",
       "      <td>0.041</td>\n",
       "    </tr>\n",
       "  </tbody>\n",
       "</table>\n",
       "</div>"
      ],
      "text/plain": [
       "                                                coef    std err          t  \\\n",
       "0                                                                            \n",
       "C(datasets)[T.2]                              0.0165      0.002      7.532   \n",
       "da[T.none]                                    0.0173      0.005      3.775   \n",
       "fs[T.Lasso]:model[RandomForestRegressor]      0.0180      0.006      2.833   \n",
       "catn[T.mid]                                   0.0199      0.005      4.014   \n",
       "fs[T.ElasticNet]:model[SVR]                   0.0217      0.007      2.955   \n",
       "\n",
       "                                           P>|t|  [0.005  0.995]  \n",
       "0                                                                 \n",
       "C(datasets)[T.2]                           0.000   0.011   0.022  \n",
       "da[T.none]                                 0.000   0.005   0.029  \n",
       "fs[T.Lasso]:model[RandomForestRegressor]   0.005   0.002   0.034  \n",
       "catn[T.mid]                                0.000   0.007   0.033  \n",
       "fs[T.ElasticNet]:model[SVR]                0.003   0.003   0.041  "
      ]
     },
     "execution_count": 64,
     "metadata": {},
     "output_type": "execute_result"
    }
   ],
   "source": [
    "results[results['[0.005']*results['0.995]'] > 0].sort_values('coef').head()"
   ]
  },
  {
   "cell_type": "code",
   "execution_count": 65,
   "metadata": {},
   "outputs": [
    {
     "data": {
      "text/plain": [
       "(83, 6)"
      ]
     },
     "execution_count": 65,
     "metadata": {},
     "output_type": "execute_result"
    }
   ],
   "source": [
    "results.shape"
   ]
  },
  {
   "cell_type": "markdown",
   "metadata": {},
   "source": [
    "We see 42 interaction factors are not significant (0 is within their 99% confidence interval)"
   ]
  },
  {
   "cell_type": "code",
   "execution_count": 66,
   "metadata": {},
   "outputs": [
    {
     "data": {
      "text/plain": [
       "(36, 6)"
      ]
     },
     "execution_count": 66,
     "metadata": {},
     "output_type": "execute_result"
    }
   ],
   "source": [
    "results[results['[0.005']*results['0.995]'] > 0].sort_values('coef').shape"
   ]
  },
  {
   "cell_type": "markdown",
   "metadata": {},
   "source": [
    "We drop non-significant factors"
   ]
  },
  {
   "cell_type": "code",
   "execution_count": 67,
   "metadata": {},
   "outputs": [],
   "source": [
    "drop = list(results[results['[0.005']*results['0.995]'] < 0].index)\n",
    "drop = [i for i in drop if ':' in i]\n",
    "X = X.drop(drop, axis=1)"
   ]
  },
  {
   "cell_type": "markdown",
   "metadata": {},
   "source": [
    "Then retrain the OLS model"
   ]
  },
  {
   "cell_type": "code",
   "execution_count": 68,
   "metadata": {},
   "outputs": [],
   "source": [
    "mod = sm.OLS(y, X).fit()\n",
    "results = pd.DataFrame(mod.summary(alpha=0.01).tables[1].data).set_index(0)\n",
    "results = results.rename(columns=results.iloc[0])[1:]\n",
    "results['[0.005'] = pd.to_numeric(results['[0.005'])\n",
    "results['0.995]'] = pd.to_numeric(results['0.995]'])\n",
    "results['coef'] = pd.to_numeric(results['coef'])"
   ]
  },
  {
   "cell_type": "code",
   "execution_count": 69,
   "metadata": {},
   "outputs": [],
   "source": [
    "anova = results[results['[0.005']*results['0.995]'] > 0]\n",
    "anova = anova.sort_values('coef').reset_index().rename(columns={0:'factor'})"
   ]
  },
  {
   "cell_type": "code",
   "execution_count": 70,
   "metadata": {},
   "outputs": [
    {
     "data": {
      "text/html": [
       "<div>\n",
       "<style scoped>\n",
       "    .dataframe tbody tr th:only-of-type {\n",
       "        vertical-align: middle;\n",
       "    }\n",
       "\n",
       "    .dataframe tbody tr th {\n",
       "        vertical-align: top;\n",
       "    }\n",
       "\n",
       "    .dataframe thead th {\n",
       "        text-align: right;\n",
       "    }\n",
       "</style>\n",
       "<table border=\"1\" class=\"dataframe\">\n",
       "  <thead>\n",
       "    <tr style=\"text-align: right;\">\n",
       "      <th></th>\n",
       "      <th>factor</th>\n",
       "      <th>coef</th>\n",
       "      <th>std err</th>\n",
       "      <th>t</th>\n",
       "      <th>P&gt;|t|</th>\n",
       "      <th>[0.005</th>\n",
       "      <th>0.995]</th>\n",
       "    </tr>\n",
       "  </thead>\n",
       "  <tbody>\n",
       "    <tr>\n",
       "      <th>0</th>\n",
       "      <td>Intercept</td>\n",
       "      <td>-0.1704</td>\n",
       "      <td>0.005</td>\n",
       "      <td>-37.700</td>\n",
       "      <td>0.000</td>\n",
       "      <td>-0.182</td>\n",
       "      <td>-0.159</td>\n",
       "    </tr>\n",
       "    <tr>\n",
       "      <th>1</th>\n",
       "      <td>da[T.feda]</td>\n",
       "      <td>-0.0872</td>\n",
       "      <td>0.004</td>\n",
       "      <td>-20.375</td>\n",
       "      <td>0.000</td>\n",
       "      <td>-0.098</td>\n",
       "      <td>-0.076</td>\n",
       "    </tr>\n",
       "    <tr>\n",
       "      <th>2</th>\n",
       "      <td>norm[T.StandardScaler]:model[T.SVR]</td>\n",
       "      <td>-0.0850</td>\n",
       "      <td>0.011</td>\n",
       "      <td>-7.889</td>\n",
       "      <td>0.000</td>\n",
       "      <td>-0.113</td>\n",
       "      <td>-0.057</td>\n",
       "    </tr>\n",
       "    <tr>\n",
       "      <th>3</th>\n",
       "      <td>norm[T.StandardScaler]:model[T.RandomForestReg...</td>\n",
       "      <td>-0.0824</td>\n",
       "      <td>0.010</td>\n",
       "      <td>-8.569</td>\n",
       "      <td>0.000</td>\n",
       "      <td>-0.107</td>\n",
       "      <td>-0.058</td>\n",
       "    </tr>\n",
       "    <tr>\n",
       "      <th>4</th>\n",
       "      <td>norm[T.StandardScaler]:model[T.KNeighborsRegre...</td>\n",
       "      <td>-0.0814</td>\n",
       "      <td>0.012</td>\n",
       "      <td>-6.538</td>\n",
       "      <td>0.000</td>\n",
       "      <td>-0.113</td>\n",
       "      <td>-0.049</td>\n",
       "    </tr>\n",
       "    <tr>\n",
       "      <th>5</th>\n",
       "      <td>norm[T.StandardScaler]:model[T.ElasticNet]</td>\n",
       "      <td>-0.0785</td>\n",
       "      <td>0.008</td>\n",
       "      <td>-9.585</td>\n",
       "      <td>0.000</td>\n",
       "      <td>-0.100</td>\n",
       "      <td>-0.057</td>\n",
       "    </tr>\n",
       "    <tr>\n",
       "      <th>6</th>\n",
       "      <td>da[T.feda]:model[T.SVR]</td>\n",
       "      <td>-0.0531</td>\n",
       "      <td>0.006</td>\n",
       "      <td>-8.346</td>\n",
       "      <td>0.000</td>\n",
       "      <td>-0.069</td>\n",
       "      <td>-0.037</td>\n",
       "    </tr>\n",
       "    <tr>\n",
       "      <th>7</th>\n",
       "      <td>da[T.feda]:model[T.KNeighborsRegressor]</td>\n",
       "      <td>-0.0483</td>\n",
       "      <td>0.008</td>\n",
       "      <td>-6.006</td>\n",
       "      <td>0.000</td>\n",
       "      <td>-0.069</td>\n",
       "      <td>-0.028</td>\n",
       "    </tr>\n",
       "    <tr>\n",
       "      <th>8</th>\n",
       "      <td>norm[T.None]:model[T.RandomForestRegressor]</td>\n",
       "      <td>-0.0431</td>\n",
       "      <td>0.006</td>\n",
       "      <td>-7.395</td>\n",
       "      <td>0.000</td>\n",
       "      <td>-0.058</td>\n",
       "      <td>-0.028</td>\n",
       "    </tr>\n",
       "    <tr>\n",
       "      <th>9</th>\n",
       "      <td>catn[T.low]:model[T.KNeighborsRegressor]</td>\n",
       "      <td>-0.0341</td>\n",
       "      <td>0.007</td>\n",
       "      <td>-4.703</td>\n",
       "      <td>0.000</td>\n",
       "      <td>-0.053</td>\n",
       "      <td>-0.015</td>\n",
       "    </tr>\n",
       "    <tr>\n",
       "      <th>10</th>\n",
       "      <td>catn[T.mid]:model[T.KNeighborsRegressor]</td>\n",
       "      <td>-0.0332</td>\n",
       "      <td>0.008</td>\n",
       "      <td>-4.427</td>\n",
       "      <td>0.000</td>\n",
       "      <td>-0.053</td>\n",
       "      <td>-0.014</td>\n",
       "    </tr>\n",
       "    <tr>\n",
       "      <th>11</th>\n",
       "      <td>da[T.feda]:model[T.ElasticNet]</td>\n",
       "      <td>-0.0313</td>\n",
       "      <td>0.006</td>\n",
       "      <td>-5.458</td>\n",
       "      <td>0.000</td>\n",
       "      <td>-0.046</td>\n",
       "      <td>-0.017</td>\n",
       "    </tr>\n",
       "    <tr>\n",
       "      <th>12</th>\n",
       "      <td>catn[T.very low]:model[T.KNeighborsRegressor]</td>\n",
       "      <td>-0.0267</td>\n",
       "      <td>0.007</td>\n",
       "      <td>-3.721</td>\n",
       "      <td>0.000</td>\n",
       "      <td>-0.045</td>\n",
       "      <td>-0.008</td>\n",
       "    </tr>\n",
       "    <tr>\n",
       "      <th>13</th>\n",
       "      <td>da[T.feda]:model[T.RandomForestRegressor]</td>\n",
       "      <td>-0.0262</td>\n",
       "      <td>0.006</td>\n",
       "      <td>-4.069</td>\n",
       "      <td>0.000</td>\n",
       "      <td>-0.043</td>\n",
       "      <td>-0.010</td>\n",
       "    </tr>\n",
       "    <tr>\n",
       "      <th>14</th>\n",
       "      <td>norm[T.None]:model[T.KNeighborsRegressor]</td>\n",
       "      <td>-0.0260</td>\n",
       "      <td>0.008</td>\n",
       "      <td>-3.415</td>\n",
       "      <td>0.001</td>\n",
       "      <td>-0.046</td>\n",
       "      <td>-0.006</td>\n",
       "    </tr>\n",
       "    <tr>\n",
       "      <th>15</th>\n",
       "      <td>da[T.none]:model[T.KNeighborsRegressor]</td>\n",
       "      <td>-0.0245</td>\n",
       "      <td>0.007</td>\n",
       "      <td>-3.493</td>\n",
       "      <td>0.000</td>\n",
       "      <td>-0.043</td>\n",
       "      <td>-0.006</td>\n",
       "    </tr>\n",
       "    <tr>\n",
       "      <th>16</th>\n",
       "      <td>catn[T.very low]:model[T.ElasticNet]</td>\n",
       "      <td>-0.0233</td>\n",
       "      <td>0.005</td>\n",
       "      <td>-4.936</td>\n",
       "      <td>0.000</td>\n",
       "      <td>-0.035</td>\n",
       "      <td>-0.011</td>\n",
       "    </tr>\n",
       "    <tr>\n",
       "      <th>17</th>\n",
       "      <td>catn[T.mid]:model[T.ElasticNet]</td>\n",
       "      <td>-0.0173</td>\n",
       "      <td>0.005</td>\n",
       "      <td>-3.658</td>\n",
       "      <td>0.000</td>\n",
       "      <td>-0.030</td>\n",
       "      <td>-0.005</td>\n",
       "    </tr>\n",
       "    <tr>\n",
       "      <th>18</th>\n",
       "      <td>da[T.none]:model[T.ElasticNet]</td>\n",
       "      <td>-0.0126</td>\n",
       "      <td>0.005</td>\n",
       "      <td>-2.692</td>\n",
       "      <td>0.007</td>\n",
       "      <td>-0.025</td>\n",
       "      <td>-0.001</td>\n",
       "    </tr>\n",
       "    <tr>\n",
       "      <th>19</th>\n",
       "      <td>catn[T.very low]</td>\n",
       "      <td>-0.0091</td>\n",
       "      <td>0.003</td>\n",
       "      <td>-2.846</td>\n",
       "      <td>0.004</td>\n",
       "      <td>-0.017</td>\n",
       "      <td>-0.001</td>\n",
       "    </tr>\n",
       "    <tr>\n",
       "      <th>20</th>\n",
       "      <td>norm[T.QuantileTransformer]</td>\n",
       "      <td>0.0094</td>\n",
       "      <td>0.003</td>\n",
       "      <td>2.955</td>\n",
       "      <td>0.003</td>\n",
       "      <td>0.001</td>\n",
       "      <td>0.018</td>\n",
       "    </tr>\n",
       "    <tr>\n",
       "      <th>21</th>\n",
       "      <td>da[T.none]</td>\n",
       "      <td>0.0126</td>\n",
       "      <td>0.003</td>\n",
       "      <td>4.323</td>\n",
       "      <td>0.000</td>\n",
       "      <td>0.005</td>\n",
       "      <td>0.020</td>\n",
       "    </tr>\n",
       "    <tr>\n",
       "      <th>22</th>\n",
       "      <td>catn[T.mid]</td>\n",
       "      <td>0.0145</td>\n",
       "      <td>0.003</td>\n",
       "      <td>4.608</td>\n",
       "      <td>0.000</td>\n",
       "      <td>0.006</td>\n",
       "      <td>0.023</td>\n",
       "    </tr>\n",
       "    <tr>\n",
       "      <th>23</th>\n",
       "      <td>fs[T.ElasticNet]:model[SVR]</td>\n",
       "      <td>0.0162</td>\n",
       "      <td>0.006</td>\n",
       "      <td>2.872</td>\n",
       "      <td>0.004</td>\n",
       "      <td>0.002</td>\n",
       "      <td>0.031</td>\n",
       "    </tr>\n",
       "    <tr>\n",
       "      <th>24</th>\n",
       "      <td>C(datasets)[T.2]</td>\n",
       "      <td>0.0163</td>\n",
       "      <td>0.002</td>\n",
       "      <td>7.483</td>\n",
       "      <td>0.000</td>\n",
       "      <td>0.011</td>\n",
       "      <td>0.022</td>\n",
       "    </tr>\n",
       "    <tr>\n",
       "      <th>25</th>\n",
       "      <td>fs[T.RandomForestRegressor]:model[SVR]</td>\n",
       "      <td>0.0205</td>\n",
       "      <td>0.006</td>\n",
       "      <td>3.322</td>\n",
       "      <td>0.001</td>\n",
       "      <td>0.005</td>\n",
       "      <td>0.036</td>\n",
       "    </tr>\n",
       "    <tr>\n",
       "      <th>26</th>\n",
       "      <td>ctrp[T.True]</td>\n",
       "      <td>0.0261</td>\n",
       "      <td>0.002</td>\n",
       "      <td>11.970</td>\n",
       "      <td>0.000</td>\n",
       "      <td>0.021</td>\n",
       "      <td>0.032</td>\n",
       "    </tr>\n",
       "    <tr>\n",
       "      <th>27</th>\n",
       "      <td>fs[T.mutual_info_regression]:model[RandomFores...</td>\n",
       "      <td>0.0269</td>\n",
       "      <td>0.006</td>\n",
       "      <td>4.624</td>\n",
       "      <td>0.000</td>\n",
       "      <td>0.012</td>\n",
       "      <td>0.042</td>\n",
       "    </tr>\n",
       "    <tr>\n",
       "      <th>28</th>\n",
       "      <td>norm[T.MinMaxScaler]:model[T.SVR]</td>\n",
       "      <td>0.0273</td>\n",
       "      <td>0.007</td>\n",
       "      <td>4.022</td>\n",
       "      <td>0.000</td>\n",
       "      <td>0.010</td>\n",
       "      <td>0.045</td>\n",
       "    </tr>\n",
       "    <tr>\n",
       "      <th>29</th>\n",
       "      <td>fs[T.mutual_info_regression]:model[SVR]</td>\n",
       "      <td>0.0277</td>\n",
       "      <td>0.006</td>\n",
       "      <td>4.460</td>\n",
       "      <td>0.000</td>\n",
       "      <td>0.012</td>\n",
       "      <td>0.044</td>\n",
       "    </tr>\n",
       "    <tr>\n",
       "      <th>30</th>\n",
       "      <td>fs[T.f_regression]:model[RandomForestRegressor]</td>\n",
       "      <td>0.0282</td>\n",
       "      <td>0.006</td>\n",
       "      <td>5.028</td>\n",
       "      <td>0.000</td>\n",
       "      <td>0.014</td>\n",
       "      <td>0.043</td>\n",
       "    </tr>\n",
       "    <tr>\n",
       "      <th>31</th>\n",
       "      <td>norm[T.None]</td>\n",
       "      <td>0.0297</td>\n",
       "      <td>0.003</td>\n",
       "      <td>8.711</td>\n",
       "      <td>0.000</td>\n",
       "      <td>0.021</td>\n",
       "      <td>0.038</td>\n",
       "    </tr>\n",
       "    <tr>\n",
       "      <th>32</th>\n",
       "      <td>norm[T.StandardScaler]</td>\n",
       "      <td>0.0332</td>\n",
       "      <td>0.008</td>\n",
       "      <td>4.305</td>\n",
       "      <td>0.000</td>\n",
       "      <td>0.013</td>\n",
       "      <td>0.053</td>\n",
       "    </tr>\n",
       "    <tr>\n",
       "      <th>33</th>\n",
       "      <td>gdsc[T.True]</td>\n",
       "      <td>0.0500</td>\n",
       "      <td>0.002</td>\n",
       "      <td>24.149</td>\n",
       "      <td>0.000</td>\n",
       "      <td>0.045</td>\n",
       "      <td>0.055</td>\n",
       "    </tr>\n",
       "    <tr>\n",
       "      <th>34</th>\n",
       "      <td>model[T.SVR]</td>\n",
       "      <td>0.1106</td>\n",
       "      <td>0.005</td>\n",
       "      <td>24.542</td>\n",
       "      <td>0.000</td>\n",
       "      <td>0.099</td>\n",
       "      <td>0.122</td>\n",
       "    </tr>\n",
       "    <tr>\n",
       "      <th>35</th>\n",
       "      <td>model[T.RandomForestRegressor]</td>\n",
       "      <td>0.2122</td>\n",
       "      <td>0.005</td>\n",
       "      <td>40.697</td>\n",
       "      <td>0.000</td>\n",
       "      <td>0.199</td>\n",
       "      <td>0.226</td>\n",
       "    </tr>\n",
       "    <tr>\n",
       "      <th>36</th>\n",
       "      <td>model[T.ElasticNet]</td>\n",
       "      <td>0.2166</td>\n",
       "      <td>0.004</td>\n",
       "      <td>50.396</td>\n",
       "      <td>0.000</td>\n",
       "      <td>0.206</td>\n",
       "      <td>0.228</td>\n",
       "    </tr>\n",
       "    <tr>\n",
       "      <th>37</th>\n",
       "      <td>model[T.KNeighborsRegressor]</td>\n",
       "      <td>0.2416</td>\n",
       "      <td>0.009</td>\n",
       "      <td>25.580</td>\n",
       "      <td>0.000</td>\n",
       "      <td>0.217</td>\n",
       "      <td>0.266</td>\n",
       "    </tr>\n",
       "  </tbody>\n",
       "</table>\n",
       "</div>"
      ],
      "text/plain": [
       "                                               factor    coef    std err  \\\n",
       "0                                           Intercept -0.1704      0.005   \n",
       "1                                          da[T.feda] -0.0872      0.004   \n",
       "2                 norm[T.StandardScaler]:model[T.SVR] -0.0850      0.011   \n",
       "3   norm[T.StandardScaler]:model[T.RandomForestReg... -0.0824      0.010   \n",
       "4   norm[T.StandardScaler]:model[T.KNeighborsRegre... -0.0814      0.012   \n",
       "5          norm[T.StandardScaler]:model[T.ElasticNet] -0.0785      0.008   \n",
       "6                             da[T.feda]:model[T.SVR] -0.0531      0.006   \n",
       "7             da[T.feda]:model[T.KNeighborsRegressor] -0.0483      0.008   \n",
       "8         norm[T.None]:model[T.RandomForestRegressor] -0.0431      0.006   \n",
       "9            catn[T.low]:model[T.KNeighborsRegressor] -0.0341      0.007   \n",
       "10           catn[T.mid]:model[T.KNeighborsRegressor] -0.0332      0.008   \n",
       "11                     da[T.feda]:model[T.ElasticNet] -0.0313      0.006   \n",
       "12      catn[T.very low]:model[T.KNeighborsRegressor] -0.0267      0.007   \n",
       "13          da[T.feda]:model[T.RandomForestRegressor] -0.0262      0.006   \n",
       "14          norm[T.None]:model[T.KNeighborsRegressor] -0.0260      0.008   \n",
       "15            da[T.none]:model[T.KNeighborsRegressor] -0.0245      0.007   \n",
       "16               catn[T.very low]:model[T.ElasticNet] -0.0233      0.005   \n",
       "17                    catn[T.mid]:model[T.ElasticNet] -0.0173      0.005   \n",
       "18                     da[T.none]:model[T.ElasticNet] -0.0126      0.005   \n",
       "19                                   catn[T.very low] -0.0091      0.003   \n",
       "20                        norm[T.QuantileTransformer]  0.0094      0.003   \n",
       "21                                         da[T.none]  0.0126      0.003   \n",
       "22                                        catn[T.mid]  0.0145      0.003   \n",
       "23                        fs[T.ElasticNet]:model[SVR]  0.0162      0.006   \n",
       "24                                   C(datasets)[T.2]  0.0163      0.002   \n",
       "25             fs[T.RandomForestRegressor]:model[SVR]  0.0205      0.006   \n",
       "26                                       ctrp[T.True]  0.0261      0.002   \n",
       "27  fs[T.mutual_info_regression]:model[RandomFores...  0.0269      0.006   \n",
       "28                  norm[T.MinMaxScaler]:model[T.SVR]  0.0273      0.007   \n",
       "29            fs[T.mutual_info_regression]:model[SVR]  0.0277      0.006   \n",
       "30    fs[T.f_regression]:model[RandomForestRegressor]  0.0282      0.006   \n",
       "31                                       norm[T.None]  0.0297      0.003   \n",
       "32                             norm[T.StandardScaler]  0.0332      0.008   \n",
       "33                                       gdsc[T.True]  0.0500      0.002   \n",
       "34                                       model[T.SVR]  0.1106      0.005   \n",
       "35                     model[T.RandomForestRegressor]  0.2122      0.005   \n",
       "36                                model[T.ElasticNet]  0.2166      0.004   \n",
       "37                       model[T.KNeighborsRegressor]  0.2416      0.009   \n",
       "\n",
       "            t   P>|t|  [0.005  0.995]  \n",
       "0     -37.700   0.000  -0.182  -0.159  \n",
       "1     -20.375   0.000  -0.098  -0.076  \n",
       "2      -7.889   0.000  -0.113  -0.057  \n",
       "3      -8.569   0.000  -0.107  -0.058  \n",
       "4      -6.538   0.000  -0.113  -0.049  \n",
       "5      -9.585   0.000  -0.100  -0.057  \n",
       "6      -8.346   0.000  -0.069  -0.037  \n",
       "7      -6.006   0.000  -0.069  -0.028  \n",
       "8      -7.395   0.000  -0.058  -0.028  \n",
       "9      -4.703   0.000  -0.053  -0.015  \n",
       "10     -4.427   0.000  -0.053  -0.014  \n",
       "11     -5.458   0.000  -0.046  -0.017  \n",
       "12     -3.721   0.000  -0.045  -0.008  \n",
       "13     -4.069   0.000  -0.043  -0.010  \n",
       "14     -3.415   0.001  -0.046  -0.006  \n",
       "15     -3.493   0.000  -0.043  -0.006  \n",
       "16     -4.936   0.000  -0.035  -0.011  \n",
       "17     -3.658   0.000  -0.030  -0.005  \n",
       "18     -2.692   0.007  -0.025  -0.001  \n",
       "19     -2.846   0.004  -0.017  -0.001  \n",
       "20      2.955   0.003   0.001   0.018  \n",
       "21      4.323   0.000   0.005   0.020  \n",
       "22      4.608   0.000   0.006   0.023  \n",
       "23      2.872   0.004   0.002   0.031  \n",
       "24      7.483   0.000   0.011   0.022  \n",
       "25      3.322   0.001   0.005   0.036  \n",
       "26     11.970   0.000   0.021   0.032  \n",
       "27      4.624   0.000   0.012   0.042  \n",
       "28      4.022   0.000   0.010   0.045  \n",
       "29      4.460   0.000   0.012   0.044  \n",
       "30      5.028   0.000   0.014   0.043  \n",
       "31      8.711   0.000   0.021   0.038  \n",
       "32      4.305   0.000   0.013   0.053  \n",
       "33     24.149   0.000   0.045   0.055  \n",
       "34     24.542   0.000   0.099   0.122  \n",
       "35     40.697   0.000   0.199   0.226  \n",
       "36     50.396   0.000   0.206   0.228  \n",
       "37     25.580   0.000   0.217   0.266  "
      ]
     },
     "execution_count": 70,
     "metadata": {},
     "output_type": "execute_result"
    }
   ],
   "source": [
    "anova"
   ]
  },
  {
   "cell_type": "code",
   "execution_count": 71,
   "metadata": {},
   "outputs": [
    {
     "data": {
      "text/html": [
       "<div>\n",
       "<style scoped>\n",
       "    .dataframe tbody tr th:only-of-type {\n",
       "        vertical-align: middle;\n",
       "    }\n",
       "\n",
       "    .dataframe tbody tr th {\n",
       "        vertical-align: top;\n",
       "    }\n",
       "\n",
       "    .dataframe thead th {\n",
       "        text-align: right;\n",
       "    }\n",
       "</style>\n",
       "<table border=\"1\" class=\"dataframe\">\n",
       "  <thead>\n",
       "    <tr style=\"text-align: right;\">\n",
       "      <th></th>\n",
       "      <th>factor</th>\n",
       "      <th>coef</th>\n",
       "      <th>std err</th>\n",
       "      <th>t</th>\n",
       "      <th>P&gt;|t|</th>\n",
       "      <th>[0.005</th>\n",
       "      <th>0.995]</th>\n",
       "    </tr>\n",
       "  </thead>\n",
       "  <tbody>\n",
       "    <tr>\n",
       "      <th>0</th>\n",
       "      <td>Intercept</td>\n",
       "      <td>-0.1704</td>\n",
       "      <td>0.005</td>\n",
       "      <td>-37.700</td>\n",
       "      <td>0.000</td>\n",
       "      <td>-0.182</td>\n",
       "      <td>-0.159</td>\n",
       "    </tr>\n",
       "    <tr>\n",
       "      <th>1</th>\n",
       "      <td>da[T.feda]</td>\n",
       "      <td>-0.0872</td>\n",
       "      <td>0.004</td>\n",
       "      <td>-20.375</td>\n",
       "      <td>0.000</td>\n",
       "      <td>-0.098</td>\n",
       "      <td>-0.076</td>\n",
       "    </tr>\n",
       "    <tr>\n",
       "      <th>2</th>\n",
       "      <td>norm[T.StandardScaler]:model[T.SVR]</td>\n",
       "      <td>-0.0850</td>\n",
       "      <td>0.011</td>\n",
       "      <td>-7.889</td>\n",
       "      <td>0.000</td>\n",
       "      <td>-0.113</td>\n",
       "      <td>-0.057</td>\n",
       "    </tr>\n",
       "    <tr>\n",
       "      <th>3</th>\n",
       "      <td>norm[T.StandardScaler]:model[T.RandomForestReg...</td>\n",
       "      <td>-0.0824</td>\n",
       "      <td>0.010</td>\n",
       "      <td>-8.569</td>\n",
       "      <td>0.000</td>\n",
       "      <td>-0.107</td>\n",
       "      <td>-0.058</td>\n",
       "    </tr>\n",
       "    <tr>\n",
       "      <th>4</th>\n",
       "      <td>norm[T.StandardScaler]:model[T.KNeighborsRegre...</td>\n",
       "      <td>-0.0814</td>\n",
       "      <td>0.012</td>\n",
       "      <td>-6.538</td>\n",
       "      <td>0.000</td>\n",
       "      <td>-0.113</td>\n",
       "      <td>-0.049</td>\n",
       "    </tr>\n",
       "    <tr>\n",
       "      <th>5</th>\n",
       "      <td>norm[T.StandardScaler]:model[T.ElasticNet]</td>\n",
       "      <td>-0.0785</td>\n",
       "      <td>0.008</td>\n",
       "      <td>-9.585</td>\n",
       "      <td>0.000</td>\n",
       "      <td>-0.100</td>\n",
       "      <td>-0.057</td>\n",
       "    </tr>\n",
       "    <tr>\n",
       "      <th>6</th>\n",
       "      <td>da[T.feda]:model[T.SVR]</td>\n",
       "      <td>-0.0531</td>\n",
       "      <td>0.006</td>\n",
       "      <td>-8.346</td>\n",
       "      <td>0.000</td>\n",
       "      <td>-0.069</td>\n",
       "      <td>-0.037</td>\n",
       "    </tr>\n",
       "    <tr>\n",
       "      <th>7</th>\n",
       "      <td>da[T.feda]:model[T.KNeighborsRegressor]</td>\n",
       "      <td>-0.0483</td>\n",
       "      <td>0.008</td>\n",
       "      <td>-6.006</td>\n",
       "      <td>0.000</td>\n",
       "      <td>-0.069</td>\n",
       "      <td>-0.028</td>\n",
       "    </tr>\n",
       "    <tr>\n",
       "      <th>8</th>\n",
       "      <td>norm[T.None]:model[T.RandomForestRegressor]</td>\n",
       "      <td>-0.0431</td>\n",
       "      <td>0.006</td>\n",
       "      <td>-7.395</td>\n",
       "      <td>0.000</td>\n",
       "      <td>-0.058</td>\n",
       "      <td>-0.028</td>\n",
       "    </tr>\n",
       "    <tr>\n",
       "      <th>9</th>\n",
       "      <td>catn[T.low]:model[T.KNeighborsRegressor]</td>\n",
       "      <td>-0.0341</td>\n",
       "      <td>0.007</td>\n",
       "      <td>-4.703</td>\n",
       "      <td>0.000</td>\n",
       "      <td>-0.053</td>\n",
       "      <td>-0.015</td>\n",
       "    </tr>\n",
       "    <tr>\n",
       "      <th>10</th>\n",
       "      <td>catn[T.mid]:model[T.KNeighborsRegressor]</td>\n",
       "      <td>-0.0332</td>\n",
       "      <td>0.008</td>\n",
       "      <td>-4.427</td>\n",
       "      <td>0.000</td>\n",
       "      <td>-0.053</td>\n",
       "      <td>-0.014</td>\n",
       "    </tr>\n",
       "    <tr>\n",
       "      <th>11</th>\n",
       "      <td>da[T.feda]:model[T.ElasticNet]</td>\n",
       "      <td>-0.0313</td>\n",
       "      <td>0.006</td>\n",
       "      <td>-5.458</td>\n",
       "      <td>0.000</td>\n",
       "      <td>-0.046</td>\n",
       "      <td>-0.017</td>\n",
       "    </tr>\n",
       "    <tr>\n",
       "      <th>32</th>\n",
       "      <td>norm[T.StandardScaler]</td>\n",
       "      <td>0.0332</td>\n",
       "      <td>0.008</td>\n",
       "      <td>4.305</td>\n",
       "      <td>0.000</td>\n",
       "      <td>0.013</td>\n",
       "      <td>0.053</td>\n",
       "    </tr>\n",
       "    <tr>\n",
       "      <th>33</th>\n",
       "      <td>gdsc[T.True]</td>\n",
       "      <td>0.0500</td>\n",
       "      <td>0.002</td>\n",
       "      <td>24.149</td>\n",
       "      <td>0.000</td>\n",
       "      <td>0.045</td>\n",
       "      <td>0.055</td>\n",
       "    </tr>\n",
       "    <tr>\n",
       "      <th>34</th>\n",
       "      <td>model[T.SVR]</td>\n",
       "      <td>0.1106</td>\n",
       "      <td>0.005</td>\n",
       "      <td>24.542</td>\n",
       "      <td>0.000</td>\n",
       "      <td>0.099</td>\n",
       "      <td>0.122</td>\n",
       "    </tr>\n",
       "    <tr>\n",
       "      <th>35</th>\n",
       "      <td>model[T.RandomForestRegressor]</td>\n",
       "      <td>0.2122</td>\n",
       "      <td>0.005</td>\n",
       "      <td>40.697</td>\n",
       "      <td>0.000</td>\n",
       "      <td>0.199</td>\n",
       "      <td>0.226</td>\n",
       "    </tr>\n",
       "    <tr>\n",
       "      <th>36</th>\n",
       "      <td>model[T.ElasticNet]</td>\n",
       "      <td>0.2166</td>\n",
       "      <td>0.004</td>\n",
       "      <td>50.396</td>\n",
       "      <td>0.000</td>\n",
       "      <td>0.206</td>\n",
       "      <td>0.228</td>\n",
       "    </tr>\n",
       "    <tr>\n",
       "      <th>37</th>\n",
       "      <td>model[T.KNeighborsRegressor]</td>\n",
       "      <td>0.2416</td>\n",
       "      <td>0.009</td>\n",
       "      <td>25.580</td>\n",
       "      <td>0.000</td>\n",
       "      <td>0.217</td>\n",
       "      <td>0.266</td>\n",
       "    </tr>\n",
       "  </tbody>\n",
       "</table>\n",
       "</div>"
      ],
      "text/plain": [
       "                                               factor    coef    std err  \\\n",
       "0                                           Intercept -0.1704      0.005   \n",
       "1                                          da[T.feda] -0.0872      0.004   \n",
       "2                 norm[T.StandardScaler]:model[T.SVR] -0.0850      0.011   \n",
       "3   norm[T.StandardScaler]:model[T.RandomForestReg... -0.0824      0.010   \n",
       "4   norm[T.StandardScaler]:model[T.KNeighborsRegre... -0.0814      0.012   \n",
       "5          norm[T.StandardScaler]:model[T.ElasticNet] -0.0785      0.008   \n",
       "6                             da[T.feda]:model[T.SVR] -0.0531      0.006   \n",
       "7             da[T.feda]:model[T.KNeighborsRegressor] -0.0483      0.008   \n",
       "8         norm[T.None]:model[T.RandomForestRegressor] -0.0431      0.006   \n",
       "9            catn[T.low]:model[T.KNeighborsRegressor] -0.0341      0.007   \n",
       "10           catn[T.mid]:model[T.KNeighborsRegressor] -0.0332      0.008   \n",
       "11                     da[T.feda]:model[T.ElasticNet] -0.0313      0.006   \n",
       "32                             norm[T.StandardScaler]  0.0332      0.008   \n",
       "33                                       gdsc[T.True]  0.0500      0.002   \n",
       "34                                       model[T.SVR]  0.1106      0.005   \n",
       "35                     model[T.RandomForestRegressor]  0.2122      0.005   \n",
       "36                                model[T.ElasticNet]  0.2166      0.004   \n",
       "37                       model[T.KNeighborsRegressor]  0.2416      0.009   \n",
       "\n",
       "            t   P>|t|  [0.005  0.995]  \n",
       "0     -37.700   0.000  -0.182  -0.159  \n",
       "1     -20.375   0.000  -0.098  -0.076  \n",
       "2      -7.889   0.000  -0.113  -0.057  \n",
       "3      -8.569   0.000  -0.107  -0.058  \n",
       "4      -6.538   0.000  -0.113  -0.049  \n",
       "5      -9.585   0.000  -0.100  -0.057  \n",
       "6      -8.346   0.000  -0.069  -0.037  \n",
       "7      -6.006   0.000  -0.069  -0.028  \n",
       "8      -7.395   0.000  -0.058  -0.028  \n",
       "9      -4.703   0.000  -0.053  -0.015  \n",
       "10     -4.427   0.000  -0.053  -0.014  \n",
       "11     -5.458   0.000  -0.046  -0.017  \n",
       "32      4.305   0.000   0.013   0.053  \n",
       "33     24.149   0.000   0.045   0.055  \n",
       "34     24.542   0.000   0.099   0.122  \n",
       "35     40.697   0.000   0.199   0.226  \n",
       "36     50.396   0.000   0.206   0.228  \n",
       "37     25.580   0.000   0.217   0.266  "
      ]
     },
     "execution_count": 71,
     "metadata": {},
     "output_type": "execute_result"
    }
   ],
   "source": [
    "anova[(anova['coef']>0.03)|(anova['coef']<-0.03)]"
   ]
  },
  {
   "cell_type": "code",
   "execution_count": 134,
   "metadata": {},
   "outputs": [
    {
     "data": {
      "text/plain": [
       "(38, 7)"
      ]
     },
     "execution_count": 134,
     "metadata": {},
     "output_type": "execute_result"
    }
   ],
   "source": [
    "anova.shape"
   ]
  },
  {
   "cell_type": "code",
   "execution_count": 72,
   "metadata": {},
   "outputs": [
    {
     "data": {
      "image/png": "[encoded data removed]",
      "text/plain": [
       "<Figure size 792x72 with 1 Axes>"
      ]
     },
     "metadata": {},
     "output_type": "display_data"
    }
   ],
   "source": [
    "sns.palplot(sns.color_palette(\"seismic\", n_colors=14)[:-3])"
   ]
  },
  {
   "cell_type": "code",
   "execution_count": 136,
   "metadata": {},
   "outputs": [
    {
     "data": {
      "image/png": "[encoded data removed]",
      "text/plain": [
       "<Figure size 756x360 with 1 Axes>"
      ]
     },
     "metadata": {},
     "output_type": "display_data"
    }
   ],
   "source": [
    "sns.set(font_scale=1.1)\n",
    "g = sns.catplot(x='factor', y='coef', data=anova[(anova['coef']>0.03)|(anova['coef']<-0.03)],height=5, kind='bar', palette=sns.color_palette(\"seismic\", n_colors=22)[:-4], aspect=2.1)\n",
    "#labels = ['Intercept', 'FEDA','SS:SVR', 'SS:RF','SS:KNN','SS:EN', 'FEDA:SVR', 'FEDA:KNN', 'NoNorm:RF', 'Low:KNN', 'Mid:KNN', 'FEDA:EN', 'VLow:KNN','FEDA:RF', 'NoNorm:KNN', 'NoDA:KNN', 'VLow:EN','RF:SVR', 'CTRP', 'MI:RF', 'MinMax:SVR', 'MI:SVR', 'F:RF', 'NoNorm','SS', 'GDSC', 'SVR', 'RF', 'EN', 'KNN']\n",
    "labels = ['Intercept', 'FEDA','SS:SVR', 'SS:RF','SS:KNN','SS:EN', 'FEDA:SVR', 'FEDA:KNN', 'NoNorm:RF', 'Low:KNN', 'Mid:KNN', 'FEDA:EN', 'SS', 'GDSC', 'SVR', 'RF', 'EN', 'KNN']\n",
    "\n",
    "\n",
    "g.set_xticklabels(labels, rotation=45)\n",
    "g.set(ylabel='coefficient')\n",
    "plt.tight_layout()\n",
    "#plt.savefig('anova2.png')"
   ]
  },
  {
   "cell_type": "code",
   "execution_count": 74,
   "metadata": {},
   "outputs": [
    {
     "data": {
      "image/png": "[encoded data removed]",
      "text/plain": [
       "<Figure size 684x360 with 1 Axes>"
      ]
     },
     "metadata": {},
     "output_type": "display_data"
    }
   ],
   "source": [
    "sns.set(font_scale=1.1)\n",
    "g = sns.catplot(x='factor', y='coef', data=anova[(anova['coef']>0.05)|(anova['coef']<-0.05)],height=5, kind='bar', palette=sns.color_palette(\"seismic\", n_colors=14)[:-3], aspect=1.9)\n",
    "labels = ['Intercept', 'FEDA','SS:SVR', 'SS:RF','SS:KNN','SS:EN', 'FEDA:SVR', \n",
    "          'SVR', 'RF', 'EN', 'KNN']\n",
    "g.set_xticklabels(labels,rotation=45)\n",
    "g.set(ylabel='coefficient')\n",
    "plt.tight_layout()\n",
    "#plt.savefig('graphs/anova.eps', format='eps')"
   ]
  },
  {
   "cell_type": "markdown",
   "metadata": {},
   "source": [
    "# Statistical analysis"
   ]
  },
  {
   "cell_type": "markdown",
   "metadata": {},
   "source": [
    "Here we calculate the p values and store them in an excel file. These will be used to determine if certain characteristics outperform others. Having statistically significant differences in their means"
   ]
  },
  {
   "cell_type": "code",
   "execution_count": 116,
   "metadata": {},
   "outputs": [],
   "source": [
    "import scikit_posthocs as sp"
   ]
  },
  {
   "cell_type": "code",
   "execution_count": 117,
   "metadata": {},
   "outputs": [],
   "source": [
    "data = {}"
   ]
  },
  {
   "cell_type": "code",
   "execution_count": 118,
   "metadata": {},
   "outputs": [],
   "source": [
    "data['datasets'] = sp.posthoc_ttest(clean, val_col='r2', group_col='datasets', equal_var=False)"
   ]
  },
  {
   "cell_type": "code",
   "execution_count": 119,
   "metadata": {},
   "outputs": [],
   "source": [
    "data['datime'] = sp.posthoc_ttest(clean, val_col='seconds', group_col='da',p_adjust='bonferroni', equal_var=False)"
   ]
  },
  {
   "cell_type": "code",
   "execution_count": 120,
   "metadata": {},
   "outputs": [],
   "source": [
    "data['dar2'] = sp.posthoc_ttest(clean, val_col='r2', group_col='da',p_adjust='bonferroni', equal_var=False)"
   ]
  },
  {
   "cell_type": "code",
   "execution_count": 121,
   "metadata": {},
   "outputs": [],
   "source": [
    "data['drug_metric']= sp.posthoc_ttest(clean, val_col='r2', group_col='metric_drug',p_adjust='bonferroni', equal_var=False)"
   ]
  },
  {
   "cell_type": "code",
   "execution_count": 122,
   "metadata": {},
   "outputs": [],
   "source": [
    "data['ajive'] = sp.posthoc_ttest(clean[clean['ajive'].notnull()], val_col='r2', group_col='ajive',p_adjust='bonferroni', equal_var=False)"
   ]
  },
  {
   "cell_type": "code",
   "execution_count": 124,
   "metadata": {},
   "outputs": [],
   "source": [
    "data['model']= sp.posthoc_ttest(clean, val_col='r2', group_col='model',p_adjust='bonferroni', equal_var=False)"
   ]
  },
  {
   "cell_type": "code",
   "execution_count": 126,
   "metadata": {},
   "outputs": [],
   "source": [
    "data['norm']=sp.posthoc_ttest(clean, val_col='r2', group_col='norm', equal_var=False).sort_index()"
   ]
  },
  {
   "cell_type": "code",
   "execution_count": 127,
   "metadata": {},
   "outputs": [],
   "source": [
    "clean['catnmodel'] = clean['model']+clean['catn'].astype(str)\n",
    "data['catnmodel'] = sp.posthoc_ttest(clean, val_col='r2', group_col='catnmodel', equal_var=False).sort_index()"
   ]
  },
  {
   "cell_type": "code",
   "execution_count": 128,
   "metadata": {},
   "outputs": [],
   "source": [
    "clean['damodel'] = clean['da']+clean['model']\n",
    "data['damodel'] = sp.posthoc_ttest(clean, val_col='r2', group_col='damodel', equal_var=False)"
   ]
  },
  {
   "cell_type": "code",
   "execution_count": 129,
   "metadata": {},
   "outputs": [],
   "source": [
    "clean['normodel'] = clean['model']+clean['norm']\n",
    "data['normodel'] = sp.posthoc_ttest(clean, val_col='r2', group_col='normodel',p_adjust='bonferroni', equal_var=False).sort_index()"
   ]
  },
  {
   "cell_type": "code",
   "execution_count": 130,
   "metadata": {},
   "outputs": [],
   "source": [
    "data['norm'] = sp.posthoc_ttest(clean, val_col='r2', group_col='norm',p_adjust='bonferroni', equal_var=False).sort_index()"
   ]
  },
  {
   "cell_type": "code",
   "execution_count": 132,
   "metadata": {},
   "outputs": [],
   "source": [
    "clean['fsmodel'] = clean['model']+clean['fs']\n",
    "data['fsmodel'] = sp.posthoc_ttest(clean, val_col='r2', group_col='fsmodel', equal_var=False).sort_index()"
   ]
  },
  {
   "cell_type": "code",
   "execution_count": 187,
   "metadata": {},
   "outputs": [],
   "source": [
    "with pd.ExcelWriter('pvalues.xlsx') as writer:\n",
    "    for k,v in data.items():\n",
    "        v.to_excel(writer, sheet_name=k)"
   ]
  },
  {
   "cell_type": "markdown",
   "metadata": {},
   "source": [
    "# Odds Ratio"
   ]
  },
  {
   "cell_type": "code",
   "execution_count": 94,
   "metadata": {},
   "outputs": [],
   "source": [
    "def OR(indices, rest, top, group):\n",
    "    li = []\n",
    "    for i in indices:\n",
    "        model_t = top[(top[group[0]]==i[0])&(top[group[1]]==i[1])].shape[0]\n",
    "        nmodel_t = top[(top[group[0]]!=i[0])|(top[group[1]]!=i[1])].shape[0]\n",
    "        model_r = rest[(rest[group[0]]==i[0])&(rest[group[1]]==i[1])].shape[0]\n",
    "        nmodel_r = rest[(rest[group[0]]!=i[0])|(rest[group[1]]!=i[1])].shape[0]\n",
    "        if model_r > 0 and nmodel_r > 0:\n",
    "            li.append((model_t/model_r)/(nmodel_t/nmodel_r))\n",
    "        else:\n",
    "            li.append(0)\n",
    "    return li"
   ]
  },
  {
   "cell_type": "code",
   "execution_count": 95,
   "metadata": {},
   "outputs": [],
   "source": [
    "def top_OR(data, group, q=0.95, score='r2_score'):\n",
    "    top = data[data[score] >= data[score].quantile(q)]\n",
    "    counts = data[group +[score]].groupby(group).count()\n",
    "    topcounts = top[group +[score]].groupby(group).count()\n",
    "    topcounts['OR'] = OR(topcounts.index, data[data[score]<data[score].quantile(q)], top, group)\n",
    "    return topcounts"
   ]
  },
  {
   "cell_type": "code",
   "execution_count": 96,
   "metadata": {},
   "outputs": [],
   "source": [
    "def ORone(indices, rest, top, group):\n",
    "    li = []\n",
    "    for i in indices:\n",
    "        model_t = top[(top[group[0]]==i)].shape[0]\n",
    "        nmodel_t = top[(top[group[0]]!=i)].shape[0]\n",
    "        model_r = rest[(rest[group[0]]==i)].shape[0]\n",
    "        nmodel_r = rest[(rest[group[0]]!=i)].shape[0]\n",
    "        if model_r > 0 and nmodel_r > 0:\n",
    "            li.append((model_t/model_r)/(nmodel_t/nmodel_r))\n",
    "        else:\n",
    "            li.append(0)\n",
    "    return li"
   ]
  },
  {
   "cell_type": "code",
   "execution_count": 97,
   "metadata": {},
   "outputs": [],
   "source": [
    "def one_OR(data, group, q=0.95, score='r2_score'):\n",
    "    top = data[data[score] >= data[score].quantile(q)]\n",
    "    counts = data[group +[score]].groupby(group).count()\n",
    "    topcounts = top[group +[score]].groupby(group).count()\n",
    "    topcounts['OR'] = ORone(topcounts.index, data[data[score]<data[score].quantile(q)], top, group)\n",
    "    return topcounts"
   ]
  },
  {
   "cell_type": "markdown",
   "metadata": {},
   "source": [
    "# Hyper parameters"
   ]
  },
  {
   "cell_type": "markdown",
   "metadata": {},
   "source": [
    "Here some initial exploration of the hyper parameters of the models is performed "
   ]
  },
  {
   "cell_type": "markdown",
   "metadata": {},
   "source": [
    "## KNN"
   ]
  },
  {
   "cell_type": "code",
   "execution_count": 82,
   "metadata": {},
   "outputs": [],
   "source": [
    "knn = clean[clean['model']=='KNeighborsRegressor'][['Drug', 'fs', 'da','ajive', 'catn', 'n_neighbors', 'weights', 'algorithm', 'p','r2_score', 'r2']]"
   ]
  },
  {
   "cell_type": "code",
   "execution_count": 83,
   "metadata": {},
   "outputs": [
    {
     "data": {
      "text/html": [
       "<div>\n",
       "<style scoped>\n",
       "    .dataframe tbody tr th:only-of-type {\n",
       "        vertical-align: middle;\n",
       "    }\n",
       "\n",
       "    .dataframe tbody tr th {\n",
       "        vertical-align: top;\n",
       "    }\n",
       "\n",
       "    .dataframe thead th {\n",
       "        text-align: right;\n",
       "    }\n",
       "</style>\n",
       "<table border=\"1\" class=\"dataframe\">\n",
       "  <thead>\n",
       "    <tr style=\"text-align: right;\">\n",
       "      <th></th>\n",
       "      <th>Drug</th>\n",
       "      <th>fs</th>\n",
       "      <th>da</th>\n",
       "      <th>ajive</th>\n",
       "      <th>catn</th>\n",
       "      <th>n_neighbors</th>\n",
       "      <th>weights</th>\n",
       "      <th>algorithm</th>\n",
       "      <th>p</th>\n",
       "      <th>r2_score</th>\n",
       "      <th>r2</th>\n",
       "    </tr>\n",
       "  </thead>\n",
       "  <tbody>\n",
       "    <tr>\n",
       "      <th>207</th>\n",
       "      <td>AZD6482</td>\n",
       "      <td>Lasso</td>\n",
       "      <td>none</td>\n",
       "      <td>NaN</td>\n",
       "      <td>low</td>\n",
       "      <td>29.0</td>\n",
       "      <td>uniform</td>\n",
       "      <td>ball_tree</td>\n",
       "      <td>1.0</td>\n",
       "      <td>0.416520</td>\n",
       "      <td>0.236597</td>\n",
       "    </tr>\n",
       "    <tr>\n",
       "      <th>208</th>\n",
       "      <td>AZD7762</td>\n",
       "      <td>Lasso</td>\n",
       "      <td>none</td>\n",
       "      <td>NaN</td>\n",
       "      <td>low</td>\n",
       "      <td>13.0</td>\n",
       "      <td>distance</td>\n",
       "      <td>ball_tree</td>\n",
       "      <td>1.0</td>\n",
       "      <td>0.377099</td>\n",
       "      <td>0.109259</td>\n",
       "    </tr>\n",
       "    <tr>\n",
       "      <th>209</th>\n",
       "      <td>BMS-754807</td>\n",
       "      <td>Lasso</td>\n",
       "      <td>none</td>\n",
       "      <td>NaN</td>\n",
       "      <td>low</td>\n",
       "      <td>20.0</td>\n",
       "      <td>distance</td>\n",
       "      <td>ball_tree</td>\n",
       "      <td>2.0</td>\n",
       "      <td>0.112876</td>\n",
       "      <td>0.033824</td>\n",
       "    </tr>\n",
       "    <tr>\n",
       "      <th>210</th>\n",
       "      <td>Dasatinib</td>\n",
       "      <td>Lasso</td>\n",
       "      <td>none</td>\n",
       "      <td>NaN</td>\n",
       "      <td>low</td>\n",
       "      <td>14.0</td>\n",
       "      <td>distance</td>\n",
       "      <td>ball_tree</td>\n",
       "      <td>1.0</td>\n",
       "      <td>0.427305</td>\n",
       "      <td>0.157184</td>\n",
       "    </tr>\n",
       "    <tr>\n",
       "      <th>211</th>\n",
       "      <td>Docetaxel</td>\n",
       "      <td>Lasso</td>\n",
       "      <td>none</td>\n",
       "      <td>NaN</td>\n",
       "      <td>low</td>\n",
       "      <td>24.0</td>\n",
       "      <td>distance</td>\n",
       "      <td>kd_tree</td>\n",
       "      <td>1.0</td>\n",
       "      <td>0.107432</td>\n",
       "      <td>-0.010444</td>\n",
       "    </tr>\n",
       "  </tbody>\n",
       "</table>\n",
       "</div>"
      ],
      "text/plain": [
       "           Drug     fs    da  ajive catn  n_neighbors   weights  algorithm  \\\n",
       "207     AZD6482  Lasso  none    NaN  low         29.0   uniform  ball_tree   \n",
       "208     AZD7762  Lasso  none    NaN  low         13.0  distance  ball_tree   \n",
       "209  BMS-754807  Lasso  none    NaN  low         20.0  distance  ball_tree   \n",
       "210   Dasatinib  Lasso  none    NaN  low         14.0  distance  ball_tree   \n",
       "211   Docetaxel  Lasso  none    NaN  low         24.0  distance    kd_tree   \n",
       "\n",
       "       p  r2_score        r2  \n",
       "207  1.0  0.416520  0.236597  \n",
       "208  1.0  0.377099  0.109259  \n",
       "209  2.0  0.112876  0.033824  \n",
       "210  1.0  0.427305  0.157184  \n",
       "211  1.0  0.107432 -0.010444  "
      ]
     },
     "execution_count": 83,
     "metadata": {},
     "output_type": "execute_result"
    }
   ],
   "source": [
    "knn.head()"
   ]
  },
  {
   "cell_type": "code",
   "execution_count": 84,
   "metadata": {},
   "outputs": [
    {
     "data": {
      "image/png": "[encoded data removed]",
      "text/plain": [
       "<Figure size 684x360 with 1 Axes>"
      ]
     },
     "metadata": {},
     "output_type": "display_data"
    }
   ],
   "source": [
    "sns.set(font_scale=1.1)\n",
    "#order= ['DecisionTreeRegressor', 'ElasticNet', 'KNeighborsRegressor', 'RandomForestRegressor', 'SVR']\n",
    "g = sns.catplot(x='weights', y='r2', hue='algorithm', data=knn[knn['n_neighbors']>5], kind='bar',height=5, aspect=1.9, legend=False)\n",
    "#g.set_xticklabels(['Decision Tree', 'Elastic Net', 'KNN', 'Random Forest', 'SVR'])\n",
    "\n",
    "plt.legend(loc='lower center')\n",
    "plt.tight_layout()\n",
    "#g.set(yscale='symlog')\n",
    "#plt.savefig('graphs/adjusted-n.eps', format='eps')"
   ]
  },
  {
   "cell_type": "code",
   "execution_count": 86,
   "metadata": {},
   "outputs": [
    {
     "data": {
      "image/png": "[encoded data removed]",
      "text/plain": [
       "<Figure size 684x360 with 1 Axes>"
      ]
     },
     "metadata": {},
     "output_type": "display_data"
    }
   ],
   "source": [
    "knn['ajive'] = knn['ajive'].fillna(0)\n",
    "sns.set(font_scale=1.1)\n",
    "order= ['very low', 'low', 'mid', 'high', 'very high']\n",
    "\n",
    "g = sns.catplot(x='catn', y='r2',order=order, hue='ajive', data=knn, kind='bar',height=5, aspect=1.9, legend=False)\n",
    "#g.set_xticklabels(['Decision Tree', 'Elastic Net', 'KNN', 'Random Forest', 'SVR'])\n",
    "\n",
    "plt.legend(loc='lower left')\n",
    "plt.tight_layout()\n",
    "#g.set(yscale='symlog')\n",
    "#plt.savefig('graphs/adjusted-n.eps', format='eps')"
   ]
  },
  {
   "cell_type": "code",
   "execution_count": 87,
   "metadata": {},
   "outputs": [
    {
     "data": {
      "image/png": "[encoded data removed]",
      "text/plain": [
       "<Figure size 684x360 with 1 Axes>"
      ]
     },
     "metadata": {},
     "output_type": "display_data"
    }
   ],
   "source": [
    "sns.set(font_scale=1.1)\n",
    "order= ['very low', 'low', 'mid', 'high', 'very high']\n",
    "g = sns.catplot(x='catn', y='r2',hue='da', data=knn,order=order, kind='bar',height=5, aspect=1.9, legend=False)\n",
    "#g.set_xticklabels(['Decision Tree', 'Elastic Net', 'KNN', 'Random Forest', 'SVR'])\n",
    "\n",
    "plt.legend(loc='lower center')\n",
    "plt.tight_layout()\n",
    "#g.set(yscale='symlog')\n",
    "#plt.savefig('graphs/adjusted-n.eps', format='eps')"
   ]
  },
  {
   "cell_type": "code",
   "execution_count": 88,
   "metadata": {},
   "outputs": [
    {
     "data": {
      "text/plain": [
       "<seaborn.axisgrid.FacetGrid at 0x1240f5c88>"
      ]
     },
     "execution_count": 88,
     "metadata": {},
     "output_type": "execute_result"
    },
    {
     "data": {
      "image/png": "[encoded data removed]",
      "text/plain": [
       "<Figure size 684x360 with 1 Axes>"
      ]
     },
     "metadata": {},
     "output_type": "display_data"
    }
   ],
   "source": [
    "sns.set(font_scale=1.1)\n",
    "order= ['very low', 'low', 'mid', 'high', 'very high']\n",
    "g = sns.catplot(x='catn', y='r2', hue='p', data=knn,order=order, kind='bar',height=5, aspect=1.9, legend=False)\n",
    "#g.set_xticklabels(['Decision Tree', 'Elastic Net', 'KNN', 'Random Forest', 'SVR'])\n",
    "\n",
    "plt.legend(loc='lower left')\n",
    "plt.tight_layout()\n",
    "g.set(xlabel='features')\n",
    "#g.set(yscale='symlog')\n",
    "#plt.savefig('graphs/adjusted-n.eps', format='eps')"
   ]
  },
  {
   "cell_type": "code",
   "execution_count": 98,
   "metadata": {},
   "outputs": [
    {
     "data": {
      "image/png": "[encoded data removed]",
      "text/plain": [
       "<Figure size 684x360 with 1 Axes>"
      ]
     },
     "metadata": {},
     "output_type": "display_data"
    }
   ],
   "source": [
    "sns.set(font_scale=1.1)\n",
    "#hue = ['DecisionTreeRegressor', 'mutual_info_regression', 'ElasticNet', 'f_regression', 'Lasso', 'RandomForestRegressor', ]\n",
    "g = sns.catplot(x = 'catn', y='OR', hue='da',order=order,data=top_OR(knn, ['da', 'catn'], score='r2').reset_index(), kind='bar', palette='Greens', height=5, aspect=1.9, legend=False)\n",
    "#g.set_xticklabels(['Decision Tree', 'Elastic Net', 'KNN', 'Random Forest', 'SVR'])\n",
    "g.set_ylabels('Odds Ratio')\n",
    "plt.legend(loc='upper center')\n",
    "plt.tight_layout()\n",
    "#plt.savefig('graphs/adjusted-top-n.eps', format='eps')"
   ]
  },
  {
   "cell_type": "markdown",
   "metadata": {},
   "source": [
    "## Random Forest"
   ]
  },
  {
   "cell_type": "code",
   "execution_count": 99,
   "metadata": {},
   "outputs": [],
   "source": [
    "rf = clean[clean['model']=='RandomForestRegressor'][['Drug', 'fs', 'da', 'catn', 'n_estimators', 'max_depth', 'max_features','r2_score', 'r2']]"
   ]
  },
  {
   "cell_type": "code",
   "execution_count": 100,
   "metadata": {},
   "outputs": [
    {
     "data": {
      "image/png": "[encoded data removed]",
      "text/plain": [
       "<Figure size 684x360 with 1 Axes>"
      ]
     },
     "metadata": {},
     "output_type": "display_data"
    }
   ],
   "source": [
    "sns.set(font_scale=1.1)\n",
    "#hue = ['DecisionTreeRegressor', 'mutual_info_regression', 'ElasticNet', 'f_regression', 'Lasso', 'RandomForestRegressor', ]\n",
    "g = sns.catplot(x = 'max_depth', y='OR', hue='max_features',data=top_OR(rf, ['max_depth', 'max_features'], score='r2').reset_index(), kind='bar', height=5, aspect=1.9, legend=False)\n",
    "#g.set_xticklabels(['Decision Tree', 'Elastic Net', 'KNN', 'Random Forest', 'SVR'])\n",
    "g.set_ylabels('Odds Ratio')\n",
    "plt.legend(loc='lower right')\n",
    "plt.tight_layout()\n",
    "#plt.savefig('graphs/adjusted-top-n.eps', format='eps')"
   ]
  },
  {
   "cell_type": "code",
   "execution_count": 101,
   "metadata": {},
   "outputs": [
    {
     "data": {
      "image/png": "[encoded data removed]",
      "text/plain": [
       "<Figure size 684x360 with 1 Axes>"
      ]
     },
     "metadata": {},
     "output_type": "display_data"
    }
   ],
   "source": [
    "sns.set(font_scale=1.1)\n",
    "\n",
    "g = sns.catplot(x='n_estimators', y='r2', hue='max_depth', data=rf, kind='bar',palette='Greens',height=5, aspect=1.9, legend=False)\n",
    "#order= ['DecisionTreeRegressor', 'ElasticNet', 'KNeighborsRegressor', 'RandomForestRegressor', 'SVR']\n",
    "#g.set_xticklabels(['Decision Tree', 'Elastic Net', 'KNN', 'Random Forest', 'SVR'])\n",
    "plt.legend(title='max_depth',ncol=2)\n",
    "plt.tight_layout()\n",
    "#g.set(yscale='symlog')\n",
    "#plt.savefig('graphs/adjusted-depth.eps', format='eps')"
   ]
  },
  {
   "cell_type": "code",
   "execution_count": 102,
   "metadata": {},
   "outputs": [
    {
     "name": "stderr",
     "output_type": "stream",
     "text": [
      "No handles with labels found to put in legend.\n"
     ]
    },
    {
     "data": {
      "image/png": "[encoded data removed]",
      "text/plain": [
       "<Figure size 684x360 with 1 Axes>"
      ]
     },
     "metadata": {},
     "output_type": "display_data"
    }
   ],
   "source": [
    "sns.set(font_scale=1.1)\n",
    "#order= ['DecisionTreeRegressor', 'ElasticNet', 'KNeighborsRegressor', 'RandomForestRegressor', 'SVR']\n",
    "g = sns.catplot(x='max_features', y='r2', data=rf, kind='bar',height=5, aspect=1.9, legend=False)\n",
    "#g.set_xticklabels(['Decision Tree', 'Elastic Net', 'KNN', 'Random Forest', 'SVR'])\n",
    "\n",
    "plt.legend(loc='lower center')\n",
    "plt.tight_layout()\n",
    "#g.set(yscale='symlog')\n",
    "#plt.savefig('graphs/adjusted-depth.eps', format='eps')"
   ]
  },
  {
   "cell_type": "code",
   "execution_count": 103,
   "metadata": {},
   "outputs": [
    {
     "data": {
      "image/png": "[encoded data removed]",
      "text/plain": [
       "<Figure size 684x360 with 1 Axes>"
      ]
     },
     "metadata": {},
     "output_type": "display_data"
    }
   ],
   "source": [
    "sns.set(font_scale=1.1)\n",
    "#order= ['DecisionTreeRegressor', 'ElasticNet', 'KNeighborsRegressor', 'RandomForestRegressor', 'SVR']\n",
    "g = sns.catplot(x='max_depth', y='r2', hue='fs', data=rf, kind='bar',height=5, aspect=1.9, legend=False)\n",
    "#g.set_xticklabels(['Decision Tree', 'Elastic Net', 'KNN', 'Random Forest', 'SVR'])\n",
    "\n",
    "plt.legend(loc='lower center')\n",
    "plt.tight_layout()\n",
    "#g.set(yscale='symlog')\n",
    "#plt.savefig('graphs/adjusted-n.eps', format='eps')"
   ]
  },
  {
   "cell_type": "code",
   "execution_count": 104,
   "metadata": {},
   "outputs": [
    {
     "data": {
      "image/png": "[encoded data removed]",
      "text/plain": [
       "<Figure size 684x360 with 1 Axes>"
      ]
     },
     "metadata": {},
     "output_type": "display_data"
    }
   ],
   "source": [
    "sns.set(font_scale=1.1)\n",
    "#order= ['DecisionTreeRegressor', 'ElasticNet', 'KNeighborsRegressor', 'RandomForestRegressor', 'SVR']\n",
    "g = sns.catplot(x='n_estimators', y='r2', hue='max_depth', data=rf, kind='bar',height=5, aspect=1.9, legend=False)\n",
    "#g.set_xticklabels(['Decision Tree', 'Elastic Net', 'KNN', 'Random Forest', 'SVR'])\n",
    "\n",
    "plt.legend(loc='lower center')\n",
    "plt.tight_layout()\n",
    "#g.set(yscale='symlog')\n",
    "#plt.savefig('graphs/adjusted-n.eps', format='eps')"
   ]
  },
  {
   "cell_type": "markdown",
   "metadata": {},
   "source": [
    "## Elastic Net"
   ]
  },
  {
   "cell_type": "code",
   "execution_count": 105,
   "metadata": {},
   "outputs": [],
   "source": [
    "en = clean[clean['model']=='ElasticNet'][['Drug', 'fs', 'da', 'catn', 'alpha', 'l1_ratio','r2_score', 'r2']]"
   ]
  },
  {
   "cell_type": "code",
   "execution_count": 106,
   "metadata": {},
   "outputs": [
    {
     "data": {
      "image/png": "[encoded data removed]",
      "text/plain": [
       "<Figure size 684x360 with 1 Axes>"
      ]
     },
     "metadata": {},
     "output_type": "display_data"
    }
   ],
   "source": [
    "sns.set(font_scale=1.1)\n",
    "#hue = ['DecisionTreeRegressor', 'mutual_info_regression', 'ElasticNet', 'f_regression', 'Lasso', 'RandomForestRegressor', ]\n",
    "g = sns.catplot(x = 'alpha', y='OR', hue='l1_ratio',data=top_OR(en, ['l1_ratio', 'alpha'], score='r2').reset_index(), kind='bar', palette='Greens', height=5, aspect=1.9, legend=False)\n",
    "#g.set_xticklabels(['Decision Tree', 'Elastic Net', 'KNN', 'Random Forest', 'SVR'])\n",
    "g.set_ylabels('Odds Ratio')\n",
    "plt.legend(loc='lower right')\n",
    "plt.tight_layout()\n",
    "#plt.savefig('graphs/adjusted-top-n.eps', format='eps')"
   ]
  },
  {
   "cell_type": "code",
   "execution_count": 107,
   "metadata": {},
   "outputs": [
    {
     "data": {
      "image/png": "[encoded data removed]",
      "text/plain": [
       "<Figure size 684x360 with 1 Axes>"
      ]
     },
     "metadata": {},
     "output_type": "display_data"
    }
   ],
   "source": [
    "sns.set(font_scale=1.1)\n",
    "#order= ['DecisionTreeRegressor', 'ElasticNet', 'KNeighborsRegressor', 'RandomForestRegressor', 'SVR']\n",
    "g = sns.catplot(x='alpha', y='r2', data=en, kind='bar',height=5, aspect=1.9, legend=False)\n",
    "#g.set_xticklabels(['Decision Tree', 'Elastic Net', 'KNN', 'Random Forest', 'SVR'])\n",
    "\n",
    "#plt.legend(loc='lower center')\n",
    "plt.tight_layout()\n",
    "#g.set(yscale='symlog')\n",
    "#plt.savefig('graphs/adjusted-n.eps', format='eps')"
   ]
  }
 ],
 "metadata": {
  "kernelspec": {
   "display_name": "Python 3",
   "language": "python",
   "name": "python3"
  },
  "language_info": {
   "codemirror_mode": {
    "name": "ipython",
    "version": 3
   },
   "file_extension": ".py",
   "mimetype": "text/x-python",
   "name": "python",
   "nbconvert_exporter": "python",
   "pygments_lexer": "ipython3",
   "version": "3.7.3"
  }
 },
 "nbformat": 4,
 "nbformat_minor": 4
}
