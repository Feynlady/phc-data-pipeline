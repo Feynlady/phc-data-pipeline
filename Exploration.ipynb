{
 "cells": [
  {
   "cell_type": "code",
   "execution_count": 244,
   "metadata": {},
   "outputs": [],
   "source": [
    "import pandas as pd\n",
    "import seaborn as sns\n",
    "import matplotlib.pyplot as plt"
   ]
  },
  {
   "cell_type": "code",
   "execution_count": null,
   "metadata": {},
   "outputs": [],
   "source": []
  },
  {
   "cell_type": "markdown",
   "metadata": {},
   "source": [
    "# Missing data GDSC"
   ]
  },
  {
   "cell_type": "code",
   "execution_count": 361,
   "metadata": {},
   "outputs": [],
   "source": [
    "gdsc_dr = pd.read_csv('data/GDSC/metrics.csv').rename(columns={'Cell_line':'CCL'})\n",
    "gdsc_ge = pd.read_csv('data/GDSC/ge.csv', sep='\\t').rename(columns={'Unnamed: 0':'CCL'}).set_index('CCL').transpose()\n",
    "new = pd.read_csv('data/GDSC/new.csv').rename(columns={'CELL_LINE_NAME':'CCL'})\n",
    "new['CCL'] = new['CCL'].str.replace('-', '').str.replace(' ','').str.upper()"
   ]
  },
  {
   "cell_type": "code",
   "execution_count": 362,
   "metadata": {},
   "outputs": [
    {
     "name": "stdout",
     "output_type": "stream",
     "text": "707 different CCLs in Pozdeyev's data\n"
    }
   ],
   "source": [
    "print(str(len(gdsc_dr['CCL'].unique())) + ' different CCLs in Pozdeyev\\'s data')"
   ]
  },
  {
   "cell_type": "code",
   "execution_count": 363,
   "metadata": {},
   "outputs": [
    {
     "name": "stdout",
     "output_type": "stream",
     "text": "139 different Drugs in Pozdeyev's data\n"
    }
   ],
   "source": [
    "print(str(len(gdsc_dr['Drug_name'].unique())) + ' different Drugs in Pozdeyev\\'s data')"
   ]
  },
  {
   "cell_type": "code",
   "execution_count": 364,
   "metadata": {},
   "outputs": [
    {
     "name": "stdout",
     "output_type": "stream",
     "text": "808 different CCLs in new data\n"
    }
   ],
   "source": [
    "print(str(len(new['CCL'].unique())) + ' different CCLs in new data')"
   ]
  },
  {
   "cell_type": "code",
   "execution_count": 365,
   "metadata": {},
   "outputs": [
    {
     "name": "stdout",
     "output_type": "stream",
     "text": "200 different Drugs in new data\n"
    }
   ],
   "source": [
    "print(str(len(new['DRUG_ID'].unique())) + ' different Drugs in new data')"
   ]
  },
  {
   "cell_type": "markdown",
   "metadata": {},
   "source": [
    "### Deletes the - from CCL ID to normalize format"
   ]
  },
  {
   "cell_type": "code",
   "execution_count": 366,
   "metadata": {},
   "outputs": [],
   "source": [
    "def clean(s):\n",
    "    new = []\n",
    "    for i in s:\n",
    "        new.append(re.sub(\"[^A-Za-z0-9]\", '', i).upper())\n",
    "    return new"
   ]
  },
  {
   "cell_type": "code",
   "execution_count": 370,
   "metadata": {},
   "outputs": [],
   "source": [
    "poz_r = list(gdsc_dr['CCL'].unique())\n",
    "cell_r = list(gdsc_ge.index.to_series().reset_index()[0])\n",
    "gdsc_r = list(pd.Series(new['CCL'].unique()))\n",
    "\n",
    "cell = clean(cell_r)\n",
    "poz = clean(poz_r)\n",
    "gdsc = clean(gdsc_r)"
   ]
  },
  {
   "cell_type": "markdown",
   "metadata": {},
   "source": [
    "Pozdeyev's CCLs missing from CellMinerCDB"
   ]
  },
  {
   "cell_type": "code",
   "execution_count": 371,
   "metadata": {},
   "outputs": [
    {
     "data": {
      "text/plain": "8"
     },
     "execution_count": 371,
     "metadata": {},
     "output_type": "execute_result"
    }
   ],
   "source": [
    "miss1 = []\n",
    "for ccl in poz:\n",
    "    if ccl not in cell:\n",
    "        miss1.append(ccl)\n",
    "len(miss1)"
   ]
  },
  {
   "cell_type": "markdown",
   "metadata": {},
   "source": [
    "New data CCLs missing from CellMinerCDB"
   ]
  },
  {
   "cell_type": "code",
   "execution_count": 372,
   "metadata": {},
   "outputs": [
    {
     "data": {
      "text/plain": "19"
     },
     "execution_count": 372,
     "metadata": {},
     "output_type": "execute_result"
    }
   ],
   "source": [
    "miss2 = []\n",
    "for ccl in gdsc:\n",
    "    if ccl not in cell:\n",
    "        miss2.append(ccl)\n",
    "len(miss2)"
   ]
  },
  {
   "cell_type": "code",
   "execution_count": 373,
   "metadata": {},
   "outputs": [],
   "source": [
    "gdsc2 = {k:re.sub(\"[^A-Za-z0-9]\", '', k) for k in gdsc_r if re.sub(\"[^A-Za-z0-9]\", '', k).upper() not in miss2}"
   ]
  },
  {
   "cell_type": "markdown",
   "metadata": {},
   "source": [
    "These rules are made by looking at the 'missing' CCLs that turned out to simply have different names"
   ]
  },
  {
   "cell_type": "code",
   "execution_count": 374,
   "metadata": {},
   "outputs": [],
   "source": [
    "for i in miss2:\n",
    "    if i[0:3]=='NCI':\n",
    "        gdsc2[i] = i.lstrip('NCI')\n",
    "    elif i[0:3]=='SNU':\n",
    "        gdsc2[i] = 'NCI' + i\n"
   ]
  },
  {
   "cell_type": "code",
   "execution_count": 375,
   "metadata": {},
   "outputs": [],
   "source": [
    "gdsc2['NTERA2CLD1'] = ('NTERASCLD1')"
   ]
  },
  {
   "cell_type": "code",
   "execution_count": 376,
   "metadata": {},
   "outputs": [],
   "source": [
    "new['CCL'] = new['CCL'].replace(gdsc2)"
   ]
  },
  {
   "cell_type": "markdown",
   "metadata": {},
   "source": [
    "Same is done now for Pozdayev's data.\n",
    "\n",
    "## One question, I turn TTTHYROID into TT because of [this](https://web.expasy.org/cellosaurus/CVCL_1774). Not quite sure, let's maybe discuss it."
   ]
  },
  {
   "cell_type": "code",
   "execution_count": 377,
   "metadata": {},
   "outputs": [],
   "source": [
    "poz2 = {k:re.sub(\"[^A-Za-z0-9]\", '', k) for k in poz_r if re.sub(\"[^A-Za-z0-9]\", '', k).upper() not in miss1}"
   ]
  },
  {
   "cell_type": "code",
   "execution_count": 378,
   "metadata": {},
   "outputs": [],
   "source": [
    "missv = ['7860', 'COLO320HSR','KNS81FD', 'EOL1CELL', 'NCIH510A','TT' , 'U266', 'U031']\n",
    "for i, ele in enumerate(miss1):\n",
    "    poz2[ele] = missv[i]"
   ]
  },
  {
   "cell_type": "code",
   "execution_count": 379,
   "metadata": {},
   "outputs": [
    {
     "data": {
      "text/plain": "{'22RV1': '22RV1',\n '2313287': '2313287',\n '5637': '5637',\n '639V': '639V',\n '647V': '647V',\n '697': '697',\n '769P': '769P',\n '8305C': '8305C',\n '8505C': '8505C',\n '8MGBA': '8MGBA',\n 'A101D': 'A101D',\n 'A172': 'A172',\n 'A204': 'A204',\n 'A2058': 'A2058',\n 'A253': 'A253',\n 'A2780': 'A2780',\n 'A375': 'A375',\n 'A388': 'A388',\n 'A3KAW': 'A3KAW',\n 'A427': 'A427',\n 'A431': 'A431',\n 'A498': 'A498',\n 'A4FUK': 'A4FUK',\n 'A549': 'A549',\n 'A673': 'A673',\n 'A704': 'A704',\n 'ABC1': 'ABC1',\n 'ACHN': 'ACHN',\n 'ACN': 'ACN',\n 'AGS': 'AGS',\n 'ALLPO': 'ALLPO',\n 'AM38': 'AM38',\n 'AN3CA': 'AN3CA',\n 'ARH77': 'ARH77',\n 'ASPC1': 'ASPC1',\n 'ATN1': 'ATN1',\n 'AU565': 'AU565',\n 'BALL1': 'BALL1',\n 'BB30HNC': 'BB30HNC',\n 'BB49HNC': 'BB49HNC',\n 'BB65RCC': 'BB65RCC',\n 'BC1': 'BC1',\n 'BCPAP': 'BCPAP',\n 'BE13': 'BE13',\n 'BECKER': 'BECKER',\n 'BEN': 'BEN',\n 'BFTC905': 'BFTC905',\n 'BFTC909': 'BFTC909',\n 'BHT101': 'BHT101',\n 'BHY': 'BHY',\n 'BL41': 'BL41',\n 'BOKU': 'BOKU',\n 'BPH1': 'BPH1',\n 'BT20': 'BT20',\n 'BT474': 'BT474',\n 'BT549': 'BT549',\n 'BV173': 'BV173',\n 'BXPC3': 'BXPC3',\n 'C2BBE1': 'C2BBE1',\n 'C32': 'C32',\n 'C33A': 'C33A',\n 'C3A': 'C3A',\n 'CA46': 'CA46',\n 'Ca922': 'Ca922',\n 'CAKI1': 'CAKI1',\n 'CAL120': 'CAL120',\n 'CAL12T': 'CAL12T',\n 'CAL27': 'CAL27',\n 'CAL33': 'CAL33',\n 'CAL39': 'CAL39',\n 'CAL51': 'CAL51',\n 'CAL54': 'CAL54',\n 'CAL62': 'CAL62',\n 'CAL72': 'CAL72',\n 'CAL851': 'CAL851',\n 'CALU3': 'CALU3',\n 'CALU6': 'CALU6',\n 'CAMA1': 'CAMA1',\n 'Caov4': 'Caov4',\n 'CAPAN1': 'CAPAN1',\n 'CAPAN2': 'CAPAN2',\n 'CaR1': 'CaR1',\n 'CAS1': 'CAS1',\n 'CaSki': 'CaSki',\n 'CCFSTTG1': 'CCFSTTG1',\n 'CCRFCEM': 'CCRFCEM',\n 'CESS': 'CESS',\n 'CFPAC1': 'CFPAC1',\n 'CGTHW1': 'CGTHW1',\n 'CHAGOK1': 'CHAGOK1',\n 'CHL1': 'CHL1',\n 'CHP126': 'CHP126',\n 'CHP134': 'CHP134',\n 'CHP212': 'CHP212',\n 'CMK': 'CMK',\n 'COLO205': 'COLO205',\n 'COLO668': 'COLO668',\n 'COLO678': 'COLO678',\n 'COLO679': 'COLO679',\n 'COLO680N': 'COLO680N',\n 'COLO684': 'COLO684',\n 'COLO741': 'COLO741',\n 'COLO792': 'COLO792',\n 'COLO800': 'COLO800',\n 'COLO824': 'COLO824',\n 'COLO829': 'COLO829',\n 'CORL105': 'CORL105',\n 'CORL23': 'CORL23',\n 'CORL279': 'CORL279',\n 'CORL88': 'CORL88',\n 'CP50MELB': 'CP50MELB',\n 'CP66MEL': 'CP66MEL',\n 'CPCN': 'CPCN',\n 'CROAP2': 'CROAP2',\n 'CTB1': 'CTB1',\n 'CTV1': 'CTV1',\n 'CW2': 'CW2',\n 'D247MG': 'D247MG',\n 'D263MG': 'D263MG',\n 'D283MED': 'D283MED',\n 'D336MG': 'D336MG',\n 'D392MG': 'D392MG',\n 'D423MG': 'D423MG',\n 'D502MG': 'D502MG',\n 'D542MG': 'D542MG',\n 'D566MG': 'D566MG',\n 'DAOY': 'DAOY',\n 'DAUDI': 'DAUDI',\n 'DB': 'DB',\n 'DBTRG05MG': 'DBTRG05MG',\n 'DEL': 'DEL',\n 'DETROIT562': 'DETROIT562',\n 'DG75': 'DG75',\n 'DJM1': 'DJM1',\n 'DKMG': 'DKMG',\n 'DMS114': 'DMS114',\n 'DMS273': 'DMS273',\n 'DMS53': 'DMS53',\n 'DMS79': 'DMS79',\n 'DOHH2': 'DOHH2',\n 'DOK': 'DOK',\n 'DoTc24510': 'DoTc24510',\n 'DSH1': 'DSH1',\n 'DU145': 'DU145',\n 'DU4475': 'DU4475',\n 'EB2': 'EB2',\n 'EB3': 'EB3',\n 'ECC10': 'ECC10',\n 'ECGI10': 'ECGI10',\n 'EFE184': 'EFE184',\n 'EFM19': 'EFM19',\n 'EFO21': 'EFO21',\n 'EFO27': 'EFO27',\n 'EGI1': 'EGI1',\n 'EKVX': 'EKVX',\n 'EM2': 'EM2',\n 'EPLC272H': 'EPLC272H',\n 'ES1': 'ES1',\n 'ES3': 'ES3',\n 'ES4': 'ES4',\n 'ES5': 'ES5',\n 'ES6': 'ES6',\n 'ES7': 'ES7',\n 'ES8': 'ES8',\n 'ESS1': 'ESS1',\n 'ETK1': 'ETK1',\n 'EVSAT': 'EVSAT',\n 'EW1': 'EW1',\n 'EW11': 'EW11',\n 'EW13': 'EW13',\n 'EW16': 'EW16',\n 'EW18': 'EW18',\n 'EW22': 'EW22',\n 'EW24': 'EW24',\n 'EW3': 'EW3',\n 'EW7': 'EW7',\n 'FADU': 'FADU',\n 'FTC133': 'FTC133',\n 'G361': 'G361',\n 'G401': 'G401',\n 'G402': 'G402',\n 'GAK': 'GAK',\n 'GAMG': 'GAMG',\n 'GB1': 'GB1',\n 'GCIY': 'GCIY',\n 'GCT': 'GCT',\n 'GDM1': 'GDM1',\n 'GI1': 'GI1',\n 'GIMEN': 'GIMEN',\n 'GMS10': 'GMS10',\n 'GOTO': 'GOTO',\n 'GP5d': 'GP5d',\n 'GRST': 'GRST',\n 'GT3TKB': 'GT3TKB',\n 'H4': 'H4',\n 'H9': 'H9',\n 'HAL01': 'HAL01',\n 'HC1': 'HC1',\n 'HCC1143': 'HCC1143',\n 'HCC1187': 'HCC1187',\n 'HCC1395': 'HCC1395',\n 'HCC1419': 'HCC1419',\n 'HCC1569': 'HCC1569',\n 'HCC1806': 'HCC1806',\n 'HCC1937': 'HCC1937',\n 'HCC1954': 'HCC1954',\n 'HCC2157': 'HCC2157',\n 'HCC2218': 'HCC2218',\n 'HCC2998': 'HCC2998',\n 'HCC38': 'HCC38',\n 'HCC70': 'HCC70',\n 'HCE4': 'HCE4',\n 'HCT116': 'HCT116',\n 'HCT15': 'HCT15',\n 'HDLM2': 'HDLM2',\n 'HDMYZ': 'HDMYZ',\n 'HEC1': 'HEC1',\n 'HEL': 'HEL',\n 'HEMCSS': 'HEMCSS',\n 'HGC27': 'HGC27',\n 'HH': 'HH',\n 'HL60': 'HL60',\n 'HLE': 'HLE',\n 'HMVII': 'HMVII',\n 'HN': 'HN',\n 'HO1N1': 'HO1N1',\n 'HOP62': 'HOP62',\n 'HOP92': 'HOP92',\n 'HOS': 'HOS',\n 'HPAFII': 'HPAFII',\n 'HS578T': 'HS578T',\n 'HSC2': 'HSC2',\n 'HSC3': 'HSC3',\n 'HT': 'HT',\n 'HT1080': 'HT1080',\n 'HT1197': 'HT1197',\n 'HT1376': 'HT1376',\n 'HT144': 'HT144',\n 'HT29': 'HT29',\n 'HT3': 'HT3',\n 'HT55': 'HT55',\n 'HTCC3': 'HTCC3',\n 'HUCCT1': 'HUCCT1',\n 'HUH7': 'HUH7',\n 'HUO3N1': 'HUO3N1',\n 'HUO9': 'HUO9',\n 'HUPT3': 'HUPT3',\n 'HUPT4': 'HUPT4',\n 'HUTU80': 'HUTU80',\n 'IALM': 'IALM',\n 'IGR1': 'IGR1',\n 'IGROV1': 'IGROV1',\n 'IM9': 'IM9',\n 'IMR5': 'IMR5',\n 'IPC298': 'IPC298',\n 'ISTMEL1': 'ISTMEL1',\n 'ISTMES1': 'ISTMES1',\n 'ISTSL1': 'ISTSL1',\n 'ISTSL2': 'ISTSL2',\n 'J82': 'J82',\n 'JAR': 'JAR',\n 'JEG3': 'JEG3',\n 'JiyoyeP2003': 'JiyoyeP2003',\n 'JRT3T35': 'JRT3T35',\n 'JVM2': 'JVM2',\n 'JVM3': 'JVM3',\n 'K5': 'K5',\n 'K562': 'K562',\n 'KALS1': 'KALS1',\n 'KARPAS299': 'KARPAS299',\n 'KARPAS422': 'KARPAS422',\n 'KARPAS45': 'KARPAS45',\n 'KE37': 'KE37',\n 'KG1': 'KG1',\n 'KGN': 'KGN',\n 'KINGS1': 'KINGS1',\n 'KLE': 'KLE',\n 'KM12': 'KM12',\n 'KMH2': 'KMH2',\n 'KMOE2': 'KMOE2',\n 'KNS42': 'KNS42',\n 'KNS62': 'KNS62',\n 'KOSC2': 'KOSC2',\n 'KP4': 'KP4',\n 'KPNYN': 'KPNYN',\n 'KPNYS': 'KPNYS',\n 'KS1': 'KS1',\n 'KU1919': 'KU1919',\n 'KU812': 'KU812',\n 'KURAMOCHI': 'KURAMOCHI',\n 'KY821': 'KY821',\n 'KYSE140': 'KYSE140',\n 'KYSE150': 'KYSE150',\n 'KYSE180': 'KYSE180',\n 'KYSE270': 'KYSE270',\n 'KYSE410': 'KYSE410',\n 'KYSE450': 'KYSE450',\n 'KYSE510': 'KYSE510',\n 'KYSE520': 'KYSE520',\n 'KYSE70': 'KYSE70',\n 'L363': 'L363',\n 'L428': 'L428',\n 'L540': 'L540',\n 'LAMA84': 'LAMA84',\n 'LAN6': 'LAN6',\n 'LB1047RCC': 'LB1047RCC',\n 'LB2241RCC': 'LB2241RCC',\n 'LB2518MEL': 'LB2518MEL',\n 'LB373MELD': 'LB373MELD',\n 'LB771HNC': 'LB771HNC',\n 'LB831BLC': 'LB831BLC',\n 'LB996RCC': 'LB996RCC',\n 'LC2ad': 'LC2ad',\n 'LC41': 'LC41',\n 'LCLC103H': 'LCLC103H',\n 'LCLC97TM1': 'LCLC97TM1',\n 'LK2': 'LK2',\n 'LN405': 'LN405',\n 'LNCAPCLONEFGC': 'LNCAPCLONEFGC',\n 'LOUCY': 'LOUCY',\n 'LOVO': 'LOVO',\n 'LOXIMVI': 'LOXIMVI',\n 'LP1': 'LP1',\n 'LS1034': 'LS1034',\n 'LS123': 'LS123',\n 'LS411N': 'LS411N',\n 'LS513': 'LS513',\n 'LU134A': 'LU134A',\n 'LU135': 'LU135',\n 'LU139': 'LU139',\n 'LU165': 'LU165',\n 'LU65': 'LU65',\n 'LU99A': 'LU99A',\n 'LXF289': 'LXF289',\n 'M059J': 'M059J',\n 'M14': 'M14',\n 'MC116': 'MC116',\n 'MCCAR': 'MCCAR',\n 'MCF7': 'MCF7',\n 'MCIXC': 'MCIXC',\n 'MDAMB157': 'MDAMB157',\n 'MDAMB175VII': 'MDAMB175VII',\n 'MDAMB231': 'MDAMB231',\n 'MDAMB361': 'MDAMB361',\n 'MDAMB415': 'MDAMB415',\n 'MDAMB453': 'MDAMB453',\n 'MDAMB468': 'MDAMB468',\n 'ME180': 'ME180',\n 'MEG01': 'MEG01',\n 'MELHO': 'MELHO',\n 'MELJUSO': 'MELJUSO',\n 'MESSA': 'MESSA',\n 'MEWO': 'MEWO',\n 'MFE280': 'MFE280',\n 'MFE296': 'MFE296',\n 'MFHino': 'MFHino',\n 'MFM223': 'MFM223',\n 'MG63': 'MG63',\n 'MHHCALL2': 'MHHCALL2',\n 'MHHES1': 'MHHES1',\n 'MHHNB11': 'MHHNB11',\n 'MHHPREB1': 'MHHPREB1',\n 'MIAPACA2': 'MIAPACA2',\n 'MKN1': 'MKN1',\n 'MKN28': 'MKN28',\n 'MKN45': 'MKN45',\n 'MKN7': 'MKN7',\n 'ML2': 'ML2',\n 'MLMA': 'MLMA',\n 'MMACSF': 'MMACSF',\n 'MN60': 'MN60',\n 'MOLT13': 'MOLT13',\n 'MOLT16': 'MOLT16',\n 'MOLT4': 'MOLT4',\n 'MONOMAC6': 'MONOMAC6',\n 'MoT': 'MoT',\n 'MPP89': 'MPP89',\n 'MRKnu1': 'MRKnu1',\n 'MS1': 'MS1',\n 'MSTO211H': 'MSTO211H',\n 'MV411': 'MV411',\n 'MZ1PC': 'MZ1PC',\n 'MZ2MEL': 'MZ2MEL',\n 'MZ7mel': 'MZ7mel',\n 'NALM6': 'NALM6',\n 'NB1': 'NB1',\n 'NB10': 'NB10',\n 'NB12': 'NB12',\n 'NB13': 'NB13',\n 'NB14': 'NB14',\n 'NB17': 'NB17',\n 'NB5': 'NB5',\n 'NB6': 'NB6',\n 'NB69': 'NB69',\n 'NB7': 'NB7',\n 'NBsusSR': 'NBsusSR',\n 'NCIH1048': 'NCIH1048',\n 'NCIH1092': 'NCIH1092',\n 'NCIH1155': 'NCIH1155',\n 'NCIH1299': 'NCIH1299',\n 'NCIH1304': 'NCIH1304',\n 'NCIH1355': 'NCIH1355',\n 'NCIH1395': 'NCIH1395',\n 'NCIH1437': 'NCIH1437',\n 'NCIH1563': 'NCIH1563',\n 'NCIH1573': 'NCIH1573',\n 'NCIH1581': 'NCIH1581',\n 'NCIH1623': 'NCIH1623',\n 'NCIH1648': 'NCIH1648',\n 'NCIH1650': 'NCIH1650',\n 'NCIH1651': 'NCIH1651',\n 'NCIH1666': 'NCIH1666',\n 'NCIH1693': 'NCIH1693',\n 'NCIH1694': 'NCIH1694',\n 'NCIH1703': 'NCIH1703',\n 'NCIH1755': 'NCIH1755',\n 'NCIH1770': 'NCIH1770',\n 'NCIH1792': 'NCIH1792',\n 'NCIH1793': 'NCIH1793',\n 'NCIH1838': 'NCIH1838',\n 'NCIH187': 'NCIH187',\n 'NCIH1975': 'NCIH1975',\n 'NCIH1993': 'NCIH1993',\n 'NCIH2009': 'NCIH2009',\n 'NCIH2029': 'NCIH2029',\n 'NCIH2030': 'NCIH2030',\n 'NCIH2052': 'NCIH2052',\n 'NCIH2087': 'NCIH2087',\n 'NCIH209': 'NCIH209',\n 'NCIH2122': 'NCIH2122',\n 'NCIH2126': 'NCIH2126',\n 'NCIH2141': 'NCIH2141',\n 'NCIH2170': 'NCIH2170',\n 'NCIH2227': 'NCIH2227',\n 'NCIH2228': 'NCIH2228',\n 'NCIH226': 'NCIH226',\n 'NCIH2291': 'NCIH2291',\n 'NCIH23': 'NCIH23',\n 'NCIH2342': 'NCIH2342',\n 'NCIH2347': 'NCIH2347',\n 'NCIH2405': 'NCIH2405',\n 'NCIH2452': 'NCIH2452',\n 'NCIH28': 'NCIH28',\n 'NCIH292': 'NCIH292',\n 'NCIH322M': 'NCIH322M',\n 'NCIH345': 'NCIH345',\n 'NCIH358': 'NCIH358',\n 'NCIH441': 'NCIH441',\n 'NCIH446': 'NCIH446',\n 'NCIH460': 'NCIH460',\n 'NCIH520': 'NCIH520',\n 'NCIH522': 'NCIH522',\n 'NCIH524': 'NCIH524',\n 'NCIH526': 'NCIH526',\n 'NCIH596': 'NCIH596',\n 'NCIH630': 'NCIH630',\n 'NCIH650': 'NCIH650',\n 'NCIH661': 'NCIH661',\n 'NCIH69': 'NCIH69',\n 'NCIH720': 'NCIH720',\n 'NCIH727': 'NCIH727',\n 'NCIH747': 'NCIH747',\n 'NCIH810': 'NCIH810',\n 'NCIH82': 'NCIH82',\n 'NCIH838': 'NCIH838',\n 'NCIN87': 'NCIN87',\n 'NCISNU1': 'NCISNU1',\n 'NCISNU16': 'NCISNU16',\n 'NCISNU5': 'NCISNU5',\n 'NEC8': 'NEC8',\n 'NH12': 'NH12',\n 'NKM1': 'NKM1',\n 'NMCG1': 'NMCG1',\n 'no10': 'no10',\n 'no11': 'no11',\n 'NOMO1': 'NOMO1',\n 'NOS1': 'NOS1',\n 'NTERASclD1': 'NTERASclD1',\n 'NUGC3': 'NUGC3',\n 'NY': 'NY',\n 'OAW28': 'OAW28',\n 'OAW42': 'OAW42',\n 'OC314': 'OC314',\n 'OCIAML2': 'OCIAML2',\n 'OCUBM': 'OCUBM',\n 'OE19': 'OE19',\n 'OE33': 'OE33',\n 'OMC1': 'OMC1',\n 'ONS76': 'ONS76',\n 'OPM2': 'OPM2',\n 'OSRC2': 'OSRC2',\n 'OVCAR3': 'OVCAR3',\n 'OVCAR4': 'OVCAR4',\n 'OVCAR5': 'OVCAR5',\n 'OVCAR8': 'OVCAR8',\n 'P12ICHIKAWA': 'P12ICHIKAWA',\n 'P30OHK': 'P30OHK',\n 'P31FUJ': 'P31FUJ',\n 'PA1': 'PA1',\n 'PANC0327': 'PANC0327',\n 'PANC0813': 'PANC0813',\n 'PANC1005': 'PANC1005',\n 'PC14': 'PC14',\n 'PC3': 'PC3',\n 'PF382': 'PF382',\n 'PFSK1': 'PFSK1',\n 'PSN1': 'PSN1',\n 'QIMRWIL': 'QIMRWIL',\n 'RAJI': 'RAJI',\n 'Ramos2G64C10': 'Ramos2G64C10',\n 'RCC10RGB': 'RCC10RGB',\n 'RCM1': 'RCM1',\n 'RD': 'RD',\n 'REH': 'REH',\n 'RERFLCMS': 'RERFLCMS',\n 'RH1': 'RH1',\n 'RH18': 'RH18',\n 'RKO': 'RKO',\n 'RL': 'RL',\n 'RL952': 'RL952',\n 'RMGI': 'RMGI',\n 'RO82W1': 'RO82W1',\n 'RPMI2650': 'RPMI2650',\n 'RPMI6666': 'RPMI6666',\n 'RPMI7951': 'RPMI7951',\n 'RPMI8226': 'RPMI8226',\n 'RPMI8402': 'RPMI8402',\n 'RPMI8866': 'RPMI8866',\n 'RS411': 'RS411',\n 'RT112': 'RT112',\n 'RT4': 'RT4',\n 'RVH421': 'RVH421',\n 'RXF393': 'RXF393',\n 'S117': 'S117',\n 'SAOS2': 'SAOS2',\n 'SAS': 'SAS',\n 'SBC1': 'SBC1',\n 'SBC5': 'SBC5',\n 'SCC15': 'SCC15',\n 'SCC25': 'SCC25',\n 'SCC4': 'SCC4',\n 'SCC9': 'SCC9',\n 'SCH': 'SCH',\n 'SF126': 'SF126',\n 'SF268': 'SF268',\n 'SF295': 'SF295',\n 'SF539': 'SF539',\n 'SH4': 'SH4',\n 'SHP77': 'SHP77',\n 'SiHa': 'SiHa',\n 'SIMA': 'SIMA',\n 'SJRH30': 'SJRH30',\n 'SJSA1': 'SJSA1',\n 'SKCO1': 'SKCO1',\n 'SKGIIIa': 'SKGIIIa',\n 'SKHEP1': 'SKHEP1',\n 'SKLMS1': 'SKLMS1',\n 'SKLU1': 'SKLU1',\n 'SKM1': 'SKM1',\n 'SKMEL1': 'SKMEL1',\n 'SKMEL2': 'SKMEL2',\n 'SKMEL24': 'SKMEL24',\n 'SKMEL28': 'SKMEL28',\n 'SKMEL3': 'SKMEL3',\n 'SKMEL30': 'SKMEL30',\n 'SKMEL5': 'SKMEL5',\n 'SKMES1': 'SKMES1',\n 'SKMG1': 'SKMG1',\n 'SKMM2': 'SKMM2',\n 'SKNAS': 'SKNAS',\n 'SKNDZ': 'SKNDZ',\n 'SKNEP1': 'SKNEP1',\n 'SKNFI': 'SKNFI',\n 'SKOV3': 'SKOV3',\n 'SKPNDW': 'SKPNDW',\n 'SKUT1': 'SKUT1',\n 'SN12C': 'SN12C',\n 'SNB75': 'SNB75',\n 'SNGM': 'SNGM',\n 'SNU387': 'SNU387',\n 'SNU423': 'SNU423',\n 'SNU449': 'SNU449',\n 'SNUC1': 'SNUC1',\n 'SNUC2B': 'SNUC2B',\n 'SR': 'SR',\n 'ST486': 'ST486',\n 'SUPT1': 'SUPT1',\n 'SW1088': 'SW1088',\n 'SW1116': 'SW1116',\n 'SW13': 'SW13',\n 'SW1417': 'SW1417',\n 'SW1463': 'SW1463',\n 'SW1573': 'SW1573',\n 'SW1710': 'SW1710',\n 'SW1783': 'SW1783',\n 'SW1990': 'SW1990',\n 'SW48': 'SW48',\n 'SW620': 'SW620',\n 'SW626': 'SW626',\n 'SW684': 'SW684',\n 'SW756': 'SW756',\n 'SW780': 'SW780',\n 'SW837': 'SW837',\n 'SW872': 'SW872',\n 'SW900': 'SW900',\n 'SW948': 'SW948',\n 'SW954': 'SW954',\n 'SW962': 'SW962',\n 'SW982': 'SW982',\n 'T24': 'T24',\n 'T47D': 'T47D',\n 'T84': 'T84',\n 'T98G': 'T98G',\n 'TCCSUP': 'TCCSUP',\n 'TCYIK': 'TCYIK',\n 'TE1': 'TE1',\n 'TE10': 'TE10',\n 'TE11': 'TE11',\n 'TE12': 'TE12',\n 'TE15': 'TE15',\n 'TE5': 'TE5',\n 'TE6': 'TE6',\n 'TE8': 'TE8',\n 'TE9': 'TE9',\n 'TGBC11TKB': 'TGBC11TKB',\n 'TGBC1TKB': 'TGBC1TKB',\n 'TGBC24TKB': 'TGBC24TKB',\n 'TGW': 'TGW',\n 'THP1': 'THP1',\n 'TI73': 'TI73',\n 'TK10': 'TK10',\n 'TUR': 'TUR',\n 'TYKNU': 'TYKNU',\n 'U118MG': 'U118MG',\n 'U251': 'U251',\n 'U2OS': 'U2OS',\n 'U698M': 'U698M',\n 'U87MG': 'U87MG',\n 'UACC257': 'UACC257',\n 'UACC62': 'UACC62',\n 'UACC893': 'UACC893',\n 'UMC11': 'UMC11',\n 'UMUC3': 'UMUC3',\n 'VAESBJ': 'VAESBJ',\n 'VMCUB1': 'VMCUB1',\n 'VMRCRCZ': 'VMRCRCZ',\n 'WM115': 'WM115',\n 'WSUNHL': 'WSUNHL',\n 'YAPC': 'YAPC',\n 'YH13': 'YH13',\n 'YKG1': 'YKG1',\n 'YT': 'YT',\n 'ZR7530': 'ZR7530',\n 'BC3': 'BC3',\n 'BL70': 'BL70',\n 'CAL148': 'CAL148',\n 'CP67MEL': 'CP67MEL',\n 'DMS153': 'DMS153',\n 'ECC4': 'ECC4',\n 'EHEB': 'EHEB',\n 'EW12': 'EW12',\n 'HCC1599': 'HCC1599',\n 'K052': 'K052',\n 'KASUMI1': 'KASUMI1',\n 'KPNRTBM1': 'KPNRTBM1',\n 'LB647SCLC': 'LB647SCLC',\n 'LC1F': 'LC1F',\n 'MDAMB134VI': 'MDAMB134VI',\n 'NCIH128': 'NCIH128',\n 'NCIH1417': 'NCIH1417',\n 'NCIH1436': 'NCIH1436',\n 'NCIH1522': 'NCIH1522',\n 'NCIH1963': 'NCIH1963',\n 'NCIH2081': 'NCIH2081',\n 'NCIH2107': 'NCIH2107',\n 'NCIH2171': 'NCIH2171',\n 'NCIH2196': 'NCIH2196',\n 'NCIH64': 'NCIH64',\n 'NCIH716': 'NCIH716',\n 'NCIH719': 'NCIH719',\n 'NCIH748': 'NCIH748',\n 'SCC3': 'SCC3',\n 'SCLC21H': 'SCLC21H',\n 'SIGM5': 'SIGM5',\n 'SUDHL1': 'SUDHL1',\n 'TALL1': 'TALL1',\n 'TE441T': 'TE441T',\n 'HSC4': 'HSC4',\n 'NCIH1734': 'NCIH1734',\n 'CALU1': 'CALU1',\n 'CAOV3': 'CAOV3',\n 'DV90': 'DV90',\n 'ECC12': 'ECC12',\n 'NCIH1618': 'NCIH1618',\n 'PLCPRF5': 'PLCPRF5',\n 'SNU475': 'SNU475',\n 'UACC812': 'UACC812',\n 'NCIH378': 'NCIH378',\n 'NCIH250': 'NCIH250',\n '786O': '7860',\n 'COLO320': 'COLO320HSR',\n 'EOL1': 'KNS81FD',\n 'KNS81': 'EOL1CELL',\n 'NCIH510': 'NCIH510A',\n 'TTTHYROID': 'TT',\n 'U266B1': 'U266',\n 'UO31': 'U031'}"
     },
     "execution_count": 379,
     "metadata": {},
     "output_type": "execute_result"
    }
   ],
   "source": [
    "poz2"
   ]
  },
  {
   "cell_type": "code",
   "execution_count": 380,
   "metadata": {},
   "outputs": [],
   "source": [
    "gdsc_dr['CCL'] = gdsc_dr['CCL'].replace(poz2)"
   ]
  },
  {
   "cell_type": "markdown",
   "metadata": {},
   "source": [
    "# Missing CCLE data"
   ]
  },
  {
   "cell_type": "code",
   "execution_count": 456,
   "metadata": {},
   "outputs": [],
   "source": [
    "ccle_ge = pd.read_csv('data/CCLE/ge.csv', sep='\\t').rename(columns={'Unnamed: 0':'CCL'}).set_index('CCL').transpose()\n",
    "ccle_dr = pd.read_csv('data/CCLE/metrics.csv').rename(columns={'Cell_line':'CCL'})"
   ]
  },
  {
   "cell_type": "code",
   "execution_count": 457,
   "metadata": {},
   "outputs": [],
   "source": [
    "import re\n",
    "poz = list(ccle_dr['CCL'].unique())\n",
    "cell2 = list(ccle_ge.index.to_series().str.upper().reset_index()[0])\n",
    "\n",
    "ncell = []\n",
    "for i in cell2:\n",
    "    ncell.append(re.sub(\"[^A-Za-z0-9]\", '', i))\n",
    "cell2 = ncell"
   ]
  },
  {
   "cell_type": "code",
   "execution_count": 458,
   "metadata": {},
   "outputs": [
    {
     "data": {
      "text/plain": "['BGC823',\n 'GLC82',\n 'KP1N',\n 'KP1NL',\n 'M059J',\n 'MB157',\n 'OVCAR3',\n 'SF8657',\n 'SNUC2B']"
     },
     "execution_count": 458,
     "metadata": {},
     "output_type": "execute_result"
    }
   ],
   "source": [
    "miss = []\n",
    "for ccl in poz:\n",
    "    if ccl not in cell2:\n",
    "        miss.append(ccl)\n",
    "miss"
   ]
  },
  {
   "cell_type": "code",
   "execution_count": null,
   "metadata": {},
   "outputs": [],
   "source": [
    "miss"
   ]
  },
  {
   "cell_type": "markdown",
   "metadata": {},
   "source": [
    "### Now I substitute by the correct names"
   ]
  },
  {
   "cell_type": "markdown",
   "metadata": {},
   "source": [
    "### I look for the following 9 cell lines [here](https://www.expasy.org/) and find what the problem with them is."
   ]
  },
  {
   "cell_type": "markdown",
   "metadata": {},
   "source": [
    "BGC823, GLC82, KP1N and KP1NL are problematic (shown to be derivatives of HeLa and PANC-1) cell lines so I will drop them.\n",
    "\n",
    "MB1257 and OVCAR3 are under different names, namely MDAMB157, NIH:OVCAR3\n",
    "\n",
    "_M059J_ wasn't found on cellminercdb, there is a M059K but idk if it's the same, maybe download M059J from [here](https://web.expasy.org/cellosaurus/CVCL_0400). It is on GDSC's cellminercdb dataset.\n",
    "\n",
    "_SF8657_ wasn't found,  can be downloaded from [here] (https://web.expasy.org/cellosaurus/CVCL_K085)\n",
    "\n",
    "_SNUC2B_ can't be found on this cellminercdb dataset but it is on GDSC's, here you find it under the alias SNUC2A according [to] (https://web.expasy.org/cellosaurus/CVCL_1710)"
   ]
  },
  {
   "cell_type": "code",
   "execution_count": 292,
   "metadata": {},
   "outputs": [
    {
     "name": "stdout",
     "output_type": "stream",
     "text": "BGC823\nGLC82\nKP1N\nKP1NL\nM059J\nMB157\nOVCAR3\nSF8657\nSNUC2B\n"
    }
   ],
   "source": [
    "for i in miss:\n",
    "    print(i)"
   ]
  },
  {
   "cell_type": "code",
   "execution_count": 399,
   "metadata": {},
   "outputs": [
    {
     "data": {
      "text/plain": "array(['1321N1', '22RV1', '42MGBA', '5637', '639V', '697', '769P', '786O',\n       '8305C', '8505C', '8MGBA', 'A172', 'A204', 'A2058', 'A253',\n       'A2780', 'A375', 'A549', 'A673', 'ACHN', 'ALLSIL', 'AMO1', 'AN3CA',\n       'ASPC1', 'AU565', 'AZ521', 'BCPAP', 'BDCM', 'BFTC909', 'BL41',\n       'BL70', 'BT20', 'BT474', 'BT549', 'BXPC3', 'C2BBE1', 'C32', 'C3A',\n       'CAKI2', 'CAL12T', 'CAL27', 'CAL78', 'CAL851', 'CALU1', 'CALU3',\n       'CALU6', 'CAMA1', 'CAPAN2', 'CAS1', 'CCK81', 'CHL1', 'CHP212',\n       'CI1', 'CMK86', 'COLO201', 'COLO205', 'COLO320', 'COLO677',\n       'COLO678', 'COLO679', 'COLO699', 'COLO741', 'CORL105', 'CORL23',\n       'COV318', 'COV504', 'DAOY', 'DBTRG05MG', 'DEL', 'DETROIT562',\n       'DKMG', 'DMS114', 'DOHH2', 'DOV13', 'DU145', 'DV90', 'EB1', 'EB2',\n       'EBC1', 'EFE184', 'EFM19', 'EFO21', 'EFO27', 'EM2', 'EN', 'ES2',\n       'ESS1', 'F36P', 'FADU', 'FU97', 'FUOV1', 'G361', 'G401', 'G402',\n       'GAMG', 'GB1', 'GCIY', 'GCT', 'GI1', 'GMS10', 'GRANTA519', 'H4',\n       'HARA', 'HCC1187', 'HCC1395', 'HCC15', 'HCC1569', 'HCC1806',\n       'HCC1954', 'HCC2935', 'HCC4006', 'HCC44', 'HCC70', 'HCC78',\n       'HCC827', 'HCT116', 'HCT15', 'HDMYZ', 'HDQP1', 'HEC151', 'HEC1A',\n       'HEC1B', 'HEC251', 'HEC265', 'HEC59', 'HEC6', 'HEL9217',\n       'HEP3B217', 'HEPG2', 'HEYA8', 'HGC27', 'HH', 'HLE', 'HLF', 'HMC18',\n       'HMCB', 'HOS', 'HPAC', 'HPAFII', 'HS229T', 'HS294T', 'HS578T',\n       'HS683', 'HS695T', 'HS729', 'HS739T', 'HS746T', 'HS766T', 'HS840T',\n       'HS852T', 'HS895T', 'HS936T', 'HS939T', 'HS944T', 'HSC2', 'HT',\n       'HT1080', 'HT1197', 'HT1376', 'HT144', 'HT29', 'HUCCT1', 'HUH1',\n       'HUPT3', 'HUPT4', 'HUT78', 'IALM', 'IGR37', 'IGR39', 'IGROV1',\n       'IM95', 'IMR32', 'IPC298', 'ISHIKAWAHERAKLIO02ER', 'ISTMES1',\n       'ISTMES2', 'J82', 'JHH2', 'JHH4', 'JHH5', 'JHH6', 'JHH7', 'JHOS2',\n       'JHOS4', 'JHUEM2', 'JM1', 'JMSU1', 'JURKAT', 'JVM3', 'K029AX',\n       'KALS1', 'KARPAS299', 'KARPAS422', 'KARPAS620', 'KASUMI2',\n       'KCIMOH1', 'KCL22', 'KE39', 'KE97', 'KELLY', 'KG1', 'KHM1B', 'KLE',\n       'KMBC2', 'KMM1', 'KMRC1', 'KMRC2', 'KMS11', 'KMS12BM', 'KMS26',\n       'KMS34', 'KNS42', 'KNS60', 'KNS62', 'KNS81', 'KO52', 'KP2', 'KP3',\n       'KP4', 'KPNSI9S', 'KU812', 'KURAMOCHI', 'KYM1', 'KYSE140',\n       'KYSE150', 'KYSE180', 'KYSE30', 'KYSE410', 'KYSE450', 'KYSE510',\n       'KYSE520', 'KYSE70', 'L33', 'L363', 'L428', 'LC1SQSF', 'LCLC103H',\n       'LN18', 'LN229', 'LOUNH91', 'LOXIMVI', 'LP1', 'LS123', 'LS411N',\n       'LS513', 'LU99', 'LUDLU1', 'M059J', 'MALME3M', 'MB157', 'MC116',\n       'MCAS', 'MCF7', 'MDAMB157', 'MDAMB175VII', 'MDAMB415', 'MDAMB435S',\n       'MDAMB436', 'MDAMB453', 'MDAMB468', 'MEC1', 'MEG01', 'MELHO',\n       'MESSA', 'MEWO', 'MFE280', 'MFE296', 'MFE319', 'MG63', 'MHHES1',\n       'MIAPACA2', 'MINO', 'MJ', 'MKN45', 'MKN7', 'MKN74', 'MOGGCCM',\n       'MOLP8', 'MOLT16', 'MONOMAC1', 'MORCPR', 'MPP89', 'MSTO211H',\n       'NCIH1048', 'NCIH1092', 'NCIH1155', 'NCIH1184', 'NCIH1299',\n       'NCIH1339', 'NCIH1341', 'NCIH1355', 'NCIH1373', 'NCIH1563',\n       'NCIH1568', 'NCIH1573', 'NCIH1581', 'NCIH1648', 'NCIH1650',\n       'NCIH1651', 'NCIH1666', 'NCIH1693', 'NCIH1694', 'NCIH1703',\n       'NCIH1792', 'NCIH1793', 'NCIH1869', 'NCIH1915', 'NCIH1944',\n       'NCIH1975', 'NCIH2009', 'NCIH2023', 'NCIH2030', 'NCIH2052',\n       'NCIH2085', 'NCIH2087', 'NCIH211', 'NCIH2122', 'NCIH2170',\n       'NCIH2172', 'NCIH2228', 'NCIH226', 'NCIH2286', 'NCIH23',\n       'NCIH2444', 'NCIH2452', 'NCIH28', 'NCIH322', 'NCIH3255', 'NCIH358',\n       'NCIH441', 'NCIH460', 'NCIH520', 'NCIH522', 'NCIH647', 'NCIH650',\n       'NCIH661', 'NCIH727', 'NCIH747', 'NCIH810', 'NCIN87', 'NCO2',\n       'OVCAR3', 'NUGC3', 'NUGC4', 'OC314', 'OC315', 'OC316', 'OCIAML2',\n       'OCIAML5', 'OCILY10', 'OCUM1', 'OE21', 'OE33', 'ONCODG1', 'ONS76',\n       'OPM2', 'OV90', 'OVCAR4', 'OVCAR8', 'OVMANA', 'OVSAHO', 'OVTOKO',\n       'P12ICHIKAWA', 'P31FUJ', 'P3HR1', 'PANC0203', 'PANC0327',\n       'PANC0403', 'PANC1005', 'PATU8902', 'PC14', 'PC3', 'PFEIFFER',\n       'PK1', 'PK45H', 'PK59', 'PL45', 'PLCPRF5', 'PSN1', 'QGP1', 'RAJI',\n       'RD', 'REH', 'RERFGC1B', 'RERFLCAI', 'RERFLCMS', 'RKN', 'RKO',\n       'RL952', 'RPMI7951', 'RPMI8402', 'RT112', 'RT4', 'RVH421', 'SAOS2',\n       'SBC5', 'SCABER', 'SCC25', 'SCC9', 'SF126', 'SF295', 'SH10TC',\n       'SHP77', 'SIGM5', 'SIMA', 'SJRH30', 'SJSA1', 'SKBR3', 'SKCO1',\n       'SKES1', 'SKHEP1', 'SKLMS1', 'SKLU1', 'SKMEL2', 'SKMEL24',\n       'SKMEL30', 'SKMEL31', 'SKMEL5', 'SKMES1', 'SKMM2', 'SKNAS',\n       'SKNBE2', 'SKNDZ', 'SKNFI', 'SKNSH', 'SKOV3', 'SNGM', 'SNU1',\n       'SNU16', 'SNU182', 'SNU387', 'SNU398', 'SNU423', 'SNU449',\n       'SNU475', 'SNUC2A', 'SNUC2B', 'SQ1', 'SU8686', 'SUDHL10', 'SUDHL4',\n       'SUDHL6', 'SUDHL8', 'SUIT2', 'SUPM2', 'SUPT1', 'SW1088', 'SW1271',\n       'SW1353', 'SW1417', 'SW1573', 'SW1990', 'SW403', 'SW48', 'SW480',\n       'SW579', 'SW620', 'SW780', 'SW900', 'T24', 'T3M10', 'T47D', 'T84',\n       'T98G', 'TC71', 'TCCSUP', 'TE1', 'TE11', 'TE15', 'TE5', 'TE617T',\n       'TE9', 'TEN', 'TOLEDO', 'TOV112D', 'TOV21G', 'TT2609C02', 'TYKNU',\n       'U118MG', 'U2OS', 'U87MG', 'U937', 'UACC257', 'UACC62', 'UACC812',\n       'UMUC3', 'VMRCLCD', 'VMRCRCW', 'VMRCRCZ', 'WM115', 'WM1799',\n       'WM2664', 'WM793', 'WM88', 'WM983B', 'YKG1', 'ZR751', 'ZR7530',\n       'HCC56'], dtype=object)"
     },
     "execution_count": 399,
     "metadata": {},
     "output_type": "execute_result"
    }
   ],
   "source": [
    "d = ccle_dr[~ccle_dr['CCL'].isin(['BGC823', 'GLC82', 'KP1N', 'KP1NL', 'SF8657'])]\n",
    "d['CCL'].unique()"
   ]
  },
  {
   "cell_type": "markdown",
   "metadata": {},
   "source": [
    "# Missing CTRP data"
   ]
  },
  {
   "cell_type": "code",
   "execution_count": 459,
   "metadata": {},
   "outputs": [],
   "source": [
    "ctrp_ge = pd.read_csv('data/CTRP/cell_ge.csv', sep='\\t').rename(columns={'Unnamed: 0':'CCL'}).set_index('CCL').transpose()\n",
    "ctrp_dr = pd.read_csv('data/CTRP/metrics.csv').rename(columns={'Cell_line':'CCL'})"
   ]
  },
  {
   "cell_type": "code",
   "execution_count": 451,
   "metadata": {},
   "outputs": [],
   "source": [
    "import re\n",
    "poz = list(ctrp_dr['CCL'].unique())\n",
    "cell3 = list(ctrp_ge.index.to_series().str.upper().reset_index()[0])\n",
    "\n",
    "ncell = []\n",
    "for i in cell3:\n",
    "    ncell.append(re.sub(\"[^A-Za-z0-9]\", '', i))\n",
    "cell3 = ncell"
   ]
  },
  {
   "cell_type": "code",
   "execution_count": 453,
   "metadata": {},
   "outputs": [
    {
     "data": {
      "text/plain": "66"
     },
     "execution_count": 453,
     "metadata": {},
     "output_type": "execute_result"
    }
   ],
   "source": [
    "miss = []\n",
    "for ccl in poz:\n",
    "    if ccl not in cell3:\n",
    "        miss.append(ccl)\n",
    "len(miss)"
   ]
  },
  {
   "cell_type": "code",
   "execution_count": 414,
   "metadata": {},
   "outputs": [
    {
     "data": {
      "text/plain": "['2004',\n 'ASKA',\n 'BT112',\n 'BT131',\n 'BT139',\n 'BT145',\n 'BT147',\n 'BT159',\n 'BT16',\n 'BT164',\n 'BT172',\n 'BT179',\n 'BT216',\n 'BT224',\n 'BT228',\n 'BT231',\n 'BT232',\n 'BT239',\n 'BT245',\n 'BT248',\n 'BT271',\n 'BT286',\n 'BT320',\n 'BT328',\n 'BT330',\n 'BT333',\n 'BT340',\n 'BT359',\n 'BT416',\n 'BT422',\n 'BT428',\n 'BT440',\n 'BT444',\n 'BT482',\n 'BT498',\n 'BT504',\n 'H292',\n 'HS578BST',\n 'HS888LU',\n 'HSTS',\n 'KRIJ',\n 'PSTS',\n 'SW982',\n 'SYO1',\n 'TM8716',\n 'TTTHYROID',\n 'UCH1',\n 'YAMATO',\n 'BT187']"
     },
     "execution_count": 414,
     "metadata": {},
     "output_type": "execute_result"
    }
   ],
   "source": [
    "miss"
   ]
  },
  {
   "cell_type": "code",
   "execution_count": 415,
   "metadata": {},
   "outputs": [
    {
     "data": {
      "text/plain": "['CHP126',\n 'CHP212',\n 'IMR32',\n 'KELLY',\n 'KPNSI9S',\n 'KPNYN',\n 'MHHNB11',\n 'NB1',\n 'NH6',\n 'SIMA',\n 'SKNAS',\n 'SKNBE2',\n 'SKNDZ',\n 'SKNFI',\n 'SKNSH',\n 'HUCCT1',\n 'HUH28',\n 'SNU1079',\n 'SNU1196',\n 'SNU245',\n 'SNU308',\n 'SNU478',\n 'SNU869',\n 'A673',\n 'CADOES1',\n 'CAL78',\n 'G292CLONEA141B1',\n 'HOS',\n 'HS822T',\n 'HS888T',\n 'MG63',\n 'MHHES1',\n 'RDES',\n 'SAOS2',\n 'SJSA1',\n 'SKES1',\n 'SKNMC',\n 'SW1353',\n 'TC71',\n 'U2OS',\n 'AU565',\n 'BT20',\n 'BT474',\n 'BT549',\n 'CAL120',\n 'CAL148',\n 'CAL51',\n 'CAL851',\n 'CAMA1',\n 'DU4475',\n 'EFM192A',\n 'HCC1143',\n 'HCC1395',\n 'HCC1419',\n 'HCC1428',\n 'HCC1500',\n 'HCC1569',\n 'HCC1806',\n 'HCC1937',\n 'HCC1954',\n 'HCC202',\n 'HCC2218',\n 'HCC38',\n 'HDQP1',\n 'HMC18',\n 'HS578T',\n 'JIMT1',\n 'KPL1',\n 'MCF7',\n 'MDAMB157',\n 'MDAMB231',\n 'MDAMB361',\n 'MDAMB415',\n 'MDAMB453',\n 'MDAMB468',\n 'SKBR3',\n 'T47D',\n 'UACC812',\n 'ZR751',\n 'ZR7530',\n '42MGBA',\n '8MGBA',\n 'A172',\n 'AM38',\n 'BECKER',\n 'CAS1',\n 'CCFSTTG1',\n 'D283MED',\n 'DAOY',\n 'DBTRG05MG',\n 'DKMG',\n 'GAMG',\n 'GB1',\n 'GI1',\n 'GMS10',\n 'GOS3',\n 'HS683',\n 'KALS1',\n 'KG1C',\n 'KNS42',\n 'KNS60',\n 'KNS81',\n 'LN18',\n 'LN229',\n 'M059K',\n 'NMCG1',\n 'ONS76',\n 'SF126',\n 'SF295',\n 'SNU1105',\n 'SNU201',\n 'SNU466',\n 'SNU489',\n 'SNU626',\n 'SNU738',\n 'SW1088',\n 'SW1783',\n 'T98G',\n 'TM31',\n 'U118MG',\n 'U251MG',\n 'U87MG',\n 'YH13',\n 'YKG1',\n 'AN3CA',\n 'COLO684',\n 'EFE184',\n 'EN',\n 'ESS1',\n 'HEC108',\n 'HEC151',\n 'HEC1A',\n 'HEC1B',\n 'HEC251',\n 'HEC265',\n 'HEC50B',\n 'HEC59',\n 'HEC6',\n 'ISHIKAWAHERAKLIO02ER',\n 'JHUEM1',\n 'JHUEM2',\n 'JHUEM3',\n 'KLE',\n 'MFE296',\n 'MFE319',\n 'RL952',\n 'SNGM',\n 'SNU1077',\n 'SNU685',\n '697',\n 'A3KAW',\n 'A4FUK',\n 'ALLSIL',\n 'AML193',\n 'AMO1',\n 'BCP1',\n 'BDCM',\n 'BL41',\n 'BL70',\n 'BV173',\n 'CA46',\n 'CI1',\n 'CMK',\n 'CMLT1',\n 'DAUDI',\n 'DB',\n 'DEL',\n 'DND41',\n 'DOHH2',\n 'EB1',\n 'EHEB',\n 'EJM',\n 'EM2',\n 'EOL1',\n 'F36P',\n 'GA10',\n 'GDM1',\n 'GRANTA519',\n 'HDLM2',\n 'HDMYZ',\n 'HEL',\n 'HEL9217',\n 'HH',\n 'HL60',\n 'HPBALL',\n 'HS611T',\n 'HT',\n 'HUNS1',\n 'HUT78',\n 'JEKO1',\n 'JJN3',\n 'JK1',\n 'JM1',\n 'JURKAT',\n 'JURLMK1',\n 'JVM2',\n 'JVM3',\n 'K562',\n 'KARPAS299',\n 'KARPAS422',\n 'KARPAS620',\n 'KASUMI1',\n 'KASUMI2',\n 'KCL22',\n 'KE37',\n 'KE97',\n 'KHM1B',\n 'KIJK',\n 'KMH2',\n 'KMM1',\n 'KMS11',\n 'KMS12BM',\n 'KMS18',\n 'KMS20',\n 'KMS21BM',\n 'KMS26',\n 'KMS27',\n 'KMS28BM',\n 'KMS34',\n 'KO52',\n 'KU812',\n 'KYO1',\n 'L1236',\n 'L363',\n 'L428',\n 'L540',\n 'LAMA84',\n 'LP1',\n 'M07E',\n 'MC116',\n 'ME1',\n 'MEC1',\n 'MHHCALL3',\n 'MHHCALL4',\n 'MINO',\n 'MJ',\n 'MM1S',\n 'MOLM13',\n 'MOLM16',\n 'MOLM6',\n 'MOLP2',\n 'MOLP8',\n 'MOLT13',\n 'MOLT16',\n 'MONOMAC1',\n 'MONOMAC6',\n 'MOTN1',\n 'MV411',\n 'NALM6',\n 'NAMALWA',\n 'NB4',\n 'NCIH929',\n 'NCO2',\n 'NOMO1',\n 'NUDHL1',\n 'NUDUL1',\n 'OCIAML2',\n 'OCIAML3',\n 'OCIAML5',\n 'OCILY10',\n 'OCILY19',\n 'OCILY3',\n 'OCIM1',\n 'OPM2',\n 'P12ICHIKAWA',\n 'P31FUJ',\n 'P3HR1',\n 'PEER',\n 'PF382',\n 'PFEIFFER',\n 'PL21',\n 'RAJI',\n 'RCHACV',\n 'REC1',\n 'REH',\n 'RI1',\n 'RL',\n 'RPMI8226',\n 'RPMI8402',\n 'RS411',\n 'SEM',\n 'SET2',\n 'SIGM5',\n 'SKM1',\n 'SKMM2',\n 'SR786',\n 'ST486',\n 'SUDHL1',\n 'SUDHL10',\n 'SUDHL4',\n 'SUDHL6',\n 'SUDHL8',\n 'SUPB15',\n 'SUPHD1',\n 'SUPM2',\n 'SUPT1',\n 'SUPT11',\n 'TALL1',\n 'TF1',\n 'THP1',\n 'TOLEDO',\n 'U266B1',\n 'U937',\n 'WSUDLCL2',\n '769P',\n '786O',\n 'A498',\n 'ACHN',\n 'BFTC909',\n 'CAKI1',\n 'CAKI2',\n 'CAL54',\n 'KMRC1',\n 'KMRC2',\n 'KMRC20',\n 'KMRC3',\n 'OSRC2',\n 'RCC10RGB',\n 'SNU1272',\n 'TUHR10TKB',\n 'TUHR14TKB',\n 'TUHR4TKB',\n 'VMRCRCW',\n 'VMRCRCZ',\n 'C2BBE1',\n 'CCK81',\n 'CL11',\n 'CL34',\n 'COLO201',\n 'COLO205',\n 'COLO320',\n 'COLO678',\n 'CW2',\n 'DLD1',\n 'GP2D',\n 'HCC56',\n 'HCT116',\n 'HCT15',\n 'HCT8',\n 'HT115',\n 'HT29',\n 'HT55',\n 'KM12',\n 'LOVO',\n 'LS1034',\n 'LS123',\n 'LS180',\n 'LS411N',\n 'LS513',\n 'MDST8',\n 'NCIH508',\n 'NCIH716',\n 'NCIH747',\n 'OUMS23',\n 'RCM1',\n 'RKO',\n 'SKCO1',\n 'SNU1033',\n 'SNU175',\n 'SNU407',\n 'SNU503',\n 'SNU61',\n 'SNU81',\n 'SNUC1',\n 'SNUC2A',\n 'SNUC4',\n 'SNUC5',\n 'SW1116',\n 'SW1417',\n 'SW1463',\n 'SW48',\n 'SW620',\n 'SW948',\n 'T84',\n 'HEP3B217',\n 'HEPG2',\n 'HLF',\n 'HUH1',\n 'HUH6',\n 'JHH1',\n 'JHH2',\n 'JHH4',\n 'JHH5',\n 'JHH6',\n 'LI7',\n 'PLCPRF5',\n 'SKHEP1',\n 'SNU182',\n 'SNU387',\n 'SNU398',\n 'SNU423',\n 'SNU449',\n 'SNU475',\n 'SNU761',\n 'SNU878',\n 'SNU886',\n 'A549',\n 'BEN',\n 'CAL12T',\n 'CALU1',\n 'CALU3',\n 'CALU6',\n 'CHAGOK1',\n 'COLO668',\n 'CORL105',\n 'CORL279',\n 'CORL47',\n 'CORL51',\n 'CORL88',\n 'CORL95',\n 'DMS114',\n 'DMS273',\n 'DMS454',\n 'DMS53',\n 'DMS79',\n 'DV90',\n 'EBC1',\n 'EPLC272H',\n 'HARA',\n 'HCC1171',\n 'HCC1195',\n 'HCC1438',\n 'HCC15',\n 'HCC1588',\n 'HCC1833',\n 'HCC2108',\n 'HCC2279',\n 'HCC2935',\n 'HCC33',\n 'HCC366',\n 'HCC4006',\n 'HCC44',\n 'HCC78',\n 'HCC827',\n 'HCC95',\n 'IALM',\n 'KNS62',\n 'LC1F',\n 'LC1SQSF',\n 'LCLC103H',\n 'LCLC97TM1',\n 'LK2',\n 'LOUNH91',\n 'LU65',\n 'LU99',\n 'LUDLU1',\n 'LXF289',\n 'MORCPR',\n 'NCIH1092',\n 'NCIH1105',\n 'NCIH1155',\n 'NCIH1184',\n 'NCIH1299',\n 'NCIH1339',\n 'NCIH1341',\n 'NCIH1355',\n 'NCIH1373',\n 'NCIH1385',\n 'NCIH1395',\n 'NCIH1435',\n 'NCIH146',\n 'NCIH1563',\n 'NCIH1568',\n 'NCIH1573',\n 'NCIH1581',\n 'NCIH1623',\n 'NCIH1650',\n 'NCIH1651',\n 'NCIH1666',\n 'NCIH1693',\n 'NCIH1694',\n 'NCIH1703',\n 'NCIH1734',\n 'NCIH1755',\n 'NCIH1792',\n 'NCIH1793',\n 'NCIH1838',\n 'NCIH1869',\n 'NCIH1915',\n 'NCIH1944',\n 'NCIH196',\n 'NCIH1975',\n 'NCIH2009',\n 'NCIH2023',\n 'NCIH2029',\n 'NCIH2030',\n 'NCIH2081',\n 'NCIH2085',\n 'NCIH2087',\n 'NCIH209',\n 'NCIH2106',\n 'NCIH211',\n 'NCIH2110',\n 'NCIH2122',\n 'NCIH2126',\n 'NCIH2141',\n 'NCIH2170',\n 'NCIH2171',\n 'NCIH2172',\n 'NCIH2196',\n 'NCIH2228',\n 'NCIH226',\n 'NCIH2286',\n 'NCIH2291',\n 'NCIH23',\n 'NCIH2342',\n 'NCIH2405',\n 'NCIH2444',\n 'NCIH292',\n 'NCIH322',\n 'NCIH358',\n 'NCIH441',\n 'NCIH446',\n 'NCIH460',\n 'NCIH510',\n 'NCIH520',\n 'NCIH522',\n 'NCIH524',\n 'NCIH526',\n 'NCIH647',\n 'NCIH650',\n 'NCIH661',\n 'NCIH69',\n 'NCIH727',\n 'NCIH810',\n 'NCIH838',\n 'NCIH841',\n 'NCIH889',\n 'PC14',\n 'RERFLCAD1',\n 'RERFLCAD2',\n 'RERFLCAI',\n 'RERFLCMS',\n 'SBC5',\n 'SCLC21H',\n 'SHP77',\n 'SKLU1',\n 'SKMES1',\n 'SQ1',\n 'SW1271',\n 'SW1573',\n 'T3M10',\n 'VMRCLCD',\n 'COLO680N',\n 'ECGI10',\n 'KYSE140',\n 'KYSE150',\n 'KYSE180',\n 'KYSE30',\n 'KYSE410',\n 'KYSE450',\n 'KYSE510',\n 'KYSE520',\n 'KYSE70',\n 'OE19',\n 'OE33',\n 'TE1',\n 'TE10',\n 'TE11',\n 'TE14',\n 'TE15',\n 'TE4',\n 'TE5',\n 'TE6',\n 'TE8',\n 'TE9',\n 'A2780',\n 'CAOV3',\n 'COV362',\n 'COV434',\n 'COV644',\n 'EFO21',\n 'EFO27',\n 'ES2',\n 'FUOV1',\n 'HEYA8',\n 'IGROV1',\n 'JHOC5',\n 'JHOM1',\n 'JHOS2',\n 'KURAMOCHI',\n 'MCAS',\n 'OAW28',\n 'OAW42',\n 'OC314',\n 'ONCODG1',\n 'OV56',\n 'OV7',\n 'OV90',\n 'OVCAR4',\n 'OVCAR8',\n 'OVISE',\n 'OVK18',\n 'OVSAHO',\n 'OVTOKO',\n 'RMGI',\n 'SKOV3',\n 'SNU119',\n 'SNU8',\n 'SNU840',\n 'TOV112D',\n 'TOV21G',\n 'TYKNU',\n 'ASPC1',\n 'BXPC3',\n 'CAPAN1',\n 'CAPAN2',\n 'CFPAC1',\n 'DANG',\n 'HPAC',\n 'HPAFII',\n 'HS766T',\n 'HUPT3',\n 'HUPT4',\n 'KP2',\n 'KP3',\n 'KP4',\n 'L33',\n 'MIAPACA2',\n 'PANC0203',\n 'PANC0327',\n 'PANC0403',\n 'PANC0504',\n 'PANC0813',\n 'PANC1',\n 'PANC1005',\n 'PATU8902',\n 'PATU8988S',\n 'PATU8988T',\n 'PK1',\n 'PK45H',\n 'PK59',\n 'PSN1',\n 'QGP1',\n 'SNU213',\n 'SNU410',\n 'SU8686',\n 'SUIT2',\n 'SW1990',\n 'TCCPAN2',\n 'YAPC',\n 'ACCMESO1',\n 'ISTMES1',\n 'JL1',\n 'MPP89',\n 'MSTO211H',\n 'NCIH2052',\n 'NCIH2452',\n 'NCIH28',\n '22RV1',\n 'DU145',\n 'LNCAPCLONEFGC',\n 'NCIH660',\n 'PC3',\n 'VCAP',\n 'A253',\n 'YD15',\n 'A101D',\n 'A2058',\n 'A375',\n 'C32',\n 'CJM',\n 'COLO741',\n 'COLO792',\n 'COLO800',\n 'COLO829',\n 'G361',\n 'HMCB',\n 'HS294T',\n 'HS688AT',\n 'HS839T',\n 'HS852T',\n 'HS895T',\n 'HS934T',\n 'HS936T',\n 'HS940T',\n 'HS944T',\n 'HT144',\n 'IGR1',\n 'IGR37',\n 'IGR39',\n 'IPC298',\n 'K029AX',\n 'LOXIMVI',\n 'MALME3M',\n 'MDAMB435S',\n 'MELHO',\n 'MELJUSO',\n 'MEWO',\n 'RPMI7951',\n 'RVH421',\n 'SH4',\n 'SKMEL1',\n 'SKMEL2',\n 'SKMEL24',\n 'SKMEL28',\n 'SKMEL3',\n 'SKMEL30',\n 'SKMEL31',\n 'SKMEL5',\n 'UACC257',\n 'UACC62',\n 'WM115',\n 'WM1799',\n 'WM2664',\n 'WM793',\n 'WM88',\n 'WM983B',\n 'A204',\n 'G401',\n 'G402',\n 'GCT',\n 'HS729',\n 'HT1080',\n 'KYM1',\n 'MESSA',\n 'RD',\n 'RH18',\n 'RH30',\n 'RH41',\n 'RKN',\n 'SKLMS1',\n 'SKUT1',\n 'TE441T',\n 'TE617T',\n '2313287',\n 'AGS',\n 'ECC10',\n 'ECC12',\n 'FU97',\n 'GSS',\n 'GSU',\n 'HGC27',\n 'HS746T',\n 'HUG1N',\n 'IM95',\n 'KATOIII',\n 'KE39',\n 'LMSU',\n 'MKN1',\n 'MKN45',\n 'MKN7',\n 'MKN74',\n 'NCCSTCK140',\n 'NCIN87',\n 'NUGC3',\n 'NUGC4',\n 'OCUM1',\n 'SH10TC',\n 'SNU1',\n 'SNU16',\n 'SNU216',\n 'SNU5',\n 'SNU601',\n 'SNU620',\n 'SNU668',\n 'SNU719',\n '8305C',\n '8505C',\n 'BCPAP',\n 'BHT101',\n 'CAL62',\n 'CGTHW1',\n 'FTC133',\n 'FTC238',\n 'ML1',\n 'SW579',\n 'TT',\n 'TT2609C02',\n 'BHY',\n 'BICR16',\n 'BICR18',\n 'BICR22',\n 'BICR31',\n 'BICR56',\n 'BICR6',\n 'CAL27',\n 'CAL33',\n 'DETROIT562',\n 'FADU',\n 'HSC2',\n 'HSC3',\n 'HSC4',\n 'PECAPJ15',\n 'PECAPJ34CLONEC12',\n 'PECAPJ41CLONED2',\n 'PECAPJ49',\n 'SCC25',\n 'SCC4',\n 'SCC9',\n 'SNU1041',\n 'SNU1066',\n 'SNU1076',\n 'SNU1214',\n 'SNU46',\n 'SNU899',\n 'YD10B',\n 'YD38',\n 'YD8',\n '253J',\n '253JBV',\n '5637',\n '639V',\n '647V',\n 'BC3C',\n 'BFTC905',\n 'CAL29',\n 'HT1197',\n 'HT1376',\n 'J82',\n 'JMSU1',\n 'KMBC2',\n 'KU1919',\n 'RT112',\n 'RT4',\n 'SCABER',\n 'SW1710',\n 'T24',\n 'TCCSUP',\n 'UBLC1',\n 'UMUC1',\n 'UMUC3',\n 'VMCUB1']"
     },
     "execution_count": 415,
     "metadata": {},
     "output_type": "execute_result"
    }
   ],
   "source": [
    "cell3"
   ]
  },
  {
   "cell_type": "markdown",
   "metadata": {},
   "source": [
    "## It seems like the Pozdeyev data isn't too good regarding gene expression data, therefore I try to download the ctrp data directly"
   ]
  },
  {
   "cell_type": "code",
   "execution_count": 402,
   "metadata": {},
   "outputs": [],
   "source": [
    "lo2 = pd.read_csv('data/ctrp2.csv', sep=';')"
   ]
  },
  {
   "cell_type": "code",
   "execution_count": 403,
   "metadata": {},
   "outputs": [],
   "source": [
    "lo = lo2['ccl_name']"
   ]
  },
  {
   "cell_type": "code",
   "execution_count": 404,
   "metadata": {},
   "outputs": [
    {
     "data": {
      "text/plain": "8"
     },
     "execution_count": 404,
     "metadata": {},
     "output_type": "execute_result"
    }
   ],
   "source": [
    "miss = []\n",
    "for ccl in lo:\n",
    "    if ccl not in cell2:\n",
    "        miss.append(ccl)\n",
    "len(miss)"
   ]
  },
  {
   "cell_type": "code",
   "execution_count": 411,
   "metadata": {},
   "outputs": [
    {
     "data": {
      "text/plain": "{'1\\xa0MKN',\n '45\\xa0MKN',\n '74\\xa0MKN',\n '7\\xa0MCF',\n '7\\xa0MKN',\n 'H292',\n 'TTTHYROID'}"
     },
     "execution_count": 411,
     "metadata": {},
     "output_type": "execute_result"
    }
   ],
   "source": [
    "set(miss)"
   ]
  },
  {
   "cell_type": "code",
   "execution_count": null,
   "metadata": {},
   "outputs": [],
   "source": []
  },
  {
   "cell_type": "code",
   "execution_count": 409,
   "metadata": {},
   "outputs": [],
   "source": [
    "dif = ['MCF7', 'NCIH292', 'MKN74', 'MKN1', 'MKN45', 'MKN7', 'TT']\n",
    "for i in set(miss):\n",
    "    "
   ]
  },
  {
   "cell_type": "code",
   "execution_count": 438,
   "metadata": {},
   "outputs": [
    {
     "data": {
      "text/html": "<div>\n<style scoped>\n    .dataframe tbody tr th:only-of-type {\n        vertical-align: middle;\n    }\n\n    .dataframe tbody tr th {\n        vertical-align: top;\n    }\n\n    .dataframe thead th {\n        text-align: right;\n    }\n</style>\n<table border=\"1\" class=\"dataframe\">\n  <thead>\n    <tr style=\"text-align: right;\">\n      <th></th>\n      <th>master_ccl_id</th>\n      <th>ccl_name</th>\n      <th>ccle_primary_site</th>\n      <th>ccle_primary_hist</th>\n      <th>ccle_hist_subtype_1</th>\n    </tr>\n  </thead>\n  <tbody>\n    <tr>\n      <th>0</th>\n      <td>1</td>\n      <td>697</td>\n      <td>haematopoietic_and_lymphoid_tissue</td>\n      <td>lymphoid_neoplasm</td>\n      <td>acute_lymphoblastic_B_cell_leukaemia</td>\n    </tr>\n    <tr>\n      <th>1</th>\n      <td>3</td>\n      <td>5637</td>\n      <td>urinary_tract</td>\n      <td>carcinoma</td>\n      <td>NaN</td>\n    </tr>\n    <tr>\n      <th>2</th>\n      <td>4</td>\n      <td>2313287</td>\n      <td>stomach</td>\n      <td>carcinoma</td>\n      <td>adenocarcinoma</td>\n    </tr>\n    <tr>\n      <th>3</th>\n      <td>7</td>\n      <td>22RV1</td>\n      <td>prostate</td>\n      <td>carcinoma</td>\n      <td>NaN</td>\n    </tr>\n    <tr>\n      <th>4</th>\n      <td>8</td>\n      <td>253J</td>\n      <td>urinary_tract</td>\n      <td>carcinoma</td>\n      <td>transitional_cell_carcinoma</td>\n    </tr>\n    <tr>\n      <th>...</th>\n      <td>...</td>\n      <td>...</td>\n      <td>...</td>\n      <td>...</td>\n      <td>...</td>\n    </tr>\n    <tr>\n      <th>830</th>\n      <td>155511</td>\n      <td>NCIH2291</td>\n      <td>lung</td>\n      <td>carcinoma</td>\n      <td>adenocarcinoma</td>\n    </tr>\n    <tr>\n      <th>831</th>\n      <td>155513</td>\n      <td>NCIH2342</td>\n      <td>lung</td>\n      <td>carcinoma</td>\n      <td>adenocarcinoma</td>\n    </tr>\n    <tr>\n      <th>832</th>\n      <td>155518</td>\n      <td>NCIH2405</td>\n      <td>lung</td>\n      <td>carcinoma</td>\n      <td>adenocarcinoma</td>\n    </tr>\n    <tr>\n      <th>833</th>\n      <td>155519</td>\n      <td>NCIH2444</td>\n      <td>lung</td>\n      <td>carcinoma</td>\n      <td>non_small_cell_carcinoma</td>\n    </tr>\n    <tr>\n      <th>834</th>\n      <td>155520</td>\n      <td>NCIH2452</td>\n      <td>pleura</td>\n      <td>mesothelioma</td>\n      <td>NaN</td>\n    </tr>\n  </tbody>\n</table>\n<p>835 rows × 5 columns</p>\n</div>",
      "text/plain": "     master_ccl_id  ccl_name                   ccle_primary_site  \\\n0                1       697  haematopoietic_and_lymphoid_tissue   \n1                3      5637                       urinary_tract   \n2                4   2313287                             stomach   \n3                7     22RV1                            prostate   \n4                8      253J                       urinary_tract   \n..             ...       ...                                 ...   \n830         155511  NCIH2291                                lung   \n831         155513  NCIH2342                                lung   \n832         155518  NCIH2405                                lung   \n833         155519  NCIH2444                                lung   \n834         155520  NCIH2452                              pleura   \n\n     ccle_primary_hist                   ccle_hist_subtype_1  \n0    lymphoid_neoplasm  acute_lymphoblastic_B_cell_leukaemia  \n1            carcinoma                                   NaN  \n2            carcinoma                        adenocarcinoma  \n3            carcinoma                                   NaN  \n4            carcinoma           transitional_cell_carcinoma  \n..                 ...                                   ...  \n830          carcinoma                        adenocarcinoma  \n831          carcinoma                        adenocarcinoma  \n832          carcinoma                        adenocarcinoma  \n833          carcinoma              non_small_cell_carcinoma  \n834       mesothelioma                                   NaN  \n\n[835 rows x 5 columns]"
     },
     "execution_count": 438,
     "metadata": {},
     "output_type": "execute_result"
    }
   ],
   "source": [
    "g = pd.read_csv('data/CTRP/ctrp_g.csv', sep='\\t')\n",
    "g"
   ]
  },
  {
   "cell_type": "code",
   "execution_count": 433,
   "metadata": {},
   "outputs": [],
   "source": [
    "ge = pd.read_csv('data/CTRP/ctrp_ge.csv', sep='\\t')"
   ]
  },
  {
   "cell_type": "code",
   "execution_count": 447,
   "metadata": {},
   "outputs": [
    {
     "name": "stdout",
     "output_type": "stream",
     "text": "0\n"
    }
   ],
   "source": [
    "miss = []\n",
    "for i in g['ccl_name'].unique():\n",
    "    if i not in poz:\n",
    "        miss.append(i)\n",
    "\n",
    "print(len(miss))"
   ]
  },
  {
   "cell_type": "code",
   "execution_count": 445,
   "metadata": {},
   "outputs": [
    {
     "data": {
      "text/plain": "887"
     },
     "execution_count": 445,
     "metadata": {},
     "output_type": "execute_result"
    }
   ],
   "source": [
    "len(poz)"
   ]
  },
  {
   "cell_type": "code",
   "execution_count": 446,
   "metadata": {},
   "outputs": [
    {
     "data": {
      "text/plain": "835"
     },
     "execution_count": 446,
     "metadata": {},
     "output_type": "execute_result"
    }
   ],
   "source": [
    "len(g['ccl_name'].unique())"
   ]
  },
  {
   "cell_type": "code",
   "execution_count": null,
   "metadata": {},
   "outputs": [],
   "source": []
  }
 ],
 "metadata": {
  "kernelspec": {
   "display_name": "Python 3",
   "language": "python",
   "name": "python3"
  },
  "language_info": {
   "codemirror_mode": {
    "name": "ipython",
    "version": 3
   },
   "file_extension": ".py",
   "mimetype": "text/x-python",
   "name": "python",
   "nbconvert_exporter": "python",
   "pygments_lexer": "ipython3",
   "version": "3.7.6-final"
  }
 },
 "nbformat": 4,
 "nbformat_minor": 4
}