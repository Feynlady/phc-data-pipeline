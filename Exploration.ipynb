{
 "cells": [
  {
   "cell_type": "code",
   "execution_count": 244,
   "metadata": {},
   "outputs": [],
   "source": [
    "import pandas as pd\n",
    "import seaborn as sns\n",
    "import matplotlib.pyplot as plt"
   ]
  },
  {
   "cell_type": "code",
   "execution_count": null,
   "metadata": {},
   "outputs": [],
   "source": []
  },
  {
   "cell_type": "markdown",
   "metadata": {},
   "source": [
    "# Missing data GDSC"
   ]
  },
  {
   "cell_type": "code",
   "execution_count": 32,
   "metadata": {},
   "outputs": [],
   "source": [
    "gdsc_dr = pd.read_csv('data/gdsc_metrics.csv').rename(columns={'Cell_line':'CCL'})\n",
    "gdsc_ge = pd.read_csv('data/gdsc_exp.csv', sep='\\t').rename(columns={'Unnamed: 0':'CCL'}).set_index('CCL').transpose()\n",
    "new = pd.read_csv('data/gdsc_new.csv').rename(columns={'CELL_LINE_NAME':'CCL'})\n",
    "new['CCL'] = new['CCL'].str.replace('-', '').str.replace(' ','').str.upper()"
   ]
  },
  {
   "cell_type": "code",
   "execution_count": 173,
   "metadata": {},
   "outputs": [
    {
     "name": "stdout",
     "output_type": "stream",
     "text": "707 different CCLs in Pozdeyev's data\n"
    }
   ],
   "source": [
    "print(str(len(gdsc_dr['CCL'].unique())) + ' different CCLs in Pozdeyev\\'s data')"
   ]
  },
  {
   "cell_type": "code",
   "execution_count": 174,
   "metadata": {},
   "outputs": [
    {
     "name": "stdout",
     "output_type": "stream",
     "text": "139 different Drugs in Pozdeyev's data\n"
    }
   ],
   "source": [
    "print(str(len(gdsc_dr['Drug_name'].unique())) + ' different Drugs in Pozdeyev\\'s data')"
   ]
  },
  {
   "cell_type": "code",
   "execution_count": 175,
   "metadata": {},
   "outputs": [
    {
     "name": "stdout",
     "output_type": "stream",
     "text": "808 different CCLs in new data\n"
    }
   ],
   "source": [
    "print(str(len(new['CCL'].unique())) + ' different CCLs in new data')"
   ]
  },
  {
   "cell_type": "code",
   "execution_count": 176,
   "metadata": {},
   "outputs": [
    {
     "name": "stdout",
     "output_type": "stream",
     "text": "200 different Drugs in new data\n"
    }
   ],
   "source": [
    "print(str(len(new['DRUG_ID'].unique())) + ' different Drugs in new data')"
   ]
  },
  {
   "cell_type": "markdown",
   "metadata": {},
   "source": [
    "### Deletes the - from CCL ID to normalize format"
   ]
  },
  {
   "cell_type": "code",
   "execution_count": 112,
   "metadata": {},
   "outputs": [],
   "source": [
    "def clean(s):\n",
    "    new = []\n",
    "    for i in s:\n",
    "        new.append(re.sub(\"[^A-Za-z0-9]\", '', i).upper())\n",
    "    return new"
   ]
  },
  {
   "cell_type": "code",
   "execution_count": null,
   "metadata": {},
   "outputs": [],
   "source": [
    "def trim(s):\n",
    "    "
   ]
  },
  {
   "cell_type": "code",
   "execution_count": 197,
   "metadata": {},
   "outputs": [],
   "source": [
    "poz_r = list(gdsc_dr['CCL'].unique())\n",
    "cell_r = list(gdsc_ge.index.to_series().reset_index()[0])\n",
    "gdsc_r = list(pd.Series(new['CCL'].unique()))\n",
    "\n",
    "cell = clean(cell_r)\n",
    "poz = clean(poz_r)\n",
    "gdsc = clean(gdsc_r)"
   ]
  },
  {
   "cell_type": "markdown",
   "metadata": {},
   "source": [
    "Pozdeyev's CCLs missing from CellMinerCDB"
   ]
  },
  {
   "cell_type": "code",
   "execution_count": 198,
   "metadata": {},
   "outputs": [
    {
     "data": {
      "text/plain": "8"
     },
     "execution_count": 198,
     "metadata": {},
     "output_type": "execute_result"
    }
   ],
   "source": [
    "miss1 = []\n",
    "for ccl in poz:\n",
    "    if ccl not in cell:\n",
    "        miss1.append(ccl)\n",
    "len(miss1)"
   ]
  },
  {
   "cell_type": "markdown",
   "metadata": {},
   "source": [
    "New data CCLs missing from CellMinerCDB"
   ]
  },
  {
   "cell_type": "code",
   "execution_count": 206,
   "metadata": {},
   "outputs": [
    {
     "data": {
      "text/plain": "19"
     },
     "execution_count": 206,
     "metadata": {},
     "output_type": "execute_result"
    }
   ],
   "source": [
    "miss2 = []\n",
    "for ccl in gdsc:\n",
    "    if ccl not in cell:\n",
    "        miss2.append(ccl)\n",
    "len(miss2)"
   ]
  },
  {
   "cell_type": "code",
   "execution_count": 208,
   "metadata": {},
   "outputs": [],
   "source": [
    "gdsc2 = {k:re.sub(\"[^A-Za-z0-9]\", '', k) for k in gdsc_r if re.sub(\"[^A-Za-z0-9]\", '', k).upper() not in miss2}"
   ]
  },
  {
   "cell_type": "markdown",
   "metadata": {},
   "source": [
    "These rules are made by looking at the 'missing' CCLs that turned out to simply have different names"
   ]
  },
  {
   "cell_type": "code",
   "execution_count": 210,
   "metadata": {},
   "outputs": [],
   "source": [
    "for i in miss2:\n",
    "    if i[0:3]=='NCI':\n",
    "        gdsc2[i] = i.lstrip('NCI')\n",
    "    elif i[0:3]=='SNU':\n",
    "        gdsc2[i] = 'NCI' + i\n"
   ]
  },
  {
   "cell_type": "code",
   "execution_count": 211,
   "metadata": {},
   "outputs": [],
   "source": [
    "gdsc2['NTERA2CLD1'] = ('NTERASCLD1')"
   ]
  },
  {
   "cell_type": "code",
   "execution_count": 268,
   "metadata": {},
   "outputs": [],
   "source": [
    "new['CCL'] = new['CCL'].replace(gdsc2)"
   ]
  },
  {
   "cell_type": "markdown",
   "metadata": {},
   "source": [
    "Same is done now for Pozdayev's data.\n",
    "\n",
    "## One question, I turn TTTHYROID into TT because of [this](https://web.expasy.org/cellosaurus/CVCL_1774). Not quite sure, let's maybe discuss it."
   ]
  },
  {
   "cell_type": "code",
   "execution_count": 215,
   "metadata": {},
   "outputs": [],
   "source": [
    "poz2 = {k:re.sub(\"[^A-Za-z0-9]\", '', k) for k in poz_r if re.sub(\"[^A-Za-z0-9]\", '', k).upper() not in miss1}"
   ]
  },
  {
   "cell_type": "code",
   "execution_count": 266,
   "metadata": {},
   "outputs": [],
   "source": [
    "missv = ['7860', 'COLO320HSR','KNS81FD', 'EOL1CELL', 'NCIH510A','TT' , 'U266', 'U031']\n",
    "for i, ele in enumerate(miss1):\n",
    "    poz2[ele] = missv[i]"
   ]
  },
  {
   "cell_type": "code",
   "execution_count": 267,
   "metadata": {},
   "outputs": [
    {
     "data": {
      "text/plain": "{'22RV1': '22RV1',\n '2313287': '2313287',\n '5637': '5637',\n '639V': '639V',\n '647V': '647V',\n '697': '697',\n '769P': '769P',\n '8305C': '8305C',\n '8505C': '8505C',\n '8MGBA': '8MGBA',\n 'A101D': 'A101D',\n 'A172': 'A172',\n 'A204': 'A204',\n 'A2058': 'A2058',\n 'A253': 'A253',\n 'A2780': 'A2780',\n 'A375': 'A375',\n 'A388': 'A388',\n 'A3KAW': 'A3KAW',\n 'A427': 'A427',\n 'A431': 'A431',\n 'A498': 'A498',\n 'A4FUK': 'A4FUK',\n 'A549': 'A549',\n 'A673': 'A673',\n 'A704': 'A704',\n 'ABC1': 'ABC1',\n 'ACHN': 'ACHN',\n 'ACN': 'ACN',\n 'AGS': 'AGS',\n 'ALLPO': 'ALLPO',\n 'AM38': 'AM38',\n 'AN3CA': 'AN3CA',\n 'ARH77': 'ARH77',\n 'ASPC1': 'ASPC1',\n 'ATN1': 'ATN1',\n 'AU565': 'AU565',\n 'BALL1': 'BALL1',\n 'BB30HNC': 'BB30HNC',\n 'BB49HNC': 'BB49HNC',\n 'BB65RCC': 'BB65RCC',\n 'BC1': 'BC1',\n 'BCPAP': 'BCPAP',\n 'BE13': 'BE13',\n 'BECKER': 'BECKER',\n 'BEN': 'BEN',\n 'BFTC905': 'BFTC905',\n 'BFTC909': 'BFTC909',\n 'BHT101': 'BHT101',\n 'BHY': 'BHY',\n 'BL41': 'BL41',\n 'BOKU': 'BOKU',\n 'BPH1': 'BPH1',\n 'BT20': 'BT20',\n 'BT474': 'BT474',\n 'BT549': 'BT549',\n 'BV173': 'BV173',\n 'BXPC3': 'BXPC3',\n 'C2BBE1': 'C2BBE1',\n 'C32': 'C32',\n 'C33A': 'C33A',\n 'C3A': 'C3A',\n 'CA46': 'CA46',\n 'Ca922': 'Ca922',\n 'CAKI1': 'CAKI1',\n 'CAL120': 'CAL120',\n 'CAL12T': 'CAL12T',\n 'CAL27': 'CAL27',\n 'CAL33': 'CAL33',\n 'CAL39': 'CAL39',\n 'CAL51': 'CAL51',\n 'CAL54': 'CAL54',\n 'CAL62': 'CAL62',\n 'CAL72': 'CAL72',\n 'CAL851': 'CAL851',\n 'CALU3': 'CALU3',\n 'CALU6': 'CALU6',\n 'CAMA1': 'CAMA1',\n 'Caov4': 'Caov4',\n 'CAPAN1': 'CAPAN1',\n 'CAPAN2': 'CAPAN2',\n 'CaR1': 'CaR1',\n 'CAS1': 'CAS1',\n 'CaSki': 'CaSki',\n 'CCFSTTG1': 'CCFSTTG1',\n 'CCRFCEM': 'CCRFCEM',\n 'CESS': 'CESS',\n 'CFPAC1': 'CFPAC1',\n 'CGTHW1': 'CGTHW1',\n 'CHAGOK1': 'CHAGOK1',\n 'CHL1': 'CHL1',\n 'CHP126': 'CHP126',\n 'CHP134': 'CHP134',\n 'CHP212': 'CHP212',\n 'CMK': 'CMK',\n 'COLO205': 'COLO205',\n 'COLO668': 'COLO668',\n 'COLO678': 'COLO678',\n 'COLO679': 'COLO679',\n 'COLO680N': 'COLO680N',\n 'COLO684': 'COLO684',\n 'COLO741': 'COLO741',\n 'COLO792': 'COLO792',\n 'COLO800': 'COLO800',\n 'COLO824': 'COLO824',\n 'COLO829': 'COLO829',\n 'CORL105': 'CORL105',\n 'CORL23': 'CORL23',\n 'CORL279': 'CORL279',\n 'CORL88': 'CORL88',\n 'CP50MELB': 'CP50MELB',\n 'CP66MEL': 'CP66MEL',\n 'CPCN': 'CPCN',\n 'CROAP2': 'CROAP2',\n 'CTB1': 'CTB1',\n 'CTV1': 'CTV1',\n 'CW2': 'CW2',\n 'D247MG': 'D247MG',\n 'D263MG': 'D263MG',\n 'D283MED': 'D283MED',\n 'D336MG': 'D336MG',\n 'D392MG': 'D392MG',\n 'D423MG': 'D423MG',\n 'D502MG': 'D502MG',\n 'D542MG': 'D542MG',\n 'D566MG': 'D566MG',\n 'DAOY': 'DAOY',\n 'DAUDI': 'DAUDI',\n 'DB': 'DB',\n 'DBTRG05MG': 'DBTRG05MG',\n 'DEL': 'DEL',\n 'DETROIT562': 'DETROIT562',\n 'DG75': 'DG75',\n 'DJM1': 'DJM1',\n 'DKMG': 'DKMG',\n 'DMS114': 'DMS114',\n 'DMS273': 'DMS273',\n 'DMS53': 'DMS53',\n 'DMS79': 'DMS79',\n 'DOHH2': 'DOHH2',\n 'DOK': 'DOK',\n 'DoTc24510': 'DoTc24510',\n 'DSH1': 'DSH1',\n 'DU145': 'DU145',\n 'DU4475': 'DU4475',\n 'EB2': 'EB2',\n 'EB3': 'EB3',\n 'ECC10': 'ECC10',\n 'ECGI10': 'ECGI10',\n 'EFE184': 'EFE184',\n 'EFM19': 'EFM19',\n 'EFO21': 'EFO21',\n 'EFO27': 'EFO27',\n 'EGI1': 'EGI1',\n 'EKVX': 'EKVX',\n 'EM2': 'EM2',\n 'EPLC272H': 'EPLC272H',\n 'ES1': 'ES1',\n 'ES3': 'ES3',\n 'ES4': 'ES4',\n 'ES5': 'ES5',\n 'ES6': 'ES6',\n 'ES7': 'ES7',\n 'ES8': 'ES8',\n 'ESS1': 'ESS1',\n 'ETK1': 'ETK1',\n 'EVSAT': 'EVSAT',\n 'EW1': 'EW1',\n 'EW11': 'EW11',\n 'EW13': 'EW13',\n 'EW16': 'EW16',\n 'EW18': 'EW18',\n 'EW22': 'EW22',\n 'EW24': 'EW24',\n 'EW3': 'EW3',\n 'EW7': 'EW7',\n 'FADU': 'FADU',\n 'FTC133': 'FTC133',\n 'G361': 'G361',\n 'G401': 'G401',\n 'G402': 'G402',\n 'GAK': 'GAK',\n 'GAMG': 'GAMG',\n 'GB1': 'GB1',\n 'GCIY': 'GCIY',\n 'GCT': 'GCT',\n 'GDM1': 'GDM1',\n 'GI1': 'GI1',\n 'GIMEN': 'GIMEN',\n 'GMS10': 'GMS10',\n 'GOTO': 'GOTO',\n 'GP5d': 'GP5d',\n 'GRST': 'GRST',\n 'GT3TKB': 'GT3TKB',\n 'H4': 'H4',\n 'H9': 'H9',\n 'HAL01': 'HAL01',\n 'HC1': 'HC1',\n 'HCC1143': 'HCC1143',\n 'HCC1187': 'HCC1187',\n 'HCC1395': 'HCC1395',\n 'HCC1419': 'HCC1419',\n 'HCC1569': 'HCC1569',\n 'HCC1806': 'HCC1806',\n 'HCC1937': 'HCC1937',\n 'HCC1954': 'HCC1954',\n 'HCC2157': 'HCC2157',\n 'HCC2218': 'HCC2218',\n 'HCC2998': 'HCC2998',\n 'HCC38': 'HCC38',\n 'HCC70': 'HCC70',\n 'HCE4': 'HCE4',\n 'HCT116': 'HCT116',\n 'HCT15': 'HCT15',\n 'HDLM2': 'HDLM2',\n 'HDMYZ': 'HDMYZ',\n 'HEC1': 'HEC1',\n 'HEL': 'HEL',\n 'HEMCSS': 'HEMCSS',\n 'HGC27': 'HGC27',\n 'HH': 'HH',\n 'HL60': 'HL60',\n 'HLE': 'HLE',\n 'HMVII': 'HMVII',\n 'HN': 'HN',\n 'HO1N1': 'HO1N1',\n 'HOP62': 'HOP62',\n 'HOP92': 'HOP92',\n 'HOS': 'HOS',\n 'HPAFII': 'HPAFII',\n 'HS578T': 'HS578T',\n 'HSC2': 'HSC2',\n 'HSC3': 'HSC3',\n 'HT': 'HT',\n 'HT1080': 'HT1080',\n 'HT1197': 'HT1197',\n 'HT1376': 'HT1376',\n 'HT144': 'HT144',\n 'HT29': 'HT29',\n 'HT3': 'HT3',\n 'HT55': 'HT55',\n 'HTCC3': 'HTCC3',\n 'HUCCT1': 'HUCCT1',\n 'HUH7': 'HUH7',\n 'HUO3N1': 'HUO3N1',\n 'HUO9': 'HUO9',\n 'HUPT3': 'HUPT3',\n 'HUPT4': 'HUPT4',\n 'HUTU80': 'HUTU80',\n 'IALM': 'IALM',\n 'IGR1': 'IGR1',\n 'IGROV1': 'IGROV1',\n 'IM9': 'IM9',\n 'IMR5': 'IMR5',\n 'IPC298': 'IPC298',\n 'ISTMEL1': 'ISTMEL1',\n 'ISTMES1': 'ISTMES1',\n 'ISTSL1': 'ISTSL1',\n 'ISTSL2': 'ISTSL2',\n 'J82': 'J82',\n 'JAR': 'JAR',\n 'JEG3': 'JEG3',\n 'JiyoyeP2003': 'JiyoyeP2003',\n 'JRT3T35': 'JRT3T35',\n 'JVM2': 'JVM2',\n 'JVM3': 'JVM3',\n 'K5': 'K5',\n 'K562': 'K562',\n 'KALS1': 'KALS1',\n 'KARPAS299': 'KARPAS299',\n 'KARPAS422': 'KARPAS422',\n 'KARPAS45': 'KARPAS45',\n 'KE37': 'KE37',\n 'KG1': 'KG1',\n 'KGN': 'KGN',\n 'KINGS1': 'KINGS1',\n 'KLE': 'KLE',\n 'KM12': 'KM12',\n 'KMH2': 'KMH2',\n 'KMOE2': 'KMOE2',\n 'KNS42': 'KNS42',\n 'KNS62': 'KNS62',\n 'KOSC2': 'KOSC2',\n 'KP4': 'KP4',\n 'KPNYN': 'KPNYN',\n 'KPNYS': 'KPNYS',\n 'KS1': 'KS1',\n 'KU1919': 'KU1919',\n 'KU812': 'KU812',\n 'KURAMOCHI': 'KURAMOCHI',\n 'KY821': 'KY821',\n 'KYSE140': 'KYSE140',\n 'KYSE150': 'KYSE150',\n 'KYSE180': 'KYSE180',\n 'KYSE270': 'KYSE270',\n 'KYSE410': 'KYSE410',\n 'KYSE450': 'KYSE450',\n 'KYSE510': 'KYSE510',\n 'KYSE520': 'KYSE520',\n 'KYSE70': 'KYSE70',\n 'L363': 'L363',\n 'L428': 'L428',\n 'L540': 'L540',\n 'LAMA84': 'LAMA84',\n 'LAN6': 'LAN6',\n 'LB1047RCC': 'LB1047RCC',\n 'LB2241RCC': 'LB2241RCC',\n 'LB2518MEL': 'LB2518MEL',\n 'LB373MELD': 'LB373MELD',\n 'LB771HNC': 'LB771HNC',\n 'LB831BLC': 'LB831BLC',\n 'LB996RCC': 'LB996RCC',\n 'LC2ad': 'LC2ad',\n 'LC41': 'LC41',\n 'LCLC103H': 'LCLC103H',\n 'LCLC97TM1': 'LCLC97TM1',\n 'LK2': 'LK2',\n 'LN405': 'LN405',\n 'LNCAPCLONEFGC': 'LNCAPCLONEFGC',\n 'LOUCY': 'LOUCY',\n 'LOVO': 'LOVO',\n 'LOXIMVI': 'LOXIMVI',\n 'LP1': 'LP1',\n 'LS1034': 'LS1034',\n 'LS123': 'LS123',\n 'LS411N': 'LS411N',\n 'LS513': 'LS513',\n 'LU134A': 'LU134A',\n 'LU135': 'LU135',\n 'LU139': 'LU139',\n 'LU165': 'LU165',\n 'LU65': 'LU65',\n 'LU99A': 'LU99A',\n 'LXF289': 'LXF289',\n 'M059J': 'M059J',\n 'M14': 'M14',\n 'MC116': 'MC116',\n 'MCCAR': 'MCCAR',\n 'MCF7': 'MCF7',\n 'MCIXC': 'MCIXC',\n 'MDAMB157': 'MDAMB157',\n 'MDAMB175VII': 'MDAMB175VII',\n 'MDAMB231': 'MDAMB231',\n 'MDAMB361': 'MDAMB361',\n 'MDAMB415': 'MDAMB415',\n 'MDAMB453': 'MDAMB453',\n 'MDAMB468': 'MDAMB468',\n 'ME180': 'ME180',\n 'MEG01': 'MEG01',\n 'MELHO': 'MELHO',\n 'MELJUSO': 'MELJUSO',\n 'MESSA': 'MESSA',\n 'MEWO': 'MEWO',\n 'MFE280': 'MFE280',\n 'MFE296': 'MFE296',\n 'MFHino': 'MFHino',\n 'MFM223': 'MFM223',\n 'MG63': 'MG63',\n 'MHHCALL2': 'MHHCALL2',\n 'MHHES1': 'MHHES1',\n 'MHHNB11': 'MHHNB11',\n 'MHHPREB1': 'MHHPREB1',\n 'MIAPACA2': 'MIAPACA2',\n 'MKN1': 'MKN1',\n 'MKN28': 'MKN28',\n 'MKN45': 'MKN45',\n 'MKN7': 'MKN7',\n 'ML2': 'ML2',\n 'MLMA': 'MLMA',\n 'MMACSF': 'MMACSF',\n 'MN60': 'MN60',\n 'MOLT13': 'MOLT13',\n 'MOLT16': 'MOLT16',\n 'MOLT4': 'MOLT4',\n 'MONOMAC6': 'MONOMAC6',\n 'MoT': 'MoT',\n 'MPP89': 'MPP89',\n 'MRKnu1': 'MRKnu1',\n 'MS1': 'MS1',\n 'MSTO211H': 'MSTO211H',\n 'MV411': 'MV411',\n 'MZ1PC': 'MZ1PC',\n 'MZ2MEL': 'MZ2MEL',\n 'MZ7mel': 'MZ7mel',\n 'NALM6': 'NALM6',\n 'NB1': 'NB1',\n 'NB10': 'NB10',\n 'NB12': 'NB12',\n 'NB13': 'NB13',\n 'NB14': 'NB14',\n 'NB17': 'NB17',\n 'NB5': 'NB5',\n 'NB6': 'NB6',\n 'NB69': 'NB69',\n 'NB7': 'NB7',\n 'NBsusSR': 'NBsusSR',\n 'NCIH1048': 'NCIH1048',\n 'NCIH1092': 'NCIH1092',\n 'NCIH1155': 'NCIH1155',\n 'NCIH1299': 'NCIH1299',\n 'NCIH1304': 'NCIH1304',\n 'NCIH1355': 'NCIH1355',\n 'NCIH1395': 'NCIH1395',\n 'NCIH1437': 'NCIH1437',\n 'NCIH1563': 'NCIH1563',\n 'NCIH1573': 'NCIH1573',\n 'NCIH1581': 'NCIH1581',\n 'NCIH1623': 'NCIH1623',\n 'NCIH1648': 'NCIH1648',\n 'NCIH1650': 'NCIH1650',\n 'NCIH1651': 'NCIH1651',\n 'NCIH1666': 'NCIH1666',\n 'NCIH1693': 'NCIH1693',\n 'NCIH1694': 'NCIH1694',\n 'NCIH1703': 'NCIH1703',\n 'NCIH1755': 'NCIH1755',\n 'NCIH1770': 'NCIH1770',\n 'NCIH1792': 'NCIH1792',\n 'NCIH1793': 'NCIH1793',\n 'NCIH1838': 'NCIH1838',\n 'NCIH187': 'NCIH187',\n 'NCIH1975': 'NCIH1975',\n 'NCIH1993': 'NCIH1993',\n 'NCIH2009': 'NCIH2009',\n 'NCIH2029': 'NCIH2029',\n 'NCIH2030': 'NCIH2030',\n 'NCIH2052': 'NCIH2052',\n 'NCIH2087': 'NCIH2087',\n 'NCIH209': 'NCIH209',\n 'NCIH2122': 'NCIH2122',\n 'NCIH2126': 'NCIH2126',\n 'NCIH2141': 'NCIH2141',\n 'NCIH2170': 'NCIH2170',\n 'NCIH2227': 'NCIH2227',\n 'NCIH2228': 'NCIH2228',\n 'NCIH226': 'NCIH226',\n 'NCIH2291': 'NCIH2291',\n 'NCIH23': 'NCIH23',\n 'NCIH2342': 'NCIH2342',\n 'NCIH2347': 'NCIH2347',\n 'NCIH2405': 'NCIH2405',\n 'NCIH2452': 'NCIH2452',\n 'NCIH28': 'NCIH28',\n 'NCIH292': 'NCIH292',\n 'NCIH322M': 'NCIH322M',\n 'NCIH345': 'NCIH345',\n 'NCIH358': 'NCIH358',\n 'NCIH441': 'NCIH441',\n 'NCIH446': 'NCIH446',\n 'NCIH460': 'NCIH460',\n 'NCIH520': 'NCIH520',\n 'NCIH522': 'NCIH522',\n 'NCIH524': 'NCIH524',\n 'NCIH526': 'NCIH526',\n 'NCIH596': 'NCIH596',\n 'NCIH630': 'NCIH630',\n 'NCIH650': 'NCIH650',\n 'NCIH661': 'NCIH661',\n 'NCIH69': 'NCIH69',\n 'NCIH720': 'NCIH720',\n 'NCIH727': 'NCIH727',\n 'NCIH747': 'NCIH747',\n 'NCIH810': 'NCIH810',\n 'NCIH82': 'NCIH82',\n 'NCIH838': 'NCIH838',\n 'NCIN87': 'NCIN87',\n 'NCISNU1': 'NCISNU1',\n 'NCISNU16': 'NCISNU16',\n 'NCISNU5': 'NCISNU5',\n 'NEC8': 'NEC8',\n 'NH12': 'NH12',\n 'NKM1': 'NKM1',\n 'NMCG1': 'NMCG1',\n 'no10': 'no10',\n 'no11': 'no11',\n 'NOMO1': 'NOMO1',\n 'NOS1': 'NOS1',\n 'NTERASclD1': 'NTERASclD1',\n 'NUGC3': 'NUGC3',\n 'NY': 'NY',\n 'OAW28': 'OAW28',\n 'OAW42': 'OAW42',\n 'OC314': 'OC314',\n 'OCIAML2': 'OCIAML2',\n 'OCUBM': 'OCUBM',\n 'OE19': 'OE19',\n 'OE33': 'OE33',\n 'OMC1': 'OMC1',\n 'ONS76': 'ONS76',\n 'OPM2': 'OPM2',\n 'OSRC2': 'OSRC2',\n 'OVCAR3': 'OVCAR3',\n 'OVCAR4': 'OVCAR4',\n 'OVCAR5': 'OVCAR5',\n 'OVCAR8': 'OVCAR8',\n 'P12ICHIKAWA': 'P12ICHIKAWA',\n 'P30OHK': 'P30OHK',\n 'P31FUJ': 'P31FUJ',\n 'PA1': 'PA1',\n 'PANC0327': 'PANC0327',\n 'PANC0813': 'PANC0813',\n 'PANC1005': 'PANC1005',\n 'PC14': 'PC14',\n 'PC3': 'PC3',\n 'PF382': 'PF382',\n 'PFSK1': 'PFSK1',\n 'PSN1': 'PSN1',\n 'QIMRWIL': 'QIMRWIL',\n 'RAJI': 'RAJI',\n 'Ramos2G64C10': 'Ramos2G64C10',\n 'RCC10RGB': 'RCC10RGB',\n 'RCM1': 'RCM1',\n 'RD': 'RD',\n 'REH': 'REH',\n 'RERFLCMS': 'RERFLCMS',\n 'RH1': 'RH1',\n 'RH18': 'RH18',\n 'RKO': 'RKO',\n 'RL': 'RL',\n 'RL952': 'RL952',\n 'RMGI': 'RMGI',\n 'RO82W1': 'RO82W1',\n 'RPMI2650': 'RPMI2650',\n 'RPMI6666': 'RPMI6666',\n 'RPMI7951': 'RPMI7951',\n 'RPMI8226': 'RPMI8226',\n 'RPMI8402': 'RPMI8402',\n 'RPMI8866': 'RPMI8866',\n 'RS411': 'RS411',\n 'RT112': 'RT112',\n 'RT4': 'RT4',\n 'RVH421': 'RVH421',\n 'RXF393': 'RXF393',\n 'S117': 'S117',\n 'SAOS2': 'SAOS2',\n 'SAS': 'SAS',\n 'SBC1': 'SBC1',\n 'SBC5': 'SBC5',\n 'SCC15': 'SCC15',\n 'SCC25': 'SCC25',\n 'SCC4': 'SCC4',\n 'SCC9': 'SCC9',\n 'SCH': 'SCH',\n 'SF126': 'SF126',\n 'SF268': 'SF268',\n 'SF295': 'SF295',\n 'SF539': 'SF539',\n 'SH4': 'SH4',\n 'SHP77': 'SHP77',\n 'SiHa': 'SiHa',\n 'SIMA': 'SIMA',\n 'SJRH30': 'SJRH30',\n 'SJSA1': 'SJSA1',\n 'SKCO1': 'SKCO1',\n 'SKGIIIa': 'SKGIIIa',\n 'SKHEP1': 'SKHEP1',\n 'SKLMS1': 'SKLMS1',\n 'SKLU1': 'SKLU1',\n 'SKM1': 'SKM1',\n 'SKMEL1': 'SKMEL1',\n 'SKMEL2': 'SKMEL2',\n 'SKMEL24': 'SKMEL24',\n 'SKMEL28': 'SKMEL28',\n 'SKMEL3': 'SKMEL3',\n 'SKMEL30': 'SKMEL30',\n 'SKMEL5': 'SKMEL5',\n 'SKMES1': 'SKMES1',\n 'SKMG1': 'SKMG1',\n 'SKMM2': 'SKMM2',\n 'SKNAS': 'SKNAS',\n 'SKNDZ': 'SKNDZ',\n 'SKNEP1': 'SKNEP1',\n 'SKNFI': 'SKNFI',\n 'SKOV3': 'SKOV3',\n 'SKPNDW': 'SKPNDW',\n 'SKUT1': 'SKUT1',\n 'SN12C': 'SN12C',\n 'SNB75': 'SNB75',\n 'SNGM': 'SNGM',\n 'SNU387': 'SNU387',\n 'SNU423': 'SNU423',\n 'SNU449': 'SNU449',\n 'SNUC1': 'SNUC1',\n 'SNUC2B': 'SNUC2B',\n 'SR': 'SR',\n 'ST486': 'ST486',\n 'SUPT1': 'SUPT1',\n 'SW1088': 'SW1088',\n 'SW1116': 'SW1116',\n 'SW13': 'SW13',\n 'SW1417': 'SW1417',\n 'SW1463': 'SW1463',\n 'SW1573': 'SW1573',\n 'SW1710': 'SW1710',\n 'SW1783': 'SW1783',\n 'SW1990': 'SW1990',\n 'SW48': 'SW48',\n 'SW620': 'SW620',\n 'SW626': 'SW626',\n 'SW684': 'SW684',\n 'SW756': 'SW756',\n 'SW780': 'SW780',\n 'SW837': 'SW837',\n 'SW872': 'SW872',\n 'SW900': 'SW900',\n 'SW948': 'SW948',\n 'SW954': 'SW954',\n 'SW962': 'SW962',\n 'SW982': 'SW982',\n 'T24': 'T24',\n 'T47D': 'T47D',\n 'T84': 'T84',\n 'T98G': 'T98G',\n 'TCCSUP': 'TCCSUP',\n 'TCYIK': 'TCYIK',\n 'TE1': 'TE1',\n 'TE10': 'TE10',\n 'TE11': 'TE11',\n 'TE12': 'TE12',\n 'TE15': 'TE15',\n 'TE5': 'TE5',\n 'TE6': 'TE6',\n 'TE8': 'TE8',\n 'TE9': 'TE9',\n 'TGBC11TKB': 'TGBC11TKB',\n 'TGBC1TKB': 'TGBC1TKB',\n 'TGBC24TKB': 'TGBC24TKB',\n 'TGW': 'TGW',\n 'THP1': 'THP1',\n 'TI73': 'TI73',\n 'TK10': 'TK10',\n 'TUR': 'TUR',\n 'TYKNU': 'TYKNU',\n 'U118MG': 'U118MG',\n 'U251': 'U251',\n 'U2OS': 'U2OS',\n 'U698M': 'U698M',\n 'U87MG': 'U87MG',\n 'UACC257': 'UACC257',\n 'UACC62': 'UACC62',\n 'UACC893': 'UACC893',\n 'UMC11': 'UMC11',\n 'UMUC3': 'UMUC3',\n 'VAESBJ': 'VAESBJ',\n 'VMCUB1': 'VMCUB1',\n 'VMRCRCZ': 'VMRCRCZ',\n 'WM115': 'WM115',\n 'WSUNHL': 'WSUNHL',\n 'YAPC': 'YAPC',\n 'YH13': 'YH13',\n 'YKG1': 'YKG1',\n 'YT': 'YT',\n 'ZR7530': 'ZR7530',\n 'BC3': 'BC3',\n 'BL70': 'BL70',\n 'CAL148': 'CAL148',\n 'CP67MEL': 'CP67MEL',\n 'DMS153': 'DMS153',\n 'ECC4': 'ECC4',\n 'EHEB': 'EHEB',\n 'EW12': 'EW12',\n 'HCC1599': 'HCC1599',\n 'K052': 'K052',\n 'KASUMI1': 'KASUMI1',\n 'KPNRTBM1': 'KPNRTBM1',\n 'LB647SCLC': 'LB647SCLC',\n 'LC1F': 'LC1F',\n 'MDAMB134VI': 'MDAMB134VI',\n 'NCIH128': 'NCIH128',\n 'NCIH1417': 'NCIH1417',\n 'NCIH1436': 'NCIH1436',\n 'NCIH1522': 'NCIH1522',\n 'NCIH1963': 'NCIH1963',\n 'NCIH2081': 'NCIH2081',\n 'NCIH2107': 'NCIH2107',\n 'NCIH2171': 'NCIH2171',\n 'NCIH2196': 'NCIH2196',\n 'NCIH64': 'NCIH64',\n 'NCIH716': 'NCIH716',\n 'NCIH719': 'NCIH719',\n 'NCIH748': 'NCIH748',\n 'SCC3': 'SCC3',\n 'SCLC21H': 'SCLC21H',\n 'SIGM5': 'SIGM5',\n 'SUDHL1': 'SUDHL1',\n 'TALL1': 'TALL1',\n 'TE441T': 'TE441T',\n 'HSC4': 'HSC4',\n 'NCIH1734': 'NCIH1734',\n 'CALU1': 'CALU1',\n 'CAOV3': 'CAOV3',\n 'DV90': 'DV90',\n 'ECC12': 'ECC12',\n 'NCIH1618': 'NCIH1618',\n 'PLCPRF5': 'PLCPRF5',\n 'SNU475': 'SNU475',\n 'UACC812': 'UACC812',\n 'NCIH378': 'NCIH378',\n 'NCIH250': 'NCIH250',\n '786O': '7860',\n 'COLO320': 'COLO320HSR',\n 'EOL1': 'KNS81FD',\n 'KNS81': 'EOL1CELL',\n 'NCIH510': 'NCIH510A',\n 'TTTHYROID': 'TT',\n 'U266B1': 'U266',\n 'UO31': 'U031'}"
     },
     "execution_count": 267,
     "metadata": {},
     "output_type": "execute_result"
    }
   ],
   "source": [
    "poz2"
   ]
  },
  {
   "cell_type": "code",
   "execution_count": 269,
   "metadata": {},
   "outputs": [],
   "source": [
    "gdsc_dr['CCL'] = gdsc_dr['CCL'].replace(poz2)"
   ]
  },
  {
   "cell_type": "markdown",
   "metadata": {},
   "source": [
    "# Missing CTRP data"
   ]
  },
  {
   "cell_type": "code",
   "execution_count": 5,
   "metadata": {},
   "outputs": [],
   "source": [
    "ccle_ge = pd.read_csv('data/ccle_exp.csv', sep='\\t').rename(columns={'Unnamed: 0':'CCL'}).set_index('CCL').transpose()\n",
    "ccle_dr = pd.read_csv('data/ccle_metrics.csv').rename(columns={'Cell_line':'CCL'})"
   ]
  },
  {
   "cell_type": "code",
   "execution_count": 27,
   "metadata": {},
   "outputs": [],
   "source": [
    "import re\n",
    "poz = list(ccle_dr['CCL'].unique())\n",
    "cell = list(ccle_ge.index.to_series().str.upper().reset_index()[0])\n",
    "\n",
    "ncell = []\n",
    "for i in cell:\n",
    "    ncell.append(re.sub(\"[^A-Za-z0-9]\", '', i))\n",
    "cell = ncell"
   ]
  },
  {
   "cell_type": "code",
   "execution_count": 28,
   "metadata": {},
   "outputs": [
    {
     "data": {
      "text/plain": "9"
     },
     "execution_count": 28,
     "metadata": {},
     "output_type": "execute_result"
    }
   ],
   "source": [
    "miss = []\n",
    "for ccl in poz:\n",
    "    if ccl not in cell:\n",
    "        miss.append(ccl)\n",
    "len(miss)"
   ]
  },
  {
   "cell_type": "markdown",
   "metadata": {},
   "source": [
    "### I look for the following 9 cell lines [here](https://www.expasy.org/) and find most of them are problematic."
   ]
  },
  {
   "cell_type": "markdown",
   "metadata": {},
   "source": [
    "BGC823, GLC82, KP1N and KP1NL are problematic cell lines\n",
    "\n",
    "MB1257 and OVCAR3 are under different names, namely MDAMB157, NIH:OVCAR3\n",
    "\n",
    "_M059J_, _SF8657_, _SNUC2B_ can't be found "
   ]
  },
  {
   "cell_type": "code",
   "execution_count": 30,
   "metadata": {},
   "outputs": [
    {
     "name": "stdout",
     "output_type": "stream",
     "text": "BGC823\nGLC82\nKP1N\nKP1NL\nM059J\nMB157\nOVCAR3\nSF8657\nSNUC2B\n"
    }
   ],
   "source": [
    "for i in miss:\n",
    "    print(i)"
   ]
  },
  {
   "cell_type": "code",
   "execution_count": 274,
   "metadata": {},
   "outputs": [
    {
     "data": {
      "text/plain": "['SAS',\n 'SAT',\n 'SBC1',\n 'SBC3',\n 'SBC5',\n 'SCABER',\n 'SCC15',\n 'SCC25',\n 'SCC3',\n 'SCC4',\n 'SCC9',\n 'SCC90',\n 'SCH',\n 'SCI1',\n 'SCLC21H',\n 'SET2',\n 'SF126',\n 'SF268',\n 'SF295',\n 'SF539',\n 'SH4',\n 'SHP77',\n 'SIGM5',\n 'SIHA',\n 'SIMA',\n 'SISO',\n 'SJRH30',\n 'SJSA1',\n 'SKCO1',\n 'SKES1',\n 'SKGT2',\n 'SKGT4',\n 'SKHEP1',\n 'SKLMS1',\n 'SKLU1',\n 'SKMEL1',\n 'SKMEL2',\n 'SKMEL24',\n 'SKMEL28',\n 'SKMEL3',\n 'SKMEL30',\n 'SKMEL31',\n 'SKMEL5',\n 'SKMES1',\n 'SKMG1',\n 'SKMM2',\n 'SKNAS',\n 'SKNDZ',\n 'SKNFI',\n 'SKNSH',\n 'SKNEP1',\n 'SKOV3',\n 'SKPNDW',\n 'SKUT1',\n 'SKGIIIA',\n 'SKM1',\n 'SKN',\n 'SKN3',\n 'SLVL',\n 'SN12C',\n 'SNB75',\n 'SNGM',\n 'SNU1040',\n 'SNU175',\n 'SNU182',\n 'SNU387',\n 'SNU398',\n 'SNU407',\n 'SNU423',\n 'SNU449',\n 'SNU475',\n 'SNU61',\n 'SNU81',\n 'SNUC1',\n 'SNUC2B',\n 'SNUC5',\n 'SR',\n 'ST486',\n 'STS0421',\n 'SUDHL1',\n 'SUDHL10',\n 'SUDHL16',\n 'SUDHL4',\n 'SUDHL5',\n 'SUDHL6',\n 'SUDHL8',\n 'SU8686',\n 'SUIT2',\n 'SUPB15',\n 'SUPB8',\n 'SUPHD1',\n 'SUPM2',\n 'SUPT1',\n 'SW1088',\n 'SW1116',\n 'SW1271',\n 'SW13',\n 'SW1417',\n 'SW1463',\n 'SW156',\n 'SW1573',\n 'SW1710',\n 'SW1783',\n 'SW1990',\n 'SW403',\n 'SW48',\n 'SW620',\n 'SW626',\n 'SW684',\n 'SW756',\n 'SW780',\n 'SW837',\n 'SW872',\n 'SW900',\n 'SW948',\n 'SW954',\n 'SW962',\n 'SW982',\n 'T24',\n 'TT',\n 'T47D',\n 'T84',\n 'T98G',\n 'TAKIGAWA',\n 'TALL1',\n 'TASK1',\n 'TC71',\n 'TCYIK',\n 'TCCSUP',\n 'TE1',\n 'TE10',\n 'TE11',\n 'TE12',\n 'TE15',\n 'TE4',\n 'TE441T',\n 'TE5',\n 'TE6',\n 'TE8',\n 'TE9',\n 'TERA1',\n 'TF1',\n 'TGBC11TKB',\n 'TGBC1TKB',\n 'TGBC24TKB',\n 'TGW',\n 'THP1',\n 'TI73',\n 'TK',\n 'TK10',\n 'TMK1',\n 'TOLEDO',\n 'TOV112D',\n 'TOV21G',\n 'TT',\n 'TT2609C02',\n 'TUR',\n 'TYKNU',\n 'U118MG',\n 'U2OS',\n 'U266',\n 'U698M',\n 'U87MG',\n 'UCH1',\n 'U031',\n 'U251',\n 'UACC257',\n 'UACC62',\n 'UACC812',\n 'UACC893',\n 'UDSCC2',\n 'UISOMCC1',\n 'UMUC3',\n 'UMC11',\n 'UWB1289',\n 'VAESBJ',\n 'VAL',\n 'VCAP',\n 'VMCUB1',\n 'VMRCLCD',\n 'VMRCMELG',\n 'VMRCRCW',\n 'VMRCRCZ',\n 'WIL2NS',\n 'WM115',\n 'WM1158',\n 'WM1552C',\n 'WM239A',\n 'WM278',\n 'WM35',\n 'WM793B',\n 'WM902B',\n 'WSUDLCL2',\n 'WSUNHL',\n 'YAPC',\n 'YH13',\n 'YKG1',\n 'YMB1E',\n 'YT',\n 'ZR7530']"
     },
     "execution_count": 274,
     "metadata": {},
     "output_type": "execute_result"
    }
   ],
   "source": [
    "cell[-200:]"
   ]
  },
  {
   "cell_type": "code",
   "execution_count": null,
   "metadata": {},
   "outputs": [],
   "source": []
  }
 ],
 "metadata": {
  "kernelspec": {
   "display_name": "Python 3",
   "language": "python",
   "name": "python3"
  },
  "language_info": {
   "codemirror_mode": {
    "name": "ipython",
    "version": 3
   },
   "file_extension": ".py",
   "mimetype": "text/x-python",
   "name": "python",
   "nbconvert_exporter": "python",
   "pygments_lexer": "ipython3",
   "version": "3.7.6-final"
  }
 },
 "nbformat": 4,
 "nbformat_minor": 4
}