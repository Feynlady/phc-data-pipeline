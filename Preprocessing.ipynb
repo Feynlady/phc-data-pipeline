{
 "nbformat": 4,
 "nbformat_minor": 2,
 "metadata": {
  "language_info": {
   "name": "python",
   "codemirror_mode": {
    "name": "ipython",
    "version": 3
   },
   "version": "3.7.6-final"
  },
  "orig_nbformat": 2,
  "file_extension": ".py",
  "mimetype": "text/x-python",
  "name": "python",
  "npconvert_exporter": "python",
  "pygments_lexer": "ipython3",
  "version": 3,
  "kernelspec": {
   "name": "python3",
   "display_name": "Python 3"
  }
 },
 "cells": [
  {
   "cell_type": "code",
   "execution_count": 51,
   "metadata": {},
   "outputs": [],
   "source": [
    "import pandas as pd\n",
    "import seaborn as sns\n",
    "import matplotlib.pyplot as plt\n",
    "import re"
   ]
  },
  {
   "cell_type": "markdown",
   "metadata": {},
   "source": [
    "# CCL name cleaning GDSC"
   ]
  },
  {
   "cell_type": "code",
   "execution_count": 52,
   "metadata": {},
   "outputs": [],
   "source": [
    "gdsc_dr = pd.read_csv('data/GDSC/metrics.csv').rename(columns={'Cell_line':'CCL'})\n",
    "gdsc_ge = pd.read_csv('data/GDSC/ge.csv', sep='\\t').rename(columns={'Unnamed: 0':'CCL'}).transpose()\n",
    ""
   ]
  },
  {
   "cell_type": "code",
   "execution_count": 53,
   "metadata": {},
   "outputs": [],
   "source": [
    "def clean(s):\n",
    "    new = []\n",
    "    for i in s:\n",
    "        new.append(re.sub(\"[^A-Za-z0-9]\", '', i).upper())\n",
    "    return new"
   ]
  },
  {
   "cell_type": "code",
   "execution_count": 54,
   "metadata": {},
   "outputs": [],
   "source": [
    "poz_r = list(gdsc_dr['CCL'].unique())\n",
    "cell_r = list(gdsc_ge.index.to_series().reset_index()[0])\n",
    "\n",
    "cell = clean(cell_r)\n",
    "poz = clean(poz_r)"
   ]
  },
  {
   "cell_type": "code",
   "execution_count": 55,
   "metadata": {},
   "outputs": [
    {
     "output_type": "stream",
     "name": "stdout",
     "text": "8\n"
    },
    {
     "output_type": "execute_result",
     "data": {
      "text/plain": "['786O', 'COLO320', 'EOL1', 'KNS81', 'NCIH510', 'TTTHYROID', 'U266B1', 'UO31']"
     },
     "metadata": {},
     "execution_count": 55
    }
   ],
   "source": [
    "miss1 = []\n",
    "for ccl in poz:\n",
    "    if ccl not in cell:\n",
    "        miss1.append(ccl)\n",
    "print(len(miss1))\n",
    "miss1"
   ]
  },
  {
   "cell_type": "code",
   "execution_count": 56,
   "metadata": {},
   "outputs": [],
   "source": [
    "poz2 = {k:re.sub(\"[^A-Za-z0-9]\", '', k).upper() for k in poz_r if re.sub(\"[^A-Za-z0-9]\", '', k).upper() not in miss1}\n",
    "\n",
    "miss1_sub = ['7860', 'COLO320HSR','EOL1CELL', 'KNS81FD', 'NCIH510A','TT' , 'U266', 'U031']\n",
    "\n",
    "for i, ele in enumerate(miss1):\n",
    "    poz2[ele] = miss1_sub[i]"
   ]
  },
  {
   "cell_type": "code",
   "execution_count": 57,
   "metadata": {},
   "outputs": [],
   "source": [
    "gdsc_dr['CCL'] = gdsc_dr['CCL'].replace(poz2)"
   ]
  },
  {
   "cell_type": "code",
   "execution_count": 58,
   "metadata": {},
   "outputs": [],
   "source": [
    "gdsc_dr.to_csv('data/Processed/gdsc_poz_dr.csv', index =False)"
   ]
  },
  {
   "cell_type": "code",
   "execution_count": 59,
   "metadata": {},
   "outputs": [],
   "source": [
    "gdsc_ge = gdsc_ge.reset_index()\n",
    "gdsc_ge.columns = gdsc_ge.iloc[0]\n",
    "gdsc_ge = gdsc_ge[1:]"
   ]
  },
  {
   "cell_type": "code",
   "execution_count": 60,
   "metadata": {},
   "outputs": [],
   "source": [
    "cell_sub = {k:re.sub(\"[^A-Za-z0-9]\", '', k).upper() for k in gdsc_ge['CCL']}\n",
    "gdsc_ge['CCL'] = gdsc_ge['CCL'].replace(cell_sub)"
   ]
  },
  {
   "cell_type": "code",
   "execution_count": 61,
   "metadata": {},
   "outputs": [],
   "source": [
    "gdsc_ge.to_csv('data/Processed/gdsc_cell_ge.csv', index=False)"
   ]
  },
  {
   "cell_type": "markdown",
   "metadata": {},
   "source": [
    "# CCL name cleaning CCLE"
   ]
  },
  {
   "cell_type": "code",
   "execution_count": 112,
   "metadata": {},
   "outputs": [],
   "source": [
    "ccle_ge = pd.read_csv('data/CCLE/ge.csv', sep='\\t').rename(columns={'Unnamed: 0':'CCL'}).transpose()\n",
    "ccle_dr = pd.read_csv('data/CCLE/metrics.csv').rename(columns={'Cell_line':'CCL'})"
   ]
  },
  {
   "cell_type": "code",
   "execution_count": 113,
   "metadata": {},
   "outputs": [],
   "source": [
    "poz = list(ccle_dr['CCL'].unique())\n",
    "cell = list(ccle_ge.index.to_series().str.upper().reset_index()[0])"
   ]
  },
  {
   "cell_type": "code",
   "execution_count": 114,
   "metadata": {},
   "outputs": [],
   "source": [
    "poz = clean(poz)\n",
    "cell = clean(cell)"
   ]
  },
  {
   "cell_type": "code",
   "execution_count": 115,
   "metadata": {},
   "outputs": [
    {
     "output_type": "execute_result",
     "data": {
      "text/plain": "['BGC823',\n 'GLC82',\n 'KP1N',\n 'KP1NL',\n 'M059J',\n 'MB157',\n 'OVCAR3',\n 'SF8657',\n 'SNUC2B']"
     },
     "metadata": {},
     "execution_count": 115
    }
   ],
   "source": [
    "miss2 = []\n",
    "for ccl in poz:\n",
    "    if ccl not in cell:\n",
    "        miss2.append(ccl)\n",
    "miss2"
   ]
  },
  {
   "cell_type": "code",
   "execution_count": 116,
   "metadata": {},
   "outputs": [],
   "source": [
    "ccle_dr_2 = ccle_dr[~ccle_dr['CCL'].isin(['BGC823', 'GLC82', 'KP1N', 'KP1NL', 'M059J', 'SF8657', 'SNUC2B', 'MB157'])]\n",
    "ccle_dr_2.to_csv('data/Processed/ccle_poz_dr.csv', index =False)"
   ]
  },
  {
   "cell_type": "code",
   "execution_count": 117,
   "metadata": {},
   "outputs": [],
   "source": [
    "ccle_ge = ccle_ge.reset_index()\n",
    "ccle_ge.columns = ccle_ge.iloc[0]\n",
    "ccle_ge = ccle_ge[1:]"
   ]
  },
  {
   "cell_type": "code",
   "execution_count": 118,
   "metadata": {
    "tags": [
     "outputPrepend",
     "outputPrepend",
     "outputPrepend",
     "outputPrepend",
     "outputPrepend",
     "outputPrepend",
     "outputPrepend",
     "outputPrepend"
    ]
   },
   "outputs": [],
   "source": [
    "cell_sub = {k:re.sub(\"[^A-Za-z0-9]\", '', k).upper() for k in ccle_ge['CCL'].unique()}\n",
    "cell_sub['NIH:OVCAR-3'] = 'OVCAR3'\n",
    "ccle_ge['CCL'] = ccle_ge['CCL'].replace(cell_sub)"
   ]
  },
  {
   "cell_type": "code",
   "execution_count": 119,
   "metadata": {},
   "outputs": [],
   "source": [
    "ccle_ge.to_csv('data/Processed/ccle_cell_ge.csv', index =False)"
   ]
  },
  {
   "cell_type": "markdown",
   "metadata": {},
   "source": [
    "# CCL name cleaning CTRP"
   ]
  },
  {
   "cell_type": "code",
   "execution_count": 70,
   "metadata": {},
   "outputs": [],
   "source": [
    "ctrp_ge = pd.read_csv('data/CTRP/cell_ge.csv', sep='\\t').rename(columns={'Unnamed: 0':'CCL'}).transpose()\n",
    "ctrp_dr = pd.read_csv('data/CTRP/metrics.csv').rename(columns={'Cell_line':'CCL'})"
   ]
  },
  {
   "cell_type": "code",
   "execution_count": 71,
   "metadata": {},
   "outputs": [],
   "source": [
    "import re\n",
    "\n",
    "poz_r = list(ctrp_dr['CCL'].unique())\n",
    "poz = clean(poz_r)"
   ]
  },
  {
   "cell_type": "code",
   "execution_count": 72,
   "metadata": {},
   "outputs": [
    {
     "output_type": "execute_result",
     "data": {
      "text/plain": "49"
     },
     "metadata": {},
     "execution_count": 72
    }
   ],
   "source": [
    "miss = []\n",
    "for ccl in poz:\n",
    "    if ccl not in cell:\n",
    "        miss.append(ccl)\n",
    "len(miss)"
   ]
  },
  {
   "cell_type": "code",
   "execution_count": 73,
   "metadata": {},
   "outputs": [
    {
     "output_type": "execute_result",
     "data": {
      "text/plain": "['2004',\n 'ASKA',\n 'BT112',\n 'BT131',\n 'BT139',\n 'BT145',\n 'BT147',\n 'BT159',\n 'BT16',\n 'BT164',\n 'BT172',\n 'BT179',\n 'BT216',\n 'BT224',\n 'BT228',\n 'BT231',\n 'BT232',\n 'BT239',\n 'BT245',\n 'BT248',\n 'BT271',\n 'BT286',\n 'BT320',\n 'BT328',\n 'BT330',\n 'BT333',\n 'BT340',\n 'BT359',\n 'BT416',\n 'BT422',\n 'BT428',\n 'BT440',\n 'BT444',\n 'BT482',\n 'BT498',\n 'BT504',\n 'H292',\n 'HS578BST',\n 'HS888LU',\n 'HSTS',\n 'KRIJ',\n 'PSTS',\n 'SW982',\n 'SYO1',\n 'TM8716',\n 'TTTHYROID',\n 'UCH1',\n 'YAMATO',\n 'BT187']"
     },
     "metadata": {},
     "execution_count": 73
    }
   ],
   "source": [
    "miss"
   ]
  },
  {
   "cell_type": "markdown",
   "metadata": {},
   "source": [
    "We will drop all CCL's of the series BT and some others not found on cellminercdb"
   ]
  },
  {
   "cell_type": "code",
   "execution_count": 74,
   "metadata": {},
   "outputs": [],
   "source": [
    "drop = [v for v in miss if v[:2]=='BT']"
   ]
  },
  {
   "cell_type": "code",
   "execution_count": 75,
   "metadata": {},
   "outputs": [],
   "source": [
    "drop.extend(['2004', 'ASKA', 'HSTS', 'KRIJ', 'PSTS', 'SW982', 'SYO1', 'TM8716', 'UCH1', 'YAMATO'])"
   ]
  },
  {
   "cell_type": "code",
   "execution_count": 76,
   "metadata": {},
   "outputs": [],
   "source": [
    "poz2 = {k:re.sub(\"[^A-Za-z0-9]\", '', k) for k in poz_r if re.sub(\"[^A-Za-z0-9]\", '', k).upper() not in miss}\n",
    "\n",
    "miss1_sub = ['NCIH292', 'HS578T', 'HS888T', 'TT']\n",
    "\n",
    "miss = [v for v in miss if v not in drop]\n",
    "for i, ele in enumerate(miss):\n",
    "    poz2[ele] = miss1_sub[i]"
   ]
  },
  {
   "cell_type": "code",
   "execution_count": 77,
   "metadata": {},
   "outputs": [],
   "source": [
    "ctrp_dr = ctrp_dr[~ctrp_dr['CCL'].isin(drop)]\n",
    "ctrp_dr['CCL'] = ctrp_dr['CCL'].replace(poz2)"
   ]
  },
  {
   "cell_type": "code",
   "execution_count": 78,
   "metadata": {},
   "outputs": [],
   "source": [
    "ctrp_dr.to_csv('data/Processed/ctrp_poz_dr.csv', index =False)"
   ]
  },
  {
   "cell_type": "code",
   "execution_count": 79,
   "metadata": {},
   "outputs": [],
   "source": [
    "ctrp_ge = ctrp_ge.reset_index()\n",
    "ctrp_ge.columns = ctrp_ge.iloc[0]\n",
    "ctrp_ge = ctrp_ge[1:]"
   ]
  },
  {
   "cell_type": "code",
   "execution_count": 80,
   "metadata": {},
   "outputs": [],
   "source": [
    "cell_sub = {k:re.sub(\"[^A-Za-z0-9]\", '', k).upper() for k in ctrp_ge['CCL'].unique()}"
   ]
  },
  {
   "cell_type": "code",
   "execution_count": 81,
   "metadata": {},
   "outputs": [],
   "source": [
    "ctrp_ge['CCL'] = ctrp_ge['CCL'].replace(cell_sub)"
   ]
  },
  {
   "cell_type": "code",
   "execution_count": 120,
   "metadata": {},
   "outputs": [],
   "source": [
    "ccle_ge.to_csv('data/Processed/ctrp_cell_ge.csv', index =False)"
   ]
  },
  {
   "cell_type": "code",
   "execution_count": null,
   "metadata": {},
   "outputs": [],
   "source": []
  }
 ]
}