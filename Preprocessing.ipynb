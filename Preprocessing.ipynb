{
 "cells": [
  {
   "cell_type": "code",
   "execution_count": 1,
   "metadata": {},
   "outputs": [],
   "source": [
    "import pandas as pd\n",
    "import seaborn as sns\n",
    "import matplotlib.pyplot as plt\n",
    "import re"
   ]
  },
  {
   "cell_type": "markdown",
   "metadata": {},
   "source": [
    "# CCL name cleaning GDSC"
   ]
  },
  {
   "cell_type": "code",
   "execution_count": 100,
   "metadata": {},
   "outputs": [],
   "source": [
    "gdsc_dr = pd.read_csv('data/GDSC/metrics.csv').rename(columns={'Cell_line':'CCL'})\n",
    "gdsc_ge = pd.read_csv('data/GDSC/ge.csv', sep='\\t').rename(columns={'Unnamed: 0':'CCL'}).transpose()\n"
   ]
  },
  {
   "cell_type": "code",
   "execution_count": 101,
   "metadata": {},
   "outputs": [],
   "source": [
    "def clean(s):\n",
    "    new = []\n",
    "    for i in s:\n",
    "        new.append(re.sub(\"[^A-Za-z0-9]\", '', i).upper())\n",
    "    return new"
   ]
  },
  {
   "cell_type": "code",
   "execution_count": 102,
   "metadata": {},
   "outputs": [],
   "source": [
    "poz_r = list(gdsc_dr['CCL'].unique())\n",
    "cell_r = list(gdsc_ge.index.to_series().reset_index()[0])\n",
    "\n",
    "cell = clean(cell_r)\n",
    "poz = clean(poz_r)"
   ]
  },
  {
   "cell_type": "code",
   "execution_count": 103,
   "metadata": {},
   "outputs": [
    {
     "name": "stdout",
     "output_type": "stream",
     "text": [
      "7\n"
     ]
    },
    {
     "data": {
      "text/plain": [
       "['786O', 'COLO320', 'EOL1', 'KNS81', 'NCIH510', 'U266B1', 'UO31']"
      ]
     },
     "execution_count": 103,
     "metadata": {},
     "output_type": "execute_result"
    }
   ],
   "source": [
    "miss1 = []\n",
    "for ccl in poz:\n",
    "    if ccl not in cell:\n",
    "        miss1.append(ccl)\n",
    "\n",
    "miss1.remove('TTTHYROID')\n",
    "print(len(miss1))\n",
    "miss1"
   ]
  },
  {
   "cell_type": "code",
   "execution_count": 104,
   "metadata": {},
   "outputs": [],
   "source": [
    "poz2 = {k:re.sub(\"[^A-Za-z0-9]\", '', k).upper() for k in poz_r if re.sub(\"[^A-Za-z0-9]\", '', k).upper() not in miss1}\n",
    "\n",
    "miss1_sub = ['7860', 'COLO320HSR','EOL1CELL', 'KNS81FD', 'NCIH510A' , 'U266', 'U031']\n",
    "\n",
    "for i, ele in enumerate(miss1):\n",
    "    poz2[ele] = miss1_sub[i]"
   ]
  },
  {
   "cell_type": "code",
   "execution_count": 105,
   "metadata": {},
   "outputs": [],
   "source": [
    "gdsc_dr['CCL'] = gdsc_dr['CCL'].replace(poz2)\n",
    "gdsc_dr = gdsc_dr[gdsc_dr['CCL']!='TTTHYROID']"
   ]
  },
  {
   "cell_type": "code",
   "execution_count": 106,
   "metadata": {},
   "outputs": [],
   "source": [
    "gdsc_dr.to_csv('data/Processed/gdsc_poz_dr.csv', index =False)"
   ]
  },
  {
   "cell_type": "code",
   "execution_count": 82,
   "metadata": {},
   "outputs": [],
   "source": [
    "gdsc_ge = gdsc_ge.reset_index()\n",
    "gdsc_ge.columns = gdsc_ge.iloc[0]\n",
    "gdsc_ge = gdsc_ge[1:]"
   ]
  },
  {
   "cell_type": "code",
   "execution_count": 83,
   "metadata": {},
   "outputs": [],
   "source": [
    "cell_sub = {k:re.sub(\"[^A-Za-z0-9]\", '', k).upper() for k in gdsc_ge['CCL']}\n",
    "gdsc_ge['CCL'] = gdsc_ge['CCL'].replace(cell_sub)"
   ]
  },
  {
   "cell_type": "code",
   "execution_count": 84,
   "metadata": {},
   "outputs": [],
   "source": [
    "drop = ['index']\n",
    "for i in gdsc_ge['CCL']:\n",
    "    if i not in gdsc_dr['CCL'].unique():\n",
    "        drop.append(i)\n",
    "gdsc_ge = gdsc_ge[~gdsc_ge['CCL'].isin(drop)].reset_index()"
   ]
  },
  {
   "cell_type": "code",
   "execution_count": 85,
   "metadata": {},
   "outputs": [
    {
     "data": {
      "text/html": [
       "<div>\n",
       "<style scoped>\n",
       "    .dataframe tbody tr th:only-of-type {\n",
       "        vertical-align: middle;\n",
       "    }\n",
       "\n",
       "    .dataframe tbody tr th {\n",
       "        vertical-align: top;\n",
       "    }\n",
       "\n",
       "    .dataframe thead th {\n",
       "        text-align: right;\n",
       "    }\n",
       "</style>\n",
       "<table border=\"1\" class=\"dataframe\">\n",
       "  <thead>\n",
       "    <tr style=\"text-align: right;\">\n",
       "      <th></th>\n",
       "      <th>A1BG</th>\n",
       "      <th>A1CF</th>\n",
       "      <th>A2M</th>\n",
       "      <th>A2ML1</th>\n",
       "      <th>A3GALT2</th>\n",
       "      <th>A3GALT2P</th>\n",
       "      <th>A4GALT</th>\n",
       "      <th>A4GNT</th>\n",
       "      <th>AAAS</th>\n",
       "      <th>AACS</th>\n",
       "      <th>...</th>\n",
       "      <th>ZW10</th>\n",
       "      <th>ZWILCH</th>\n",
       "      <th>ZWINT</th>\n",
       "      <th>ZXDB</th>\n",
       "      <th>ZXDC</th>\n",
       "      <th>ZYG11A</th>\n",
       "      <th>ZYG11B</th>\n",
       "      <th>ZYX</th>\n",
       "      <th>ZZEF1</th>\n",
       "      <th>ZZZ3</th>\n",
       "    </tr>\n",
       "    <tr>\n",
       "      <th>CCL</th>\n",
       "      <th></th>\n",
       "      <th></th>\n",
       "      <th></th>\n",
       "      <th></th>\n",
       "      <th></th>\n",
       "      <th></th>\n",
       "      <th></th>\n",
       "      <th></th>\n",
       "      <th></th>\n",
       "      <th></th>\n",
       "      <th></th>\n",
       "      <th></th>\n",
       "      <th></th>\n",
       "      <th></th>\n",
       "      <th></th>\n",
       "      <th></th>\n",
       "      <th></th>\n",
       "      <th></th>\n",
       "      <th></th>\n",
       "      <th></th>\n",
       "      <th></th>\n",
       "    </tr>\n",
       "  </thead>\n",
       "  <tbody>\n",
       "    <tr>\n",
       "      <th>KMH2</th>\n",
       "      <td>5.57091</td>\n",
       "      <td>2.9072</td>\n",
       "      <td>3.82674</td>\n",
       "      <td>2.81857</td>\n",
       "      <td>3.24614</td>\n",
       "      <td>3.24614</td>\n",
       "      <td>3.16653</td>\n",
       "      <td>3.35596</td>\n",
       "      <td>5.29611</td>\n",
       "      <td>3.98259</td>\n",
       "      <td>...</td>\n",
       "      <td>7.44839</td>\n",
       "      <td>8.26429</td>\n",
       "      <td>9.63864</td>\n",
       "      <td>4.21265</td>\n",
       "      <td>4.64859</td>\n",
       "      <td>4.58405</td>\n",
       "      <td>4.62811</td>\n",
       "      <td>5.06164</td>\n",
       "      <td>4.7705</td>\n",
       "      <td>8.02462</td>\n",
       "    </tr>\n",
       "    <tr>\n",
       "      <th>KMH2</th>\n",
       "      <td>NaN</td>\n",
       "      <td>NaN</td>\n",
       "      <td>NaN</td>\n",
       "      <td>NaN</td>\n",
       "      <td>NaN</td>\n",
       "      <td>NaN</td>\n",
       "      <td>NaN</td>\n",
       "      <td>NaN</td>\n",
       "      <td>NaN</td>\n",
       "      <td>NaN</td>\n",
       "      <td>...</td>\n",
       "      <td>NaN</td>\n",
       "      <td>NaN</td>\n",
       "      <td>NaN</td>\n",
       "      <td>NaN</td>\n",
       "      <td>NaN</td>\n",
       "      <td>NaN</td>\n",
       "      <td>NaN</td>\n",
       "      <td>NaN</td>\n",
       "      <td>NaN</td>\n",
       "      <td>NaN</td>\n",
       "    </tr>\n",
       "  </tbody>\n",
       "</table>\n",
       "<p>2 rows × 19562 columns</p>\n",
       "</div>"
      ],
      "text/plain": [
       "0        A1BG    A1CF      A2M    A2ML1  A3GALT2 A3GALT2P   A4GALT    A4GNT  \\\n",
       "CCL                                                                           \n",
       "KMH2  5.57091  2.9072  3.82674  2.81857  3.24614  3.24614  3.16653  3.35596   \n",
       "KMH2      NaN     NaN      NaN      NaN      NaN      NaN      NaN      NaN   \n",
       "\n",
       "0        AAAS     AACS  ...     ZW10   ZWILCH    ZWINT     ZXDB     ZXDC  \\\n",
       "CCL                     ...                                                \n",
       "KMH2  5.29611  3.98259  ...  7.44839  8.26429  9.63864  4.21265  4.64859   \n",
       "KMH2      NaN      NaN  ...      NaN      NaN      NaN      NaN      NaN   \n",
       "\n",
       "0      ZYG11A   ZYG11B      ZYX   ZZEF1     ZZZ3  \n",
       "CCL                                               \n",
       "KMH2  4.58405  4.62811  5.06164  4.7705  8.02462  \n",
       "KMH2      NaN      NaN      NaN     NaN      NaN  \n",
       "\n",
       "[2 rows x 19562 columns]"
      ]
     },
     "execution_count": 85,
     "metadata": {},
     "output_type": "execute_result"
    }
   ],
   "source": [
    "gdsc_ge.set_index('CCL').drop('index', axis=1).loc['KMH2']"
   ]
  },
  {
   "cell_type": "code",
   "execution_count": 86,
   "metadata": {},
   "outputs": [],
   "source": [
    "gdsc_ge = gdsc_ge.drop_duplicates('CCL', keep='first')"
   ]
  },
  {
   "cell_type": "code",
   "execution_count": 99,
   "metadata": {},
   "outputs": [],
   "source": [
    "gdsc_ge.drop('index', axis=1).to_csv('data/Processed/gdsc_cell_ge.csv', index=False)"
   ]
  },
  {
   "cell_type": "markdown",
   "metadata": {},
   "source": [
    "# CCL name cleaning CCLE"
   ]
  },
  {
   "cell_type": "code",
   "execution_count": 88,
   "metadata": {},
   "outputs": [],
   "source": [
    "ccle_ge = pd.read_csv('data/CCLE/ge.csv', sep='\\t').rename(columns={'Unnamed: 0':'CCL'}).transpose()\n",
    "ccle_dr = pd.read_csv('data/CCLE/metrics.csv').rename(columns={'Cell_line':'CCL'})"
   ]
  },
  {
   "cell_type": "code",
   "execution_count": 89,
   "metadata": {},
   "outputs": [],
   "source": [
    "poz = list(ccle_dr['CCL'].unique())\n",
    "cell = list(ccle_ge.index.to_series().str.upper().reset_index()[0])"
   ]
  },
  {
   "cell_type": "code",
   "execution_count": 90,
   "metadata": {},
   "outputs": [],
   "source": [
    "poz = clean(poz)\n",
    "cell = clean(cell)"
   ]
  },
  {
   "cell_type": "code",
   "execution_count": 91,
   "metadata": {},
   "outputs": [
    {
     "data": {
      "text/plain": [
       "['BGC823',\n",
       " 'GLC82',\n",
       " 'KP1N',\n",
       " 'KP1NL',\n",
       " 'M059J',\n",
       " 'MB157',\n",
       " 'OVCAR3',\n",
       " 'SF8657',\n",
       " 'SNUC2B']"
      ]
     },
     "execution_count": 91,
     "metadata": {},
     "output_type": "execute_result"
    }
   ],
   "source": [
    "miss2 = []\n",
    "for ccl in poz:\n",
    "    if ccl not in cell:\n",
    "        miss2.append(ccl)\n",
    "miss2"
   ]
  },
  {
   "cell_type": "code",
   "execution_count": 92,
   "metadata": {},
   "outputs": [],
   "source": [
    "ccle_dr_2 = ccle_dr[~ccle_dr['CCL'].isin(['BGC823', 'GLC82', 'KP1N', 'KP1NL', 'M059J', 'SF8657', 'SNUC2B', 'MB157'])]\n",
    "ccle_dr_2.to_csv('data/Processed/ccle_poz_dr.csv', index =False)"
   ]
  },
  {
   "cell_type": "code",
   "execution_count": 93,
   "metadata": {},
   "outputs": [],
   "source": [
    "ccle_ge = ccle_ge.reset_index()\n",
    "ccle_ge.columns = ccle_ge.iloc[0]\n",
    "ccle_ge = ccle_ge[1:]"
   ]
  },
  {
   "cell_type": "code",
   "execution_count": 94,
   "metadata": {
    "tags": [
     "outputPrepend",
     "outputPrepend",
     "outputPrepend",
     "outputPrepend",
     "outputPrepend",
     "outputPrepend",
     "outputPrepend",
     "outputPrepend"
    ]
   },
   "outputs": [],
   "source": [
    "cell_sub = {k:re.sub(\"[^A-Za-z0-9]\", '', k).upper() for k in ccle_ge['CCL'].unique()}\n",
    "cell_sub['NIH:OVCAR-3'] = 'OVCAR3'\n",
    "ccle_ge['CCL'] = ccle_ge['CCL'].replace(cell_sub)"
   ]
  },
  {
   "cell_type": "code",
   "execution_count": 95,
   "metadata": {},
   "outputs": [],
   "source": [
    "drop = ['index']\n",
    "for i in ccle_ge['CCL']:\n",
    "    if i not in ccle_dr['CCL'].unique():\n",
    "        drop.append(i)\n",
    "ccle_ge = ccle_ge[~ccle_ge['CCL'].isin(drop)].reset_index()"
   ]
  },
  {
   "cell_type": "code",
   "execution_count": 21,
   "metadata": {},
   "outputs": [],
   "source": [
    "ccle_ge.drop('index', axis=1).to_csv('data/Processed/ccle_cell_ge.csv', index =False)"
   ]
  },
  {
   "cell_type": "markdown",
   "metadata": {},
   "source": [
    "# CCL name cleaning CTRP"
   ]
  },
  {
   "cell_type": "code",
   "execution_count": 22,
   "metadata": {},
   "outputs": [],
   "source": [
    "ctrp_ge = pd.read_csv('data/CTRP/cell_ge.csv', sep='\\t').rename(columns={'Unnamed: 0':'CCL'}).transpose()\n",
    "ctrp_dr = pd.read_csv('data/CTRP/metrics.csv').rename(columns={'Cell_line':'CCL'})"
   ]
  },
  {
   "cell_type": "code",
   "execution_count": 23,
   "metadata": {},
   "outputs": [],
   "source": [
    "import re\n",
    "\n",
    "poz_r = list(ctrp_dr['CCL'].unique())\n",
    "poz = clean(poz_r)"
   ]
  },
  {
   "cell_type": "code",
   "execution_count": 24,
   "metadata": {},
   "outputs": [
    {
     "data": {
      "text/plain": [
       "49"
      ]
     },
     "execution_count": 24,
     "metadata": {},
     "output_type": "execute_result"
    }
   ],
   "source": [
    "miss = []\n",
    "for ccl in poz:\n",
    "    if ccl not in cell:\n",
    "        miss.append(ccl)\n",
    "len(miss)"
   ]
  },
  {
   "cell_type": "code",
   "execution_count": 25,
   "metadata": {},
   "outputs": [
    {
     "data": {
      "text/plain": [
       "['2004',\n",
       " 'ASKA',\n",
       " 'BT112',\n",
       " 'BT131',\n",
       " 'BT139',\n",
       " 'BT145',\n",
       " 'BT147',\n",
       " 'BT159',\n",
       " 'BT16',\n",
       " 'BT164',\n",
       " 'BT172',\n",
       " 'BT179',\n",
       " 'BT216',\n",
       " 'BT224',\n",
       " 'BT228',\n",
       " 'BT231',\n",
       " 'BT232',\n",
       " 'BT239',\n",
       " 'BT245',\n",
       " 'BT248',\n",
       " 'BT271',\n",
       " 'BT286',\n",
       " 'BT320',\n",
       " 'BT328',\n",
       " 'BT330',\n",
       " 'BT333',\n",
       " 'BT340',\n",
       " 'BT359',\n",
       " 'BT416',\n",
       " 'BT422',\n",
       " 'BT428',\n",
       " 'BT440',\n",
       " 'BT444',\n",
       " 'BT482',\n",
       " 'BT498',\n",
       " 'BT504',\n",
       " 'H292',\n",
       " 'HS578BST',\n",
       " 'HS888LU',\n",
       " 'HSTS',\n",
       " 'KRIJ',\n",
       " 'PSTS',\n",
       " 'SW982',\n",
       " 'SYO1',\n",
       " 'TM8716',\n",
       " 'TTTHYROID',\n",
       " 'UCH1',\n",
       " 'YAMATO',\n",
       " 'BT187']"
      ]
     },
     "execution_count": 25,
     "metadata": {},
     "output_type": "execute_result"
    }
   ],
   "source": [
    "miss"
   ]
  },
  {
   "cell_type": "markdown",
   "metadata": {},
   "source": [
    "We will drop all CCL's of the series BT and some others not found on cellminercdb"
   ]
  },
  {
   "cell_type": "code",
   "execution_count": 26,
   "metadata": {},
   "outputs": [],
   "source": [
    "drop = [v for v in miss if v[:2]=='BT']"
   ]
  },
  {
   "cell_type": "code",
   "execution_count": 27,
   "metadata": {},
   "outputs": [],
   "source": [
    "drop.extend(['2004', 'ASKA', 'HSTS', 'KRIJ', 'PSTS', 'SW982', 'SYO1', 'TM8716', 'UCH1', 'YAMATO'])"
   ]
  },
  {
   "cell_type": "code",
   "execution_count": 28,
   "metadata": {},
   "outputs": [],
   "source": [
    "poz2 = {k:re.sub(\"[^A-Za-z0-9]\", '', k) for k in poz_r if re.sub(\"[^A-Za-z0-9]\", '', k).upper() not in miss}\n",
    "\n",
    "miss1_sub = ['NCIH292', 'HS578T', 'HS888T', 'TT']\n",
    "\n",
    "miss = [v for v in miss if v not in drop]\n",
    "for i, ele in enumerate(miss):\n",
    "    poz2[ele] = miss1_sub[i]"
   ]
  },
  {
   "cell_type": "code",
   "execution_count": 29,
   "metadata": {},
   "outputs": [],
   "source": [
    "ctrp_dr = ctrp_dr[~ctrp_dr['CCL'].isin(drop)]\n",
    "ctrp_dr['CCL'] = ctrp_dr['CCL'].replace(poz2)"
   ]
  },
  {
   "cell_type": "code",
   "execution_count": 30,
   "metadata": {},
   "outputs": [],
   "source": [
    "ctrp_dr.to_csv('data/Processed/ctrp_poz_dr.csv', index =False)"
   ]
  },
  {
   "cell_type": "code",
   "execution_count": 31,
   "metadata": {},
   "outputs": [],
   "source": [
    "ctrp_ge = ccle_ge\n",
    "drop = ['index']\n",
    "for i in ctrp_ge['CCL']:\n",
    "    if i not in ctrp_dr['CCL'].unique():\n",
    "        drop.append(i)\n",
    "ctrp_ge = ctrp_ge[~ctrp_ge['CCL'].isin(drop)].reset_index()"
   ]
  },
  {
   "cell_type": "code",
   "execution_count": 32,
   "metadata": {},
   "outputs": [
    {
     "data": {
      "text/html": [
       "<div>\n",
       "<style scoped>\n",
       "    .dataframe tbody tr th:only-of-type {\n",
       "        vertical-align: middle;\n",
       "    }\n",
       "\n",
       "    .dataframe tbody tr th {\n",
       "        vertical-align: top;\n",
       "    }\n",
       "\n",
       "    .dataframe thead th {\n",
       "        text-align: right;\n",
       "    }\n",
       "</style>\n",
       "<table border=\"1\" class=\"dataframe\">\n",
       "  <thead>\n",
       "    <tr style=\"text-align: right;\">\n",
       "      <th></th>\n",
       "      <th>level_0</th>\n",
       "      <th>index</th>\n",
       "      <th>CCL</th>\n",
       "      <th>A1BG</th>\n",
       "      <th>A1BG-AS1</th>\n",
       "      <th>A1CF</th>\n",
       "      <th>A2M</th>\n",
       "      <th>A2M-AS1</th>\n",
       "      <th>A2ML1</th>\n",
       "      <th>A2MP1</th>\n",
       "      <th>...</th>\n",
       "      <th>ZWILCH</th>\n",
       "      <th>ZWINT</th>\n",
       "      <th>ZXDA</th>\n",
       "      <th>ZXDB</th>\n",
       "      <th>ZXDC</th>\n",
       "      <th>ZYG11A</th>\n",
       "      <th>ZYG11B</th>\n",
       "      <th>ZYX</th>\n",
       "      <th>ZZEF1</th>\n",
       "      <th>ZZZ3</th>\n",
       "    </tr>\n",
       "  </thead>\n",
       "  <tbody>\n",
       "    <tr>\n",
       "      <th>0</th>\n",
       "      <td>1</td>\n",
       "      <td>3</td>\n",
       "      <td>22RV1</td>\n",
       "      <td>4.75356</td>\n",
       "      <td>4.76688</td>\n",
       "      <td>7.44506</td>\n",
       "      <td>4.82488</td>\n",
       "      <td>5.71446</td>\n",
       "      <td>3.69636</td>\n",
       "      <td>4.50084</td>\n",
       "      <td>...</td>\n",
       "      <td>10.1581</td>\n",
       "      <td>11.8696</td>\n",
       "      <td>5.92065</td>\n",
       "      <td>5.41916</td>\n",
       "      <td>6.43494</td>\n",
       "      <td>4.58201</td>\n",
       "      <td>7.82893</td>\n",
       "      <td>6.26989</td>\n",
       "      <td>5.89303</td>\n",
       "      <td>8.19356</td>\n",
       "    </tr>\n",
       "    <tr>\n",
       "      <th>1</th>\n",
       "      <td>2</td>\n",
       "      <td>7</td>\n",
       "      <td>42MGBA</td>\n",
       "      <td>7.29013</td>\n",
       "      <td>5.5916</td>\n",
       "      <td>4.03057</td>\n",
       "      <td>4.1133</td>\n",
       "      <td>3.2771</td>\n",
       "      <td>3.9859</td>\n",
       "      <td>4.83985</td>\n",
       "      <td>...</td>\n",
       "      <td>10.1253</td>\n",
       "      <td>11.1474</td>\n",
       "      <td>5.0512</td>\n",
       "      <td>4.60405</td>\n",
       "      <td>5.91454</td>\n",
       "      <td>4.52143</td>\n",
       "      <td>8.25769</td>\n",
       "      <td>8.18264</td>\n",
       "      <td>6.07714</td>\n",
       "      <td>8.57538</td>\n",
       "    </tr>\n",
       "    <tr>\n",
       "      <th>2</th>\n",
       "      <td>3</td>\n",
       "      <td>8</td>\n",
       "      <td>5637</td>\n",
       "      <td>4.29347</td>\n",
       "      <td>4.51073</td>\n",
       "      <td>4.15791</td>\n",
       "      <td>4.1101</td>\n",
       "      <td>4.02171</td>\n",
       "      <td>4.16967</td>\n",
       "      <td>5.13869</td>\n",
       "      <td>...</td>\n",
       "      <td>9.32472</td>\n",
       "      <td>11.09</td>\n",
       "      <td>5.51127</td>\n",
       "      <td>5.11226</td>\n",
       "      <td>5.98138</td>\n",
       "      <td>5.20277</td>\n",
       "      <td>7.27636</td>\n",
       "      <td>8.61799</td>\n",
       "      <td>5.82305</td>\n",
       "      <td>7.84177</td>\n",
       "    </tr>\n",
       "    <tr>\n",
       "      <th>3</th>\n",
       "      <td>4</td>\n",
       "      <td>10</td>\n",
       "      <td>639V</td>\n",
       "      <td>6.62716</td>\n",
       "      <td>4.95192</td>\n",
       "      <td>4.09467</td>\n",
       "      <td>3.98008</td>\n",
       "      <td>4.31162</td>\n",
       "      <td>4.10599</td>\n",
       "      <td>4.64019</td>\n",
       "      <td>...</td>\n",
       "      <td>9.62425</td>\n",
       "      <td>11.1426</td>\n",
       "      <td>6.25403</td>\n",
       "      <td>5.55473</td>\n",
       "      <td>6.48561</td>\n",
       "      <td>6.701</td>\n",
       "      <td>8.50661</td>\n",
       "      <td>8.88766</td>\n",
       "      <td>6.40193</td>\n",
       "      <td>8.36718</td>\n",
       "    </tr>\n",
       "    <tr>\n",
       "      <th>4</th>\n",
       "      <td>5</td>\n",
       "      <td>12</td>\n",
       "      <td>697</td>\n",
       "      <td>6.99138</td>\n",
       "      <td>4.8361</td>\n",
       "      <td>4.02762</td>\n",
       "      <td>4.06956</td>\n",
       "      <td>4.35077</td>\n",
       "      <td>4.05418</td>\n",
       "      <td>4.69126</td>\n",
       "      <td>...</td>\n",
       "      <td>9.80042</td>\n",
       "      <td>11.6129</td>\n",
       "      <td>4.23948</td>\n",
       "      <td>5.21888</td>\n",
       "      <td>6.6696</td>\n",
       "      <td>4.83582</td>\n",
       "      <td>8.38729</td>\n",
       "      <td>6.82437</td>\n",
       "      <td>6.29979</td>\n",
       "      <td>8.26396</td>\n",
       "    </tr>\n",
       "    <tr>\n",
       "      <th>...</th>\n",
       "      <td>...</td>\n",
       "      <td>...</td>\n",
       "      <td>...</td>\n",
       "      <td>...</td>\n",
       "      <td>...</td>\n",
       "      <td>...</td>\n",
       "      <td>...</td>\n",
       "      <td>...</td>\n",
       "      <td>...</td>\n",
       "      <td>...</td>\n",
       "      <td>...</td>\n",
       "      <td>...</td>\n",
       "      <td>...</td>\n",
       "      <td>...</td>\n",
       "      <td>...</td>\n",
       "      <td>...</td>\n",
       "      <td>...</td>\n",
       "      <td>...</td>\n",
       "      <td>...</td>\n",
       "      <td>...</td>\n",
       "      <td>...</td>\n",
       "    </tr>\n",
       "    <tr>\n",
       "      <th>444</th>\n",
       "      <td>491</td>\n",
       "      <td>1035</td>\n",
       "      <td>ZR751</td>\n",
       "      <td>6.69478</td>\n",
       "      <td>5.00265</td>\n",
       "      <td>3.75477</td>\n",
       "      <td>3.7694</td>\n",
       "      <td>5.61835</td>\n",
       "      <td>3.74015</td>\n",
       "      <td>4.62713</td>\n",
       "      <td>...</td>\n",
       "      <td>9.5565</td>\n",
       "      <td>11.6294</td>\n",
       "      <td>5.53224</td>\n",
       "      <td>5.13363</td>\n",
       "      <td>6.44712</td>\n",
       "      <td>7.03905</td>\n",
       "      <td>7.59483</td>\n",
       "      <td>5.96422</td>\n",
       "      <td>5.74333</td>\n",
       "      <td>7.75235</td>\n",
       "    </tr>\n",
       "    <tr>\n",
       "      <th>445</th>\n",
       "      <td>492</td>\n",
       "      <td>1036</td>\n",
       "      <td>ZR7530</td>\n",
       "      <td>6.14159</td>\n",
       "      <td>4.76631</td>\n",
       "      <td>3.82036</td>\n",
       "      <td>4.61768</td>\n",
       "      <td>4.34101</td>\n",
       "      <td>4.02952</td>\n",
       "      <td>4.87913</td>\n",
       "      <td>...</td>\n",
       "      <td>9.01199</td>\n",
       "      <td>10.6172</td>\n",
       "      <td>6.09086</td>\n",
       "      <td>5.60125</td>\n",
       "      <td>6.68985</td>\n",
       "      <td>6.92144</td>\n",
       "      <td>8.46681</td>\n",
       "      <td>7.64262</td>\n",
       "      <td>5.87172</td>\n",
       "      <td>7.9079</td>\n",
       "    </tr>\n",
       "    <tr>\n",
       "      <th>446</th>\n",
       "      <td>493</td>\n",
       "      <td>1067</td>\n",
       "      <td>OE21</td>\n",
       "      <td>NaN</td>\n",
       "      <td>NaN</td>\n",
       "      <td>NaN</td>\n",
       "      <td>NaN</td>\n",
       "      <td>NaN</td>\n",
       "      <td>NaN</td>\n",
       "      <td>NaN</td>\n",
       "      <td>...</td>\n",
       "      <td>NaN</td>\n",
       "      <td>NaN</td>\n",
       "      <td>NaN</td>\n",
       "      <td>NaN</td>\n",
       "      <td>NaN</td>\n",
       "      <td>NaN</td>\n",
       "      <td>NaN</td>\n",
       "      <td>NaN</td>\n",
       "      <td>NaN</td>\n",
       "      <td>NaN</td>\n",
       "    </tr>\n",
       "    <tr>\n",
       "      <th>447</th>\n",
       "      <td>494</td>\n",
       "      <td>1086</td>\n",
       "      <td>DOV13</td>\n",
       "      <td>NaN</td>\n",
       "      <td>NaN</td>\n",
       "      <td>NaN</td>\n",
       "      <td>NaN</td>\n",
       "      <td>NaN</td>\n",
       "      <td>NaN</td>\n",
       "      <td>NaN</td>\n",
       "      <td>...</td>\n",
       "      <td>NaN</td>\n",
       "      <td>NaN</td>\n",
       "      <td>NaN</td>\n",
       "      <td>NaN</td>\n",
       "      <td>NaN</td>\n",
       "      <td>NaN</td>\n",
       "      <td>NaN</td>\n",
       "      <td>NaN</td>\n",
       "      <td>NaN</td>\n",
       "      <td>NaN</td>\n",
       "    </tr>\n",
       "    <tr>\n",
       "      <th>448</th>\n",
       "      <td>495</td>\n",
       "      <td>1087</td>\n",
       "      <td>COLO699</td>\n",
       "      <td>NaN</td>\n",
       "      <td>NaN</td>\n",
       "      <td>NaN</td>\n",
       "      <td>NaN</td>\n",
       "      <td>NaN</td>\n",
       "      <td>NaN</td>\n",
       "      <td>NaN</td>\n",
       "      <td>...</td>\n",
       "      <td>NaN</td>\n",
       "      <td>NaN</td>\n",
       "      <td>NaN</td>\n",
       "      <td>NaN</td>\n",
       "      <td>NaN</td>\n",
       "      <td>NaN</td>\n",
       "      <td>NaN</td>\n",
       "      <td>NaN</td>\n",
       "      <td>NaN</td>\n",
       "      <td>NaN</td>\n",
       "    </tr>\n",
       "  </tbody>\n",
       "</table>\n",
       "<p>449 rows × 19854 columns</p>\n",
       "</div>"
      ],
      "text/plain": [
       "0    level_0  index      CCL     A1BG A1BG-AS1     A1CF      A2M  A2M-AS1  \\\n",
       "0          1      3    22RV1  4.75356  4.76688  7.44506  4.82488  5.71446   \n",
       "1          2      7   42MGBA  7.29013   5.5916  4.03057   4.1133   3.2771   \n",
       "2          3      8     5637  4.29347  4.51073  4.15791   4.1101  4.02171   \n",
       "3          4     10     639V  6.62716  4.95192  4.09467  3.98008  4.31162   \n",
       "4          5     12      697  6.99138   4.8361  4.02762  4.06956  4.35077   \n",
       "..       ...    ...      ...      ...      ...      ...      ...      ...   \n",
       "444      491   1035    ZR751  6.69478  5.00265  3.75477   3.7694  5.61835   \n",
       "445      492   1036   ZR7530  6.14159  4.76631  3.82036  4.61768  4.34101   \n",
       "446      493   1067     OE21      NaN      NaN      NaN      NaN      NaN   \n",
       "447      494   1086    DOV13      NaN      NaN      NaN      NaN      NaN   \n",
       "448      495   1087  COLO699      NaN      NaN      NaN      NaN      NaN   \n",
       "\n",
       "0      A2ML1    A2MP1  ...   ZWILCH    ZWINT     ZXDA     ZXDB     ZXDC  \\\n",
       "0    3.69636  4.50084  ...  10.1581  11.8696  5.92065  5.41916  6.43494   \n",
       "1     3.9859  4.83985  ...  10.1253  11.1474   5.0512  4.60405  5.91454   \n",
       "2    4.16967  5.13869  ...  9.32472    11.09  5.51127  5.11226  5.98138   \n",
       "3    4.10599  4.64019  ...  9.62425  11.1426  6.25403  5.55473  6.48561   \n",
       "4    4.05418  4.69126  ...  9.80042  11.6129  4.23948  5.21888   6.6696   \n",
       "..       ...      ...  ...      ...      ...      ...      ...      ...   \n",
       "444  3.74015  4.62713  ...   9.5565  11.6294  5.53224  5.13363  6.44712   \n",
       "445  4.02952  4.87913  ...  9.01199  10.6172  6.09086  5.60125  6.68985   \n",
       "446      NaN      NaN  ...      NaN      NaN      NaN      NaN      NaN   \n",
       "447      NaN      NaN  ...      NaN      NaN      NaN      NaN      NaN   \n",
       "448      NaN      NaN  ...      NaN      NaN      NaN      NaN      NaN   \n",
       "\n",
       "0     ZYG11A   ZYG11B      ZYX    ZZEF1     ZZZ3  \n",
       "0    4.58201  7.82893  6.26989  5.89303  8.19356  \n",
       "1    4.52143  8.25769  8.18264  6.07714  8.57538  \n",
       "2    5.20277  7.27636  8.61799  5.82305  7.84177  \n",
       "3      6.701  8.50661  8.88766  6.40193  8.36718  \n",
       "4    4.83582  8.38729  6.82437  6.29979  8.26396  \n",
       "..       ...      ...      ...      ...      ...  \n",
       "444  7.03905  7.59483  5.96422  5.74333  7.75235  \n",
       "445  6.92144  8.46681  7.64262  5.87172   7.9079  \n",
       "446      NaN      NaN      NaN      NaN      NaN  \n",
       "447      NaN      NaN      NaN      NaN      NaN  \n",
       "448      NaN      NaN      NaN      NaN      NaN  \n",
       "\n",
       "[449 rows x 19854 columns]"
      ]
     },
     "execution_count": 32,
     "metadata": {},
     "output_type": "execute_result"
    }
   ],
   "source": [
    "ctrp_ge"
   ]
  },
  {
   "cell_type": "code",
   "execution_count": 33,
   "metadata": {},
   "outputs": [],
   "source": [
    "ctrp_ge.drop(['index', 'level_0'], axis=1).to_csv('data/Processed/ctrp_cell_ge.csv', index =False)"
   ]
  },
  {
   "cell_type": "code",
   "execution_count": null,
   "metadata": {},
   "outputs": [],
   "source": []
  }
 ],
 "metadata": {
  "file_extension": ".py",
  "kernelspec": {
   "display_name": "Python 3",
   "language": "python",
   "name": "python3"
  },
  "language_info": {
   "codemirror_mode": {
    "name": "ipython",
    "version": 3
   },
   "file_extension": ".py",
   "mimetype": "text/x-python",
   "name": "python",
   "nbconvert_exporter": "python",
   "pygments_lexer": "ipython3",
   "version": "3.7.3"
  },
  "mimetype": "text/x-python",
  "name": "python",
  "npconvert_exporter": "python",
  "pygments_lexer": "ipython3",
  "version": 3
 },
 "nbformat": 4,
 "nbformat_minor": 4
}
