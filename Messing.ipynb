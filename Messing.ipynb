{
 "cells": [
  {
   "cell_type": "code",
   "execution_count": 1,
   "metadata": {},
   "outputs": [],
   "source": [
    "import pandas as pd\n",
    "import matplotlib.pyplot as plt\n",
    "import seaborn as sns\n",
    "import numpy as np\n",
    "import matplotlib\n",
    "from sklearn.feature_selection import SelectKBest, SelectPercentile, f_regression, mutual_info_regression, SelectFromModel, VarianceThreshold\n",
    "from methods import pre\n"
   ]
  },
  {
   "cell_type": "markdown",
   "metadata": {},
   "source": [
    "## Reducing memory usage by using indices"
   ]
  },
  {
   "cell_type": "code",
   "execution_count": 2,
   "metadata": {},
   "outputs": [],
   "source": [
    "from classes import drug\n",
    "import pandas as pd\n",
    "from sklearn.tree import DecisionTreeRegressor\n",
    "from sklearn.feature_selection import SelectKBest, SelectPercentile, f_regression, mutual_info_regression, SelectFromModel, VarianceThreshold"
   ]
  },
  {
   "cell_type": "code",
   "execution_count": 3,
   "metadata": {},
   "outputs": [
    {
     "name": "stdout",
     "output_type": "stream",
     "text": [
      "CPU times: user 46 s, sys: 784 ms, total: 46.7 s\n",
      "Wall time: 49.7 s\n"
     ]
    }
   ],
   "source": [
    "%%time\n",
    "gdsc_ge = pd.read_csv('data/Processed/gdsc_cell_ge.csv').fillna(0).set_index('CCL')\n",
    "ctrp_ge = pd.read_csv('data/Processed/ctrp_cell_ge.csv').fillna(0).set_index('CCL')\n",
    "gdsc_dr = pd.read_csv('data/Processed/gdsc_poz_dr.csv').fillna(0)\n",
    "ctrp_dr = pd.read_csv('data/Processed/ctrp_poz_dr.csv').fillna(0)"
   ]
  },
  {
   "cell_type": "code",
   "execution_count": 3,
   "metadata": {},
   "outputs": [
    {
     "name": "stdout",
     "output_type": "stream",
     "text": [
      "CPU times: user 839 ms, sys: 88.7 ms, total: 928 ms\n",
      "Wall time: 947 ms\n"
     ]
    }
   ],
   "source": [
    "%%time\n",
    "aag = drug('17-AAG', {'ctrp': ctrp_ge, 'gdsc': gdsc_ge}, {'ctrp': ctrp_dr, 'gdsc': gdsc_dr})"
   ]
  },
  {
   "cell_type": "code",
   "execution_count": 4,
   "metadata": {},
   "outputs": [],
   "source": [
    "aag.pre()"
   ]
  },
  {
   "cell_type": "code",
   "execution_count": 5,
   "metadata": {},
   "outputs": [
    {
     "data": {
      "text/plain": [
       "False"
      ]
     },
     "execution_count": 5,
     "metadata": {},
     "output_type": "execute_result"
    }
   ],
   "source": [
    "'ge' in aag.__dict__"
   ]
  },
  {
   "cell_type": "code",
   "execution_count": 6,
   "metadata": {},
   "outputs": [],
   "source": [
    "aag.combine()"
   ]
  },
  {
   "cell_type": "code",
   "execution_count": 7,
   "metadata": {},
   "outputs": [],
   "source": [
    "aag.split()"
   ]
  },
  {
   "cell_type": "code",
   "execution_count": 8,
   "metadata": {},
   "outputs": [
    {
     "data": {
      "text/plain": [
       "(827, 20600)"
      ]
     },
     "execution_count": 8,
     "metadata": {},
     "output_type": "execute_result"
    }
   ],
   "source": [
    "aag.get('X', 'train').shape"
   ]
  },
  {
   "cell_type": "code",
   "execution_count": 9,
   "metadata": {},
   "outputs": [],
   "source": [
    "\n",
    "aag.fs(f_regression, n=0.1)"
   ]
  },
  {
   "cell_type": "code",
   "execution_count": 10,
   "metadata": {},
   "outputs": [
    {
     "data": {
      "text/plain": [
       "(827, 2060)"
      ]
     },
     "execution_count": 10,
     "metadata": {},
     "output_type": "execute_result"
    }
   ],
   "source": [
    "aag.get('X', 'train').shape"
   ]
  },
  {
   "cell_type": "code",
   "execution_count": null,
   "metadata": {},
   "outputs": [],
   "source": [
    "aag.X['fs_test']"
   ]
  },
  {
   "cell_type": "markdown",
   "metadata": {},
   "source": [
    "## Speeding up combine"
   ]
  },
  {
   "cell_type": "code",
   "execution_count": 14,
   "metadata": {},
   "outputs": [],
   "source": [
    "gdsc_dr = pd.read_csv('data/Processed/gdsc_poz_dr.csv').fillna(0)\n",
    "gdsc_ge = pd.read_csv('data/Processed/gdsc_cell_ge.csv').fillna(0).set_index('CCL')"
   ]
  },
  {
   "cell_type": "code",
   "execution_count": 15,
   "metadata": {},
   "outputs": [],
   "source": [
    "dr = gdsc_dr\n",
    "ge = gdsc_ge"
   ]
  },
  {
   "cell_type": "code",
   "execution_count": 35,
   "metadata": {},
   "outputs": [
    {
     "data": {
      "text/html": [
       "<div>\n",
       "<style scoped>\n",
       "    .dataframe tbody tr th:only-of-type {\n",
       "        vertical-align: middle;\n",
       "    }\n",
       "\n",
       "    .dataframe tbody tr th {\n",
       "        vertical-align: top;\n",
       "    }\n",
       "\n",
       "    .dataframe thead th {\n",
       "        text-align: right;\n",
       "    }\n",
       "</style>\n",
       "<table border=\"1\" class=\"dataframe\">\n",
       "  <thead>\n",
       "    <tr style=\"text-align: right;\">\n",
       "      <th></th>\n",
       "      <th>A1BG</th>\n",
       "      <th>A1CF</th>\n",
       "      <th>A2M</th>\n",
       "      <th>A2ML1</th>\n",
       "      <th>A3GALT2</th>\n",
       "      <th>A3GALT2P</th>\n",
       "      <th>A4GALT</th>\n",
       "      <th>A4GNT</th>\n",
       "      <th>AAAS</th>\n",
       "      <th>AACS</th>\n",
       "      <th>...</th>\n",
       "      <th>ZWILCH</th>\n",
       "      <th>ZWINT</th>\n",
       "      <th>ZXDB</th>\n",
       "      <th>ZXDC</th>\n",
       "      <th>ZYG11A</th>\n",
       "      <th>ZYG11B</th>\n",
       "      <th>ZYX</th>\n",
       "      <th>ZZEF1</th>\n",
       "      <th>ZZZ3</th>\n",
       "      <th>AUC_IC50</th>\n",
       "    </tr>\n",
       "    <tr>\n",
       "      <th>CCL</th>\n",
       "      <th></th>\n",
       "      <th></th>\n",
       "      <th></th>\n",
       "      <th></th>\n",
       "      <th></th>\n",
       "      <th></th>\n",
       "      <th></th>\n",
       "      <th></th>\n",
       "      <th></th>\n",
       "      <th></th>\n",
       "      <th></th>\n",
       "      <th></th>\n",
       "      <th></th>\n",
       "      <th></th>\n",
       "      <th></th>\n",
       "      <th></th>\n",
       "      <th></th>\n",
       "      <th></th>\n",
       "      <th></th>\n",
       "      <th></th>\n",
       "      <th></th>\n",
       "    </tr>\n",
       "  </thead>\n",
       "  <tbody>\n",
       "    <tr>\n",
       "      <th>22RV1</th>\n",
       "      <td>3.537942</td>\n",
       "      <td>6.364651</td>\n",
       "      <td>5.332441</td>\n",
       "      <td>2.923030</td>\n",
       "      <td>2.815383</td>\n",
       "      <td>2.815383</td>\n",
       "      <td>3.241125</td>\n",
       "      <td>3.262633</td>\n",
       "      <td>4.722157</td>\n",
       "      <td>4.942126</td>\n",
       "      <td>...</td>\n",
       "      <td>7.526319</td>\n",
       "      <td>9.274166</td>\n",
       "      <td>3.785757</td>\n",
       "      <td>5.201929</td>\n",
       "      <td>2.742575</td>\n",
       "      <td>4.635015</td>\n",
       "      <td>3.940190</td>\n",
       "      <td>4.658663</td>\n",
       "      <td>8.088672</td>\n",
       "      <td>0.169156</td>\n",
       "    </tr>\n",
       "    <tr>\n",
       "      <th>2313287</th>\n",
       "      <td>3.370950</td>\n",
       "      <td>6.284884</td>\n",
       "      <td>3.485675</td>\n",
       "      <td>2.831562</td>\n",
       "      <td>2.913369</td>\n",
       "      <td>2.913369</td>\n",
       "      <td>3.313028</td>\n",
       "      <td>3.096527</td>\n",
       "      <td>4.873621</td>\n",
       "      <td>4.213177</td>\n",
       "      <td>...</td>\n",
       "      <td>6.526713</td>\n",
       "      <td>8.021952</td>\n",
       "      <td>3.520584</td>\n",
       "      <td>4.957371</td>\n",
       "      <td>2.636933</td>\n",
       "      <td>4.350120</td>\n",
       "      <td>4.395806</td>\n",
       "      <td>4.598583</td>\n",
       "      <td>7.951146</td>\n",
       "      <td>0.577314</td>\n",
       "    </tr>\n",
       "    <tr>\n",
       "      <th>5637</th>\n",
       "      <td>2.927335</td>\n",
       "      <td>2.892365</td>\n",
       "      <td>3.181651</td>\n",
       "      <td>2.926549</td>\n",
       "      <td>2.677943</td>\n",
       "      <td>2.677943</td>\n",
       "      <td>4.295357</td>\n",
       "      <td>3.205598</td>\n",
       "      <td>5.249042</td>\n",
       "      <td>4.495021</td>\n",
       "      <td>...</td>\n",
       "      <td>7.057572</td>\n",
       "      <td>9.261486</td>\n",
       "      <td>3.492602</td>\n",
       "      <td>4.813163</td>\n",
       "      <td>2.558705</td>\n",
       "      <td>4.580977</td>\n",
       "      <td>4.810975</td>\n",
       "      <td>4.371501</td>\n",
       "      <td>7.974367</td>\n",
       "      <td>0.828724</td>\n",
       "    </tr>\n",
       "    <tr>\n",
       "      <th>639V</th>\n",
       "      <td>3.953010</td>\n",
       "      <td>2.858072</td>\n",
       "      <td>2.892599</td>\n",
       "      <td>2.828334</td>\n",
       "      <td>2.729762</td>\n",
       "      <td>2.729762</td>\n",
       "      <td>2.960059</td>\n",
       "      <td>3.121154</td>\n",
       "      <td>4.445200</td>\n",
       "      <td>4.017422</td>\n",
       "      <td>...</td>\n",
       "      <td>6.310088</td>\n",
       "      <td>8.021780</td>\n",
       "      <td>3.919468</td>\n",
       "      <td>5.923131</td>\n",
       "      <td>2.782005</td>\n",
       "      <td>4.969272</td>\n",
       "      <td>5.481422</td>\n",
       "      <td>5.205446</td>\n",
       "      <td>8.118109</td>\n",
       "      <td>0.726141</td>\n",
       "    </tr>\n",
       "    <tr>\n",
       "      <th>647V</th>\n",
       "      <td>2.804009</td>\n",
       "      <td>2.944390</td>\n",
       "      <td>3.178071</td>\n",
       "      <td>2.675572</td>\n",
       "      <td>2.949402</td>\n",
       "      <td>2.949402</td>\n",
       "      <td>3.029297</td>\n",
       "      <td>3.024326</td>\n",
       "      <td>4.636786</td>\n",
       "      <td>4.724453</td>\n",
       "      <td>...</td>\n",
       "      <td>8.657911</td>\n",
       "      <td>9.426794</td>\n",
       "      <td>3.657576</td>\n",
       "      <td>6.082990</td>\n",
       "      <td>3.148358</td>\n",
       "      <td>5.182059</td>\n",
       "      <td>5.203430</td>\n",
       "      <td>4.806941</td>\n",
       "      <td>8.530606</td>\n",
       "      <td>0.008665</td>\n",
       "    </tr>\n",
       "    <tr>\n",
       "      <th>...</th>\n",
       "      <td>...</td>\n",
       "      <td>...</td>\n",
       "      <td>...</td>\n",
       "      <td>...</td>\n",
       "      <td>...</td>\n",
       "      <td>...</td>\n",
       "      <td>...</td>\n",
       "      <td>...</td>\n",
       "      <td>...</td>\n",
       "      <td>...</td>\n",
       "      <td>...</td>\n",
       "      <td>...</td>\n",
       "      <td>...</td>\n",
       "      <td>...</td>\n",
       "      <td>...</td>\n",
       "      <td>...</td>\n",
       "      <td>...</td>\n",
       "      <td>...</td>\n",
       "      <td>...</td>\n",
       "      <td>...</td>\n",
       "      <td>...</td>\n",
       "    </tr>\n",
       "    <tr>\n",
       "      <th>YAPC</th>\n",
       "      <td>3.043994</td>\n",
       "      <td>3.055992</td>\n",
       "      <td>3.532297</td>\n",
       "      <td>2.946112</td>\n",
       "      <td>2.835091</td>\n",
       "      <td>2.835091</td>\n",
       "      <td>3.273226</td>\n",
       "      <td>3.182387</td>\n",
       "      <td>4.474313</td>\n",
       "      <td>4.238488</td>\n",
       "      <td>...</td>\n",
       "      <td>8.619045</td>\n",
       "      <td>10.392332</td>\n",
       "      <td>3.704526</td>\n",
       "      <td>5.128979</td>\n",
       "      <td>3.082707</td>\n",
       "      <td>4.061633</td>\n",
       "      <td>3.664478</td>\n",
       "      <td>4.276836</td>\n",
       "      <td>7.238275</td>\n",
       "      <td>0.502122</td>\n",
       "    </tr>\n",
       "    <tr>\n",
       "      <th>YH13</th>\n",
       "      <td>5.167861</td>\n",
       "      <td>3.072842</td>\n",
       "      <td>3.049070</td>\n",
       "      <td>3.098071</td>\n",
       "      <td>3.029716</td>\n",
       "      <td>3.029716</td>\n",
       "      <td>2.990092</td>\n",
       "      <td>3.318574</td>\n",
       "      <td>4.561866</td>\n",
       "      <td>3.581945</td>\n",
       "      <td>...</td>\n",
       "      <td>8.048126</td>\n",
       "      <td>8.235304</td>\n",
       "      <td>3.305898</td>\n",
       "      <td>4.745612</td>\n",
       "      <td>2.577626</td>\n",
       "      <td>5.215836</td>\n",
       "      <td>7.003537</td>\n",
       "      <td>4.203823</td>\n",
       "      <td>7.919283</td>\n",
       "      <td>0.881166</td>\n",
       "    </tr>\n",
       "    <tr>\n",
       "      <th>YKG1</th>\n",
       "      <td>4.711624</td>\n",
       "      <td>3.067945</td>\n",
       "      <td>3.306930</td>\n",
       "      <td>3.037960</td>\n",
       "      <td>2.713442</td>\n",
       "      <td>2.713442</td>\n",
       "      <td>3.154398</td>\n",
       "      <td>2.988924</td>\n",
       "      <td>4.586814</td>\n",
       "      <td>3.781220</td>\n",
       "      <td>...</td>\n",
       "      <td>7.978261</td>\n",
       "      <td>9.150385</td>\n",
       "      <td>3.972405</td>\n",
       "      <td>5.166082</td>\n",
       "      <td>2.813449</td>\n",
       "      <td>5.117194</td>\n",
       "      <td>5.085635</td>\n",
       "      <td>4.918170</td>\n",
       "      <td>8.208343</td>\n",
       "      <td>0.803193</td>\n",
       "    </tr>\n",
       "    <tr>\n",
       "      <th>YT</th>\n",
       "      <td>3.143593</td>\n",
       "      <td>3.779792</td>\n",
       "      <td>5.095163</td>\n",
       "      <td>2.879333</td>\n",
       "      <td>2.749091</td>\n",
       "      <td>2.749091</td>\n",
       "      <td>3.186225</td>\n",
       "      <td>3.359589</td>\n",
       "      <td>4.511721</td>\n",
       "      <td>4.241912</td>\n",
       "      <td>...</td>\n",
       "      <td>8.196766</td>\n",
       "      <td>9.205680</td>\n",
       "      <td>3.515323</td>\n",
       "      <td>5.152341</td>\n",
       "      <td>2.472749</td>\n",
       "      <td>5.046783</td>\n",
       "      <td>6.016707</td>\n",
       "      <td>5.168183</td>\n",
       "      <td>7.063949</td>\n",
       "      <td>0.513477</td>\n",
       "    </tr>\n",
       "    <tr>\n",
       "      <th>ZR7530</th>\n",
       "      <td>5.594177</td>\n",
       "      <td>3.032126</td>\n",
       "      <td>3.562195</td>\n",
       "      <td>3.108549</td>\n",
       "      <td>2.767673</td>\n",
       "      <td>2.767673</td>\n",
       "      <td>3.611381</td>\n",
       "      <td>3.247737</td>\n",
       "      <td>4.547910</td>\n",
       "      <td>4.423134</td>\n",
       "      <td>...</td>\n",
       "      <td>7.398583</td>\n",
       "      <td>8.781244</td>\n",
       "      <td>3.574957</td>\n",
       "      <td>5.301549</td>\n",
       "      <td>3.045222</td>\n",
       "      <td>4.952083</td>\n",
       "      <td>4.604161</td>\n",
       "      <td>4.472996</td>\n",
       "      <td>7.675603</td>\n",
       "      <td>0.463716</td>\n",
       "    </tr>\n",
       "  </tbody>\n",
       "</table>\n",
       "<p>660 rows × 19563 columns</p>\n",
       "</div>"
      ],
      "text/plain": [
       "             A1BG      A1CF       A2M     A2ML1   A3GALT2  A3GALT2P    A4GALT  \\\n",
       "CCL                                                                             \n",
       "22RV1    3.537942  6.364651  5.332441  2.923030  2.815383  2.815383  3.241125   \n",
       "2313287  3.370950  6.284884  3.485675  2.831562  2.913369  2.913369  3.313028   \n",
       "5637     2.927335  2.892365  3.181651  2.926549  2.677943  2.677943  4.295357   \n",
       "639V     3.953010  2.858072  2.892599  2.828334  2.729762  2.729762  2.960059   \n",
       "647V     2.804009  2.944390  3.178071  2.675572  2.949402  2.949402  3.029297   \n",
       "...           ...       ...       ...       ...       ...       ...       ...   \n",
       "YAPC     3.043994  3.055992  3.532297  2.946112  2.835091  2.835091  3.273226   \n",
       "YH13     5.167861  3.072842  3.049070  3.098071  3.029716  3.029716  2.990092   \n",
       "YKG1     4.711624  3.067945  3.306930  3.037960  2.713442  2.713442  3.154398   \n",
       "YT       3.143593  3.779792  5.095163  2.879333  2.749091  2.749091  3.186225   \n",
       "ZR7530   5.594177  3.032126  3.562195  3.108549  2.767673  2.767673  3.611381   \n",
       "\n",
       "            A4GNT      AAAS      AACS  ...    ZWILCH      ZWINT      ZXDB  \\\n",
       "CCL                                    ...                                  \n",
       "22RV1    3.262633  4.722157  4.942126  ...  7.526319   9.274166  3.785757   \n",
       "2313287  3.096527  4.873621  4.213177  ...  6.526713   8.021952  3.520584   \n",
       "5637     3.205598  5.249042  4.495021  ...  7.057572   9.261486  3.492602   \n",
       "639V     3.121154  4.445200  4.017422  ...  6.310088   8.021780  3.919468   \n",
       "647V     3.024326  4.636786  4.724453  ...  8.657911   9.426794  3.657576   \n",
       "...           ...       ...       ...  ...       ...        ...       ...   \n",
       "YAPC     3.182387  4.474313  4.238488  ...  8.619045  10.392332  3.704526   \n",
       "YH13     3.318574  4.561866  3.581945  ...  8.048126   8.235304  3.305898   \n",
       "YKG1     2.988924  4.586814  3.781220  ...  7.978261   9.150385  3.972405   \n",
       "YT       3.359589  4.511721  4.241912  ...  8.196766   9.205680  3.515323   \n",
       "ZR7530   3.247737  4.547910  4.423134  ...  7.398583   8.781244  3.574957   \n",
       "\n",
       "             ZXDC    ZYG11A    ZYG11B       ZYX     ZZEF1      ZZZ3  AUC_IC50  \n",
       "CCL                                                                            \n",
       "22RV1    5.201929  2.742575  4.635015  3.940190  4.658663  8.088672  0.169156  \n",
       "2313287  4.957371  2.636933  4.350120  4.395806  4.598583  7.951146  0.577314  \n",
       "5637     4.813163  2.558705  4.580977  4.810975  4.371501  7.974367  0.828724  \n",
       "639V     5.923131  2.782005  4.969272  5.481422  5.205446  8.118109  0.726141  \n",
       "647V     6.082990  3.148358  5.182059  5.203430  4.806941  8.530606  0.008665  \n",
       "...           ...       ...       ...       ...       ...       ...       ...  \n",
       "YAPC     5.128979  3.082707  4.061633  3.664478  4.276836  7.238275  0.502122  \n",
       "YH13     4.745612  2.577626  5.215836  7.003537  4.203823  7.919283  0.881166  \n",
       "YKG1     5.166082  2.813449  5.117194  5.085635  4.918170  8.208343  0.803193  \n",
       "YT       5.152341  2.472749  5.046783  6.016707  5.168183  7.063949  0.513477  \n",
       "ZR7530   5.301549  3.045222  4.952083  4.604161  4.472996  7.675603  0.463716  \n",
       "\n",
       "[660 rows x 19563 columns]"
      ]
     },
     "execution_count": 35,
     "metadata": {},
     "output_type": "execute_result"
    }
   ],
   "source": [
    "ge.join(dr[dr['Drug_name'] == '17-AAG'][['CCL', 'AUC_IC50']].set_index('CCL'), how='right')"
   ]
  },
  {
   "cell_type": "code",
   "execution_count": 28,
   "metadata": {},
   "outputs": [
    {
     "data": {
      "text/html": [
       "<div>\n",
       "<style scoped>\n",
       "    .dataframe tbody tr th:only-of-type {\n",
       "        vertical-align: middle;\n",
       "    }\n",
       "\n",
       "    .dataframe tbody tr th {\n",
       "        vertical-align: top;\n",
       "    }\n",
       "\n",
       "    .dataframe thead th {\n",
       "        text-align: right;\n",
       "    }\n",
       "</style>\n",
       "<table border=\"1\" class=\"dataframe\">\n",
       "  <thead>\n",
       "    <tr style=\"text-align: right;\">\n",
       "      <th></th>\n",
       "      <th>AUC_IC50</th>\n",
       "    </tr>\n",
       "    <tr>\n",
       "      <th>CCL</th>\n",
       "      <th></th>\n",
       "    </tr>\n",
       "  </thead>\n",
       "  <tbody>\n",
       "    <tr>\n",
       "      <th>22RV1</th>\n",
       "      <td>0.169156</td>\n",
       "    </tr>\n",
       "    <tr>\n",
       "      <th>2313287</th>\n",
       "      <td>0.577314</td>\n",
       "    </tr>\n",
       "    <tr>\n",
       "      <th>5637</th>\n",
       "      <td>0.828724</td>\n",
       "    </tr>\n",
       "    <tr>\n",
       "      <th>639V</th>\n",
       "      <td>0.726141</td>\n",
       "    </tr>\n",
       "    <tr>\n",
       "      <th>647V</th>\n",
       "      <td>0.008665</td>\n",
       "    </tr>\n",
       "    <tr>\n",
       "      <th>...</th>\n",
       "      <td>...</td>\n",
       "    </tr>\n",
       "    <tr>\n",
       "      <th>YAPC</th>\n",
       "      <td>0.502122</td>\n",
       "    </tr>\n",
       "    <tr>\n",
       "      <th>YH13</th>\n",
       "      <td>0.881166</td>\n",
       "    </tr>\n",
       "    <tr>\n",
       "      <th>YKG1</th>\n",
       "      <td>0.803193</td>\n",
       "    </tr>\n",
       "    <tr>\n",
       "      <th>YT</th>\n",
       "      <td>0.513477</td>\n",
       "    </tr>\n",
       "    <tr>\n",
       "      <th>ZR7530</th>\n",
       "      <td>0.463716</td>\n",
       "    </tr>\n",
       "  </tbody>\n",
       "</table>\n",
       "<p>660 rows × 1 columns</p>\n",
       "</div>"
      ],
      "text/plain": [
       "         AUC_IC50\n",
       "CCL              \n",
       "22RV1    0.169156\n",
       "2313287  0.577314\n",
       "5637     0.828724\n",
       "639V     0.726141\n",
       "647V     0.008665\n",
       "...           ...\n",
       "YAPC     0.502122\n",
       "YH13     0.881166\n",
       "YKG1     0.803193\n",
       "YT       0.513477\n",
       "ZR7530   0.463716\n",
       "\n",
       "[660 rows x 1 columns]"
      ]
     },
     "execution_count": 28,
     "metadata": {},
     "output_type": "execute_result"
    }
   ],
   "source": [
    "dr[dr['Drug_name'] == '17-AAG'][['CCL', 'AUC_IC50']].set_index('CCL')"
   ]
  },
  {
   "cell_type": "code",
   "execution_count": 16,
   "metadata": {},
   "outputs": [
    {
     "name": "stdout",
     "output_type": "stream",
     "text": [
      "CPU times: user 7.94 ms, sys: 1.2 ms, total: 9.14 ms\n",
      "Wall time: 15.4 ms\n"
     ]
    }
   ],
   "source": [
    "%%time\n",
    "drug_dr = dr[dr['Drug_name'] == '17-AAG'][['CCL', 'AUC_IC50']]"
   ]
  },
  {
   "cell_type": "code",
   "execution_count": 17,
   "metadata": {},
   "outputs": [
    {
     "name": "stdout",
     "output_type": "stream",
     "text": [
      "CPU times: user 2.9 s, sys: 258 ms, total: 3.16 s\n",
      "Wall time: 3.33 s\n"
     ]
    }
   ],
   "source": [
    "%%time\n",
    "X = np.array([list(ge.loc[i].values) for i in drug_dr[drug_dr['CCL'].isin(ge.index)]['CCL']])"
   ]
  },
  {
   "cell_type": "code",
   "execution_count": 18,
   "metadata": {},
   "outputs": [
    {
     "name": "stdout",
     "output_type": "stream",
     "text": [
      "CPU times: user 31 µs, sys: 1 µs, total: 32 µs\n",
      "Wall time: 35 µs\n"
     ]
    }
   ],
   "source": [
    "%%time\n",
    "X = X.reshape(drug_dr.shape[0], ge.shape[1])"
   ]
  },
  {
   "cell_type": "code",
   "execution_count": 19,
   "metadata": {},
   "outputs": [
    {
     "name": "stdout",
     "output_type": "stream",
     "text": [
      "CPU times: user 48.3 ms, sys: 9.44 ms, total: 57.7 ms\n",
      "Wall time: 66.9 ms\n"
     ]
    }
   ],
   "source": [
    "%%time\n",
    "data = pd.DataFrame(X).assign(DR = drug_dr['AUC_IC50'])"
   ]
  },
  {
   "cell_type": "code",
   "execution_count": 66,
   "metadata": {},
   "outputs": [
    {
     "data": {
      "text/html": [
       "<div>\n",
       "<style scoped>\n",
       "    .dataframe tbody tr th:only-of-type {\n",
       "        vertical-align: middle;\n",
       "    }\n",
       "\n",
       "    .dataframe tbody tr th {\n",
       "        vertical-align: top;\n",
       "    }\n",
       "\n",
       "    .dataframe thead th {\n",
       "        text-align: right;\n",
       "    }\n",
       "</style>\n",
       "<table border=\"1\" class=\"dataframe\">\n",
       "  <thead>\n",
       "    <tr style=\"text-align: right;\">\n",
       "      <th></th>\n",
       "      <th>0</th>\n",
       "      <th>1</th>\n",
       "      <th>2</th>\n",
       "      <th>3</th>\n",
       "      <th>4</th>\n",
       "      <th>5</th>\n",
       "      <th>6</th>\n",
       "      <th>7</th>\n",
       "      <th>8</th>\n",
       "      <th>9</th>\n",
       "      <th>...</th>\n",
       "      <th>19553</th>\n",
       "      <th>19554</th>\n",
       "      <th>19555</th>\n",
       "      <th>19556</th>\n",
       "      <th>19557</th>\n",
       "      <th>19558</th>\n",
       "      <th>19559</th>\n",
       "      <th>19560</th>\n",
       "      <th>19561</th>\n",
       "      <th>DR</th>\n",
       "    </tr>\n",
       "  </thead>\n",
       "  <tbody>\n",
       "    <tr>\n",
       "      <th>0</th>\n",
       "      <td>3.537942</td>\n",
       "      <td>6.364651</td>\n",
       "      <td>5.332441</td>\n",
       "      <td>2.923030</td>\n",
       "      <td>2.815383</td>\n",
       "      <td>2.815383</td>\n",
       "      <td>3.241125</td>\n",
       "      <td>3.262633</td>\n",
       "      <td>4.722157</td>\n",
       "      <td>4.942126</td>\n",
       "      <td>...</td>\n",
       "      <td>7.526319</td>\n",
       "      <td>9.274166</td>\n",
       "      <td>3.785757</td>\n",
       "      <td>5.201929</td>\n",
       "      <td>2.742575</td>\n",
       "      <td>4.635015</td>\n",
       "      <td>3.940190</td>\n",
       "      <td>4.658663</td>\n",
       "      <td>8.088672</td>\n",
       "      <td>0.169156</td>\n",
       "    </tr>\n",
       "    <tr>\n",
       "      <th>1</th>\n",
       "      <td>3.370950</td>\n",
       "      <td>6.284884</td>\n",
       "      <td>3.485675</td>\n",
       "      <td>2.831562</td>\n",
       "      <td>2.913369</td>\n",
       "      <td>2.913369</td>\n",
       "      <td>3.313028</td>\n",
       "      <td>3.096527</td>\n",
       "      <td>4.873621</td>\n",
       "      <td>4.213177</td>\n",
       "      <td>...</td>\n",
       "      <td>6.526713</td>\n",
       "      <td>8.021952</td>\n",
       "      <td>3.520584</td>\n",
       "      <td>4.957371</td>\n",
       "      <td>2.636933</td>\n",
       "      <td>4.350120</td>\n",
       "      <td>4.395806</td>\n",
       "      <td>4.598583</td>\n",
       "      <td>7.951146</td>\n",
       "      <td>0.577314</td>\n",
       "    </tr>\n",
       "    <tr>\n",
       "      <th>2</th>\n",
       "      <td>2.927335</td>\n",
       "      <td>2.892365</td>\n",
       "      <td>3.181651</td>\n",
       "      <td>2.926549</td>\n",
       "      <td>2.677943</td>\n",
       "      <td>2.677943</td>\n",
       "      <td>4.295357</td>\n",
       "      <td>3.205598</td>\n",
       "      <td>5.249042</td>\n",
       "      <td>4.495021</td>\n",
       "      <td>...</td>\n",
       "      <td>7.057572</td>\n",
       "      <td>9.261486</td>\n",
       "      <td>3.492602</td>\n",
       "      <td>4.813163</td>\n",
       "      <td>2.558705</td>\n",
       "      <td>4.580977</td>\n",
       "      <td>4.810975</td>\n",
       "      <td>4.371501</td>\n",
       "      <td>7.974367</td>\n",
       "      <td>0.828724</td>\n",
       "    </tr>\n",
       "    <tr>\n",
       "      <th>3</th>\n",
       "      <td>3.953010</td>\n",
       "      <td>2.858072</td>\n",
       "      <td>2.892599</td>\n",
       "      <td>2.828334</td>\n",
       "      <td>2.729762</td>\n",
       "      <td>2.729762</td>\n",
       "      <td>2.960059</td>\n",
       "      <td>3.121154</td>\n",
       "      <td>4.445200</td>\n",
       "      <td>4.017422</td>\n",
       "      <td>...</td>\n",
       "      <td>6.310088</td>\n",
       "      <td>8.021780</td>\n",
       "      <td>3.919468</td>\n",
       "      <td>5.923131</td>\n",
       "      <td>2.782005</td>\n",
       "      <td>4.969272</td>\n",
       "      <td>5.481422</td>\n",
       "      <td>5.205446</td>\n",
       "      <td>8.118109</td>\n",
       "      <td>0.726141</td>\n",
       "    </tr>\n",
       "    <tr>\n",
       "      <th>4</th>\n",
       "      <td>2.804009</td>\n",
       "      <td>2.944390</td>\n",
       "      <td>3.178071</td>\n",
       "      <td>2.675572</td>\n",
       "      <td>2.949402</td>\n",
       "      <td>2.949402</td>\n",
       "      <td>3.029297</td>\n",
       "      <td>3.024326</td>\n",
       "      <td>4.636786</td>\n",
       "      <td>4.724453</td>\n",
       "      <td>...</td>\n",
       "      <td>8.657911</td>\n",
       "      <td>9.426794</td>\n",
       "      <td>3.657576</td>\n",
       "      <td>6.082990</td>\n",
       "      <td>3.148358</td>\n",
       "      <td>5.182059</td>\n",
       "      <td>5.203430</td>\n",
       "      <td>4.806941</td>\n",
       "      <td>8.530606</td>\n",
       "      <td>0.008665</td>\n",
       "    </tr>\n",
       "    <tr>\n",
       "      <th>...</th>\n",
       "      <td>...</td>\n",
       "      <td>...</td>\n",
       "      <td>...</td>\n",
       "      <td>...</td>\n",
       "      <td>...</td>\n",
       "      <td>...</td>\n",
       "      <td>...</td>\n",
       "      <td>...</td>\n",
       "      <td>...</td>\n",
       "      <td>...</td>\n",
       "      <td>...</td>\n",
       "      <td>...</td>\n",
       "      <td>...</td>\n",
       "      <td>...</td>\n",
       "      <td>...</td>\n",
       "      <td>...</td>\n",
       "      <td>...</td>\n",
       "      <td>...</td>\n",
       "      <td>...</td>\n",
       "      <td>...</td>\n",
       "      <td>...</td>\n",
       "    </tr>\n",
       "    <tr>\n",
       "      <th>655</th>\n",
       "      <td>3.043994</td>\n",
       "      <td>3.055992</td>\n",
       "      <td>3.532297</td>\n",
       "      <td>2.946112</td>\n",
       "      <td>2.835091</td>\n",
       "      <td>2.835091</td>\n",
       "      <td>3.273226</td>\n",
       "      <td>3.182387</td>\n",
       "      <td>4.474313</td>\n",
       "      <td>4.238488</td>\n",
       "      <td>...</td>\n",
       "      <td>8.619045</td>\n",
       "      <td>10.392332</td>\n",
       "      <td>3.704526</td>\n",
       "      <td>5.128979</td>\n",
       "      <td>3.082707</td>\n",
       "      <td>4.061633</td>\n",
       "      <td>3.664478</td>\n",
       "      <td>4.276836</td>\n",
       "      <td>7.238275</td>\n",
       "      <td>0.502122</td>\n",
       "    </tr>\n",
       "    <tr>\n",
       "      <th>656</th>\n",
       "      <td>5.167861</td>\n",
       "      <td>3.072842</td>\n",
       "      <td>3.049070</td>\n",
       "      <td>3.098071</td>\n",
       "      <td>3.029716</td>\n",
       "      <td>3.029716</td>\n",
       "      <td>2.990092</td>\n",
       "      <td>3.318574</td>\n",
       "      <td>4.561866</td>\n",
       "      <td>3.581945</td>\n",
       "      <td>...</td>\n",
       "      <td>8.048126</td>\n",
       "      <td>8.235304</td>\n",
       "      <td>3.305898</td>\n",
       "      <td>4.745612</td>\n",
       "      <td>2.577626</td>\n",
       "      <td>5.215836</td>\n",
       "      <td>7.003537</td>\n",
       "      <td>4.203823</td>\n",
       "      <td>7.919283</td>\n",
       "      <td>0.881166</td>\n",
       "    </tr>\n",
       "    <tr>\n",
       "      <th>657</th>\n",
       "      <td>4.711624</td>\n",
       "      <td>3.067945</td>\n",
       "      <td>3.306930</td>\n",
       "      <td>3.037960</td>\n",
       "      <td>2.713442</td>\n",
       "      <td>2.713442</td>\n",
       "      <td>3.154398</td>\n",
       "      <td>2.988924</td>\n",
       "      <td>4.586814</td>\n",
       "      <td>3.781220</td>\n",
       "      <td>...</td>\n",
       "      <td>7.978261</td>\n",
       "      <td>9.150385</td>\n",
       "      <td>3.972405</td>\n",
       "      <td>5.166082</td>\n",
       "      <td>2.813449</td>\n",
       "      <td>5.117194</td>\n",
       "      <td>5.085635</td>\n",
       "      <td>4.918170</td>\n",
       "      <td>8.208343</td>\n",
       "      <td>0.803193</td>\n",
       "    </tr>\n",
       "    <tr>\n",
       "      <th>658</th>\n",
       "      <td>3.143593</td>\n",
       "      <td>3.779792</td>\n",
       "      <td>5.095163</td>\n",
       "      <td>2.879333</td>\n",
       "      <td>2.749091</td>\n",
       "      <td>2.749091</td>\n",
       "      <td>3.186225</td>\n",
       "      <td>3.359589</td>\n",
       "      <td>4.511721</td>\n",
       "      <td>4.241912</td>\n",
       "      <td>...</td>\n",
       "      <td>8.196766</td>\n",
       "      <td>9.205680</td>\n",
       "      <td>3.515323</td>\n",
       "      <td>5.152341</td>\n",
       "      <td>2.472749</td>\n",
       "      <td>5.046783</td>\n",
       "      <td>6.016707</td>\n",
       "      <td>5.168183</td>\n",
       "      <td>7.063949</td>\n",
       "      <td>0.513477</td>\n",
       "    </tr>\n",
       "    <tr>\n",
       "      <th>659</th>\n",
       "      <td>5.594177</td>\n",
       "      <td>3.032126</td>\n",
       "      <td>3.562195</td>\n",
       "      <td>3.108549</td>\n",
       "      <td>2.767673</td>\n",
       "      <td>2.767673</td>\n",
       "      <td>3.611381</td>\n",
       "      <td>3.247737</td>\n",
       "      <td>4.547910</td>\n",
       "      <td>4.423134</td>\n",
       "      <td>...</td>\n",
       "      <td>7.398583</td>\n",
       "      <td>8.781244</td>\n",
       "      <td>3.574957</td>\n",
       "      <td>5.301549</td>\n",
       "      <td>3.045222</td>\n",
       "      <td>4.952083</td>\n",
       "      <td>4.604161</td>\n",
       "      <td>4.472996</td>\n",
       "      <td>7.675603</td>\n",
       "      <td>0.463716</td>\n",
       "    </tr>\n",
       "  </tbody>\n",
       "</table>\n",
       "<p>660 rows × 19563 columns</p>\n",
       "</div>"
      ],
      "text/plain": [
       "            0         1         2         3         4         5         6  \\\n",
       "0    3.537942  6.364651  5.332441  2.923030  2.815383  2.815383  3.241125   \n",
       "1    3.370950  6.284884  3.485675  2.831562  2.913369  2.913369  3.313028   \n",
       "2    2.927335  2.892365  3.181651  2.926549  2.677943  2.677943  4.295357   \n",
       "3    3.953010  2.858072  2.892599  2.828334  2.729762  2.729762  2.960059   \n",
       "4    2.804009  2.944390  3.178071  2.675572  2.949402  2.949402  3.029297   \n",
       "..        ...       ...       ...       ...       ...       ...       ...   \n",
       "655  3.043994  3.055992  3.532297  2.946112  2.835091  2.835091  3.273226   \n",
       "656  5.167861  3.072842  3.049070  3.098071  3.029716  3.029716  2.990092   \n",
       "657  4.711624  3.067945  3.306930  3.037960  2.713442  2.713442  3.154398   \n",
       "658  3.143593  3.779792  5.095163  2.879333  2.749091  2.749091  3.186225   \n",
       "659  5.594177  3.032126  3.562195  3.108549  2.767673  2.767673  3.611381   \n",
       "\n",
       "            7         8         9  ...     19553      19554     19555  \\\n",
       "0    3.262633  4.722157  4.942126  ...  7.526319   9.274166  3.785757   \n",
       "1    3.096527  4.873621  4.213177  ...  6.526713   8.021952  3.520584   \n",
       "2    3.205598  5.249042  4.495021  ...  7.057572   9.261486  3.492602   \n",
       "3    3.121154  4.445200  4.017422  ...  6.310088   8.021780  3.919468   \n",
       "4    3.024326  4.636786  4.724453  ...  8.657911   9.426794  3.657576   \n",
       "..        ...       ...       ...  ...       ...        ...       ...   \n",
       "655  3.182387  4.474313  4.238488  ...  8.619045  10.392332  3.704526   \n",
       "656  3.318574  4.561866  3.581945  ...  8.048126   8.235304  3.305898   \n",
       "657  2.988924  4.586814  3.781220  ...  7.978261   9.150385  3.972405   \n",
       "658  3.359589  4.511721  4.241912  ...  8.196766   9.205680  3.515323   \n",
       "659  3.247737  4.547910  4.423134  ...  7.398583   8.781244  3.574957   \n",
       "\n",
       "        19556     19557     19558     19559     19560     19561        DR  \n",
       "0    5.201929  2.742575  4.635015  3.940190  4.658663  8.088672  0.169156  \n",
       "1    4.957371  2.636933  4.350120  4.395806  4.598583  7.951146  0.577314  \n",
       "2    4.813163  2.558705  4.580977  4.810975  4.371501  7.974367  0.828724  \n",
       "3    5.923131  2.782005  4.969272  5.481422  5.205446  8.118109  0.726141  \n",
       "4    6.082990  3.148358  5.182059  5.203430  4.806941  8.530606  0.008665  \n",
       "..        ...       ...       ...       ...       ...       ...       ...  \n",
       "655  5.128979  3.082707  4.061633  3.664478  4.276836  7.238275  0.502122  \n",
       "656  4.745612  2.577626  5.215836  7.003537  4.203823  7.919283  0.881166  \n",
       "657  5.166082  2.813449  5.117194  5.085635  4.918170  8.208343  0.803193  \n",
       "658  5.152341  2.472749  5.046783  6.016707  5.168183  7.063949  0.513477  \n",
       "659  5.301549  3.045222  4.952083  4.604161  4.472996  7.675603  0.463716  \n",
       "\n",
       "[660 rows x 19563 columns]"
      ]
     },
     "execution_count": 66,
     "metadata": {},
     "output_type": "execute_result"
    }
   ],
   "source": [
    "data"
   ]
  },
  {
   "cell_type": "markdown",
   "metadata": {},
   "source": [
    "## Speeding up pre-processing"
   ]
  },
  {
   "cell_type": "code",
   "execution_count": 2,
   "metadata": {},
   "outputs": [],
   "source": [
    "gdsc_ge = pd.read_csv('data/Processed/gdsc_cell_ge.csv').fillna(0).set_index('CCL')"
   ]
  },
  {
   "cell_type": "code",
   "execution_count": 3,
   "metadata": {},
   "outputs": [
    {
     "name": "stdout",
     "output_type": "stream",
     "text": [
      "<class 'pandas.core.indexes.base.Index'>\n"
     ]
    }
   ],
   "source": [
    "print(type(gdsc_ge.keys()))"
   ]
  },
  {
   "cell_type": "code",
   "execution_count": 5,
   "metadata": {},
   "outputs": [
    {
     "data": {
      "text/plain": [
       "(706, 19562)"
      ]
     },
     "execution_count": 5,
     "metadata": {},
     "output_type": "execute_result"
    }
   ],
   "source": [
    "gdsc_ge.shape"
   ]
  },
  {
   "cell_type": "code",
   "execution_count": 6,
   "metadata": {},
   "outputs": [
    {
     "data": {
      "text/plain": [
       "706"
      ]
     },
     "execution_count": 6,
     "metadata": {},
     "output_type": "execute_result"
    }
   ],
   "source": [
    "gdsc_ge.shape[0]"
   ]
  },
  {
   "cell_type": "code",
   "execution_count": 8,
   "metadata": {},
   "outputs": [
    {
     "name": "stdout",
     "output_type": "stream",
     "text": [
      "CPU times: user 117 ms, sys: 6.79 ms, total: 124 ms\n",
      "Wall time: 125 ms\n"
     ]
    }
   ],
   "source": [
    "%%time\n",
    "under = (gdsc_ge.to_numpy()>5).T.astype(np.int8)\n",
    "\n",
    "n = [np.count_nonzero(i) > 0.1*gdsc_ge.shape[0] for i in under]\n",
    "names = {gdsc_ge.keys()[k]:v for k, v in enumerate(n)}\n",
    "indices = [k for k,v in names.items() if v]\n",
    "index = gdsc_ge[indices]"
   ]
  },
  {
   "cell_type": "code",
   "execution_count": 9,
   "metadata": {},
   "outputs": [
    {
     "name": "stdout",
     "output_type": "stream",
     "text": [
      "CPU times: user 6.17 s, sys: 127 ms, total: 6.3 s\n",
      "Wall time: 6.36 s\n"
     ]
    }
   ],
   "source": [
    "%%time\n",
    "index2 = pre(gdsc_ge,t=5, p=0.1)"
   ]
  },
  {
   "cell_type": "code",
   "execution_count": 10,
   "metadata": {},
   "outputs": [
    {
     "data": {
      "text/plain": [
       "(706, 9919)"
      ]
     },
     "execution_count": 10,
     "metadata": {},
     "output_type": "execute_result"
    }
   ],
   "source": [
    "index.shape"
   ]
  },
  {
   "cell_type": "code",
   "execution_count": 11,
   "metadata": {},
   "outputs": [
    {
     "data": {
      "text/plain": [
       "(706, 9919)"
      ]
     },
     "execution_count": 11,
     "metadata": {},
     "output_type": "execute_result"
    }
   ],
   "source": [
    "index2.shape"
   ]
  },
  {
   "cell_type": "markdown",
   "metadata": {},
   "source": [
    "## Domain Adaptation experiments"
   ]
  },
  {
   "cell_type": "code",
   "execution_count": 113,
   "metadata": {},
   "outputs": [],
   "source": [
    "X_a = np.random.rand(3, 2) * 3"
   ]
  },
  {
   "cell_type": "code",
   "execution_count": 114,
   "metadata": {},
   "outputs": [],
   "source": [
    "X_b = np.random.rand(3, 2) * 4"
   ]
  },
  {
   "cell_type": "code",
   "execution_count": 115,
   "metadata": {},
   "outputs": [],
   "source": [
    "X_c = np.random.rand(3, 2) * 5"
   ]
  },
  {
   "cell_type": "code",
   "execution_count": 116,
   "metadata": {},
   "outputs": [],
   "source": [
    "def jump(domain, n, data):\n",
    "    result = []\n",
    "    for i, ele in enumerate(data):\n",
    "        result.append(ele)\n",
    "        for j in range(0, domain):\n",
    "            result.append(0)\n",
    "        result.append(ele)\n",
    "        for j in range(0, n-domain-1):\n",
    "            result.append(0)\n",
    "    return result\n",
    "    "
   ]
  },
  {
   "cell_type": "code",
   "execution_count": 117,
   "metadata": {},
   "outputs": [],
   "source": [
    "def feda(domains):\n",
    "    n = len(domains)\n",
    "    \n",
    "    samples = 0\n",
    "    for i in domains:\n",
    "        samples += i.shape[0]\n",
    "    \n",
    "    features = domains[0].shape[1]*(n+1)\n",
    "    \n",
    "    new = np.zeros(features)\n",
    "    for i, data in enumerate(domains):\n",
    "        for j in data:\n",
    "            new = np.vstack([new, jump(i, n, j)])\n",
    "            \n",
    "    return new[1:]"
   ]
  },
  {
   "cell_type": "code",
   "execution_count": 118,
   "metadata": {},
   "outputs": [
    {
     "data": {
      "text/plain": [
       "array([[2.39552445, 2.39552445, 0.        , 0.        , 0.8923882 ,\n",
       "        0.8923882 , 0.        , 0.        ],\n",
       "       [2.09713092, 2.09713092, 0.        , 0.        , 1.99024727,\n",
       "        1.99024727, 0.        , 0.        ],\n",
       "       [2.17421497, 2.17421497, 0.        , 0.        , 2.66618415,\n",
       "        2.66618415, 0.        , 0.        ],\n",
       "       [3.77029806, 0.        , 3.77029806, 0.        , 0.52768015,\n",
       "        0.        , 0.52768015, 0.        ],\n",
       "       [3.03560501, 0.        , 3.03560501, 0.        , 1.3673342 ,\n",
       "        0.        , 1.3673342 , 0.        ],\n",
       "       [2.41889914, 0.        , 2.41889914, 0.        , 3.77142649,\n",
       "        0.        , 3.77142649, 0.        ],\n",
       "       [0.70066211, 0.        , 0.        , 0.70066211, 3.89969596,\n",
       "        0.        , 0.        , 3.89969596],\n",
       "       [1.67451535, 0.        , 0.        , 1.67451535, 0.97901028,\n",
       "        0.        , 0.        , 0.97901028],\n",
       "       [0.52645206, 0.        , 0.        , 0.52645206, 1.13973433,\n",
       "        0.        , 0.        , 1.13973433]])"
      ]
     },
     "execution_count": 118,
     "metadata": {},
     "output_type": "execute_result"
    }
   ],
   "source": [
    "feda([X_a, X_b, X_c])"
   ]
  },
  {
   "cell_type": "markdown",
   "metadata": {},
   "source": [
    "## Mess"
   ]
  },
  {
   "cell_type": "code",
   "execution_count": 1,
   "metadata": {},
   "outputs": [],
   "source": [
    "from methods import fs"
   ]
  },
  {
   "cell_type": "code",
   "execution_count": 2,
   "metadata": {},
   "outputs": [
    {
     "data": {
      "text/plain": [
       "' Returns a subset of {X_train} and {X_test} with features being selected by the method {model}\\n    :param int n: it can be the variance thereshold or the number of chosen features \\n    :\\n    '"
      ]
     },
     "execution_count": 2,
     "metadata": {},
     "output_type": "execute_result"
    }
   ],
   "source": [
    "fs.__doc__"
   ]
  },
  {
   "cell_type": "code",
   "execution_count": 1,
   "metadata": {},
   "outputs": [],
   "source": [
    "from classes import drug\n",
    "import pandas as pd\n",
    "from sklearn.tree import DecisionTreeRegressor\n",
    "from sklearn.feature_selection import SelectKBest, SelectPercentile, f_regression, mutual_info_regression, SelectFromModel, VarianceThreshold"
   ]
  },
  {
   "cell_type": "code",
   "execution_count": 2,
   "metadata": {},
   "outputs": [
    {
     "name": "stdout",
     "output_type": "stream",
     "text": [
      "CPU times: user 23 s, sys: 948 ms, total: 23.9 s\n",
      "Wall time: 24.7 s\n"
     ]
    }
   ],
   "source": [
    "%%time\n",
    "gdsc_ge = pd.read_csv('data/Processed/gdsc_cell_ge.csv').fillna(0).set_index('CCL')\n",
    "ctrp_ge = pd.read_csv('data/Processed/ctrp_cell_ge.csv').fillna(0).set_index('CCL')\n",
    "gdsc_dr = pd.read_csv('data/Processed/gdsc_poz_dr.csv').fillna(0)\n",
    "ctrp_dr = pd.read_csv('data/Processed/ctrp_poz_dr.csv').fillna(0)"
   ]
  },
  {
   "cell_type": "code",
   "execution_count": 5,
   "metadata": {},
   "outputs": [
    {
     "name": "stdout",
     "output_type": "stream",
     "text": [
      "Database\n",
      "Drug_name\n",
      "CCL\n",
      "Concentrations_nM\n",
      "Responses\n",
      "Minimal_tested_concentration_nM\n",
      "Maximal_tested_concentration_nM\n",
      "EC50_minimum_asymptote\n",
      "EC50_maximum_asymptote\n",
      "EC50_slope\n",
      "EC50_calculated_nM\n",
      "EC50_nM\n",
      "EC50_residuals\n",
      "EC50_residual_standard_error\n",
      "EC50_quality\n",
      "AUC_EC50\n",
      "IC50_minimum_asymptote\n",
      "IC50_maximum_asymptote\n",
      "IC50_slope\n",
      "IC50_calculated_nM\n",
      "IC50_nM\n",
      "IC50_residuals\n",
      "IC50_residual_standard_error\n",
      "IC50_quality\n",
      "AUC_IC50\n"
     ]
    }
   ],
   "source": [
    "for i in ctrp_dr[:1]:\n",
    "    print(i)"
   ]
  },
  {
   "cell_type": "code",
   "execution_count": 6,
   "metadata": {},
   "outputs": [
    {
     "name": "stdout",
     "output_type": "stream",
     "text": [
      "CPU times: user 982 ms, sys: 111 ms, total: 1.09 s\n",
      "Wall time: 1.15 s\n"
     ]
    }
   ],
   "source": [
    "%%time\n",
    "aag = drug('17-AAG', {'ctrp': ctrp_ge, 'gdsc': gdsc_ge}, {'ctrp': ctrp_dr, 'gdsc': gdsc_dr})"
   ]
  },
  {
   "cell_type": "code",
   "execution_count": 7,
   "metadata": {
    "jupyter": {
     "source_hidden": true
    }
   },
   "outputs": [
    {
     "name": "stdout",
     "output_type": "stream",
     "text": [
      "col\n",
      "<class 'list'>\n",
      "da\n",
      "<class 'dict'>\n",
      "data\n",
      "<class 'pandas.core.frame.DataFrame'>\n",
      "dr\n",
      "<class 'pandas.core.frame.DataFrame'>\n",
      "ge\n",
      "<class 'pandas.core.frame.DataFrame'>\n",
      "name\n",
      "<class 'str'>\n",
      "predicted\n",
      "<class 'list'>\n"
     ]
    }
   ],
   "source": [
    "aag.to_json()"
   ]
  },
  {
   "cell_type": "code",
   "execution_count": 8,
   "metadata": {},
   "outputs": [
    {
     "name": "stdout",
     "output_type": "stream",
     "text": [
      "CPU times: user 515 ms, sys: 310 ms, total: 825 ms\n",
      "Wall time: 921 ms\n"
     ]
    }
   ],
   "source": [
    "%%time\n",
    "aag.pre()"
   ]
  },
  {
   "cell_type": "code",
   "execution_count": 9,
   "metadata": {},
   "outputs": [
    {
     "name": "stdout",
     "output_type": "stream",
     "text": [
      "CPU times: user 455 ms, sys: 364 ms, total: 819 ms\n",
      "Wall time: 847 ms\n"
     ]
    }
   ],
   "source": [
    "%%time\n",
    "aag.combine()"
   ]
  },
  {
   "cell_type": "code",
   "execution_count": 10,
   "metadata": {},
   "outputs": [
    {
     "name": "stdout",
     "output_type": "stream",
     "text": [
      "CPU times: user 158 ms, sys: 122 ms, total: 280 ms\n",
      "Wall time: 303 ms\n"
     ]
    }
   ],
   "source": [
    "%%time\n",
    "aag.split()"
   ]
  },
  {
   "cell_type": "code",
   "execution_count": 11,
   "metadata": {},
   "outputs": [
    {
     "name": "stdout",
     "output_type": "stream",
     "text": [
      "CPU times: user 336 ms, sys: 173 ms, total: 509 ms\n",
      "Wall time: 460 ms\n"
     ]
    }
   ],
   "source": [
    "%%time\n",
    "aag.fs(f_regression, n=0.01)"
   ]
  },
  {
   "cell_type": "code",
   "execution_count": 12,
   "metadata": {},
   "outputs": [
    {
     "name": "stdout",
     "output_type": "stream",
     "text": [
      "CPU times: user 939 ms, sys: 677 ms, total: 1.62 s\n",
      "Wall time: 1.72 s\n"
     ]
    }
   ],
   "source": [
    "%%time\n",
    "aag.feda()"
   ]
  },
  {
   "cell_type": "code",
   "execution_count": 13,
   "metadata": {},
   "outputs": [
    {
     "name": "stdout",
     "output_type": "stream",
     "text": [
      "CPU times: user 247 ms, sys: 45.9 ms, total: 292 ms\n",
      "Wall time: 304 ms\n"
     ]
    }
   ],
   "source": [
    "%%time\n",
    "aag.train(DecisionTreeRegressor())"
   ]
  },
  {
   "cell_type": "code",
   "execution_count": 15,
   "metadata": {},
   "outputs": [
    {
     "ename": "ValueError",
     "evalue": "If using all scalar values, you must pass an index",
     "output_type": "error",
     "traceback": [
      "\u001b[0;31m---------------------------------------------------------------------------\u001b[0m",
      "\u001b[0;31mValueError\u001b[0m                                Traceback (most recent call last)",
      "\u001b[0;32m<ipython-input-15-eecf5f36120f>\u001b[0m in \u001b[0;36m<module>\u001b[0;34m\u001b[0m\n\u001b[1;32m      4\u001b[0m \u001b[0;32mfrom\u001b[0m \u001b[0msklearn\u001b[0m\u001b[0;34m.\u001b[0m\u001b[0mmetrics\u001b[0m \u001b[0;32mimport\u001b[0m \u001b[0mmedian_absolute_error\u001b[0m\u001b[0;34m\u001b[0m\u001b[0;34m\u001b[0m\u001b[0m\n\u001b[1;32m      5\u001b[0m \u001b[0;34m\u001b[0m\u001b[0m\n\u001b[0;32m----> 6\u001b[0;31m \u001b[0maag\u001b[0m\u001b[0;34m.\u001b[0m\u001b[0mmetrics\u001b[0m\u001b[0;34m(\u001b[0m\u001b[0;34m[\u001b[0m\u001b[0mr2_score\u001b[0m\u001b[0;34m,\u001b[0m \u001b[0mmean_absolute_error\u001b[0m\u001b[0;34m,\u001b[0m \u001b[0mmean_squared_error\u001b[0m\u001b[0;34m,\u001b[0m \u001b[0mmedian_absolute_error\u001b[0m\u001b[0;34m]\u001b[0m\u001b[0;34m)\u001b[0m\u001b[0;34m\u001b[0m\u001b[0;34m\u001b[0m\u001b[0m\n\u001b[0m",
      "\u001b[0;32m~/Desktop/Thesis/Code/phc-data-pipeline/classes.py\u001b[0m in \u001b[0;36mmetrics\u001b[0;34m(self, arr)\u001b[0m\n\u001b[1;32m    116\u001b[0m         \u001b[0;32mfor\u001b[0m \u001b[0mmetric\u001b[0m \u001b[0;32min\u001b[0m \u001b[0marr\u001b[0m\u001b[0;34m:\u001b[0m\u001b[0;34m\u001b[0m\u001b[0;34m\u001b[0m\u001b[0m\n\u001b[1;32m    117\u001b[0m             \u001b[0mscores\u001b[0m\u001b[0;34m[\u001b[0m\u001b[0mmetric\u001b[0m\u001b[0;34m.\u001b[0m\u001b[0m__name__\u001b[0m\u001b[0;34m]\u001b[0m \u001b[0;34m=\u001b[0m \u001b[0mmetric\u001b[0m\u001b[0;34m(\u001b[0m\u001b[0mself\u001b[0m\u001b[0;34m.\u001b[0m\u001b[0mget\u001b[0m\u001b[0;34m(\u001b[0m\u001b[0;34m'y'\u001b[0m\u001b[0;34m,\u001b[0m \u001b[0;34m'test'\u001b[0m\u001b[0;34m)\u001b[0m\u001b[0;34m,\u001b[0m \u001b[0mself\u001b[0m\u001b[0;34m.\u001b[0m\u001b[0mpredicted\u001b[0m\u001b[0;34m)\u001b[0m\u001b[0;34m\u001b[0m\u001b[0;34m\u001b[0m\u001b[0m\n\u001b[0;32m--> 118\u001b[0;31m         \u001b[0mself\u001b[0m\u001b[0;34m.\u001b[0m\u001b[0mscores\u001b[0m \u001b[0;34m=\u001b[0m \u001b[0mpd\u001b[0m\u001b[0;34m.\u001b[0m\u001b[0mDataFrame\u001b[0m\u001b[0;34m.\u001b[0m\u001b[0mfrom_dict\u001b[0m\u001b[0;34m(\u001b[0m\u001b[0mscores\u001b[0m\u001b[0;34m,\u001b[0m \u001b[0morient\u001b[0m\u001b[0;34m=\u001b[0m\u001b[0;34m'columns'\u001b[0m\u001b[0;34m)\u001b[0m\u001b[0;34m\u001b[0m\u001b[0;34m\u001b[0m\u001b[0m\n\u001b[0m\u001b[1;32m    119\u001b[0m         \u001b[0;32mreturn\u001b[0m \u001b[0mscores\u001b[0m\u001b[0;34m\u001b[0m\u001b[0;34m\u001b[0m\u001b[0m\n\u001b[1;32m    120\u001b[0m \u001b[0;34m\u001b[0m\u001b[0m\n",
      "\u001b[0;32m~/Desktop/Thesis/Code/phc-data-pipeline/venv/lib/python3.7/site-packages/pandas/core/frame.py\u001b[0m in \u001b[0;36mfrom_dict\u001b[0;34m(cls, data, orient, dtype, columns)\u001b[0m\n\u001b[1;32m   1245\u001b[0m             \u001b[0;32mraise\u001b[0m \u001b[0mValueError\u001b[0m\u001b[0;34m(\u001b[0m\u001b[0;34m\"only recognize index or columns for orient\"\u001b[0m\u001b[0;34m)\u001b[0m\u001b[0;34m\u001b[0m\u001b[0;34m\u001b[0m\u001b[0m\n\u001b[1;32m   1246\u001b[0m \u001b[0;34m\u001b[0m\u001b[0m\n\u001b[0;32m-> 1247\u001b[0;31m         \u001b[0;32mreturn\u001b[0m \u001b[0mcls\u001b[0m\u001b[0;34m(\u001b[0m\u001b[0mdata\u001b[0m\u001b[0;34m,\u001b[0m \u001b[0mindex\u001b[0m\u001b[0;34m=\u001b[0m\u001b[0mindex\u001b[0m\u001b[0;34m,\u001b[0m \u001b[0mcolumns\u001b[0m\u001b[0;34m=\u001b[0m\u001b[0mcolumns\u001b[0m\u001b[0;34m,\u001b[0m \u001b[0mdtype\u001b[0m\u001b[0;34m=\u001b[0m\u001b[0mdtype\u001b[0m\u001b[0;34m)\u001b[0m\u001b[0;34m\u001b[0m\u001b[0;34m\u001b[0m\u001b[0m\n\u001b[0m\u001b[1;32m   1248\u001b[0m \u001b[0;34m\u001b[0m\u001b[0m\n\u001b[1;32m   1249\u001b[0m     \u001b[0;32mdef\u001b[0m \u001b[0mto_numpy\u001b[0m\u001b[0;34m(\u001b[0m\u001b[0mself\u001b[0m\u001b[0;34m,\u001b[0m \u001b[0mdtype\u001b[0m\u001b[0;34m=\u001b[0m\u001b[0;32mNone\u001b[0m\u001b[0;34m,\u001b[0m \u001b[0mcopy\u001b[0m\u001b[0;34m=\u001b[0m\u001b[0;32mFalse\u001b[0m\u001b[0;34m)\u001b[0m \u001b[0;34m->\u001b[0m \u001b[0mnp\u001b[0m\u001b[0;34m.\u001b[0m\u001b[0mndarray\u001b[0m\u001b[0;34m:\u001b[0m\u001b[0;34m\u001b[0m\u001b[0;34m\u001b[0m\u001b[0m\n",
      "\u001b[0;32m~/Desktop/Thesis/Code/phc-data-pipeline/venv/lib/python3.7/site-packages/pandas/core/frame.py\u001b[0m in \u001b[0;36m__init__\u001b[0;34m(self, data, index, columns, dtype, copy)\u001b[0m\n\u001b[1;32m    433\u001b[0m             )\n\u001b[1;32m    434\u001b[0m         \u001b[0;32melif\u001b[0m \u001b[0misinstance\u001b[0m\u001b[0;34m(\u001b[0m\u001b[0mdata\u001b[0m\u001b[0;34m,\u001b[0m \u001b[0mdict\u001b[0m\u001b[0;34m)\u001b[0m\u001b[0;34m:\u001b[0m\u001b[0;34m\u001b[0m\u001b[0;34m\u001b[0m\u001b[0m\n\u001b[0;32m--> 435\u001b[0;31m             \u001b[0mmgr\u001b[0m \u001b[0;34m=\u001b[0m \u001b[0minit_dict\u001b[0m\u001b[0;34m(\u001b[0m\u001b[0mdata\u001b[0m\u001b[0;34m,\u001b[0m \u001b[0mindex\u001b[0m\u001b[0;34m,\u001b[0m \u001b[0mcolumns\u001b[0m\u001b[0;34m,\u001b[0m \u001b[0mdtype\u001b[0m\u001b[0;34m=\u001b[0m\u001b[0mdtype\u001b[0m\u001b[0;34m)\u001b[0m\u001b[0;34m\u001b[0m\u001b[0;34m\u001b[0m\u001b[0m\n\u001b[0m\u001b[1;32m    436\u001b[0m         \u001b[0;32melif\u001b[0m \u001b[0misinstance\u001b[0m\u001b[0;34m(\u001b[0m\u001b[0mdata\u001b[0m\u001b[0;34m,\u001b[0m \u001b[0mma\u001b[0m\u001b[0;34m.\u001b[0m\u001b[0mMaskedArray\u001b[0m\u001b[0;34m)\u001b[0m\u001b[0;34m:\u001b[0m\u001b[0;34m\u001b[0m\u001b[0;34m\u001b[0m\u001b[0m\n\u001b[1;32m    437\u001b[0m             \u001b[0;32mimport\u001b[0m \u001b[0mnumpy\u001b[0m\u001b[0;34m.\u001b[0m\u001b[0mma\u001b[0m\u001b[0;34m.\u001b[0m\u001b[0mmrecords\u001b[0m \u001b[0;32mas\u001b[0m \u001b[0mmrecords\u001b[0m\u001b[0;34m\u001b[0m\u001b[0;34m\u001b[0m\u001b[0m\n",
      "\u001b[0;32m~/Desktop/Thesis/Code/phc-data-pipeline/venv/lib/python3.7/site-packages/pandas/core/internals/construction.py\u001b[0m in \u001b[0;36minit_dict\u001b[0;34m(data, index, columns, dtype)\u001b[0m\n\u001b[1;32m    252\u001b[0m             \u001b[0marr\u001b[0m \u001b[0;32mif\u001b[0m \u001b[0;32mnot\u001b[0m \u001b[0mis_datetime64tz_dtype\u001b[0m\u001b[0;34m(\u001b[0m\u001b[0marr\u001b[0m\u001b[0;34m)\u001b[0m \u001b[0;32melse\u001b[0m \u001b[0marr\u001b[0m\u001b[0;34m.\u001b[0m\u001b[0mcopy\u001b[0m\u001b[0;34m(\u001b[0m\u001b[0;34m)\u001b[0m \u001b[0;32mfor\u001b[0m \u001b[0marr\u001b[0m \u001b[0;32min\u001b[0m \u001b[0marrays\u001b[0m\u001b[0;34m\u001b[0m\u001b[0;34m\u001b[0m\u001b[0m\n\u001b[1;32m    253\u001b[0m         ]\n\u001b[0;32m--> 254\u001b[0;31m     \u001b[0;32mreturn\u001b[0m \u001b[0marrays_to_mgr\u001b[0m\u001b[0;34m(\u001b[0m\u001b[0marrays\u001b[0m\u001b[0;34m,\u001b[0m \u001b[0mdata_names\u001b[0m\u001b[0;34m,\u001b[0m \u001b[0mindex\u001b[0m\u001b[0;34m,\u001b[0m \u001b[0mcolumns\u001b[0m\u001b[0;34m,\u001b[0m \u001b[0mdtype\u001b[0m\u001b[0;34m=\u001b[0m\u001b[0mdtype\u001b[0m\u001b[0;34m)\u001b[0m\u001b[0;34m\u001b[0m\u001b[0;34m\u001b[0m\u001b[0m\n\u001b[0m\u001b[1;32m    255\u001b[0m \u001b[0;34m\u001b[0m\u001b[0m\n\u001b[1;32m    256\u001b[0m \u001b[0;34m\u001b[0m\u001b[0m\n",
      "\u001b[0;32m~/Desktop/Thesis/Code/phc-data-pipeline/venv/lib/python3.7/site-packages/pandas/core/internals/construction.py\u001b[0m in \u001b[0;36marrays_to_mgr\u001b[0;34m(arrays, arr_names, index, columns, dtype)\u001b[0m\n\u001b[1;32m     62\u001b[0m     \u001b[0;31m# figure out the index, if necessary\u001b[0m\u001b[0;34m\u001b[0m\u001b[0;34m\u001b[0m\u001b[0;34m\u001b[0m\u001b[0m\n\u001b[1;32m     63\u001b[0m     \u001b[0;32mif\u001b[0m \u001b[0mindex\u001b[0m \u001b[0;32mis\u001b[0m \u001b[0;32mNone\u001b[0m\u001b[0;34m:\u001b[0m\u001b[0;34m\u001b[0m\u001b[0;34m\u001b[0m\u001b[0m\n\u001b[0;32m---> 64\u001b[0;31m         \u001b[0mindex\u001b[0m \u001b[0;34m=\u001b[0m \u001b[0mextract_index\u001b[0m\u001b[0;34m(\u001b[0m\u001b[0marrays\u001b[0m\u001b[0;34m)\u001b[0m\u001b[0;34m\u001b[0m\u001b[0;34m\u001b[0m\u001b[0m\n\u001b[0m\u001b[1;32m     65\u001b[0m     \u001b[0;32melse\u001b[0m\u001b[0;34m:\u001b[0m\u001b[0;34m\u001b[0m\u001b[0;34m\u001b[0m\u001b[0m\n\u001b[1;32m     66\u001b[0m         \u001b[0mindex\u001b[0m \u001b[0;34m=\u001b[0m \u001b[0mensure_index\u001b[0m\u001b[0;34m(\u001b[0m\u001b[0mindex\u001b[0m\u001b[0;34m)\u001b[0m\u001b[0;34m\u001b[0m\u001b[0;34m\u001b[0m\u001b[0m\n",
      "\u001b[0;32m~/Desktop/Thesis/Code/phc-data-pipeline/venv/lib/python3.7/site-packages/pandas/core/internals/construction.py\u001b[0m in \u001b[0;36mextract_index\u001b[0;34m(data)\u001b[0m\n\u001b[1;32m    353\u001b[0m \u001b[0;34m\u001b[0m\u001b[0m\n\u001b[1;32m    354\u001b[0m         \u001b[0;32mif\u001b[0m \u001b[0;32mnot\u001b[0m \u001b[0mindexes\u001b[0m \u001b[0;32mand\u001b[0m \u001b[0;32mnot\u001b[0m \u001b[0mraw_lengths\u001b[0m\u001b[0;34m:\u001b[0m\u001b[0;34m\u001b[0m\u001b[0;34m\u001b[0m\u001b[0m\n\u001b[0;32m--> 355\u001b[0;31m             \u001b[0;32mraise\u001b[0m \u001b[0mValueError\u001b[0m\u001b[0;34m(\u001b[0m\u001b[0;34m\"If using all scalar values, you must pass an index\"\u001b[0m\u001b[0;34m)\u001b[0m\u001b[0;34m\u001b[0m\u001b[0;34m\u001b[0m\u001b[0m\n\u001b[0m\u001b[1;32m    356\u001b[0m \u001b[0;34m\u001b[0m\u001b[0m\n\u001b[1;32m    357\u001b[0m         \u001b[0;32mif\u001b[0m \u001b[0mhave_series\u001b[0m\u001b[0;34m:\u001b[0m\u001b[0;34m\u001b[0m\u001b[0;34m\u001b[0m\u001b[0m\n",
      "\u001b[0;31mValueError\u001b[0m: If using all scalar values, you must pass an index"
     ]
    }
   ],
   "source": [
    "from sklearn.metrics import r2_score\n",
    "from sklearn.metrics import mean_absolute_error\n",
    "from sklearn.metrics import mean_squared_error\n",
    "from sklearn.metrics import median_absolute_error\n",
    "\n",
    "aag.metrics([r2_score, mean_absolute_error, mean_squared_error, median_absolute_error])"
   ]
  },
  {
   "cell_type": "code",
   "execution_count": 16,
   "metadata": {},
   "outputs": [
    {
     "ename": "AttributeError",
     "evalue": "'drug' object has no attribute 'scores'",
     "output_type": "error",
     "traceback": [
      "\u001b[0;31m---------------------------------------------------------------------------\u001b[0m",
      "\u001b[0;31mAttributeError\u001b[0m                            Traceback (most recent call last)",
      "\u001b[0;32m<ipython-input-16-875c1d3ec278>\u001b[0m in \u001b[0;36m<module>\u001b[0;34m\u001b[0m\n\u001b[0;32m----> 1\u001b[0;31m \u001b[0maag\u001b[0m\u001b[0;34m.\u001b[0m\u001b[0mscores\u001b[0m\u001b[0;34m\u001b[0m\u001b[0;34m\u001b[0m\u001b[0m\n\u001b[0m",
      "\u001b[0;31mAttributeError\u001b[0m: 'drug' object has no attribute 'scores'"
     ]
    }
   ],
   "source": [
    "aag.scores"
   ]
  },
  {
   "cell_type": "code",
   "execution_count": null,
   "metadata": {},
   "outputs": [],
   "source": [
    "aag.to_json()"
   ]
  },
  {
   "cell_type": "markdown",
   "metadata": {},
   "source": [
    "## Runs"
   ]
  },
  {
   "cell_type": "code",
   "execution_count": 3,
   "metadata": {},
   "outputs": [],
   "source": [
    "from runs import run\n",
    "from sklearn.svm import SVR\n",
    "from classes import tuning"
   ]
  },
  {
   "cell_type": "code",
   "execution_count": 4,
   "metadata": {},
   "outputs": [],
   "source": [
    "\n",
    "ge = {'ctrp': ctrp_ge, 'gdsc': gdsc_ge}\n",
    "dr = {'ctrp': ctrp_dr, 'gdsc': gdsc_dr}\n",
    "t2 = {\n",
    "    'degree': [2, 3, 4, 5],\n",
    "    'epsilon' : [0.1, 0.2, 0.3, 0.9],\n",
    "    'C':[0.01, 0.1, 1, 10, 100],\n",
    "    'gamma':['scale']\n",
    "}\n",
    "tuning = tuning(t2, iterations=50, cv=3, scoring='r2')"
   ]
  },
  {
   "cell_type": "code",
   "execution_count": 39,
   "metadata": {},
   "outputs": [],
   "source": [
    "import numpy as np"
   ]
  },
  {
   "cell_type": "code",
   "execution_count": 5,
   "metadata": {},
   "outputs": [
    {
     "data": {
      "text/plain": [
       "\"['ctrp', 'gdsc']\""
      ]
     },
     "execution_count": 5,
     "metadata": {},
     "output_type": "execute_result"
    }
   ],
   "source": [
    "str(list(dr.keys()))"
   ]
  },
  {
   "cell_type": "code",
   "execution_count": 6,
   "metadata": {},
   "outputs": [
    {
     "name": "stdout",
     "output_type": "stream",
     "text": [
      "61\n"
     ]
    }
   ],
   "source": [
    "same = []\n",
    "for i in gdsc_dr['Drug_name'].unique():\n",
    "    if i in ctrp_dr['Drug_name'].unique():\n",
    "        same.append(i)\n",
    "        \n",
    "print(len(same))"
   ]
  },
  {
   "cell_type": "code",
   "execution_count": 7,
   "metadata": {},
   "outputs": [
    {
     "data": {
      "text/plain": [
       "0"
      ]
     },
     "execution_count": 7,
     "metadata": {},
     "output_type": "execute_result"
    }
   ],
   "source": [
    "len({})"
   ]
  },
  {
   "cell_type": "code",
   "execution_count": 8,
   "metadata": {},
   "outputs": [
    {
     "name": "stderr",
     "output_type": "stream",
     "text": [
      "/Users/admin/Desktop/Thesis/Code/phc-data-pipeline/venv/lib/python3.7/site-packages/sklearn/svm/base.py:196: FutureWarning: The default value of gamma will change from 'auto' to 'scale' in version 0.22 to account better for unscaled features. Set gamma explicitly to 'auto' or 'scale' to avoid this warning.\n",
      "  \"avoid this warning.\", FutureWarning)\n"
     ]
    },
    {
     "name": "stdout",
     "output_type": "stream",
     "text": [
      "{'r2_score': -0.1343614705435281, 'mean_absolute_error': 0.25238042594171767, 'mean_squared_error': 0.09315469581361, 'median_absolute_error': 0.23628684000644368}\n"
     ]
    },
    {
     "name": "stderr",
     "output_type": "stream",
     "text": [
      "/Users/admin/Desktop/Thesis/Code/phc-data-pipeline/venv/lib/python3.7/site-packages/sklearn/svm/base.py:196: FutureWarning: The default value of gamma will change from 'auto' to 'scale' in version 0.22 to account better for unscaled features. Set gamma explicitly to 'auto' or 'scale' to avoid this warning.\n",
      "  \"avoid this warning.\", FutureWarning)\n"
     ]
    },
    {
     "name": "stdout",
     "output_type": "stream",
     "text": [
      "{'r2_score': -0.17717951014941247, 'mean_absolute_error': 0.3310736105645157, 'mean_squared_error': 0.159818708512096, 'median_absolute_error': 0.22879229534129933}\n"
     ]
    },
    {
     "name": "stderr",
     "output_type": "stream",
     "text": [
      "/Users/admin/Desktop/Thesis/Code/phc-data-pipeline/venv/lib/python3.7/site-packages/sklearn/svm/base.py:196: FutureWarning: The default value of gamma will change from 'auto' to 'scale' in version 0.22 to account better for unscaled features. Set gamma explicitly to 'auto' or 'scale' to avoid this warning.\n",
      "  \"avoid this warning.\", FutureWarning)\n"
     ]
    },
    {
     "name": "stdout",
     "output_type": "stream",
     "text": [
      "{'r2_score': -0.14824531322013734, 'mean_absolute_error': 0.23353054390841446, 'mean_squared_error': 0.08786357835987874, 'median_absolute_error': 0.19027069385257778}\n",
      "CPU times: user 11.1 s, sys: 3.93 s, total: 15.1 s\n",
      "Wall time: 14.8 s\n"
     ]
    }
   ],
   "source": [
    "%%time\n",
    "r1, scores = run(same[:3], ge, dr, f_regression, True, SVR(), n = 0.01, tuning = None)"
   ]
  },
  {
   "cell_type": "code",
   "execution_count": 41,
   "metadata": {},
   "outputs": [
    {
     "data": {
      "image/png": "[encoded data removed]",
      "text/plain": [
       "<Figure size 432x288 with 1 Axes>"
      ]
     },
     "metadata": {
      "needs_background": "light"
     },
     "output_type": "display_data"
    }
   ],
   "source": [
    "import matplotlib.pyplot as plt\n",
    "import seaborn as sns\n",
    "sns.violinplot(pd.DataFrame.from_dict(scores, orient='index'))\n",
    "plt.tight_layout()"
   ]
  },
  {
   "cell_type": "code",
   "execution_count": null,
   "metadata": {},
   "outputs": [],
   "source": []
  }
 ],
 "metadata": {
  "file_extension": ".py",
  "kernelspec": {
   "display_name": "Python 3",
   "language": "python",
   "name": "python3"
  },
  "language_info": {
   "codemirror_mode": {
    "name": "ipython",
    "version": 3
   },
   "file_extension": ".py",
   "mimetype": "text/x-python",
   "name": "python",
   "nbconvert_exporter": "python",
   "pygments_lexer": "ipython3",
   "version": "3.7.3"
  },
  "mimetype": "text/x-python",
  "name": "python",
  "npconvert_exporter": "python",
  "pygments_lexer": "ipython3",
  "version": 3
 },
 "nbformat": 4,
 "nbformat_minor": 4
}
