{
 "cells": [
  {
   "cell_type": "markdown",
   "metadata": {},
   "source": [
    "# Runs"
   ]
  },
  {
   "cell_type": "markdown",
   "metadata": {},
   "source": [
    "This notebook serves as an example of a usecase of the `Run` class"
   ]
  },
  {
   "cell_type": "code",
   "execution_count": 13,
   "metadata": {},
   "outputs": [],
   "source": [
    "from runs import run\n",
    "from classes import tuning\n",
    "from classes import drug\n",
    "from sklearn.metrics import r2_score\n",
    "import pandas as pd"
   ]
  },
  {
   "cell_type": "code",
   "execution_count": 14,
   "metadata": {},
   "outputs": [],
   "source": [
    "t2 = {\n",
    "    'degree': [2, 3, 4, 5],\n",
    "    'epsilon' : [0.1, 0.2, 0.3, 0.9],\n",
    "    'C':[0.01, 0.1, 1, 10, 100],\n",
    "    'gamma':['scale']\n",
    "}\n",
    "tune = tuning(t2, iterations=50, cv=3, scoring='r2')"
   ]
  },
  {
   "cell_type": "code",
   "execution_count": 15,
   "metadata": {},
   "outputs": [],
   "source": [
    "ge = {'gdsc':True, 'ctrp':False, 'ccle':False}"
   ]
  },
  {
   "cell_type": "code",
   "execution_count": 25,
   "metadata": {},
   "outputs": [
    {
     "name": "stdout",
     "output_type": "stream",
     "text": [
      "After fs (166, 1606) (498, 1606)\n",
      "After fs (89, 1606) (264, 1606)\n",
      "After fs (166, 1606) (496, 1606)\n",
      "CPU times: user 3min 45s, sys: 3.27 s, total: 3min 48s\n",
      "Wall time: 4min 3s\n"
     ]
    }
   ],
   "source": [
    "%%time\n",
    "r1, scores = run(ge, 'mutual_info_regression', False, 'KNeighborsRegressor',drugs=3, n = 0.1, tuning = None)"
   ]
  },
  {
   "cell_type": "code",
   "execution_count": 26,
   "metadata": {},
   "outputs": [],
   "source": [
    "model = {k:v.model.get_params() for k,v in r1.items()}"
   ]
  },
  {
   "cell_type": "code",
   "execution_count": 27,
   "metadata": {},
   "outputs": [
    {
     "name": "stdout",
     "output_type": "stream",
     "text": [
      "{'r2_score': 0.11393784331182577}\n",
      "{'r2_score': -0.200225812115566}\n",
      "{'r2_score': 0.027555543902412105}\n"
     ]
    }
   ],
   "source": [
    "for i in r1.values():\n",
    "    print(i.metrics([r2_score]))"
   ]
  },
  {
   "cell_type": "code",
   "execution_count": 19,
   "metadata": {},
   "outputs": [],
   "source": [
    "import matplotlib.pyplot as plt\n",
    "import seaborn as sns\n",
    "scores = pd.DataFrame.from_dict(scores, orient='index')"
   ]
  },
  {
   "cell_type": "code",
   "execution_count": 20,
   "metadata": {},
   "outputs": [],
   "source": [
    "scores = scores.join(pd.DataFrame.from_dict(model, orient='index'))"
   ]
  },
  {
   "cell_type": "code",
   "execution_count": 21,
   "metadata": {},
   "outputs": [
    {
     "data": {
      "text/html": [
       "<div>\n",
       "<style scoped>\n",
       "    .dataframe tbody tr th:only-of-type {\n",
       "        vertical-align: middle;\n",
       "    }\n",
       "\n",
       "    .dataframe tbody tr th {\n",
       "        vertical-align: top;\n",
       "    }\n",
       "\n",
       "    .dataframe thead th {\n",
       "        text-align: right;\n",
       "    }\n",
       "</style>\n",
       "<table border=\"1\" class=\"dataframe\">\n",
       "  <thead>\n",
       "    <tr style=\"text-align: right;\">\n",
       "      <th></th>\n",
       "      <th>r2_score</th>\n",
       "      <th>mean_absolute_error</th>\n",
       "      <th>mean_squared_error</th>\n",
       "      <th>median_absolute_error</th>\n",
       "      <th>criterion</th>\n",
       "      <th>max_depth</th>\n",
       "      <th>max_features</th>\n",
       "      <th>max_leaf_nodes</th>\n",
       "      <th>min_impurity_decrease</th>\n",
       "      <th>min_impurity_split</th>\n",
       "      <th>min_samples_leaf</th>\n",
       "      <th>min_samples_split</th>\n",
       "      <th>min_weight_fraction_leaf</th>\n",
       "      <th>presort</th>\n",
       "      <th>random_state</th>\n",
       "      <th>splitter</th>\n",
       "    </tr>\n",
       "  </thead>\n",
       "  <tbody>\n",
       "    <tr>\n",
       "      <th>BAY 61-3606</th>\n",
       "      <td>-1.006060</td>\n",
       "      <td>0.256408</td>\n",
       "      <td>0.101506</td>\n",
       "      <td>0.228846</td>\n",
       "      <td>mse</td>\n",
       "      <td>None</td>\n",
       "      <td>None</td>\n",
       "      <td>None</td>\n",
       "      <td>0.0</td>\n",
       "      <td>None</td>\n",
       "      <td>1</td>\n",
       "      <td>2</td>\n",
       "      <td>0.0</td>\n",
       "      <td>False</td>\n",
       "      <td>None</td>\n",
       "      <td>best</td>\n",
       "    </tr>\n",
       "    <tr>\n",
       "      <th>Parthenolide</th>\n",
       "      <td>-0.487370</td>\n",
       "      <td>0.139866</td>\n",
       "      <td>0.046990</td>\n",
       "      <td>0.063281</td>\n",
       "      <td>mse</td>\n",
       "      <td>None</td>\n",
       "      <td>None</td>\n",
       "      <td>None</td>\n",
       "      <td>0.0</td>\n",
       "      <td>None</td>\n",
       "      <td>1</td>\n",
       "      <td>2</td>\n",
       "      <td>0.0</td>\n",
       "      <td>False</td>\n",
       "      <td>None</td>\n",
       "      <td>best</td>\n",
       "    </tr>\n",
       "    <tr>\n",
       "      <th>Camptothecin</th>\n",
       "      <td>-0.845466</td>\n",
       "      <td>0.295370</td>\n",
       "      <td>0.131571</td>\n",
       "      <td>0.254515</td>\n",
       "      <td>mse</td>\n",
       "      <td>None</td>\n",
       "      <td>None</td>\n",
       "      <td>None</td>\n",
       "      <td>0.0</td>\n",
       "      <td>None</td>\n",
       "      <td>1</td>\n",
       "      <td>2</td>\n",
       "      <td>0.0</td>\n",
       "      <td>False</td>\n",
       "      <td>None</td>\n",
       "      <td>best</td>\n",
       "    </tr>\n",
       "  </tbody>\n",
       "</table>\n",
       "</div>"
      ],
      "text/plain": [
       "              r2_score  mean_absolute_error  mean_squared_error  \\\n",
       "BAY 61-3606  -1.006060             0.256408            0.101506   \n",
       "Parthenolide -0.487370             0.139866            0.046990   \n",
       "Camptothecin -0.845466             0.295370            0.131571   \n",
       "\n",
       "              median_absolute_error criterion max_depth max_features  \\\n",
       "BAY 61-3606                0.228846       mse      None         None   \n",
       "Parthenolide               0.063281       mse      None         None   \n",
       "Camptothecin               0.254515       mse      None         None   \n",
       "\n",
       "             max_leaf_nodes  min_impurity_decrease min_impurity_split  \\\n",
       "BAY 61-3606            None                    0.0               None   \n",
       "Parthenolide           None                    0.0               None   \n",
       "Camptothecin           None                    0.0               None   \n",
       "\n",
       "              min_samples_leaf  min_samples_split  min_weight_fraction_leaf  \\\n",
       "BAY 61-3606                  1                  2                       0.0   \n",
       "Parthenolide                 1                  2                       0.0   \n",
       "Camptothecin                 1                  2                       0.0   \n",
       "\n",
       "              presort random_state splitter  \n",
       "BAY 61-3606     False         None     best  \n",
       "Parthenolide    False         None     best  \n",
       "Camptothecin    False         None     best  "
      ]
     },
     "execution_count": 21,
     "metadata": {},
     "output_type": "execute_result"
    }
   ],
   "source": [
    "scores"
   ]
  },
  {
   "cell_type": "code",
   "execution_count": null,
   "metadata": {},
   "outputs": [],
   "source": []
  }
 ],
 "metadata": {
  "kernelspec": {
   "display_name": "Python 3",
   "language": "python",
   "name": "python3"
  },
  "language_info": {
   "codemirror_mode": {
    "name": "ipython",
    "version": 3
   },
   "file_extension": ".py",
   "mimetype": "text/x-python",
   "name": "python",
   "nbconvert_exporter": "python",
   "pygments_lexer": "ipython3",
   "version": "3.7.3"
  }
 },
 "nbformat": 4,
 "nbformat_minor": 4
}
