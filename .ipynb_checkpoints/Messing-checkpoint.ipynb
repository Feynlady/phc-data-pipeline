{
 "cells": [
  {
   "cell_type": "code",
   "execution_count": 3,
   "metadata": {},
   "outputs": [],
   "source": [
    "import pandas as pd\n",
    "import matplotlib.pyplot as plt\n",
    "import seaborn as sns\n",
    "import numpy as np\n",
    "import matplotlib\n",
    "from sklearn.feature_selection import SelectKBest, SelectPercentile, f_regression, mutual_info_regression, SelectFromModel, VarianceThreshold\n",
    "from methods import pre\n"
   ]
  },
  {
   "cell_type": "markdown",
   "metadata": {},
   "source": [
    "## Reducing memory usage by using indices"
   ]
  },
  {
   "cell_type": "code",
   "execution_count": 2,
   "metadata": {},
   "outputs": [],
   "source": [
    "from classes import drug\n",
    "import pandas as pd\n",
    "from sklearn.tree import DecisionTreeRegressor\n",
    "from sklearn.feature_selection import SelectKBest, SelectPercentile, f_regression, mutual_info_regression, SelectFromModel, VarianceThreshold"
   ]
  },
  {
   "cell_type": "code",
   "execution_count": 1,
   "metadata": {},
   "outputs": [
    {
     "ename": "NameError",
     "evalue": "name 'pd' is not defined",
     "output_type": "error",
     "traceback": [
      "\u001b[0;31m---------------------------------------------------------------------------\u001b[0m",
      "\u001b[0;31mNameError\u001b[0m                                 Traceback (most recent call last)",
      "\u001b[0;32m<timed exec>\u001b[0m in \u001b[0;36m<module>\u001b[0;34m\u001b[0m\n",
      "\u001b[0;31mNameError\u001b[0m: name 'pd' is not defined"
     ]
    }
   ],
   "source": [
    "%%time\n",
    "gdsc_ge = pd.read_csv('data/Processed/gdsc_cell_ge.csv').fillna(0).set_index('CCL')\n",
    "ctrp_ge = pd.read_csv('data/Processed/ctrp_cell_ge.csv').fillna(0).set_index('CCL')\n",
    "gdsc_dr = pd.read_csv('data/Processed/gdsc_poz_dr.csv').fillna(0)\n",
    "ctrp_dr = pd.read_csv('data/Processed/ctrp_poz_dr.csv').fillna(0)"
   ]
  },
  {
   "cell_type": "code",
   "execution_count": 3,
   "metadata": {},
   "outputs": [
    {
     "name": "stdout",
     "output_type": "stream",
     "text": [
      "CPU times: user 839 ms, sys: 88.7 ms, total: 928 ms\n",
      "Wall time: 947 ms\n"
     ]
    }
   ],
   "source": [
    "%%time\n",
    "aag = drug('17-AAG', {'ctrp': ctrp_ge, 'gdsc': gdsc_ge}, {'ctrp': ctrp_dr, 'gdsc': gdsc_dr})"
   ]
  },
  {
   "cell_type": "code",
   "execution_count": 4,
   "metadata": {},
   "outputs": [],
   "source": [
    "aag.pre()"
   ]
  },
  {
   "cell_type": "code",
   "execution_count": 5,
   "metadata": {},
   "outputs": [
    {
     "data": {
      "text/plain": [
       "False"
      ]
     },
     "execution_count": 5,
     "metadata": {},
     "output_type": "execute_result"
    }
   ],
   "source": [
    "'ge' in aag.__dict__"
   ]
  },
  {
   "cell_type": "code",
   "execution_count": 6,
   "metadata": {},
   "outputs": [],
   "source": [
    "aag.combine()"
   ]
  },
  {
   "cell_type": "code",
   "execution_count": 7,
   "metadata": {},
   "outputs": [],
   "source": [
    "aag.split()"
   ]
  },
  {
   "cell_type": "code",
   "execution_count": 8,
   "metadata": {},
   "outputs": [
    {
     "data": {
      "text/plain": [
       "(827, 20600)"
      ]
     },
     "execution_count": 8,
     "metadata": {},
     "output_type": "execute_result"
    }
   ],
   "source": [
    "aag.get('X', 'train').shape"
   ]
  },
  {
   "cell_type": "code",
   "execution_count": 9,
   "metadata": {},
   "outputs": [],
   "source": [
    "\n",
    "aag.fs(f_regression, n=0.1)"
   ]
  },
  {
   "cell_type": "code",
   "execution_count": 10,
   "metadata": {},
   "outputs": [
    {
     "data": {
      "text/plain": [
       "(827, 2060)"
      ]
     },
     "execution_count": 10,
     "metadata": {},
     "output_type": "execute_result"
    }
   ],
   "source": [
    "aag.get('X', 'train').shape"
   ]
  },
  {
   "cell_type": "code",
   "execution_count": null,
   "metadata": {},
   "outputs": [],
   "source": [
    "aag.X['fs_test']"
   ]
  },
  {
   "cell_type": "markdown",
   "metadata": {},
   "source": [
    "## Speeding up combine"
   ]
  },
  {
   "cell_type": "code",
   "execution_count": 14,
   "metadata": {},
   "outputs": [],
   "source": [
    "gdsc_dr = pd.read_csv('data/Processed/gdsc_poz_dr.csv').fillna(0)\n",
    "gdsc_ge = pd.read_csv('data/Processed/gdsc_cell_ge.csv').fillna(0).set_index('CCL')"
   ]
  },
  {
   "cell_type": "code",
   "execution_count": 15,
   "metadata": {},
   "outputs": [],
   "source": [
    "dr = gdsc_dr\n",
    "ge = gdsc_ge"
   ]
  },
  {
   "cell_type": "code",
   "execution_count": 35,
   "metadata": {},
   "outputs": [
    {
     "data": {
      "text/html": [
       "<div>\n",
       "<style scoped>\n",
       "    .dataframe tbody tr th:only-of-type {\n",
       "        vertical-align: middle;\n",
       "    }\n",
       "\n",
       "    .dataframe tbody tr th {\n",
       "        vertical-align: top;\n",
       "    }\n",
       "\n",
       "    .dataframe thead th {\n",
       "        text-align: right;\n",
       "    }\n",
       "</style>\n",
       "<table border=\"1\" class=\"dataframe\">\n",
       "  <thead>\n",
       "    <tr style=\"text-align: right;\">\n",
       "      <th></th>\n",
       "      <th>A1BG</th>\n",
       "      <th>A1CF</th>\n",
       "      <th>A2M</th>\n",
       "      <th>A2ML1</th>\n",
       "      <th>A3GALT2</th>\n",
       "      <th>A3GALT2P</th>\n",
       "      <th>A4GALT</th>\n",
       "      <th>A4GNT</th>\n",
       "      <th>AAAS</th>\n",
       "      <th>AACS</th>\n",
       "      <th>...</th>\n",
       "      <th>ZWILCH</th>\n",
       "      <th>ZWINT</th>\n",
       "      <th>ZXDB</th>\n",
       "      <th>ZXDC</th>\n",
       "      <th>ZYG11A</th>\n",
       "      <th>ZYG11B</th>\n",
       "      <th>ZYX</th>\n",
       "      <th>ZZEF1</th>\n",
       "      <th>ZZZ3</th>\n",
       "      <th>AUC_IC50</th>\n",
       "    </tr>\n",
       "    <tr>\n",
       "      <th>CCL</th>\n",
       "      <th></th>\n",
       "      <th></th>\n",
       "      <th></th>\n",
       "      <th></th>\n",
       "      <th></th>\n",
       "      <th></th>\n",
       "      <th></th>\n",
       "      <th></th>\n",
       "      <th></th>\n",
       "      <th></th>\n",
       "      <th></th>\n",
       "      <th></th>\n",
       "      <th></th>\n",
       "      <th></th>\n",
       "      <th></th>\n",
       "      <th></th>\n",
       "      <th></th>\n",
       "      <th></th>\n",
       "      <th></th>\n",
       "      <th></th>\n",
       "      <th></th>\n",
       "    </tr>\n",
       "  </thead>\n",
       "  <tbody>\n",
       "    <tr>\n",
       "      <th>22RV1</th>\n",
       "      <td>3.537942</td>\n",
       "      <td>6.364651</td>\n",
       "      <td>5.332441</td>\n",
       "      <td>2.923030</td>\n",
       "      <td>2.815383</td>\n",
       "      <td>2.815383</td>\n",
       "      <td>3.241125</td>\n",
       "      <td>3.262633</td>\n",
       "      <td>4.722157</td>\n",
       "      <td>4.942126</td>\n",
       "      <td>...</td>\n",
       "      <td>7.526319</td>\n",
       "      <td>9.274166</td>\n",
       "      <td>3.785757</td>\n",
       "      <td>5.201929</td>\n",
       "      <td>2.742575</td>\n",
       "      <td>4.635015</td>\n",
       "      <td>3.940190</td>\n",
       "      <td>4.658663</td>\n",
       "      <td>8.088672</td>\n",
       "      <td>0.169156</td>\n",
       "    </tr>\n",
       "    <tr>\n",
       "      <th>2313287</th>\n",
       "      <td>3.370950</td>\n",
       "      <td>6.284884</td>\n",
       "      <td>3.485675</td>\n",
       "      <td>2.831562</td>\n",
       "      <td>2.913369</td>\n",
       "      <td>2.913369</td>\n",
       "      <td>3.313028</td>\n",
       "      <td>3.096527</td>\n",
       "      <td>4.873621</td>\n",
       "      <td>4.213177</td>\n",
       "      <td>...</td>\n",
       "      <td>6.526713</td>\n",
       "      <td>8.021952</td>\n",
       "      <td>3.520584</td>\n",
       "      <td>4.957371</td>\n",
       "      <td>2.636933</td>\n",
       "      <td>4.350120</td>\n",
       "      <td>4.395806</td>\n",
       "      <td>4.598583</td>\n",
       "      <td>7.951146</td>\n",
       "      <td>0.577314</td>\n",
       "    </tr>\n",
       "    <tr>\n",
       "      <th>5637</th>\n",
       "      <td>2.927335</td>\n",
       "      <td>2.892365</td>\n",
       "      <td>3.181651</td>\n",
       "      <td>2.926549</td>\n",
       "      <td>2.677943</td>\n",
       "      <td>2.677943</td>\n",
       "      <td>4.295357</td>\n",
       "      <td>3.205598</td>\n",
       "      <td>5.249042</td>\n",
       "      <td>4.495021</td>\n",
       "      <td>...</td>\n",
       "      <td>7.057572</td>\n",
       "      <td>9.261486</td>\n",
       "      <td>3.492602</td>\n",
       "      <td>4.813163</td>\n",
       "      <td>2.558705</td>\n",
       "      <td>4.580977</td>\n",
       "      <td>4.810975</td>\n",
       "      <td>4.371501</td>\n",
       "      <td>7.974367</td>\n",
       "      <td>0.828724</td>\n",
       "    </tr>\n",
       "    <tr>\n",
       "      <th>639V</th>\n",
       "      <td>3.953010</td>\n",
       "      <td>2.858072</td>\n",
       "      <td>2.892599</td>\n",
       "      <td>2.828334</td>\n",
       "      <td>2.729762</td>\n",
       "      <td>2.729762</td>\n",
       "      <td>2.960059</td>\n",
       "      <td>3.121154</td>\n",
       "      <td>4.445200</td>\n",
       "      <td>4.017422</td>\n",
       "      <td>...</td>\n",
       "      <td>6.310088</td>\n",
       "      <td>8.021780</td>\n",
       "      <td>3.919468</td>\n",
       "      <td>5.923131</td>\n",
       "      <td>2.782005</td>\n",
       "      <td>4.969272</td>\n",
       "      <td>5.481422</td>\n",
       "      <td>5.205446</td>\n",
       "      <td>8.118109</td>\n",
       "      <td>0.726141</td>\n",
       "    </tr>\n",
       "    <tr>\n",
       "      <th>647V</th>\n",
       "      <td>2.804009</td>\n",
       "      <td>2.944390</td>\n",
       "      <td>3.178071</td>\n",
       "      <td>2.675572</td>\n",
       "      <td>2.949402</td>\n",
       "      <td>2.949402</td>\n",
       "      <td>3.029297</td>\n",
       "      <td>3.024326</td>\n",
       "      <td>4.636786</td>\n",
       "      <td>4.724453</td>\n",
       "      <td>...</td>\n",
       "      <td>8.657911</td>\n",
       "      <td>9.426794</td>\n",
       "      <td>3.657576</td>\n",
       "      <td>6.082990</td>\n",
       "      <td>3.148358</td>\n",
       "      <td>5.182059</td>\n",
       "      <td>5.203430</td>\n",
       "      <td>4.806941</td>\n",
       "      <td>8.530606</td>\n",
       "      <td>0.008665</td>\n",
       "    </tr>\n",
       "    <tr>\n",
       "      <th>...</th>\n",
       "      <td>...</td>\n",
       "      <td>...</td>\n",
       "      <td>...</td>\n",
       "      <td>...</td>\n",
       "      <td>...</td>\n",
       "      <td>...</td>\n",
       "      <td>...</td>\n",
       "      <td>...</td>\n",
       "      <td>...</td>\n",
       "      <td>...</td>\n",
       "      <td>...</td>\n",
       "      <td>...</td>\n",
       "      <td>...</td>\n",
       "      <td>...</td>\n",
       "      <td>...</td>\n",
       "      <td>...</td>\n",
       "      <td>...</td>\n",
       "      <td>...</td>\n",
       "      <td>...</td>\n",
       "      <td>...</td>\n",
       "      <td>...</td>\n",
       "    </tr>\n",
       "    <tr>\n",
       "      <th>YAPC</th>\n",
       "      <td>3.043994</td>\n",
       "      <td>3.055992</td>\n",
       "      <td>3.532297</td>\n",
       "      <td>2.946112</td>\n",
       "      <td>2.835091</td>\n",
       "      <td>2.835091</td>\n",
       "      <td>3.273226</td>\n",
       "      <td>3.182387</td>\n",
       "      <td>4.474313</td>\n",
       "      <td>4.238488</td>\n",
       "      <td>...</td>\n",
       "      <td>8.619045</td>\n",
       "      <td>10.392332</td>\n",
       "      <td>3.704526</td>\n",
       "      <td>5.128979</td>\n",
       "      <td>3.082707</td>\n",
       "      <td>4.061633</td>\n",
       "      <td>3.664478</td>\n",
       "      <td>4.276836</td>\n",
       "      <td>7.238275</td>\n",
       "      <td>0.502122</td>\n",
       "    </tr>\n",
       "    <tr>\n",
       "      <th>YH13</th>\n",
       "      <td>5.167861</td>\n",
       "      <td>3.072842</td>\n",
       "      <td>3.049070</td>\n",
       "      <td>3.098071</td>\n",
       "      <td>3.029716</td>\n",
       "      <td>3.029716</td>\n",
       "      <td>2.990092</td>\n",
       "      <td>3.318574</td>\n",
       "      <td>4.561866</td>\n",
       "      <td>3.581945</td>\n",
       "      <td>...</td>\n",
       "      <td>8.048126</td>\n",
       "      <td>8.235304</td>\n",
       "      <td>3.305898</td>\n",
       "      <td>4.745612</td>\n",
       "      <td>2.577626</td>\n",
       "      <td>5.215836</td>\n",
       "      <td>7.003537</td>\n",
       "      <td>4.203823</td>\n",
       "      <td>7.919283</td>\n",
       "      <td>0.881166</td>\n",
       "    </tr>\n",
       "    <tr>\n",
       "      <th>YKG1</th>\n",
       "      <td>4.711624</td>\n",
       "      <td>3.067945</td>\n",
       "      <td>3.306930</td>\n",
       "      <td>3.037960</td>\n",
       "      <td>2.713442</td>\n",
       "      <td>2.713442</td>\n",
       "      <td>3.154398</td>\n",
       "      <td>2.988924</td>\n",
       "      <td>4.586814</td>\n",
       "      <td>3.781220</td>\n",
       "      <td>...</td>\n",
       "      <td>7.978261</td>\n",
       "      <td>9.150385</td>\n",
       "      <td>3.972405</td>\n",
       "      <td>5.166082</td>\n",
       "      <td>2.813449</td>\n",
       "      <td>5.117194</td>\n",
       "      <td>5.085635</td>\n",
       "      <td>4.918170</td>\n",
       "      <td>8.208343</td>\n",
       "      <td>0.803193</td>\n",
       "    </tr>\n",
       "    <tr>\n",
       "      <th>YT</th>\n",
       "      <td>3.143593</td>\n",
       "      <td>3.779792</td>\n",
       "      <td>5.095163</td>\n",
       "      <td>2.879333</td>\n",
       "      <td>2.749091</td>\n",
       "      <td>2.749091</td>\n",
       "      <td>3.186225</td>\n",
       "      <td>3.359589</td>\n",
       "      <td>4.511721</td>\n",
       "      <td>4.241912</td>\n",
       "      <td>...</td>\n",
       "      <td>8.196766</td>\n",
       "      <td>9.205680</td>\n",
       "      <td>3.515323</td>\n",
       "      <td>5.152341</td>\n",
       "      <td>2.472749</td>\n",
       "      <td>5.046783</td>\n",
       "      <td>6.016707</td>\n",
       "      <td>5.168183</td>\n",
       "      <td>7.063949</td>\n",
       "      <td>0.513477</td>\n",
       "    </tr>\n",
       "    <tr>\n",
       "      <th>ZR7530</th>\n",
       "      <td>5.594177</td>\n",
       "      <td>3.032126</td>\n",
       "      <td>3.562195</td>\n",
       "      <td>3.108549</td>\n",
       "      <td>2.767673</td>\n",
       "      <td>2.767673</td>\n",
       "      <td>3.611381</td>\n",
       "      <td>3.247737</td>\n",
       "      <td>4.547910</td>\n",
       "      <td>4.423134</td>\n",
       "      <td>...</td>\n",
       "      <td>7.398583</td>\n",
       "      <td>8.781244</td>\n",
       "      <td>3.574957</td>\n",
       "      <td>5.301549</td>\n",
       "      <td>3.045222</td>\n",
       "      <td>4.952083</td>\n",
       "      <td>4.604161</td>\n",
       "      <td>4.472996</td>\n",
       "      <td>7.675603</td>\n",
       "      <td>0.463716</td>\n",
       "    </tr>\n",
       "  </tbody>\n",
       "</table>\n",
       "<p>660 rows × 19563 columns</p>\n",
       "</div>"
      ],
      "text/plain": [
       "             A1BG      A1CF       A2M     A2ML1   A3GALT2  A3GALT2P    A4GALT  \\\n",
       "CCL                                                                             \n",
       "22RV1    3.537942  6.364651  5.332441  2.923030  2.815383  2.815383  3.241125   \n",
       "2313287  3.370950  6.284884  3.485675  2.831562  2.913369  2.913369  3.313028   \n",
       "5637     2.927335  2.892365  3.181651  2.926549  2.677943  2.677943  4.295357   \n",
       "639V     3.953010  2.858072  2.892599  2.828334  2.729762  2.729762  2.960059   \n",
       "647V     2.804009  2.944390  3.178071  2.675572  2.949402  2.949402  3.029297   \n",
       "...           ...       ...       ...       ...       ...       ...       ...   \n",
       "YAPC     3.043994  3.055992  3.532297  2.946112  2.835091  2.835091  3.273226   \n",
       "YH13     5.167861  3.072842  3.049070  3.098071  3.029716  3.029716  2.990092   \n",
       "YKG1     4.711624  3.067945  3.306930  3.037960  2.713442  2.713442  3.154398   \n",
       "YT       3.143593  3.779792  5.095163  2.879333  2.749091  2.749091  3.186225   \n",
       "ZR7530   5.594177  3.032126  3.562195  3.108549  2.767673  2.767673  3.611381   \n",
       "\n",
       "            A4GNT      AAAS      AACS  ...    ZWILCH      ZWINT      ZXDB  \\\n",
       "CCL                                    ...                                  \n",
       "22RV1    3.262633  4.722157  4.942126  ...  7.526319   9.274166  3.785757   \n",
       "2313287  3.096527  4.873621  4.213177  ...  6.526713   8.021952  3.520584   \n",
       "5637     3.205598  5.249042  4.495021  ...  7.057572   9.261486  3.492602   \n",
       "639V     3.121154  4.445200  4.017422  ...  6.310088   8.021780  3.919468   \n",
       "647V     3.024326  4.636786  4.724453  ...  8.657911   9.426794  3.657576   \n",
       "...           ...       ...       ...  ...       ...        ...       ...   \n",
       "YAPC     3.182387  4.474313  4.238488  ...  8.619045  10.392332  3.704526   \n",
       "YH13     3.318574  4.561866  3.581945  ...  8.048126   8.235304  3.305898   \n",
       "YKG1     2.988924  4.586814  3.781220  ...  7.978261   9.150385  3.972405   \n",
       "YT       3.359589  4.511721  4.241912  ...  8.196766   9.205680  3.515323   \n",
       "ZR7530   3.247737  4.547910  4.423134  ...  7.398583   8.781244  3.574957   \n",
       "\n",
       "             ZXDC    ZYG11A    ZYG11B       ZYX     ZZEF1      ZZZ3  AUC_IC50  \n",
       "CCL                                                                            \n",
       "22RV1    5.201929  2.742575  4.635015  3.940190  4.658663  8.088672  0.169156  \n",
       "2313287  4.957371  2.636933  4.350120  4.395806  4.598583  7.951146  0.577314  \n",
       "5637     4.813163  2.558705  4.580977  4.810975  4.371501  7.974367  0.828724  \n",
       "639V     5.923131  2.782005  4.969272  5.481422  5.205446  8.118109  0.726141  \n",
       "647V     6.082990  3.148358  5.182059  5.203430  4.806941  8.530606  0.008665  \n",
       "...           ...       ...       ...       ...       ...       ...       ...  \n",
       "YAPC     5.128979  3.082707  4.061633  3.664478  4.276836  7.238275  0.502122  \n",
       "YH13     4.745612  2.577626  5.215836  7.003537  4.203823  7.919283  0.881166  \n",
       "YKG1     5.166082  2.813449  5.117194  5.085635  4.918170  8.208343  0.803193  \n",
       "YT       5.152341  2.472749  5.046783  6.016707  5.168183  7.063949  0.513477  \n",
       "ZR7530   5.301549  3.045222  4.952083  4.604161  4.472996  7.675603  0.463716  \n",
       "\n",
       "[660 rows x 19563 columns]"
      ]
     },
     "execution_count": 35,
     "metadata": {},
     "output_type": "execute_result"
    }
   ],
   "source": [
    "ge.join(dr[dr['Drug_name'] == '17-AAG'][['CCL', 'AUC_IC50']].set_index('CCL'), how='right')"
   ]
  },
  {
   "cell_type": "code",
   "execution_count": 28,
   "metadata": {},
   "outputs": [
    {
     "data": {
      "text/html": [
       "<div>\n",
       "<style scoped>\n",
       "    .dataframe tbody tr th:only-of-type {\n",
       "        vertical-align: middle;\n",
       "    }\n",
       "\n",
       "    .dataframe tbody tr th {\n",
       "        vertical-align: top;\n",
       "    }\n",
       "\n",
       "    .dataframe thead th {\n",
       "        text-align: right;\n",
       "    }\n",
       "</style>\n",
       "<table border=\"1\" class=\"dataframe\">\n",
       "  <thead>\n",
       "    <tr style=\"text-align: right;\">\n",
       "      <th></th>\n",
       "      <th>AUC_IC50</th>\n",
       "    </tr>\n",
       "    <tr>\n",
       "      <th>CCL</th>\n",
       "      <th></th>\n",
       "    </tr>\n",
       "  </thead>\n",
       "  <tbody>\n",
       "    <tr>\n",
       "      <th>22RV1</th>\n",
       "      <td>0.169156</td>\n",
       "    </tr>\n",
       "    <tr>\n",
       "      <th>2313287</th>\n",
       "      <td>0.577314</td>\n",
       "    </tr>\n",
       "    <tr>\n",
       "      <th>5637</th>\n",
       "      <td>0.828724</td>\n",
       "    </tr>\n",
       "    <tr>\n",
       "      <th>639V</th>\n",
       "      <td>0.726141</td>\n",
       "    </tr>\n",
       "    <tr>\n",
       "      <th>647V</th>\n",
       "      <td>0.008665</td>\n",
       "    </tr>\n",
       "    <tr>\n",
       "      <th>...</th>\n",
       "      <td>...</td>\n",
       "    </tr>\n",
       "    <tr>\n",
       "      <th>YAPC</th>\n",
       "      <td>0.502122</td>\n",
       "    </tr>\n",
       "    <tr>\n",
       "      <th>YH13</th>\n",
       "      <td>0.881166</td>\n",
       "    </tr>\n",
       "    <tr>\n",
       "      <th>YKG1</th>\n",
       "      <td>0.803193</td>\n",
       "    </tr>\n",
       "    <tr>\n",
       "      <th>YT</th>\n",
       "      <td>0.513477</td>\n",
       "    </tr>\n",
       "    <tr>\n",
       "      <th>ZR7530</th>\n",
       "      <td>0.463716</td>\n",
       "    </tr>\n",
       "  </tbody>\n",
       "</table>\n",
       "<p>660 rows × 1 columns</p>\n",
       "</div>"
      ],
      "text/plain": [
       "         AUC_IC50\n",
       "CCL              \n",
       "22RV1    0.169156\n",
       "2313287  0.577314\n",
       "5637     0.828724\n",
       "639V     0.726141\n",
       "647V     0.008665\n",
       "...           ...\n",
       "YAPC     0.502122\n",
       "YH13     0.881166\n",
       "YKG1     0.803193\n",
       "YT       0.513477\n",
       "ZR7530   0.463716\n",
       "\n",
       "[660 rows x 1 columns]"
      ]
     },
     "execution_count": 28,
     "metadata": {},
     "output_type": "execute_result"
    }
   ],
   "source": [
    "dr[dr['Drug_name'] == '17-AAG'][['CCL', 'AUC_IC50']].set_index('CCL')"
   ]
  },
  {
   "cell_type": "code",
   "execution_count": 16,
   "metadata": {},
   "outputs": [
    {
     "name": "stdout",
     "output_type": "stream",
     "text": [
      "CPU times: user 7.94 ms, sys: 1.2 ms, total: 9.14 ms\n",
      "Wall time: 15.4 ms\n"
     ]
    }
   ],
   "source": [
    "%%time\n",
    "drug_dr = dr[dr['Drug_name'] == '17-AAG'][['CCL', 'AUC_IC50']]"
   ]
  },
  {
   "cell_type": "code",
   "execution_count": 17,
   "metadata": {},
   "outputs": [
    {
     "name": "stdout",
     "output_type": "stream",
     "text": [
      "CPU times: user 2.9 s, sys: 258 ms, total: 3.16 s\n",
      "Wall time: 3.33 s\n"
     ]
    }
   ],
   "source": [
    "%%time\n",
    "X = np.array([list(ge.loc[i].values) for i in drug_dr[drug_dr['CCL'].isin(ge.index)]['CCL']])"
   ]
  },
  {
   "cell_type": "code",
   "execution_count": 18,
   "metadata": {},
   "outputs": [
    {
     "name": "stdout",
     "output_type": "stream",
     "text": [
      "CPU times: user 31 µs, sys: 1 µs, total: 32 µs\n",
      "Wall time: 35 µs\n"
     ]
    }
   ],
   "source": [
    "%%time\n",
    "X = X.reshape(drug_dr.shape[0], ge.shape[1])"
   ]
  },
  {
   "cell_type": "code",
   "execution_count": 19,
   "metadata": {},
   "outputs": [
    {
     "name": "stdout",
     "output_type": "stream",
     "text": [
      "CPU times: user 48.3 ms, sys: 9.44 ms, total: 57.7 ms\n",
      "Wall time: 66.9 ms\n"
     ]
    }
   ],
   "source": [
    "%%time\n",
    "data = pd.DataFrame(X).assign(DR = drug_dr['AUC_IC50'])"
   ]
  },
  {
   "cell_type": "code",
   "execution_count": 66,
   "metadata": {},
   "outputs": [
    {
     "data": {
      "text/html": [
       "<div>\n",
       "<style scoped>\n",
       "    .dataframe tbody tr th:only-of-type {\n",
       "        vertical-align: middle;\n",
       "    }\n",
       "\n",
       "    .dataframe tbody tr th {\n",
       "        vertical-align: top;\n",
       "    }\n",
       "\n",
       "    .dataframe thead th {\n",
       "        text-align: right;\n",
       "    }\n",
       "</style>\n",
       "<table border=\"1\" class=\"dataframe\">\n",
       "  <thead>\n",
       "    <tr style=\"text-align: right;\">\n",
       "      <th></th>\n",
       "      <th>0</th>\n",
       "      <th>1</th>\n",
       "      <th>2</th>\n",
       "      <th>3</th>\n",
       "      <th>4</th>\n",
       "      <th>5</th>\n",
       "      <th>6</th>\n",
       "      <th>7</th>\n",
       "      <th>8</th>\n",
       "      <th>9</th>\n",
       "      <th>...</th>\n",
       "      <th>19553</th>\n",
       "      <th>19554</th>\n",
       "      <th>19555</th>\n",
       "      <th>19556</th>\n",
       "      <th>19557</th>\n",
       "      <th>19558</th>\n",
       "      <th>19559</th>\n",
       "      <th>19560</th>\n",
       "      <th>19561</th>\n",
       "      <th>DR</th>\n",
       "    </tr>\n",
       "  </thead>\n",
       "  <tbody>\n",
       "    <tr>\n",
       "      <th>0</th>\n",
       "      <td>3.537942</td>\n",
       "      <td>6.364651</td>\n",
       "      <td>5.332441</td>\n",
       "      <td>2.923030</td>\n",
       "      <td>2.815383</td>\n",
       "      <td>2.815383</td>\n",
       "      <td>3.241125</td>\n",
       "      <td>3.262633</td>\n",
       "      <td>4.722157</td>\n",
       "      <td>4.942126</td>\n",
       "      <td>...</td>\n",
       "      <td>7.526319</td>\n",
       "      <td>9.274166</td>\n",
       "      <td>3.785757</td>\n",
       "      <td>5.201929</td>\n",
       "      <td>2.742575</td>\n",
       "      <td>4.635015</td>\n",
       "      <td>3.940190</td>\n",
       "      <td>4.658663</td>\n",
       "      <td>8.088672</td>\n",
       "      <td>0.169156</td>\n",
       "    </tr>\n",
       "    <tr>\n",
       "      <th>1</th>\n",
       "      <td>3.370950</td>\n",
       "      <td>6.284884</td>\n",
       "      <td>3.485675</td>\n",
       "      <td>2.831562</td>\n",
       "      <td>2.913369</td>\n",
       "      <td>2.913369</td>\n",
       "      <td>3.313028</td>\n",
       "      <td>3.096527</td>\n",
       "      <td>4.873621</td>\n",
       "      <td>4.213177</td>\n",
       "      <td>...</td>\n",
       "      <td>6.526713</td>\n",
       "      <td>8.021952</td>\n",
       "      <td>3.520584</td>\n",
       "      <td>4.957371</td>\n",
       "      <td>2.636933</td>\n",
       "      <td>4.350120</td>\n",
       "      <td>4.395806</td>\n",
       "      <td>4.598583</td>\n",
       "      <td>7.951146</td>\n",
       "      <td>0.577314</td>\n",
       "    </tr>\n",
       "    <tr>\n",
       "      <th>2</th>\n",
       "      <td>2.927335</td>\n",
       "      <td>2.892365</td>\n",
       "      <td>3.181651</td>\n",
       "      <td>2.926549</td>\n",
       "      <td>2.677943</td>\n",
       "      <td>2.677943</td>\n",
       "      <td>4.295357</td>\n",
       "      <td>3.205598</td>\n",
       "      <td>5.249042</td>\n",
       "      <td>4.495021</td>\n",
       "      <td>...</td>\n",
       "      <td>7.057572</td>\n",
       "      <td>9.261486</td>\n",
       "      <td>3.492602</td>\n",
       "      <td>4.813163</td>\n",
       "      <td>2.558705</td>\n",
       "      <td>4.580977</td>\n",
       "      <td>4.810975</td>\n",
       "      <td>4.371501</td>\n",
       "      <td>7.974367</td>\n",
       "      <td>0.828724</td>\n",
       "    </tr>\n",
       "    <tr>\n",
       "      <th>3</th>\n",
       "      <td>3.953010</td>\n",
       "      <td>2.858072</td>\n",
       "      <td>2.892599</td>\n",
       "      <td>2.828334</td>\n",
       "      <td>2.729762</td>\n",
       "      <td>2.729762</td>\n",
       "      <td>2.960059</td>\n",
       "      <td>3.121154</td>\n",
       "      <td>4.445200</td>\n",
       "      <td>4.017422</td>\n",
       "      <td>...</td>\n",
       "      <td>6.310088</td>\n",
       "      <td>8.021780</td>\n",
       "      <td>3.919468</td>\n",
       "      <td>5.923131</td>\n",
       "      <td>2.782005</td>\n",
       "      <td>4.969272</td>\n",
       "      <td>5.481422</td>\n",
       "      <td>5.205446</td>\n",
       "      <td>8.118109</td>\n",
       "      <td>0.726141</td>\n",
       "    </tr>\n",
       "    <tr>\n",
       "      <th>4</th>\n",
       "      <td>2.804009</td>\n",
       "      <td>2.944390</td>\n",
       "      <td>3.178071</td>\n",
       "      <td>2.675572</td>\n",
       "      <td>2.949402</td>\n",
       "      <td>2.949402</td>\n",
       "      <td>3.029297</td>\n",
       "      <td>3.024326</td>\n",
       "      <td>4.636786</td>\n",
       "      <td>4.724453</td>\n",
       "      <td>...</td>\n",
       "      <td>8.657911</td>\n",
       "      <td>9.426794</td>\n",
       "      <td>3.657576</td>\n",
       "      <td>6.082990</td>\n",
       "      <td>3.148358</td>\n",
       "      <td>5.182059</td>\n",
       "      <td>5.203430</td>\n",
       "      <td>4.806941</td>\n",
       "      <td>8.530606</td>\n",
       "      <td>0.008665</td>\n",
       "    </tr>\n",
       "    <tr>\n",
       "      <th>...</th>\n",
       "      <td>...</td>\n",
       "      <td>...</td>\n",
       "      <td>...</td>\n",
       "      <td>...</td>\n",
       "      <td>...</td>\n",
       "      <td>...</td>\n",
       "      <td>...</td>\n",
       "      <td>...</td>\n",
       "      <td>...</td>\n",
       "      <td>...</td>\n",
       "      <td>...</td>\n",
       "      <td>...</td>\n",
       "      <td>...</td>\n",
       "      <td>...</td>\n",
       "      <td>...</td>\n",
       "      <td>...</td>\n",
       "      <td>...</td>\n",
       "      <td>...</td>\n",
       "      <td>...</td>\n",
       "      <td>...</td>\n",
       "      <td>...</td>\n",
       "    </tr>\n",
       "    <tr>\n",
       "      <th>655</th>\n",
       "      <td>3.043994</td>\n",
       "      <td>3.055992</td>\n",
       "      <td>3.532297</td>\n",
       "      <td>2.946112</td>\n",
       "      <td>2.835091</td>\n",
       "      <td>2.835091</td>\n",
       "      <td>3.273226</td>\n",
       "      <td>3.182387</td>\n",
       "      <td>4.474313</td>\n",
       "      <td>4.238488</td>\n",
       "      <td>...</td>\n",
       "      <td>8.619045</td>\n",
       "      <td>10.392332</td>\n",
       "      <td>3.704526</td>\n",
       "      <td>5.128979</td>\n",
       "      <td>3.082707</td>\n",
       "      <td>4.061633</td>\n",
       "      <td>3.664478</td>\n",
       "      <td>4.276836</td>\n",
       "      <td>7.238275</td>\n",
       "      <td>0.502122</td>\n",
       "    </tr>\n",
       "    <tr>\n",
       "      <th>656</th>\n",
       "      <td>5.167861</td>\n",
       "      <td>3.072842</td>\n",
       "      <td>3.049070</td>\n",
       "      <td>3.098071</td>\n",
       "      <td>3.029716</td>\n",
       "      <td>3.029716</td>\n",
       "      <td>2.990092</td>\n",
       "      <td>3.318574</td>\n",
       "      <td>4.561866</td>\n",
       "      <td>3.581945</td>\n",
       "      <td>...</td>\n",
       "      <td>8.048126</td>\n",
       "      <td>8.235304</td>\n",
       "      <td>3.305898</td>\n",
       "      <td>4.745612</td>\n",
       "      <td>2.577626</td>\n",
       "      <td>5.215836</td>\n",
       "      <td>7.003537</td>\n",
       "      <td>4.203823</td>\n",
       "      <td>7.919283</td>\n",
       "      <td>0.881166</td>\n",
       "    </tr>\n",
       "    <tr>\n",
       "      <th>657</th>\n",
       "      <td>4.711624</td>\n",
       "      <td>3.067945</td>\n",
       "      <td>3.306930</td>\n",
       "      <td>3.037960</td>\n",
       "      <td>2.713442</td>\n",
       "      <td>2.713442</td>\n",
       "      <td>3.154398</td>\n",
       "      <td>2.988924</td>\n",
       "      <td>4.586814</td>\n",
       "      <td>3.781220</td>\n",
       "      <td>...</td>\n",
       "      <td>7.978261</td>\n",
       "      <td>9.150385</td>\n",
       "      <td>3.972405</td>\n",
       "      <td>5.166082</td>\n",
       "      <td>2.813449</td>\n",
       "      <td>5.117194</td>\n",
       "      <td>5.085635</td>\n",
       "      <td>4.918170</td>\n",
       "      <td>8.208343</td>\n",
       "      <td>0.803193</td>\n",
       "    </tr>\n",
       "    <tr>\n",
       "      <th>658</th>\n",
       "      <td>3.143593</td>\n",
       "      <td>3.779792</td>\n",
       "      <td>5.095163</td>\n",
       "      <td>2.879333</td>\n",
       "      <td>2.749091</td>\n",
       "      <td>2.749091</td>\n",
       "      <td>3.186225</td>\n",
       "      <td>3.359589</td>\n",
       "      <td>4.511721</td>\n",
       "      <td>4.241912</td>\n",
       "      <td>...</td>\n",
       "      <td>8.196766</td>\n",
       "      <td>9.205680</td>\n",
       "      <td>3.515323</td>\n",
       "      <td>5.152341</td>\n",
       "      <td>2.472749</td>\n",
       "      <td>5.046783</td>\n",
       "      <td>6.016707</td>\n",
       "      <td>5.168183</td>\n",
       "      <td>7.063949</td>\n",
       "      <td>0.513477</td>\n",
       "    </tr>\n",
       "    <tr>\n",
       "      <th>659</th>\n",
       "      <td>5.594177</td>\n",
       "      <td>3.032126</td>\n",
       "      <td>3.562195</td>\n",
       "      <td>3.108549</td>\n",
       "      <td>2.767673</td>\n",
       "      <td>2.767673</td>\n",
       "      <td>3.611381</td>\n",
       "      <td>3.247737</td>\n",
       "      <td>4.547910</td>\n",
       "      <td>4.423134</td>\n",
       "      <td>...</td>\n",
       "      <td>7.398583</td>\n",
       "      <td>8.781244</td>\n",
       "      <td>3.574957</td>\n",
       "      <td>5.301549</td>\n",
       "      <td>3.045222</td>\n",
       "      <td>4.952083</td>\n",
       "      <td>4.604161</td>\n",
       "      <td>4.472996</td>\n",
       "      <td>7.675603</td>\n",
       "      <td>0.463716</td>\n",
       "    </tr>\n",
       "  </tbody>\n",
       "</table>\n",
       "<p>660 rows × 19563 columns</p>\n",
       "</div>"
      ],
      "text/plain": [
       "            0         1         2         3         4         5         6  \\\n",
       "0    3.537942  6.364651  5.332441  2.923030  2.815383  2.815383  3.241125   \n",
       "1    3.370950  6.284884  3.485675  2.831562  2.913369  2.913369  3.313028   \n",
       "2    2.927335  2.892365  3.181651  2.926549  2.677943  2.677943  4.295357   \n",
       "3    3.953010  2.858072  2.892599  2.828334  2.729762  2.729762  2.960059   \n",
       "4    2.804009  2.944390  3.178071  2.675572  2.949402  2.949402  3.029297   \n",
       "..        ...       ...       ...       ...       ...       ...       ...   \n",
       "655  3.043994  3.055992  3.532297  2.946112  2.835091  2.835091  3.273226   \n",
       "656  5.167861  3.072842  3.049070  3.098071  3.029716  3.029716  2.990092   \n",
       "657  4.711624  3.067945  3.306930  3.037960  2.713442  2.713442  3.154398   \n",
       "658  3.143593  3.779792  5.095163  2.879333  2.749091  2.749091  3.186225   \n",
       "659  5.594177  3.032126  3.562195  3.108549  2.767673  2.767673  3.611381   \n",
       "\n",
       "            7         8         9  ...     19553      19554     19555  \\\n",
       "0    3.262633  4.722157  4.942126  ...  7.526319   9.274166  3.785757   \n",
       "1    3.096527  4.873621  4.213177  ...  6.526713   8.021952  3.520584   \n",
       "2    3.205598  5.249042  4.495021  ...  7.057572   9.261486  3.492602   \n",
       "3    3.121154  4.445200  4.017422  ...  6.310088   8.021780  3.919468   \n",
       "4    3.024326  4.636786  4.724453  ...  8.657911   9.426794  3.657576   \n",
       "..        ...       ...       ...  ...       ...        ...       ...   \n",
       "655  3.182387  4.474313  4.238488  ...  8.619045  10.392332  3.704526   \n",
       "656  3.318574  4.561866  3.581945  ...  8.048126   8.235304  3.305898   \n",
       "657  2.988924  4.586814  3.781220  ...  7.978261   9.150385  3.972405   \n",
       "658  3.359589  4.511721  4.241912  ...  8.196766   9.205680  3.515323   \n",
       "659  3.247737  4.547910  4.423134  ...  7.398583   8.781244  3.574957   \n",
       "\n",
       "        19556     19557     19558     19559     19560     19561        DR  \n",
       "0    5.201929  2.742575  4.635015  3.940190  4.658663  8.088672  0.169156  \n",
       "1    4.957371  2.636933  4.350120  4.395806  4.598583  7.951146  0.577314  \n",
       "2    4.813163  2.558705  4.580977  4.810975  4.371501  7.974367  0.828724  \n",
       "3    5.923131  2.782005  4.969272  5.481422  5.205446  8.118109  0.726141  \n",
       "4    6.082990  3.148358  5.182059  5.203430  4.806941  8.530606  0.008665  \n",
       "..        ...       ...       ...       ...       ...       ...       ...  \n",
       "655  5.128979  3.082707  4.061633  3.664478  4.276836  7.238275  0.502122  \n",
       "656  4.745612  2.577626  5.215836  7.003537  4.203823  7.919283  0.881166  \n",
       "657  5.166082  2.813449  5.117194  5.085635  4.918170  8.208343  0.803193  \n",
       "658  5.152341  2.472749  5.046783  6.016707  5.168183  7.063949  0.513477  \n",
       "659  5.301549  3.045222  4.952083  4.604161  4.472996  7.675603  0.463716  \n",
       "\n",
       "[660 rows x 19563 columns]"
      ]
     },
     "execution_count": 66,
     "metadata": {},
     "output_type": "execute_result"
    }
   ],
   "source": [
    "data"
   ]
  },
  {
   "cell_type": "markdown",
   "metadata": {},
   "source": [
    "## Speeding up pre-processing"
   ]
  },
  {
   "cell_type": "code",
   "execution_count": 2,
   "metadata": {},
   "outputs": [],
   "source": [
    "gdsc_ge = pd.read_csv('data/Processed/gdsc_cell_ge.csv').fillna(0).set_index('CCL')"
   ]
  },
  {
   "cell_type": "code",
   "execution_count": 3,
   "metadata": {},
   "outputs": [
    {
     "name": "stdout",
     "output_type": "stream",
     "text": [
      "<class 'pandas.core.indexes.base.Index'>\n"
     ]
    }
   ],
   "source": [
    "print(type(gdsc_ge.keys()))"
   ]
  },
  {
   "cell_type": "code",
   "execution_count": 5,
   "metadata": {},
   "outputs": [
    {
     "data": {
      "text/plain": [
       "(706, 19562)"
      ]
     },
     "execution_count": 5,
     "metadata": {},
     "output_type": "execute_result"
    }
   ],
   "source": [
    "gdsc_ge.shape"
   ]
  },
  {
   "cell_type": "code",
   "execution_count": 6,
   "metadata": {},
   "outputs": [
    {
     "data": {
      "text/plain": [
       "706"
      ]
     },
     "execution_count": 6,
     "metadata": {},
     "output_type": "execute_result"
    }
   ],
   "source": [
    "gdsc_ge.shape[0]"
   ]
  },
  {
   "cell_type": "code",
   "execution_count": 8,
   "metadata": {},
   "outputs": [
    {
     "name": "stdout",
     "output_type": "stream",
     "text": [
      "CPU times: user 117 ms, sys: 6.79 ms, total: 124 ms\n",
      "Wall time: 125 ms\n"
     ]
    }
   ],
   "source": [
    "%%time\n",
    "under = (gdsc_ge.to_numpy()>5).T.astype(np.int8)\n",
    "\n",
    "n = [np.count_nonzero(i) > 0.1*gdsc_ge.shape[0] for i in under]\n",
    "names = {gdsc_ge.keys()[k]:v for k, v in enumerate(n)}\n",
    "indices = [k for k,v in names.items() if v]\n",
    "index = gdsc_ge[indices]"
   ]
  },
  {
   "cell_type": "code",
   "execution_count": 9,
   "metadata": {},
   "outputs": [
    {
     "name": "stdout",
     "output_type": "stream",
     "text": [
      "CPU times: user 6.17 s, sys: 127 ms, total: 6.3 s\n",
      "Wall time: 6.36 s\n"
     ]
    }
   ],
   "source": [
    "%%time\n",
    "index2 = pre(gdsc_ge,t=5, p=0.1)"
   ]
  },
  {
   "cell_type": "code",
   "execution_count": 10,
   "metadata": {},
   "outputs": [
    {
     "data": {
      "text/plain": [
       "(706, 9919)"
      ]
     },
     "execution_count": 10,
     "metadata": {},
     "output_type": "execute_result"
    }
   ],
   "source": [
    "index.shape"
   ]
  },
  {
   "cell_type": "code",
   "execution_count": 11,
   "metadata": {},
   "outputs": [
    {
     "data": {
      "text/plain": [
       "(706, 9919)"
      ]
     },
     "execution_count": 11,
     "metadata": {},
     "output_type": "execute_result"
    }
   ],
   "source": [
    "index2.shape"
   ]
  },
  {
   "cell_type": "markdown",
   "metadata": {},
   "source": [
    "## Domain Adaptation experiments"
   ]
  },
  {
   "cell_type": "code",
   "execution_count": 113,
   "metadata": {},
   "outputs": [],
   "source": [
    "X_a = np.random.rand(3, 2) * 3"
   ]
  },
  {
   "cell_type": "code",
   "execution_count": 114,
   "metadata": {},
   "outputs": [],
   "source": [
    "X_b = np.random.rand(3, 2) * 4"
   ]
  },
  {
   "cell_type": "code",
   "execution_count": 115,
   "metadata": {},
   "outputs": [],
   "source": [
    "X_c = np.random.rand(3, 2) * 5"
   ]
  },
  {
   "cell_type": "code",
   "execution_count": 116,
   "metadata": {},
   "outputs": [],
   "source": [
    "def jump(domain, n, data):\n",
    "    result = []\n",
    "    for i, ele in enumerate(data):\n",
    "        result.append(ele)\n",
    "        for j in range(0, domain):\n",
    "            result.append(0)\n",
    "        result.append(ele)\n",
    "        for j in range(0, n-domain-1):\n",
    "            result.append(0)\n",
    "    return result\n",
    "    "
   ]
  },
  {
   "cell_type": "code",
   "execution_count": 117,
   "metadata": {},
   "outputs": [],
   "source": [
    "def feda(domains):\n",
    "    n = len(domains)\n",
    "    \n",
    "    samples = 0\n",
    "    for i in domains:\n",
    "        samples += i.shape[0]\n",
    "    \n",
    "    features = domains[0].shape[1]*(n+1)\n",
    "    \n",
    "    new = np.zeros(features)\n",
    "    for i, data in enumerate(domains):\n",
    "        for j in data:\n",
    "            new = np.vstack([new, jump(i, n, j)])\n",
    "            \n",
    "    return new[1:]"
   ]
  },
  {
   "cell_type": "code",
   "execution_count": 118,
   "metadata": {},
   "outputs": [
    {
     "data": {
      "text/plain": [
       "array([[2.39552445, 2.39552445, 0.        , 0.        , 0.8923882 ,\n",
       "        0.8923882 , 0.        , 0.        ],\n",
       "       [2.09713092, 2.09713092, 0.        , 0.        , 1.99024727,\n",
       "        1.99024727, 0.        , 0.        ],\n",
       "       [2.17421497, 2.17421497, 0.        , 0.        , 2.66618415,\n",
       "        2.66618415, 0.        , 0.        ],\n",
       "       [3.77029806, 0.        , 3.77029806, 0.        , 0.52768015,\n",
       "        0.        , 0.52768015, 0.        ],\n",
       "       [3.03560501, 0.        , 3.03560501, 0.        , 1.3673342 ,\n",
       "        0.        , 1.3673342 , 0.        ],\n",
       "       [2.41889914, 0.        , 2.41889914, 0.        , 3.77142649,\n",
       "        0.        , 3.77142649, 0.        ],\n",
       "       [0.70066211, 0.        , 0.        , 0.70066211, 3.89969596,\n",
       "        0.        , 0.        , 3.89969596],\n",
       "       [1.67451535, 0.        , 0.        , 1.67451535, 0.97901028,\n",
       "        0.        , 0.        , 0.97901028],\n",
       "       [0.52645206, 0.        , 0.        , 0.52645206, 1.13973433,\n",
       "        0.        , 0.        , 1.13973433]])"
      ]
     },
     "execution_count": 118,
     "metadata": {},
     "output_type": "execute_result"
    }
   ],
   "source": [
    "feda([X_a, X_b, X_c])"
   ]
  },
  {
   "cell_type": "markdown",
   "metadata": {},
   "source": [
    "## Mess"
   ]
  },
  {
   "cell_type": "code",
   "execution_count": 1,
   "metadata": {},
   "outputs": [],
   "source": [
    "from methods import fs"
   ]
  },
  {
   "cell_type": "code",
   "execution_count": 2,
   "metadata": {},
   "outputs": [
    {
     "data": {
      "text/plain": [
       "' Returns a subset of {X_train} and {X_test} with features being selected by the method {model}\\n    :param int n: it can be the variance thereshold or the number of chosen features \\n    :\\n    '"
      ]
     },
     "execution_count": 2,
     "metadata": {},
     "output_type": "execute_result"
    }
   ],
   "source": [
    "fs.__doc__"
   ]
  },
  {
   "cell_type": "code",
   "execution_count": 5,
   "metadata": {},
   "outputs": [],
   "source": [
    "from classes import drug\n",
    "import pandas as pd\n",
    "from sklearn.tree import DecisionTreeRegressor\n",
    "from sklearn.feature_selection import SelectKBest, SelectPercentile, f_regression, mutual_info_regression, SelectFromModel, VarianceThreshold"
   ]
  },
  {
   "cell_type": "code",
   "execution_count": 5,
   "metadata": {},
   "outputs": [
    {
     "name": "stdout",
     "output_type": "stream",
     "text": [
      "Database\n",
      "Drug_name\n",
      "CCL\n",
      "Concentrations_nM\n",
      "Responses\n",
      "Minimal_tested_concentration_nM\n",
      "Maximal_tested_concentration_nM\n",
      "EC50_minimum_asymptote\n",
      "EC50_maximum_asymptote\n",
      "EC50_slope\n",
      "EC50_calculated_nM\n",
      "EC50_nM\n",
      "EC50_residuals\n",
      "EC50_residual_standard_error\n",
      "EC50_quality\n",
      "AUC_EC50\n",
      "IC50_minimum_asymptote\n",
      "IC50_maximum_asymptote\n",
      "IC50_slope\n",
      "IC50_calculated_nM\n",
      "IC50_nM\n",
      "IC50_residuals\n",
      "IC50_residual_standard_error\n",
      "IC50_quality\n",
      "AUC_IC50\n"
     ]
    }
   ],
   "source": [
    "for i in ctrp_dr[:1]:\n",
    "    print(i)"
   ]
  },
  {
   "cell_type": "code",
   "execution_count": 6,
   "metadata": {},
   "outputs": [
    {
     "name": "stdout",
     "output_type": "stream",
     "text": [
      "CPU times: user 982 ms, sys: 111 ms, total: 1.09 s\n",
      "Wall time: 1.15 s\n"
     ]
    }
   ],
   "source": [
    "%%time\n",
    "aag = drug('17-AAG', {'ctrp': ctrp_ge, 'gdsc': gdsc_ge}, {'ctrp': ctrp_dr, 'gdsc': gdsc_dr})"
   ]
  },
  {
   "cell_type": "code",
   "execution_count": 7,
   "metadata": {
    "jupyter": {
     "source_hidden": true
    }
   },
   "outputs": [
    {
     "name": "stdout",
     "output_type": "stream",
     "text": [
      "col\n",
      "<class 'list'>\n",
      "da\n",
      "<class 'dict'>\n",
      "data\n",
      "<class 'pandas.core.frame.DataFrame'>\n",
      "dr\n",
      "<class 'pandas.core.frame.DataFrame'>\n",
      "ge\n",
      "<class 'pandas.core.frame.DataFrame'>\n",
      "name\n",
      "<class 'str'>\n",
      "predicted\n",
      "<class 'list'>\n"
     ]
    }
   ],
   "source": [
    "aag.to_json()"
   ]
  },
  {
   "cell_type": "code",
   "execution_count": 8,
   "metadata": {},
   "outputs": [
    {
     "name": "stdout",
     "output_type": "stream",
     "text": [
      "CPU times: user 515 ms, sys: 310 ms, total: 825 ms\n",
      "Wall time: 921 ms\n"
     ]
    }
   ],
   "source": [
    "%%time\n",
    "aag.pre()"
   ]
  },
  {
   "cell_type": "code",
   "execution_count": 9,
   "metadata": {},
   "outputs": [
    {
     "name": "stdout",
     "output_type": "stream",
     "text": [
      "CPU times: user 455 ms, sys: 364 ms, total: 819 ms\n",
      "Wall time: 847 ms\n"
     ]
    }
   ],
   "source": [
    "%%time\n",
    "aag.combine()"
   ]
  },
  {
   "cell_type": "code",
   "execution_count": 10,
   "metadata": {},
   "outputs": [
    {
     "name": "stdout",
     "output_type": "stream",
     "text": [
      "CPU times: user 158 ms, sys: 122 ms, total: 280 ms\n",
      "Wall time: 303 ms\n"
     ]
    }
   ],
   "source": [
    "%%time\n",
    "aag.split()"
   ]
  },
  {
   "cell_type": "code",
   "execution_count": 11,
   "metadata": {},
   "outputs": [
    {
     "name": "stdout",
     "output_type": "stream",
     "text": [
      "CPU times: user 336 ms, sys: 173 ms, total: 509 ms\n",
      "Wall time: 460 ms\n"
     ]
    }
   ],
   "source": [
    "%%time\n",
    "aag.fs(f_regression, n=0.01)"
   ]
  },
  {
   "cell_type": "code",
   "execution_count": 12,
   "metadata": {},
   "outputs": [
    {
     "name": "stdout",
     "output_type": "stream",
     "text": [
      "CPU times: user 939 ms, sys: 677 ms, total: 1.62 s\n",
      "Wall time: 1.72 s\n"
     ]
    }
   ],
   "source": [
    "%%time\n",
    "aag.feda()"
   ]
  },
  {
   "cell_type": "code",
   "execution_count": 13,
   "metadata": {},
   "outputs": [
    {
     "name": "stdout",
     "output_type": "stream",
     "text": [
      "CPU times: user 247 ms, sys: 45.9 ms, total: 292 ms\n",
      "Wall time: 304 ms\n"
     ]
    }
   ],
   "source": [
    "%%time\n",
    "aag.train(DecisionTreeRegressor())"
   ]
  },
  {
   "cell_type": "code",
   "execution_count": 15,
   "metadata": {},
   "outputs": [
    {
     "ename": "ValueError",
     "evalue": "If using all scalar values, you must pass an index",
     "output_type": "error",
     "traceback": [
      "\u001b[0;31m---------------------------------------------------------------------------\u001b[0m",
      "\u001b[0;31mValueError\u001b[0m                                Traceback (most recent call last)",
      "\u001b[0;32m<ipython-input-15-eecf5f36120f>\u001b[0m in \u001b[0;36m<module>\u001b[0;34m\u001b[0m\n\u001b[1;32m      4\u001b[0m \u001b[0;32mfrom\u001b[0m \u001b[0msklearn\u001b[0m\u001b[0;34m.\u001b[0m\u001b[0mmetrics\u001b[0m \u001b[0;32mimport\u001b[0m \u001b[0mmedian_absolute_error\u001b[0m\u001b[0;34m\u001b[0m\u001b[0;34m\u001b[0m\u001b[0m\n\u001b[1;32m      5\u001b[0m \u001b[0;34m\u001b[0m\u001b[0m\n\u001b[0;32m----> 6\u001b[0;31m \u001b[0maag\u001b[0m\u001b[0;34m.\u001b[0m\u001b[0mmetrics\u001b[0m\u001b[0;34m(\u001b[0m\u001b[0;34m[\u001b[0m\u001b[0mr2_score\u001b[0m\u001b[0;34m,\u001b[0m \u001b[0mmean_absolute_error\u001b[0m\u001b[0;34m,\u001b[0m \u001b[0mmean_squared_error\u001b[0m\u001b[0;34m,\u001b[0m \u001b[0mmedian_absolute_error\u001b[0m\u001b[0;34m]\u001b[0m\u001b[0;34m)\u001b[0m\u001b[0;34m\u001b[0m\u001b[0;34m\u001b[0m\u001b[0m\n\u001b[0m",
      "\u001b[0;32m~/Desktop/Thesis/Code/phc-data-pipeline/classes.py\u001b[0m in \u001b[0;36mmetrics\u001b[0;34m(self, arr)\u001b[0m\n\u001b[1;32m    116\u001b[0m         \u001b[0;32mfor\u001b[0m \u001b[0mmetric\u001b[0m \u001b[0;32min\u001b[0m \u001b[0marr\u001b[0m\u001b[0;34m:\u001b[0m\u001b[0;34m\u001b[0m\u001b[0;34m\u001b[0m\u001b[0m\n\u001b[1;32m    117\u001b[0m             \u001b[0mscores\u001b[0m\u001b[0;34m[\u001b[0m\u001b[0mmetric\u001b[0m\u001b[0;34m.\u001b[0m\u001b[0m__name__\u001b[0m\u001b[0;34m]\u001b[0m \u001b[0;34m=\u001b[0m \u001b[0mmetric\u001b[0m\u001b[0;34m(\u001b[0m\u001b[0mself\u001b[0m\u001b[0;34m.\u001b[0m\u001b[0mget\u001b[0m\u001b[0;34m(\u001b[0m\u001b[0;34m'y'\u001b[0m\u001b[0;34m,\u001b[0m \u001b[0;34m'test'\u001b[0m\u001b[0;34m)\u001b[0m\u001b[0;34m,\u001b[0m \u001b[0mself\u001b[0m\u001b[0;34m.\u001b[0m\u001b[0mpredicted\u001b[0m\u001b[0;34m)\u001b[0m\u001b[0;34m\u001b[0m\u001b[0;34m\u001b[0m\u001b[0m\n\u001b[0;32m--> 118\u001b[0;31m         \u001b[0mself\u001b[0m\u001b[0;34m.\u001b[0m\u001b[0mscores\u001b[0m \u001b[0;34m=\u001b[0m \u001b[0mpd\u001b[0m\u001b[0;34m.\u001b[0m\u001b[0mDataFrame\u001b[0m\u001b[0;34m.\u001b[0m\u001b[0mfrom_dict\u001b[0m\u001b[0;34m(\u001b[0m\u001b[0mscores\u001b[0m\u001b[0;34m,\u001b[0m \u001b[0morient\u001b[0m\u001b[0;34m=\u001b[0m\u001b[0;34m'columns'\u001b[0m\u001b[0;34m)\u001b[0m\u001b[0;34m\u001b[0m\u001b[0;34m\u001b[0m\u001b[0m\n\u001b[0m\u001b[1;32m    119\u001b[0m         \u001b[0;32mreturn\u001b[0m \u001b[0mscores\u001b[0m\u001b[0;34m\u001b[0m\u001b[0;34m\u001b[0m\u001b[0m\n\u001b[1;32m    120\u001b[0m \u001b[0;34m\u001b[0m\u001b[0m\n",
      "\u001b[0;32m~/Desktop/Thesis/Code/phc-data-pipeline/venv/lib/python3.7/site-packages/pandas/core/frame.py\u001b[0m in \u001b[0;36mfrom_dict\u001b[0;34m(cls, data, orient, dtype, columns)\u001b[0m\n\u001b[1;32m   1245\u001b[0m             \u001b[0;32mraise\u001b[0m \u001b[0mValueError\u001b[0m\u001b[0;34m(\u001b[0m\u001b[0;34m\"only recognize index or columns for orient\"\u001b[0m\u001b[0;34m)\u001b[0m\u001b[0;34m\u001b[0m\u001b[0;34m\u001b[0m\u001b[0m\n\u001b[1;32m   1246\u001b[0m \u001b[0;34m\u001b[0m\u001b[0m\n\u001b[0;32m-> 1247\u001b[0;31m         \u001b[0;32mreturn\u001b[0m \u001b[0mcls\u001b[0m\u001b[0;34m(\u001b[0m\u001b[0mdata\u001b[0m\u001b[0;34m,\u001b[0m \u001b[0mindex\u001b[0m\u001b[0;34m=\u001b[0m\u001b[0mindex\u001b[0m\u001b[0;34m,\u001b[0m \u001b[0mcolumns\u001b[0m\u001b[0;34m=\u001b[0m\u001b[0mcolumns\u001b[0m\u001b[0;34m,\u001b[0m \u001b[0mdtype\u001b[0m\u001b[0;34m=\u001b[0m\u001b[0mdtype\u001b[0m\u001b[0;34m)\u001b[0m\u001b[0;34m\u001b[0m\u001b[0;34m\u001b[0m\u001b[0m\n\u001b[0m\u001b[1;32m   1248\u001b[0m \u001b[0;34m\u001b[0m\u001b[0m\n\u001b[1;32m   1249\u001b[0m     \u001b[0;32mdef\u001b[0m \u001b[0mto_numpy\u001b[0m\u001b[0;34m(\u001b[0m\u001b[0mself\u001b[0m\u001b[0;34m,\u001b[0m \u001b[0mdtype\u001b[0m\u001b[0;34m=\u001b[0m\u001b[0;32mNone\u001b[0m\u001b[0;34m,\u001b[0m \u001b[0mcopy\u001b[0m\u001b[0;34m=\u001b[0m\u001b[0;32mFalse\u001b[0m\u001b[0;34m)\u001b[0m \u001b[0;34m->\u001b[0m \u001b[0mnp\u001b[0m\u001b[0;34m.\u001b[0m\u001b[0mndarray\u001b[0m\u001b[0;34m:\u001b[0m\u001b[0;34m\u001b[0m\u001b[0;34m\u001b[0m\u001b[0m\n",
      "\u001b[0;32m~/Desktop/Thesis/Code/phc-data-pipeline/venv/lib/python3.7/site-packages/pandas/core/frame.py\u001b[0m in \u001b[0;36m__init__\u001b[0;34m(self, data, index, columns, dtype, copy)\u001b[0m\n\u001b[1;32m    433\u001b[0m             )\n\u001b[1;32m    434\u001b[0m         \u001b[0;32melif\u001b[0m \u001b[0misinstance\u001b[0m\u001b[0;34m(\u001b[0m\u001b[0mdata\u001b[0m\u001b[0;34m,\u001b[0m \u001b[0mdict\u001b[0m\u001b[0;34m)\u001b[0m\u001b[0;34m:\u001b[0m\u001b[0;34m\u001b[0m\u001b[0;34m\u001b[0m\u001b[0m\n\u001b[0;32m--> 435\u001b[0;31m             \u001b[0mmgr\u001b[0m \u001b[0;34m=\u001b[0m \u001b[0minit_dict\u001b[0m\u001b[0;34m(\u001b[0m\u001b[0mdata\u001b[0m\u001b[0;34m,\u001b[0m \u001b[0mindex\u001b[0m\u001b[0;34m,\u001b[0m \u001b[0mcolumns\u001b[0m\u001b[0;34m,\u001b[0m \u001b[0mdtype\u001b[0m\u001b[0;34m=\u001b[0m\u001b[0mdtype\u001b[0m\u001b[0;34m)\u001b[0m\u001b[0;34m\u001b[0m\u001b[0;34m\u001b[0m\u001b[0m\n\u001b[0m\u001b[1;32m    436\u001b[0m         \u001b[0;32melif\u001b[0m \u001b[0misinstance\u001b[0m\u001b[0;34m(\u001b[0m\u001b[0mdata\u001b[0m\u001b[0;34m,\u001b[0m \u001b[0mma\u001b[0m\u001b[0;34m.\u001b[0m\u001b[0mMaskedArray\u001b[0m\u001b[0;34m)\u001b[0m\u001b[0;34m:\u001b[0m\u001b[0;34m\u001b[0m\u001b[0;34m\u001b[0m\u001b[0m\n\u001b[1;32m    437\u001b[0m             \u001b[0;32mimport\u001b[0m \u001b[0mnumpy\u001b[0m\u001b[0;34m.\u001b[0m\u001b[0mma\u001b[0m\u001b[0;34m.\u001b[0m\u001b[0mmrecords\u001b[0m \u001b[0;32mas\u001b[0m \u001b[0mmrecords\u001b[0m\u001b[0;34m\u001b[0m\u001b[0;34m\u001b[0m\u001b[0m\n",
      "\u001b[0;32m~/Desktop/Thesis/Code/phc-data-pipeline/venv/lib/python3.7/site-packages/pandas/core/internals/construction.py\u001b[0m in \u001b[0;36minit_dict\u001b[0;34m(data, index, columns, dtype)\u001b[0m\n\u001b[1;32m    252\u001b[0m             \u001b[0marr\u001b[0m \u001b[0;32mif\u001b[0m \u001b[0;32mnot\u001b[0m \u001b[0mis_datetime64tz_dtype\u001b[0m\u001b[0;34m(\u001b[0m\u001b[0marr\u001b[0m\u001b[0;34m)\u001b[0m \u001b[0;32melse\u001b[0m \u001b[0marr\u001b[0m\u001b[0;34m.\u001b[0m\u001b[0mcopy\u001b[0m\u001b[0;34m(\u001b[0m\u001b[0;34m)\u001b[0m \u001b[0;32mfor\u001b[0m \u001b[0marr\u001b[0m \u001b[0;32min\u001b[0m \u001b[0marrays\u001b[0m\u001b[0;34m\u001b[0m\u001b[0;34m\u001b[0m\u001b[0m\n\u001b[1;32m    253\u001b[0m         ]\n\u001b[0;32m--> 254\u001b[0;31m     \u001b[0;32mreturn\u001b[0m \u001b[0marrays_to_mgr\u001b[0m\u001b[0;34m(\u001b[0m\u001b[0marrays\u001b[0m\u001b[0;34m,\u001b[0m \u001b[0mdata_names\u001b[0m\u001b[0;34m,\u001b[0m \u001b[0mindex\u001b[0m\u001b[0;34m,\u001b[0m \u001b[0mcolumns\u001b[0m\u001b[0;34m,\u001b[0m \u001b[0mdtype\u001b[0m\u001b[0;34m=\u001b[0m\u001b[0mdtype\u001b[0m\u001b[0;34m)\u001b[0m\u001b[0;34m\u001b[0m\u001b[0;34m\u001b[0m\u001b[0m\n\u001b[0m\u001b[1;32m    255\u001b[0m \u001b[0;34m\u001b[0m\u001b[0m\n\u001b[1;32m    256\u001b[0m \u001b[0;34m\u001b[0m\u001b[0m\n",
      "\u001b[0;32m~/Desktop/Thesis/Code/phc-data-pipeline/venv/lib/python3.7/site-packages/pandas/core/internals/construction.py\u001b[0m in \u001b[0;36marrays_to_mgr\u001b[0;34m(arrays, arr_names, index, columns, dtype)\u001b[0m\n\u001b[1;32m     62\u001b[0m     \u001b[0;31m# figure out the index, if necessary\u001b[0m\u001b[0;34m\u001b[0m\u001b[0;34m\u001b[0m\u001b[0;34m\u001b[0m\u001b[0m\n\u001b[1;32m     63\u001b[0m     \u001b[0;32mif\u001b[0m \u001b[0mindex\u001b[0m \u001b[0;32mis\u001b[0m \u001b[0;32mNone\u001b[0m\u001b[0;34m:\u001b[0m\u001b[0;34m\u001b[0m\u001b[0;34m\u001b[0m\u001b[0m\n\u001b[0;32m---> 64\u001b[0;31m         \u001b[0mindex\u001b[0m \u001b[0;34m=\u001b[0m \u001b[0mextract_index\u001b[0m\u001b[0;34m(\u001b[0m\u001b[0marrays\u001b[0m\u001b[0;34m)\u001b[0m\u001b[0;34m\u001b[0m\u001b[0;34m\u001b[0m\u001b[0m\n\u001b[0m\u001b[1;32m     65\u001b[0m     \u001b[0;32melse\u001b[0m\u001b[0;34m:\u001b[0m\u001b[0;34m\u001b[0m\u001b[0;34m\u001b[0m\u001b[0m\n\u001b[1;32m     66\u001b[0m         \u001b[0mindex\u001b[0m \u001b[0;34m=\u001b[0m \u001b[0mensure_index\u001b[0m\u001b[0;34m(\u001b[0m\u001b[0mindex\u001b[0m\u001b[0;34m)\u001b[0m\u001b[0;34m\u001b[0m\u001b[0;34m\u001b[0m\u001b[0m\n",
      "\u001b[0;32m~/Desktop/Thesis/Code/phc-data-pipeline/venv/lib/python3.7/site-packages/pandas/core/internals/construction.py\u001b[0m in \u001b[0;36mextract_index\u001b[0;34m(data)\u001b[0m\n\u001b[1;32m    353\u001b[0m \u001b[0;34m\u001b[0m\u001b[0m\n\u001b[1;32m    354\u001b[0m         \u001b[0;32mif\u001b[0m \u001b[0;32mnot\u001b[0m \u001b[0mindexes\u001b[0m \u001b[0;32mand\u001b[0m \u001b[0;32mnot\u001b[0m \u001b[0mraw_lengths\u001b[0m\u001b[0;34m:\u001b[0m\u001b[0;34m\u001b[0m\u001b[0;34m\u001b[0m\u001b[0m\n\u001b[0;32m--> 355\u001b[0;31m             \u001b[0;32mraise\u001b[0m \u001b[0mValueError\u001b[0m\u001b[0;34m(\u001b[0m\u001b[0;34m\"If using all scalar values, you must pass an index\"\u001b[0m\u001b[0;34m)\u001b[0m\u001b[0;34m\u001b[0m\u001b[0;34m\u001b[0m\u001b[0m\n\u001b[0m\u001b[1;32m    356\u001b[0m \u001b[0;34m\u001b[0m\u001b[0m\n\u001b[1;32m    357\u001b[0m         \u001b[0;32mif\u001b[0m \u001b[0mhave_series\u001b[0m\u001b[0;34m:\u001b[0m\u001b[0;34m\u001b[0m\u001b[0;34m\u001b[0m\u001b[0m\n",
      "\u001b[0;31mValueError\u001b[0m: If using all scalar values, you must pass an index"
     ]
    }
   ],
   "source": [
    "from sklearn.metrics import r2_score\n",
    "from sklearn.metrics import mean_absolute_error\n",
    "from sklearn.metrics import mean_squared_error\n",
    "from sklearn.metrics import median_absolute_error\n",
    "\n",
    "aag.metrics([r2_score, mean_absolute_error, mean_squared_error, median_absolute_error])"
   ]
  },
  {
   "cell_type": "code",
   "execution_count": 16,
   "metadata": {},
   "outputs": [
    {
     "ename": "AttributeError",
     "evalue": "'drug' object has no attribute 'scores'",
     "output_type": "error",
     "traceback": [
      "\u001b[0;31m---------------------------------------------------------------------------\u001b[0m",
      "\u001b[0;31mAttributeError\u001b[0m                            Traceback (most recent call last)",
      "\u001b[0;32m<ipython-input-16-875c1d3ec278>\u001b[0m in \u001b[0;36m<module>\u001b[0;34m\u001b[0m\n\u001b[0;32m----> 1\u001b[0;31m \u001b[0maag\u001b[0m\u001b[0;34m.\u001b[0m\u001b[0mscores\u001b[0m\u001b[0;34m\u001b[0m\u001b[0;34m\u001b[0m\u001b[0m\n\u001b[0m",
      "\u001b[0;31mAttributeError\u001b[0m: 'drug' object has no attribute 'scores'"
     ]
    }
   ],
   "source": [
    "aag.scores"
   ]
  },
  {
   "cell_type": "code",
   "execution_count": null,
   "metadata": {},
   "outputs": [],
   "source": [
    "aag.to_json()"
   ]
  },
  {
   "cell_type": "markdown",
   "metadata": {},
   "source": [
    "## Runs"
   ]
  },
  {
   "cell_type": "code",
   "execution_count": 1,
   "metadata": {},
   "outputs": [],
   "source": [
    "from runs import run\n",
    "from sklearn.svm import SVR\n",
    "from classes import tuning"
   ]
  },
  {
   "cell_type": "code",
   "execution_count": 2,
   "metadata": {},
   "outputs": [],
   "source": [
    "from classes import drug\n",
    "import pandas as pd\n",
    "from sklearn.tree import DecisionTreeRegressor\n",
    "from sklearn.feature_selection import SelectKBest, SelectPercentile, f_regression, mutual_info_regression, SelectFromModel, VarianceThreshold"
   ]
  },
  {
   "cell_type": "code",
   "execution_count": 3,
   "metadata": {},
   "outputs": [],
   "source": [
    "\n",
    "#ge = {'ctrp': ctrp_ge, 'gdsc': gdsc_ge}\n",
    "#dr = {'ctrp': ctrp_dr, 'gdsc': gdsc_dr}\n",
    "\n",
    "t2 = {\n",
    "    'degree': [2, 3, 4, 5],\n",
    "    'epsilon' : [0.1, 0.2, 0.3, 0.9],\n",
    "    'C':[0.01, 0.1, 1, 10, 100],\n",
    "    'gamma':['scale']\n",
    "}\n",
    "tune = tuning(t2, iterations=50, cv=3, scoring='r2')"
   ]
  },
  {
   "cell_type": "code",
   "execution_count": 4,
   "metadata": {},
   "outputs": [],
   "source": [
    "ge={'gdsc':True, 'ctrp':True, 'ccle':False}\n"
   ]
  },
  {
   "cell_type": "code",
   "execution_count": 7,
   "metadata": {},
   "outputs": [
    {
     "name": "stdout",
     "output_type": "stream",
     "text": [
      "dict_keys(['gdsc', 'ctrp'])\n",
      "3\n"
     ]
    },
    {
     "name": "stderr",
     "output_type": "stream",
     "text": [
      "/Users/admin/Desktop/Thesis/Code/phc-data-pipeline/venv/lib/python3.7/site-packages/sklearn/svm/base.py:196: FutureWarning: The default value of gamma will change from 'auto' to 'scale' in version 0.22 to account better for unscaled features. Set gamma explicitly to 'auto' or 'scale' to avoid this warning.\n",
      "  \"avoid this warning.\", FutureWarning)\n"
     ]
    },
    {
     "name": "stdout",
     "output_type": "stream",
     "text": [
      "{'r2_score': -0.05246878000486155, 'mean_absolute_error': 0.27727829991982916, 'mean_squared_error': 0.10856277233746447, 'median_absolute_error': 0.2626719801646395}\n"
     ]
    },
    {
     "name": "stderr",
     "output_type": "stream",
     "text": [
      "/Users/admin/Desktop/Thesis/Code/phc-data-pipeline/venv/lib/python3.7/site-packages/sklearn/svm/base.py:196: FutureWarning: The default value of gamma will change from 'auto' to 'scale' in version 0.22 to account better for unscaled features. Set gamma explicitly to 'auto' or 'scale' to avoid this warning.\n",
      "  \"avoid this warning.\", FutureWarning)\n"
     ]
    },
    {
     "name": "stdout",
     "output_type": "stream",
     "text": [
      "{'r2_score': -0.15434443257391184, 'mean_absolute_error': 0.24283762800458072, 'mean_squared_error': 0.09071899953435955, 'median_absolute_error': 0.20034624842645532}\n"
     ]
    },
    {
     "name": "stderr",
     "output_type": "stream",
     "text": [
      "/Users/admin/Desktop/Thesis/Code/phc-data-pipeline/venv/lib/python3.7/site-packages/sklearn/svm/base.py:196: FutureWarning: The default value of gamma will change from 'auto' to 'scale' in version 0.22 to account better for unscaled features. Set gamma explicitly to 'auto' or 'scale' to avoid this warning.\n",
      "  \"avoid this warning.\", FutureWarning)\n"
     ]
    },
    {
     "name": "stdout",
     "output_type": "stream",
     "text": [
      "{'r2_score': -0.26544367845599437, 'mean_absolute_error': 0.23536279667322627, 'mean_squared_error': 0.07930523535558742, 'median_absolute_error': 0.21849444899859158}\n",
      "CPU times: user 31.8 s, sys: 4.54 s, total: 36.3 s\n",
      "Wall time: 37 s\n"
     ]
    }
   ],
   "source": [
    "%%time\n",
    "r1, scores = run(ge, f_regression, True, SVR(),drugs=3, n = 0.01, tuning = None)"
   ]
  },
  {
   "cell_type": "code",
   "execution_count": 14,
   "metadata": {},
   "outputs": [],
   "source": [
    "model = {k:v.model.get_params() for k,v in r1.items()}"
   ]
  },
  {
   "cell_type": "code",
   "execution_count": 11,
   "metadata": {},
   "outputs": [],
   "source": [
    "import matplotlib.pyplot as plt\n",
    "import seaborn as sns\n",
    "scores = pd.DataFrame.from_dict(scores, orient='index')"
   ]
  },
  {
   "cell_type": "code",
   "execution_count": 29,
   "metadata": {},
   "outputs": [],
   "source": [
    "scores = scores.join(pd.DataFrame.from_dict(model, orient='index'))"
   ]
  },
  {
   "cell_type": "code",
   "execution_count": 30,
   "metadata": {},
   "outputs": [
    {
     "data": {
      "text/html": [
       "<div>\n",
       "<style scoped>\n",
       "    .dataframe tbody tr th:only-of-type {\n",
       "        vertical-align: middle;\n",
       "    }\n",
       "\n",
       "    .dataframe tbody tr th {\n",
       "        vertical-align: top;\n",
       "    }\n",
       "\n",
       "    .dataframe thead th {\n",
       "        text-align: right;\n",
       "    }\n",
       "</style>\n",
       "<table border=\"1\" class=\"dataframe\">\n",
       "  <thead>\n",
       "    <tr style=\"text-align: right;\">\n",
       "      <th></th>\n",
       "      <th>r2_score</th>\n",
       "      <th>mean_absolute_error</th>\n",
       "      <th>mean_squared_error</th>\n",
       "      <th>median_absolute_error</th>\n",
       "      <th>C</th>\n",
       "      <th>cache_size</th>\n",
       "      <th>coef0</th>\n",
       "      <th>degree</th>\n",
       "      <th>epsilon</th>\n",
       "      <th>gamma</th>\n",
       "      <th>kernel</th>\n",
       "      <th>max_iter</th>\n",
       "      <th>shrinking</th>\n",
       "      <th>tol</th>\n",
       "      <th>verbose</th>\n",
       "    </tr>\n",
       "  </thead>\n",
       "  <tbody>\n",
       "    <tr>\n",
       "      <th>Sunitinib</th>\n",
       "      <td>-0.052469</td>\n",
       "      <td>0.277278</td>\n",
       "      <td>0.108563</td>\n",
       "      <td>0.262672</td>\n",
       "      <td>1.0</td>\n",
       "      <td>200</td>\n",
       "      <td>0.0</td>\n",
       "      <td>3</td>\n",
       "      <td>0.1</td>\n",
       "      <td>auto_deprecated</td>\n",
       "      <td>rbf</td>\n",
       "      <td>-1</td>\n",
       "      <td>True</td>\n",
       "      <td>0.001</td>\n",
       "      <td>False</td>\n",
       "    </tr>\n",
       "    <tr>\n",
       "      <th>AZD7762</th>\n",
       "      <td>-0.154344</td>\n",
       "      <td>0.242838</td>\n",
       "      <td>0.090719</td>\n",
       "      <td>0.200346</td>\n",
       "      <td>1.0</td>\n",
       "      <td>200</td>\n",
       "      <td>0.0</td>\n",
       "      <td>3</td>\n",
       "      <td>0.1</td>\n",
       "      <td>auto_deprecated</td>\n",
       "      <td>rbf</td>\n",
       "      <td>-1</td>\n",
       "      <td>True</td>\n",
       "      <td>0.001</td>\n",
       "      <td>False</td>\n",
       "    </tr>\n",
       "    <tr>\n",
       "      <th>BMS-536924</th>\n",
       "      <td>-0.265444</td>\n",
       "      <td>0.235363</td>\n",
       "      <td>0.079305</td>\n",
       "      <td>0.218494</td>\n",
       "      <td>1.0</td>\n",
       "      <td>200</td>\n",
       "      <td>0.0</td>\n",
       "      <td>3</td>\n",
       "      <td>0.1</td>\n",
       "      <td>auto_deprecated</td>\n",
       "      <td>rbf</td>\n",
       "      <td>-1</td>\n",
       "      <td>True</td>\n",
       "      <td>0.001</td>\n",
       "      <td>False</td>\n",
       "    </tr>\n",
       "  </tbody>\n",
       "</table>\n",
       "</div>"
      ],
      "text/plain": [
       "            r2_score  mean_absolute_error  mean_squared_error  \\\n",
       "Sunitinib  -0.052469             0.277278            0.108563   \n",
       "AZD7762    -0.154344             0.242838            0.090719   \n",
       "BMS-536924 -0.265444             0.235363            0.079305   \n",
       "\n",
       "            median_absolute_error    C  cache_size  coef0  degree  epsilon  \\\n",
       "Sunitinib                0.262672  1.0         200    0.0       3      0.1   \n",
       "AZD7762                  0.200346  1.0         200    0.0       3      0.1   \n",
       "BMS-536924               0.218494  1.0         200    0.0       3      0.1   \n",
       "\n",
       "                      gamma kernel  max_iter  shrinking    tol  verbose  \n",
       "Sunitinib   auto_deprecated    rbf        -1       True  0.001    False  \n",
       "AZD7762     auto_deprecated    rbf        -1       True  0.001    False  \n",
       "BMS-536924  auto_deprecated    rbf        -1       True  0.001    False  "
      ]
     },
     "execution_count": 30,
     "metadata": {},
     "output_type": "execute_result"
    }
   ],
   "source": [
    "scores"
   ]
  },
  {
   "cell_type": "code",
   "execution_count": 7,
   "metadata": {},
   "outputs": [],
   "source": [
    "a = [1,2,3]\n",
    "b = [2,3,4]\n",
    "x = [2,7,9]"
   ]
  },
  {
   "cell_type": "code",
   "execution_count": 8,
   "metadata": {},
   "outputs": [],
   "source": [
    "c = set(a) & set(b)"
   ]
  },
  {
   "cell_type": "code",
   "execution_count": 9,
   "metadata": {},
   "outputs": [
    {
     "data": {
      "text/plain": [
       "[2]"
      ]
     },
     "execution_count": 9,
     "metadata": {},
     "output_type": "execute_result"
    }
   ],
   "source": [
    "list(c & set(x))"
   ]
  },
  {
   "cell_type": "code",
   "execution_count": 23,
   "metadata": {},
   "outputs": [],
   "source": [
    "import pandas as pd\n",
    "import config as c"
   ]
  },
  {
   "cell_type": "code",
   "execution_count": 24,
   "metadata": {},
   "outputs": [],
   "source": [
    "ccle_ge = pd.read_csv(c.dir + 'ccle_cell_ge.csv').fillna(0).set_index('CCL')\n",
    "ctrp_ge = pd.read_csv(c.dir + 'ctrp_cell_ge.csv').fillna(0).set_index('CCL')\n",
    "ccle_dr = pd.read_csv(c.dir + 'ccle_poz_dr.csv').fillna(0)\n",
    "ctrp_dr = pd.read_csv(c.dir + 'ctrp_poz_dr.csv').fillna(0)"
   ]
  },
  {
   "cell_type": "code",
   "execution_count": 26,
   "metadata": {
    "collapsed": true,
    "jupyter": {
     "outputs_hidden": true
    }
   },
   "outputs": [
    {
     "data": {
      "text/plain": [
       "['17-AAG',\n",
       " 'AEW541',\n",
       " 'Saracatinib',\n",
       " 'Selumetinib',\n",
       " 'Erlotinib',\n",
       " 'Irinotecan',\n",
       " 'L-685458',\n",
       " 'Lapatinib',\n",
       " 'LBW242',\n",
       " 'Nilotinib',\n",
       " 'Nutlin-3',\n",
       " 'Paclitaxel',\n",
       " 'Panobinostat',\n",
       " 'PD-0325901',\n",
       " 'PD-0332991',\n",
       " 'Crizotinib',\n",
       " 'PHA-665752',\n",
       " 'PLX-4720',\n",
       " 'RAF265',\n",
       " 'Sorafenib',\n",
       " 'TAE684',\n",
       " 'Dovitinib',\n",
       " 'Topotecan',\n",
       " 'Vandetanib',\n",
       " '16-beta-bromoandrosterone',\n",
       " '1S,3R-RSL-3',\n",
       " '3-Cl-AHPC',\n",
       " '968',\n",
       " 'A-804598',\n",
       " 'AA-COCF3',\n",
       " 'Abiraterone',\n",
       " 'ABT-199',\n",
       " 'ABT-737',\n",
       " 'AC55649',\n",
       " 'Afatinib',\n",
       " 'AGK-2',\n",
       " 'Alisertib',\n",
       " 'Alisertib_navitoclax 2 to 1 ratio mol by mol',\n",
       " 'Flavopiridol',\n",
       " 'AM-580',\n",
       " 'Apicidin',\n",
       " 'AT-406',\n",
       " 'AT13387',\n",
       " 'AT7867',\n",
       " 'Austocystin D',\n",
       " 'Avicin D',\n",
       " 'Avrainvillamide',\n",
       " 'Axitinib',\n",
       " 'AZ-3146',\n",
       " 'Azacitidine',\n",
       " 'AZD1480',\n",
       " 'AZD4547',\n",
       " 'AZD6482',\n",
       " 'AZD7545',\n",
       " 'AZD7762',\n",
       " 'AZD8055',\n",
       " 'B02',\n",
       " 'Bafilomycin A1',\n",
       " 'Barasertib',\n",
       " 'Bardoxolone methyl',\n",
       " 'Bax channel blocker',\n",
       " 'BCL-LZH-4',\n",
       " 'BEC',\n",
       " 'Belinostat',\n",
       " 'Bendamustine',\n",
       " 'Betulinic acid',\n",
       " 'Bexarotene',\n",
       " 'BI-2536',\n",
       " 'BIBR-1532',\n",
       " 'BIRB-796',\n",
       " 'Birinapant',\n",
       " 'BIX-01294',\n",
       " 'Blebbistatin',\n",
       " 'Bleomycin',\n",
       " 'BMS-195614',\n",
       " 'BMS-270394',\n",
       " 'BMS-345541',\n",
       " 'BMS-536924',\n",
       " 'BMS-754807',\n",
       " 'Bortezomib',\n",
       " 'Bosutinib',\n",
       " 'BRD-A02303741',\n",
       " 'BRD-A02303741_carboplatin 1 to 1 ratio mol by mol',\n",
       " 'BRD-A02303741_navitoclax 2 to 1 ratio mol by mol',\n",
       " 'BRD-A05715709',\n",
       " 'BRD-A71883111',\n",
       " 'BRD-A86708339',\n",
       " 'BRD-A94377914',\n",
       " 'BRD-K01737880',\n",
       " 'BRD-K02251932',\n",
       " 'BRD-K02492147',\n",
       " 'BRD-K03536150',\n",
       " 'BRD-K03911514',\n",
       " 'BRD-K04800985',\n",
       " 'BRD-K07442505',\n",
       " 'BRD-K09344309',\n",
       " 'BRD-K09587429',\n",
       " 'BRD-K11533227',\n",
       " 'BRD-K13185470',\n",
       " 'BRD-K13999467',\n",
       " 'BRD-K14844214',\n",
       " 'BRD-K16130065',\n",
       " 'BRD-K16147474',\n",
       " 'BRD-K17060750',\n",
       " 'BRD-K19103580',\n",
       " 'BRD-K20514654',\n",
       " 'BRD-K24690302',\n",
       " 'BRD-K26531177',\n",
       " 'BRD-K27188169',\n",
       " 'BRD-K27188169_navitoclax 2 to 1 ratio mol by mol',\n",
       " 'BRD-K27224038',\n",
       " 'BRD-K27986637',\n",
       " 'BRD-K28456706',\n",
       " 'BRD-K29086754',\n",
       " 'BRD-K29313308',\n",
       " 'BRD-K30019337',\n",
       " 'BRD-K30748066',\n",
       " 'BRD-K33199242',\n",
       " 'BRD-K33514849',\n",
       " 'BRD-K34099515',\n",
       " 'BRD-K34222889',\n",
       " 'BRD-K34485477',\n",
       " 'BRD-K35604418',\n",
       " 'BRD-K37390332',\n",
       " 'BRD-K41334119',\n",
       " 'BRD-K41597374',\n",
       " 'BRD-K42260513',\n",
       " 'BRD-K44224150',\n",
       " 'BRD-K45681478',\n",
       " 'BRD-K48334597',\n",
       " 'BRD-K48477130',\n",
       " 'BRD-K49290616',\n",
       " 'BRD-K50799972',\n",
       " 'BRD-K51490254',\n",
       " 'BRD-K51831558',\n",
       " 'BRD-K52037352',\n",
       " 'BRD-K55116708',\n",
       " 'BRD-K55473186',\n",
       " 'BRD-K58730230',\n",
       " 'BRD-K61166597',\n",
       " 'BRD-K63431240',\n",
       " 'BRD-K64610608',\n",
       " 'BRD-K66453893',\n",
       " 'BRD-K66532283',\n",
       " 'BRD-K70511574',\n",
       " 'BRD-K71781559',\n",
       " 'BRD-K71935468',\n",
       " 'BRD-K75293299',\n",
       " 'BRD-K78574327',\n",
       " 'BRD-K79669418',\n",
       " 'BRD-K80183349',\n",
       " 'BRD-K84807411',\n",
       " 'BRD-K85133207',\n",
       " 'BRD-K86535717',\n",
       " 'BRD-K88742110',\n",
       " 'BRD-K90370028',\n",
       " 'BRD-K92856060',\n",
       " 'BRD-K94991378',\n",
       " 'BRD-K96431673',\n",
       " 'BRD-K96970199',\n",
       " 'BRD-K97651142',\n",
       " 'BRD-K99006945',\n",
       " 'BRD-K99584050',\n",
       " 'BRD-M00053801',\n",
       " 'BRD1812',\n",
       " 'BRD1835',\n",
       " 'BRD4132',\n",
       " 'BRD6340',\n",
       " 'BRD8899',\n",
       " 'BRD8958',\n",
       " 'BRD9647',\n",
       " 'BRD9876',\n",
       " 'BRD9876_MK-1775 4 to 1 ratio mol by mol',\n",
       " 'Brefeldin A',\n",
       " 'Brivanib',\n",
       " 'BYL-719',\n",
       " 'C6-ceramide',\n",
       " 'Cabozantinib',\n",
       " 'CAL-101',\n",
       " 'Canertinib',\n",
       " 'Carboplatin',\n",
       " 'Carboplatin_etoposide 40 to 17 ratio mol by mol',\n",
       " 'Carboplatin_UNC0638 2 to 1 ratio mol by mol',\n",
       " 'CAY10576',\n",
       " 'CAY10594',\n",
       " 'CAY10618',\n",
       " 'CBB-1007',\n",
       " 'CCT036477',\n",
       " 'CD-1530',\n",
       " 'CD-437',\n",
       " 'Cediranib',\n",
       " 'Ceranib-2',\n",
       " 'Cerulenin',\n",
       " 'Ch-55',\n",
       " 'CHIR-99021',\n",
       " 'Chlorambucil',\n",
       " 'CHM-1',\n",
       " 'CI-976',\n",
       " 'Ciclopirox',\n",
       " 'Ciclosporin',\n",
       " 'CID-5951923',\n",
       " 'CIL41',\n",
       " 'CIL55',\n",
       " 'CIL55A',\n",
       " 'CIL56',\n",
       " 'CIL70',\n",
       " 'Cimetidine',\n",
       " 'Clofarabine',\n",
       " 'COL-3',\n",
       " 'Compound 1541A',\n",
       " 'Compound 1B',\n",
       " 'Compound 23 citrate',\n",
       " 'Compound 7d-cis',\n",
       " 'CR-1-31B',\n",
       " 'Crizotinib',\n",
       " 'Crizotinib_PLX-4032 2 to 1 ratio mol by mol',\n",
       " 'Cucurbitacin I',\n",
       " 'Curcumin',\n",
       " 'Cyanoquinoline 11',\n",
       " 'Cyclophosphamide',\n",
       " 'Cytarabine',\n",
       " 'Cytochalasin B',\n",
       " 'Dabrafenib',\n",
       " 'Dacarbazine',\n",
       " 'Daporinad',\n",
       " 'Darinaparsin',\n",
       " 'Dasatinib',\n",
       " 'DBeQ',\n",
       " 'Decitabine',\n",
       " 'Decitabine_carboplatin 1 to 1 ratio mol by mol',\n",
       " 'Decitabine_navitoclax 2 to 1 ratio mol by mol',\n",
       " 'Dexamethasone',\n",
       " 'Dinaciclib',\n",
       " 'Docetaxel',\n",
       " 'Docetaxel_tanespimycin 2 to 1 ratio mol by mol',\n",
       " 'Doxorubicin',\n",
       " 'Doxorubicin_navitoclax 2 to 1 ratio mol by mol',\n",
       " 'ELCPK',\n",
       " 'Elocalcitol',\n",
       " 'Entinostat',\n",
       " 'Epigallocatechin-3-monogallate',\n",
       " 'Erastin',\n",
       " 'Erismodegib',\n",
       " 'Erlotinib',\n",
       " 'Erlotinib_vemurafenib 2 to 1 ratio mol by mol',\n",
       " 'Etomoxir',\n",
       " 'Etoposide',\n",
       " 'ETP-46464',\n",
       " 'EX-527',\n",
       " 'FGIN-1-27',\n",
       " 'Fingolimod',\n",
       " 'Fluorouracil',\n",
       " 'Fluvastatin',\n",
       " 'Foretinib',\n",
       " 'FQI-1',\n",
       " 'FQI-2',\n",
       " 'FSC231',\n",
       " 'Fulvestrant',\n",
       " 'Fumonisin B1',\n",
       " 'GANT-61',\n",
       " 'GDC-0879',\n",
       " 'GDC-0941',\n",
       " 'Gefitinib',\n",
       " 'Gemcitabine',\n",
       " 'GMX-1778',\n",
       " 'Gossypol',\n",
       " 'GSK-3 inhibitor IX',\n",
       " 'GSK-J4',\n",
       " 'GSK1059615',\n",
       " 'GSK2636771',\n",
       " 'GSK4112',\n",
       " 'GSK461364',\n",
       " 'GSK525762A',\n",
       " 'GW-405833',\n",
       " 'GW-843682X',\n",
       " 'HBX-41108',\n",
       " 'HC-067047',\n",
       " 'HLI 373',\n",
       " 'Hyperforin',\n",
       " 'I-BET151',\n",
       " 'Ibrutinib',\n",
       " 'IC-87114',\n",
       " 'Ifosfamide',\n",
       " 'Imatinib',\n",
       " 'Importazole',\n",
       " 'Indisulam',\n",
       " 'IPR-456',\n",
       " 'Isoevodiamine',\n",
       " 'Isoliquiritigenin',\n",
       " 'Isonicotinohydroxamic acid',\n",
       " 'ISOX',\n",
       " 'ISOX_bortezomib 250 to 1 ratio mol by mol',\n",
       " 'Istradefylline',\n",
       " 'Itraconazole',\n",
       " 'IU1',\n",
       " 'JQ-1',\n",
       " 'JQ-1_carboplatin 1 to 1 ratio mol by mol',\n",
       " 'JQ-1_MK-0752 1 to 1 ratio mol by mol',\n",
       " 'JQ-1_navitoclax 2 to 1 ratio mol by mol',\n",
       " 'JQ-1_UNC0638 2 to 1 ratio mol by mol',\n",
       " 'JQ-1_vorinostat 2 to 1 ratio mol by mol',\n",
       " 'JW-480',\n",
       " 'JW-55',\n",
       " 'JW-74',\n",
       " 'KH-CB19',\n",
       " 'KHS101',\n",
       " 'Ki8751',\n",
       " 'Ko-143',\n",
       " 'KPT185',\n",
       " 'KU-0063794',\n",
       " 'KU-55933',\n",
       " 'KU-60019',\n",
       " 'KU 0060648',\n",
       " 'KW-2449',\n",
       " 'KX2-391',\n",
       " 'L-685458',\n",
       " 'Lapatinib',\n",
       " 'Panobinostat',\n",
       " 'LE-135',\n",
       " 'Lenvatinib',\n",
       " 'Leptomycin B',\n",
       " 'Linifanib',\n",
       " 'Linsitinib',\n",
       " 'Lomeguatrib',\n",
       " 'Lovastatin',\n",
       " 'LRRK2-IN-1',\n",
       " 'LY-2157299',\n",
       " 'LY-2183240',\n",
       " 'Manumycin A',\n",
       " 'Marinopyrrole A',\n",
       " 'Masitinib',\n",
       " 'Mdivi-1',\n",
       " 'Merck60',\n",
       " 'Methotrexate',\n",
       " 'Methylstat',\n",
       " 'MG-132',\n",
       " 'MGCD-265',\n",
       " 'MI-1',\n",
       " 'MI-2',\n",
       " 'Mitomycin',\n",
       " 'MK-0752',\n",
       " 'MK-1775',\n",
       " 'MK-2206',\n",
       " 'ML006',\n",
       " 'ML029',\n",
       " 'ML031',\n",
       " 'ML050',\n",
       " 'ML083',\n",
       " 'ML162',\n",
       " 'ML203',\n",
       " 'ML210',\n",
       " 'ML239',\n",
       " 'ML258',\n",
       " 'ML311',\n",
       " 'ML312',\n",
       " 'ML320',\n",
       " 'ML334 diastereomer',\n",
       " 'MLN2238',\n",
       " 'MLN2480',\n",
       " 'Momelotinib',\n",
       " 'MST-312',\n",
       " 'Myricetin',\n",
       " 'Myriocin',\n",
       " 'N9-isopropylolomoucine',\n",
       " 'Nakiterpiosin',\n",
       " 'Narciclasine',\n",
       " 'Navitoclax',\n",
       " 'Navitoclax_birinapant 1 to 1 ratio mol by mol',\n",
       " 'Navitoclax_gemcitabine 1 to 1 ratio mol by mol',\n",
       " 'Navitoclax_MST-312 1 to 1 ratio mol by mol',\n",
       " 'Navitoclax_piperlongumine 1 to 1 ratio mol by mol',\n",
       " 'Navitoclax_pluripotin 1 to 1 ratio mol by mol',\n",
       " 'Navitoclax_vemurafenib 1 to 1 ratio mol by mol',\n",
       " 'Navitoclax_sorafenib 1 to 1 ratio mol by mol',\n",
       " 'Necrostatin-1',\n",
       " 'Necrostatin-7',\n",
       " 'Necrosulfonamide',\n",
       " 'Nelarabine',\n",
       " 'Neopeltolide',\n",
       " 'Neratinib',\n",
       " 'Neuronal differentiation inducer III',\n",
       " 'Niclosamide',\n",
       " 'Nilotinib',\n",
       " 'Nintedanib',\n",
       " 'NPC-26',\n",
       " 'NSC 74859',\n",
       " 'NSC19630',\n",
       " 'NSC23766',\n",
       " 'NSC30930',\n",
       " 'NSC48300',\n",
       " 'NSC632839',\n",
       " 'NSC95397',\n",
       " 'Nutlin-3',\n",
       " 'NVP-231',\n",
       " 'NVP-ADW742',\n",
       " 'NVP-BEZ235',\n",
       " 'NVP-BSK805',\n",
       " 'TAE684',\n",
       " 'O-6-benzylguanine',\n",
       " 'Obatoclax',\n",
       " 'Olaparib',\n",
       " 'Oligomycin A',\n",
       " 'Omacetaxine mepesuccinate',\n",
       " 'OSI-027',\n",
       " 'OSI-930',\n",
       " 'Ouabain',\n",
       " 'Oxaliplatin',\n",
       " 'PAC-1',\n",
       " 'Paclitaxel',\n",
       " 'Palmostatin B',\n",
       " 'Pandacostat',\n",
       " 'Parbendazole',\n",
       " 'Parthenolide',\n",
       " 'Pazopanib',\n",
       " 'PD 153035',\n",
       " 'PD318088',\n",
       " 'PDMP',\n",
       " 'Pevonedistat',\n",
       " 'PF-184',\n",
       " 'PF-3758309',\n",
       " 'PF-4800567',\n",
       " 'PF-543',\n",
       " 'PF-573228',\n",
       " 'PF-750',\n",
       " 'PHA-793887',\n",
       " 'Phloretin',\n",
       " 'PI-103',\n",
       " 'Pifithrin-alpha',\n",
       " 'Pifithrin-mu',\n",
       " 'PIK-93',\n",
       " 'Piperlongumine',\n",
       " 'Piperlongumine_MST-312 1 to 1 ratio mol by mol',\n",
       " 'Pitstop2',\n",
       " 'PL-DI',\n",
       " 'Platin',\n",
       " 'Pluripotin',\n",
       " 'Vemurafenib',\n",
       " 'PLX-4720',\n",
       " 'PRIMA-1',\n",
       " 'PRIMA-1-Met',\n",
       " 'PRL-3 inhibitor I',\n",
       " 'Procarbazine',\n",
       " 'Prochlorperazine',\n",
       " 'Purmorphamine',\n",
       " 'PX-12',\n",
       " 'PYR-41',\n",
       " 'Pyrazolanthrone',\n",
       " 'QS-11',\n",
       " 'Quizartinib',\n",
       " 'QW-BI-011',\n",
       " 'R428',\n",
       " 'RAF265',\n",
       " 'Regorafenib',\n",
       " 'Repligen 136',\n",
       " 'RG-108',\n",
       " 'Rigosertib',\n",
       " 'RITA',\n",
       " 'RO4929097',\n",
       " 'Ruxolitinib',\n",
       " 'Salermide',\n",
       " 'Salermide_vemurafenib 12 to 1 ratio mol by mol',\n",
       " 'Saracatinib',\n",
       " 'SB-225002',\n",
       " 'SB-431542',\n",
       " 'SB-525334',\n",
       " 'SB-743921',\n",
       " 'SCH-529074',\n",
       " 'SCH-79797',\n",
       " 'Selumetinib',\n",
       " 'Selumetinib_BRD-A02303741 4 to 1 ratio mol by mol',\n",
       " 'Selumetinib_decitabine 4 to 1 ratio mol by mol',\n",
       " 'Selumetinib_GDC-0941 4 to 1 ratio mol by mol',\n",
       " 'Selumetinib_JQ-1 4 to 1 ratio mol by mol',\n",
       " 'Selumetinib_MK-2206 8 to 1 ratio mol by mol',\n",
       " 'Selumetinib_navitoclax 8 to 1 ratio mol by mol',\n",
       " 'Selumetinib_piperlongumine 8 to 1 ratio mol by mol',\n",
       " 'Selumetinib_vemurafenib 8 to 1 ratio mol by mol',\n",
       " 'Selumetinib_tretinoin 2 to 1 ratio mol by mol',\n",
       " 'Selumetinib_UNC0638 4 to 1 ratio mol by mol',\n",
       " 'Selumetinib_vorinostat 8 to 1 ratio mol by mol',\n",
       " 'Semagacestat',\n",
       " 'Serdemetan',\n",
       " 'Serdemetan_SCH-529074 1 to 1 ratio mol by mol',\n",
       " 'SGX-523',\n",
       " 'SID 26681509',\n",
       " 'Sildenafil',\n",
       " 'Silmitasertib',\n",
       " 'Simvastatin',\n",
       " 'Rapamycin',\n",
       " 'Sirolimus_bortezomib 250 to 1 ratio mol by mol',\n",
       " 'Sitagliptin',\n",
       " 'SJ-172550',\n",
       " 'Skepinone-L',\n",
       " 'SKI-II',\n",
       " 'SMER-3',\n",
       " 'SN-38',\n",
       " 'SNS-032',\n",
       " 'SNX-2112',\n",
       " 'SNX-2112_bortezomib 250 to 1 ratio mol by mol',\n",
       " 'Sorafenib',\n",
       " 'Sotrastaurin',\n",
       " 'Spautin-1',\n",
       " 'SR-II-138A',\n",
       " 'SR1001',\n",
       " 'SR8278',\n",
       " 'SRT-1720',\n",
       " 'Staurosporine',\n",
       " 'StemRegenin 1',\n",
       " 'STF-31',\n",
       " 'SU11274',\n",
       " 'Sunitinib',\n",
       " 'SZ4TA2',\n",
       " 'Tacedinaline',\n",
       " 'Tacrolimus',\n",
       " 'Tamatinib',\n",
       " 'Tamoxifen',\n",
       " 'Tandutinib',\n",
       " '17-AAG',\n",
       " 'Tanespimycin_bortezomib 250 to 1 ratio mol by mol',\n",
       " 'Tanespimycin_gemcitabine 1 to 1 ratio mol by mol',\n",
       " 'Temozolomide',\n",
       " 'Temsirolimus',\n",
       " 'Teniposide',\n",
       " 'TG-100-115',\n",
       " 'TG-101348',\n",
       " 'TGX-221',\n",
       " 'Thalidomide',\n",
       " 'Tigecycline',\n",
       " 'Tipifarnib-P1',\n",
       " 'Tipifarnib',\n",
       " 'Tivantinib',\n",
       " 'Tivozanib',\n",
       " 'Topotecan',\n",
       " 'Tosedostat',\n",
       " 'TPCA-1',\n",
       " 'Trametinib',\n",
       " 'Tretinoin',\n",
       " 'Tretinoin_carboplatin 2 to 1 ratio mol by mol',\n",
       " 'Tretinoin_navitoclax 4 to 1 ratio mol by mol',\n",
       " 'Triazolothiadiazine',\n",
       " 'Trifluoperazine',\n",
       " 'Triptolide',\n",
       " 'Tubastatin A',\n",
       " 'TW-37',\n",
       " 'UNC0321',\n",
       " 'UNC0638',\n",
       " 'UNC0638_navitoclax 1 to 1 ratio mol by mol',\n",
       " 'VAF-347',\n",
       " 'Valdecoxib',\n",
       " 'Vandetanib',\n",
       " 'Veliparib',\n",
       " 'VER-155008',\n",
       " 'Vincristine',\n",
       " 'Vorapaxar',\n",
       " 'Vorinostat',\n",
       " 'Vorinostat_carboplatin 1 to 1 ratio mol by mol',\n",
       " 'Vorinostat_navitoclax 4 to 1 ratio mol by mol',\n",
       " 'VU0155056',\n",
       " 'VX-680',\n",
       " 'WAY-362450',\n",
       " 'WP1130',\n",
       " 'WZ4002',\n",
       " 'WZ8040',\n",
       " 'XL765',\n",
       " 'YK 4-279',\n",
       " 'YL54',\n",
       " 'YM-155',\n",
       " 'Zebularine',\n",
       " 'ZSTK474']"
      ]
     },
     "execution_count": 26,
     "metadata": {},
     "output_type": "execute_result"
    }
   ],
   "source": [
    "drug_data = {'ccle':ccle_dr, 'ctrp':ctrp_dr}\n",
    "[item for sublist in [list(j['Drug_name'].unique()) for j in drug_data.values()] for item in sublist]"
   ]
  },
  {
   "cell_type": "code",
   "execution_count": null,
   "metadata": {},
   "outputs": [],
   "source": []
  }
 ],
 "metadata": {
  "file_extension": ".py",
  "kernelspec": {
   "display_name": "Python 3",
   "language": "python",
   "name": "python3"
  },
  "language_info": {
   "codemirror_mode": {
    "name": "ipython",
    "version": 3
   },
   "file_extension": ".py",
   "mimetype": "text/x-python",
   "name": "python",
   "nbconvert_exporter": "python",
   "pygments_lexer": "ipython3",
   "version": "3.7.3"
  },
  "mimetype": "text/x-python",
  "name": "python",
  "npconvert_exporter": "python",
  "pygments_lexer": "ipython3",
  "version": 3
 },
 "nbformat": 4,
 "nbformat_minor": 4
}
