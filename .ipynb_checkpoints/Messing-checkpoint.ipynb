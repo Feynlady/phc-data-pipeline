{
 "cells": [
  {
   "cell_type": "code",
   "execution_count": 1,
   "metadata": {},
   "outputs": [],
   "source": [
    "import pandas as pd\n",
    "import matplotlib.pyplot as plt\n",
    "import seaborn as sns\n",
    "import numpy as np\n",
    "import matplotlib\n",
    "from sklearn.feature_selection import SelectKBest, SelectPercentile, f_regression, mutual_info_regression, SelectFromModel, VarianceThreshold\n",
    "from methods import pre\n"
   ]
  },
  {
   "cell_type": "markdown",
   "metadata": {},
   "source": [
    "## Speeding up combine"
   ]
  },
  {
   "cell_type": "code",
   "execution_count": 14,
   "metadata": {},
   "outputs": [],
   "source": [
    "gdsc_dr = pd.read_csv('data/Processed/gdsc_poz_dr.csv').fillna(0)\n",
    "gdsc_ge = pd.read_csv('data/Processed/gdsc_cell_ge.csv').fillna(0).set_index('CCL')"
   ]
  },
  {
   "cell_type": "code",
   "execution_count": 15,
   "metadata": {},
   "outputs": [],
   "source": [
    "dr = gdsc_dr\n",
    "ge = gdsc_ge"
   ]
  },
  {
   "cell_type": "code",
   "execution_count": 35,
   "metadata": {},
   "outputs": [
    {
     "data": {
      "text/html": [
       "<div>\n",
       "<style scoped>\n",
       "    .dataframe tbody tr th:only-of-type {\n",
       "        vertical-align: middle;\n",
       "    }\n",
       "\n",
       "    .dataframe tbody tr th {\n",
       "        vertical-align: top;\n",
       "    }\n",
       "\n",
       "    .dataframe thead th {\n",
       "        text-align: right;\n",
       "    }\n",
       "</style>\n",
       "<table border=\"1\" class=\"dataframe\">\n",
       "  <thead>\n",
       "    <tr style=\"text-align: right;\">\n",
       "      <th></th>\n",
       "      <th>A1BG</th>\n",
       "      <th>A1CF</th>\n",
       "      <th>A2M</th>\n",
       "      <th>A2ML1</th>\n",
       "      <th>A3GALT2</th>\n",
       "      <th>A3GALT2P</th>\n",
       "      <th>A4GALT</th>\n",
       "      <th>A4GNT</th>\n",
       "      <th>AAAS</th>\n",
       "      <th>AACS</th>\n",
       "      <th>...</th>\n",
       "      <th>ZWILCH</th>\n",
       "      <th>ZWINT</th>\n",
       "      <th>ZXDB</th>\n",
       "      <th>ZXDC</th>\n",
       "      <th>ZYG11A</th>\n",
       "      <th>ZYG11B</th>\n",
       "      <th>ZYX</th>\n",
       "      <th>ZZEF1</th>\n",
       "      <th>ZZZ3</th>\n",
       "      <th>AUC_IC50</th>\n",
       "    </tr>\n",
       "    <tr>\n",
       "      <th>CCL</th>\n",
       "      <th></th>\n",
       "      <th></th>\n",
       "      <th></th>\n",
       "      <th></th>\n",
       "      <th></th>\n",
       "      <th></th>\n",
       "      <th></th>\n",
       "      <th></th>\n",
       "      <th></th>\n",
       "      <th></th>\n",
       "      <th></th>\n",
       "      <th></th>\n",
       "      <th></th>\n",
       "      <th></th>\n",
       "      <th></th>\n",
       "      <th></th>\n",
       "      <th></th>\n",
       "      <th></th>\n",
       "      <th></th>\n",
       "      <th></th>\n",
       "      <th></th>\n",
       "    </tr>\n",
       "  </thead>\n",
       "  <tbody>\n",
       "    <tr>\n",
       "      <th>22RV1</th>\n",
       "      <td>3.537942</td>\n",
       "      <td>6.364651</td>\n",
       "      <td>5.332441</td>\n",
       "      <td>2.923030</td>\n",
       "      <td>2.815383</td>\n",
       "      <td>2.815383</td>\n",
       "      <td>3.241125</td>\n",
       "      <td>3.262633</td>\n",
       "      <td>4.722157</td>\n",
       "      <td>4.942126</td>\n",
       "      <td>...</td>\n",
       "      <td>7.526319</td>\n",
       "      <td>9.274166</td>\n",
       "      <td>3.785757</td>\n",
       "      <td>5.201929</td>\n",
       "      <td>2.742575</td>\n",
       "      <td>4.635015</td>\n",
       "      <td>3.940190</td>\n",
       "      <td>4.658663</td>\n",
       "      <td>8.088672</td>\n",
       "      <td>0.169156</td>\n",
       "    </tr>\n",
       "    <tr>\n",
       "      <th>2313287</th>\n",
       "      <td>3.370950</td>\n",
       "      <td>6.284884</td>\n",
       "      <td>3.485675</td>\n",
       "      <td>2.831562</td>\n",
       "      <td>2.913369</td>\n",
       "      <td>2.913369</td>\n",
       "      <td>3.313028</td>\n",
       "      <td>3.096527</td>\n",
       "      <td>4.873621</td>\n",
       "      <td>4.213177</td>\n",
       "      <td>...</td>\n",
       "      <td>6.526713</td>\n",
       "      <td>8.021952</td>\n",
       "      <td>3.520584</td>\n",
       "      <td>4.957371</td>\n",
       "      <td>2.636933</td>\n",
       "      <td>4.350120</td>\n",
       "      <td>4.395806</td>\n",
       "      <td>4.598583</td>\n",
       "      <td>7.951146</td>\n",
       "      <td>0.577314</td>\n",
       "    </tr>\n",
       "    <tr>\n",
       "      <th>5637</th>\n",
       "      <td>2.927335</td>\n",
       "      <td>2.892365</td>\n",
       "      <td>3.181651</td>\n",
       "      <td>2.926549</td>\n",
       "      <td>2.677943</td>\n",
       "      <td>2.677943</td>\n",
       "      <td>4.295357</td>\n",
       "      <td>3.205598</td>\n",
       "      <td>5.249042</td>\n",
       "      <td>4.495021</td>\n",
       "      <td>...</td>\n",
       "      <td>7.057572</td>\n",
       "      <td>9.261486</td>\n",
       "      <td>3.492602</td>\n",
       "      <td>4.813163</td>\n",
       "      <td>2.558705</td>\n",
       "      <td>4.580977</td>\n",
       "      <td>4.810975</td>\n",
       "      <td>4.371501</td>\n",
       "      <td>7.974367</td>\n",
       "      <td>0.828724</td>\n",
       "    </tr>\n",
       "    <tr>\n",
       "      <th>639V</th>\n",
       "      <td>3.953010</td>\n",
       "      <td>2.858072</td>\n",
       "      <td>2.892599</td>\n",
       "      <td>2.828334</td>\n",
       "      <td>2.729762</td>\n",
       "      <td>2.729762</td>\n",
       "      <td>2.960059</td>\n",
       "      <td>3.121154</td>\n",
       "      <td>4.445200</td>\n",
       "      <td>4.017422</td>\n",
       "      <td>...</td>\n",
       "      <td>6.310088</td>\n",
       "      <td>8.021780</td>\n",
       "      <td>3.919468</td>\n",
       "      <td>5.923131</td>\n",
       "      <td>2.782005</td>\n",
       "      <td>4.969272</td>\n",
       "      <td>5.481422</td>\n",
       "      <td>5.205446</td>\n",
       "      <td>8.118109</td>\n",
       "      <td>0.726141</td>\n",
       "    </tr>\n",
       "    <tr>\n",
       "      <th>647V</th>\n",
       "      <td>2.804009</td>\n",
       "      <td>2.944390</td>\n",
       "      <td>3.178071</td>\n",
       "      <td>2.675572</td>\n",
       "      <td>2.949402</td>\n",
       "      <td>2.949402</td>\n",
       "      <td>3.029297</td>\n",
       "      <td>3.024326</td>\n",
       "      <td>4.636786</td>\n",
       "      <td>4.724453</td>\n",
       "      <td>...</td>\n",
       "      <td>8.657911</td>\n",
       "      <td>9.426794</td>\n",
       "      <td>3.657576</td>\n",
       "      <td>6.082990</td>\n",
       "      <td>3.148358</td>\n",
       "      <td>5.182059</td>\n",
       "      <td>5.203430</td>\n",
       "      <td>4.806941</td>\n",
       "      <td>8.530606</td>\n",
       "      <td>0.008665</td>\n",
       "    </tr>\n",
       "    <tr>\n",
       "      <th>...</th>\n",
       "      <td>...</td>\n",
       "      <td>...</td>\n",
       "      <td>...</td>\n",
       "      <td>...</td>\n",
       "      <td>...</td>\n",
       "      <td>...</td>\n",
       "      <td>...</td>\n",
       "      <td>...</td>\n",
       "      <td>...</td>\n",
       "      <td>...</td>\n",
       "      <td>...</td>\n",
       "      <td>...</td>\n",
       "      <td>...</td>\n",
       "      <td>...</td>\n",
       "      <td>...</td>\n",
       "      <td>...</td>\n",
       "      <td>...</td>\n",
       "      <td>...</td>\n",
       "      <td>...</td>\n",
       "      <td>...</td>\n",
       "      <td>...</td>\n",
       "    </tr>\n",
       "    <tr>\n",
       "      <th>YAPC</th>\n",
       "      <td>3.043994</td>\n",
       "      <td>3.055992</td>\n",
       "      <td>3.532297</td>\n",
       "      <td>2.946112</td>\n",
       "      <td>2.835091</td>\n",
       "      <td>2.835091</td>\n",
       "      <td>3.273226</td>\n",
       "      <td>3.182387</td>\n",
       "      <td>4.474313</td>\n",
       "      <td>4.238488</td>\n",
       "      <td>...</td>\n",
       "      <td>8.619045</td>\n",
       "      <td>10.392332</td>\n",
       "      <td>3.704526</td>\n",
       "      <td>5.128979</td>\n",
       "      <td>3.082707</td>\n",
       "      <td>4.061633</td>\n",
       "      <td>3.664478</td>\n",
       "      <td>4.276836</td>\n",
       "      <td>7.238275</td>\n",
       "      <td>0.502122</td>\n",
       "    </tr>\n",
       "    <tr>\n",
       "      <th>YH13</th>\n",
       "      <td>5.167861</td>\n",
       "      <td>3.072842</td>\n",
       "      <td>3.049070</td>\n",
       "      <td>3.098071</td>\n",
       "      <td>3.029716</td>\n",
       "      <td>3.029716</td>\n",
       "      <td>2.990092</td>\n",
       "      <td>3.318574</td>\n",
       "      <td>4.561866</td>\n",
       "      <td>3.581945</td>\n",
       "      <td>...</td>\n",
       "      <td>8.048126</td>\n",
       "      <td>8.235304</td>\n",
       "      <td>3.305898</td>\n",
       "      <td>4.745612</td>\n",
       "      <td>2.577626</td>\n",
       "      <td>5.215836</td>\n",
       "      <td>7.003537</td>\n",
       "      <td>4.203823</td>\n",
       "      <td>7.919283</td>\n",
       "      <td>0.881166</td>\n",
       "    </tr>\n",
       "    <tr>\n",
       "      <th>YKG1</th>\n",
       "      <td>4.711624</td>\n",
       "      <td>3.067945</td>\n",
       "      <td>3.306930</td>\n",
       "      <td>3.037960</td>\n",
       "      <td>2.713442</td>\n",
       "      <td>2.713442</td>\n",
       "      <td>3.154398</td>\n",
       "      <td>2.988924</td>\n",
       "      <td>4.586814</td>\n",
       "      <td>3.781220</td>\n",
       "      <td>...</td>\n",
       "      <td>7.978261</td>\n",
       "      <td>9.150385</td>\n",
       "      <td>3.972405</td>\n",
       "      <td>5.166082</td>\n",
       "      <td>2.813449</td>\n",
       "      <td>5.117194</td>\n",
       "      <td>5.085635</td>\n",
       "      <td>4.918170</td>\n",
       "      <td>8.208343</td>\n",
       "      <td>0.803193</td>\n",
       "    </tr>\n",
       "    <tr>\n",
       "      <th>YT</th>\n",
       "      <td>3.143593</td>\n",
       "      <td>3.779792</td>\n",
       "      <td>5.095163</td>\n",
       "      <td>2.879333</td>\n",
       "      <td>2.749091</td>\n",
       "      <td>2.749091</td>\n",
       "      <td>3.186225</td>\n",
       "      <td>3.359589</td>\n",
       "      <td>4.511721</td>\n",
       "      <td>4.241912</td>\n",
       "      <td>...</td>\n",
       "      <td>8.196766</td>\n",
       "      <td>9.205680</td>\n",
       "      <td>3.515323</td>\n",
       "      <td>5.152341</td>\n",
       "      <td>2.472749</td>\n",
       "      <td>5.046783</td>\n",
       "      <td>6.016707</td>\n",
       "      <td>5.168183</td>\n",
       "      <td>7.063949</td>\n",
       "      <td>0.513477</td>\n",
       "    </tr>\n",
       "    <tr>\n",
       "      <th>ZR7530</th>\n",
       "      <td>5.594177</td>\n",
       "      <td>3.032126</td>\n",
       "      <td>3.562195</td>\n",
       "      <td>3.108549</td>\n",
       "      <td>2.767673</td>\n",
       "      <td>2.767673</td>\n",
       "      <td>3.611381</td>\n",
       "      <td>3.247737</td>\n",
       "      <td>4.547910</td>\n",
       "      <td>4.423134</td>\n",
       "      <td>...</td>\n",
       "      <td>7.398583</td>\n",
       "      <td>8.781244</td>\n",
       "      <td>3.574957</td>\n",
       "      <td>5.301549</td>\n",
       "      <td>3.045222</td>\n",
       "      <td>4.952083</td>\n",
       "      <td>4.604161</td>\n",
       "      <td>4.472996</td>\n",
       "      <td>7.675603</td>\n",
       "      <td>0.463716</td>\n",
       "    </tr>\n",
       "  </tbody>\n",
       "</table>\n",
       "<p>660 rows × 19563 columns</p>\n",
       "</div>"
      ],
      "text/plain": [
       "             A1BG      A1CF       A2M     A2ML1   A3GALT2  A3GALT2P    A4GALT  \\\n",
       "CCL                                                                             \n",
       "22RV1    3.537942  6.364651  5.332441  2.923030  2.815383  2.815383  3.241125   \n",
       "2313287  3.370950  6.284884  3.485675  2.831562  2.913369  2.913369  3.313028   \n",
       "5637     2.927335  2.892365  3.181651  2.926549  2.677943  2.677943  4.295357   \n",
       "639V     3.953010  2.858072  2.892599  2.828334  2.729762  2.729762  2.960059   \n",
       "647V     2.804009  2.944390  3.178071  2.675572  2.949402  2.949402  3.029297   \n",
       "...           ...       ...       ...       ...       ...       ...       ...   \n",
       "YAPC     3.043994  3.055992  3.532297  2.946112  2.835091  2.835091  3.273226   \n",
       "YH13     5.167861  3.072842  3.049070  3.098071  3.029716  3.029716  2.990092   \n",
       "YKG1     4.711624  3.067945  3.306930  3.037960  2.713442  2.713442  3.154398   \n",
       "YT       3.143593  3.779792  5.095163  2.879333  2.749091  2.749091  3.186225   \n",
       "ZR7530   5.594177  3.032126  3.562195  3.108549  2.767673  2.767673  3.611381   \n",
       "\n",
       "            A4GNT      AAAS      AACS  ...    ZWILCH      ZWINT      ZXDB  \\\n",
       "CCL                                    ...                                  \n",
       "22RV1    3.262633  4.722157  4.942126  ...  7.526319   9.274166  3.785757   \n",
       "2313287  3.096527  4.873621  4.213177  ...  6.526713   8.021952  3.520584   \n",
       "5637     3.205598  5.249042  4.495021  ...  7.057572   9.261486  3.492602   \n",
       "639V     3.121154  4.445200  4.017422  ...  6.310088   8.021780  3.919468   \n",
       "647V     3.024326  4.636786  4.724453  ...  8.657911   9.426794  3.657576   \n",
       "...           ...       ...       ...  ...       ...        ...       ...   \n",
       "YAPC     3.182387  4.474313  4.238488  ...  8.619045  10.392332  3.704526   \n",
       "YH13     3.318574  4.561866  3.581945  ...  8.048126   8.235304  3.305898   \n",
       "YKG1     2.988924  4.586814  3.781220  ...  7.978261   9.150385  3.972405   \n",
       "YT       3.359589  4.511721  4.241912  ...  8.196766   9.205680  3.515323   \n",
       "ZR7530   3.247737  4.547910  4.423134  ...  7.398583   8.781244  3.574957   \n",
       "\n",
       "             ZXDC    ZYG11A    ZYG11B       ZYX     ZZEF1      ZZZ3  AUC_IC50  \n",
       "CCL                                                                            \n",
       "22RV1    5.201929  2.742575  4.635015  3.940190  4.658663  8.088672  0.169156  \n",
       "2313287  4.957371  2.636933  4.350120  4.395806  4.598583  7.951146  0.577314  \n",
       "5637     4.813163  2.558705  4.580977  4.810975  4.371501  7.974367  0.828724  \n",
       "639V     5.923131  2.782005  4.969272  5.481422  5.205446  8.118109  0.726141  \n",
       "647V     6.082990  3.148358  5.182059  5.203430  4.806941  8.530606  0.008665  \n",
       "...           ...       ...       ...       ...       ...       ...       ...  \n",
       "YAPC     5.128979  3.082707  4.061633  3.664478  4.276836  7.238275  0.502122  \n",
       "YH13     4.745612  2.577626  5.215836  7.003537  4.203823  7.919283  0.881166  \n",
       "YKG1     5.166082  2.813449  5.117194  5.085635  4.918170  8.208343  0.803193  \n",
       "YT       5.152341  2.472749  5.046783  6.016707  5.168183  7.063949  0.513477  \n",
       "ZR7530   5.301549  3.045222  4.952083  4.604161  4.472996  7.675603  0.463716  \n",
       "\n",
       "[660 rows x 19563 columns]"
      ]
     },
     "execution_count": 35,
     "metadata": {},
     "output_type": "execute_result"
    }
   ],
   "source": [
    "ge.join(dr[dr['Drug_name'] == '17-AAG'][['CCL', 'AUC_IC50']].set_index('CCL'), how='right')"
   ]
  },
  {
   "cell_type": "code",
   "execution_count": 28,
   "metadata": {},
   "outputs": [
    {
     "data": {
      "text/html": [
       "<div>\n",
       "<style scoped>\n",
       "    .dataframe tbody tr th:only-of-type {\n",
       "        vertical-align: middle;\n",
       "    }\n",
       "\n",
       "    .dataframe tbody tr th {\n",
       "        vertical-align: top;\n",
       "    }\n",
       "\n",
       "    .dataframe thead th {\n",
       "        text-align: right;\n",
       "    }\n",
       "</style>\n",
       "<table border=\"1\" class=\"dataframe\">\n",
       "  <thead>\n",
       "    <tr style=\"text-align: right;\">\n",
       "      <th></th>\n",
       "      <th>AUC_IC50</th>\n",
       "    </tr>\n",
       "    <tr>\n",
       "      <th>CCL</th>\n",
       "      <th></th>\n",
       "    </tr>\n",
       "  </thead>\n",
       "  <tbody>\n",
       "    <tr>\n",
       "      <th>22RV1</th>\n",
       "      <td>0.169156</td>\n",
       "    </tr>\n",
       "    <tr>\n",
       "      <th>2313287</th>\n",
       "      <td>0.577314</td>\n",
       "    </tr>\n",
       "    <tr>\n",
       "      <th>5637</th>\n",
       "      <td>0.828724</td>\n",
       "    </tr>\n",
       "    <tr>\n",
       "      <th>639V</th>\n",
       "      <td>0.726141</td>\n",
       "    </tr>\n",
       "    <tr>\n",
       "      <th>647V</th>\n",
       "      <td>0.008665</td>\n",
       "    </tr>\n",
       "    <tr>\n",
       "      <th>...</th>\n",
       "      <td>...</td>\n",
       "    </tr>\n",
       "    <tr>\n",
       "      <th>YAPC</th>\n",
       "      <td>0.502122</td>\n",
       "    </tr>\n",
       "    <tr>\n",
       "      <th>YH13</th>\n",
       "      <td>0.881166</td>\n",
       "    </tr>\n",
       "    <tr>\n",
       "      <th>YKG1</th>\n",
       "      <td>0.803193</td>\n",
       "    </tr>\n",
       "    <tr>\n",
       "      <th>YT</th>\n",
       "      <td>0.513477</td>\n",
       "    </tr>\n",
       "    <tr>\n",
       "      <th>ZR7530</th>\n",
       "      <td>0.463716</td>\n",
       "    </tr>\n",
       "  </tbody>\n",
       "</table>\n",
       "<p>660 rows × 1 columns</p>\n",
       "</div>"
      ],
      "text/plain": [
       "         AUC_IC50\n",
       "CCL              \n",
       "22RV1    0.169156\n",
       "2313287  0.577314\n",
       "5637     0.828724\n",
       "639V     0.726141\n",
       "647V     0.008665\n",
       "...           ...\n",
       "YAPC     0.502122\n",
       "YH13     0.881166\n",
       "YKG1     0.803193\n",
       "YT       0.513477\n",
       "ZR7530   0.463716\n",
       "\n",
       "[660 rows x 1 columns]"
      ]
     },
     "execution_count": 28,
     "metadata": {},
     "output_type": "execute_result"
    }
   ],
   "source": [
    "dr[dr['Drug_name'] == '17-AAG'][['CCL', 'AUC_IC50']].set_index('CCL')"
   ]
  },
  {
   "cell_type": "code",
   "execution_count": 16,
   "metadata": {},
   "outputs": [
    {
     "name": "stdout",
     "output_type": "stream",
     "text": [
      "CPU times: user 7.94 ms, sys: 1.2 ms, total: 9.14 ms\n",
      "Wall time: 15.4 ms\n"
     ]
    }
   ],
   "source": [
    "%%time\n",
    "drug_dr = dr[dr['Drug_name'] == '17-AAG'][['CCL', 'AUC_IC50']]"
   ]
  },
  {
   "cell_type": "code",
   "execution_count": 17,
   "metadata": {},
   "outputs": [
    {
     "name": "stdout",
     "output_type": "stream",
     "text": [
      "CPU times: user 2.9 s, sys: 258 ms, total: 3.16 s\n",
      "Wall time: 3.33 s\n"
     ]
    }
   ],
   "source": [
    "%%time\n",
    "X = np.array([list(ge.loc[i].values) for i in drug_dr[drug_dr['CCL'].isin(ge.index)]['CCL']])"
   ]
  },
  {
   "cell_type": "code",
   "execution_count": 18,
   "metadata": {},
   "outputs": [
    {
     "name": "stdout",
     "output_type": "stream",
     "text": [
      "CPU times: user 31 µs, sys: 1 µs, total: 32 µs\n",
      "Wall time: 35 µs\n"
     ]
    }
   ],
   "source": [
    "%%time\n",
    "X = X.reshape(drug_dr.shape[0], ge.shape[1])"
   ]
  },
  {
   "cell_type": "code",
   "execution_count": 19,
   "metadata": {},
   "outputs": [
    {
     "name": "stdout",
     "output_type": "stream",
     "text": [
      "CPU times: user 48.3 ms, sys: 9.44 ms, total: 57.7 ms\n",
      "Wall time: 66.9 ms\n"
     ]
    }
   ],
   "source": [
    "%%time\n",
    "data = pd.DataFrame(X).assign(DR = drug_dr['AUC_IC50'])"
   ]
  },
  {
   "cell_type": "code",
   "execution_count": 66,
   "metadata": {},
   "outputs": [
    {
     "data": {
      "text/html": [
       "<div>\n",
       "<style scoped>\n",
       "    .dataframe tbody tr th:only-of-type {\n",
       "        vertical-align: middle;\n",
       "    }\n",
       "\n",
       "    .dataframe tbody tr th {\n",
       "        vertical-align: top;\n",
       "    }\n",
       "\n",
       "    .dataframe thead th {\n",
       "        text-align: right;\n",
       "    }\n",
       "</style>\n",
       "<table border=\"1\" class=\"dataframe\">\n",
       "  <thead>\n",
       "    <tr style=\"text-align: right;\">\n",
       "      <th></th>\n",
       "      <th>0</th>\n",
       "      <th>1</th>\n",
       "      <th>2</th>\n",
       "      <th>3</th>\n",
       "      <th>4</th>\n",
       "      <th>5</th>\n",
       "      <th>6</th>\n",
       "      <th>7</th>\n",
       "      <th>8</th>\n",
       "      <th>9</th>\n",
       "      <th>...</th>\n",
       "      <th>19553</th>\n",
       "      <th>19554</th>\n",
       "      <th>19555</th>\n",
       "      <th>19556</th>\n",
       "      <th>19557</th>\n",
       "      <th>19558</th>\n",
       "      <th>19559</th>\n",
       "      <th>19560</th>\n",
       "      <th>19561</th>\n",
       "      <th>DR</th>\n",
       "    </tr>\n",
       "  </thead>\n",
       "  <tbody>\n",
       "    <tr>\n",
       "      <th>0</th>\n",
       "      <td>3.537942</td>\n",
       "      <td>6.364651</td>\n",
       "      <td>5.332441</td>\n",
       "      <td>2.923030</td>\n",
       "      <td>2.815383</td>\n",
       "      <td>2.815383</td>\n",
       "      <td>3.241125</td>\n",
       "      <td>3.262633</td>\n",
       "      <td>4.722157</td>\n",
       "      <td>4.942126</td>\n",
       "      <td>...</td>\n",
       "      <td>7.526319</td>\n",
       "      <td>9.274166</td>\n",
       "      <td>3.785757</td>\n",
       "      <td>5.201929</td>\n",
       "      <td>2.742575</td>\n",
       "      <td>4.635015</td>\n",
       "      <td>3.940190</td>\n",
       "      <td>4.658663</td>\n",
       "      <td>8.088672</td>\n",
       "      <td>0.169156</td>\n",
       "    </tr>\n",
       "    <tr>\n",
       "      <th>1</th>\n",
       "      <td>3.370950</td>\n",
       "      <td>6.284884</td>\n",
       "      <td>3.485675</td>\n",
       "      <td>2.831562</td>\n",
       "      <td>2.913369</td>\n",
       "      <td>2.913369</td>\n",
       "      <td>3.313028</td>\n",
       "      <td>3.096527</td>\n",
       "      <td>4.873621</td>\n",
       "      <td>4.213177</td>\n",
       "      <td>...</td>\n",
       "      <td>6.526713</td>\n",
       "      <td>8.021952</td>\n",
       "      <td>3.520584</td>\n",
       "      <td>4.957371</td>\n",
       "      <td>2.636933</td>\n",
       "      <td>4.350120</td>\n",
       "      <td>4.395806</td>\n",
       "      <td>4.598583</td>\n",
       "      <td>7.951146</td>\n",
       "      <td>0.577314</td>\n",
       "    </tr>\n",
       "    <tr>\n",
       "      <th>2</th>\n",
       "      <td>2.927335</td>\n",
       "      <td>2.892365</td>\n",
       "      <td>3.181651</td>\n",
       "      <td>2.926549</td>\n",
       "      <td>2.677943</td>\n",
       "      <td>2.677943</td>\n",
       "      <td>4.295357</td>\n",
       "      <td>3.205598</td>\n",
       "      <td>5.249042</td>\n",
       "      <td>4.495021</td>\n",
       "      <td>...</td>\n",
       "      <td>7.057572</td>\n",
       "      <td>9.261486</td>\n",
       "      <td>3.492602</td>\n",
       "      <td>4.813163</td>\n",
       "      <td>2.558705</td>\n",
       "      <td>4.580977</td>\n",
       "      <td>4.810975</td>\n",
       "      <td>4.371501</td>\n",
       "      <td>7.974367</td>\n",
       "      <td>0.828724</td>\n",
       "    </tr>\n",
       "    <tr>\n",
       "      <th>3</th>\n",
       "      <td>3.953010</td>\n",
       "      <td>2.858072</td>\n",
       "      <td>2.892599</td>\n",
       "      <td>2.828334</td>\n",
       "      <td>2.729762</td>\n",
       "      <td>2.729762</td>\n",
       "      <td>2.960059</td>\n",
       "      <td>3.121154</td>\n",
       "      <td>4.445200</td>\n",
       "      <td>4.017422</td>\n",
       "      <td>...</td>\n",
       "      <td>6.310088</td>\n",
       "      <td>8.021780</td>\n",
       "      <td>3.919468</td>\n",
       "      <td>5.923131</td>\n",
       "      <td>2.782005</td>\n",
       "      <td>4.969272</td>\n",
       "      <td>5.481422</td>\n",
       "      <td>5.205446</td>\n",
       "      <td>8.118109</td>\n",
       "      <td>0.726141</td>\n",
       "    </tr>\n",
       "    <tr>\n",
       "      <th>4</th>\n",
       "      <td>2.804009</td>\n",
       "      <td>2.944390</td>\n",
       "      <td>3.178071</td>\n",
       "      <td>2.675572</td>\n",
       "      <td>2.949402</td>\n",
       "      <td>2.949402</td>\n",
       "      <td>3.029297</td>\n",
       "      <td>3.024326</td>\n",
       "      <td>4.636786</td>\n",
       "      <td>4.724453</td>\n",
       "      <td>...</td>\n",
       "      <td>8.657911</td>\n",
       "      <td>9.426794</td>\n",
       "      <td>3.657576</td>\n",
       "      <td>6.082990</td>\n",
       "      <td>3.148358</td>\n",
       "      <td>5.182059</td>\n",
       "      <td>5.203430</td>\n",
       "      <td>4.806941</td>\n",
       "      <td>8.530606</td>\n",
       "      <td>0.008665</td>\n",
       "    </tr>\n",
       "    <tr>\n",
       "      <th>...</th>\n",
       "      <td>...</td>\n",
       "      <td>...</td>\n",
       "      <td>...</td>\n",
       "      <td>...</td>\n",
       "      <td>...</td>\n",
       "      <td>...</td>\n",
       "      <td>...</td>\n",
       "      <td>...</td>\n",
       "      <td>...</td>\n",
       "      <td>...</td>\n",
       "      <td>...</td>\n",
       "      <td>...</td>\n",
       "      <td>...</td>\n",
       "      <td>...</td>\n",
       "      <td>...</td>\n",
       "      <td>...</td>\n",
       "      <td>...</td>\n",
       "      <td>...</td>\n",
       "      <td>...</td>\n",
       "      <td>...</td>\n",
       "      <td>...</td>\n",
       "    </tr>\n",
       "    <tr>\n",
       "      <th>655</th>\n",
       "      <td>3.043994</td>\n",
       "      <td>3.055992</td>\n",
       "      <td>3.532297</td>\n",
       "      <td>2.946112</td>\n",
       "      <td>2.835091</td>\n",
       "      <td>2.835091</td>\n",
       "      <td>3.273226</td>\n",
       "      <td>3.182387</td>\n",
       "      <td>4.474313</td>\n",
       "      <td>4.238488</td>\n",
       "      <td>...</td>\n",
       "      <td>8.619045</td>\n",
       "      <td>10.392332</td>\n",
       "      <td>3.704526</td>\n",
       "      <td>5.128979</td>\n",
       "      <td>3.082707</td>\n",
       "      <td>4.061633</td>\n",
       "      <td>3.664478</td>\n",
       "      <td>4.276836</td>\n",
       "      <td>7.238275</td>\n",
       "      <td>0.502122</td>\n",
       "    </tr>\n",
       "    <tr>\n",
       "      <th>656</th>\n",
       "      <td>5.167861</td>\n",
       "      <td>3.072842</td>\n",
       "      <td>3.049070</td>\n",
       "      <td>3.098071</td>\n",
       "      <td>3.029716</td>\n",
       "      <td>3.029716</td>\n",
       "      <td>2.990092</td>\n",
       "      <td>3.318574</td>\n",
       "      <td>4.561866</td>\n",
       "      <td>3.581945</td>\n",
       "      <td>...</td>\n",
       "      <td>8.048126</td>\n",
       "      <td>8.235304</td>\n",
       "      <td>3.305898</td>\n",
       "      <td>4.745612</td>\n",
       "      <td>2.577626</td>\n",
       "      <td>5.215836</td>\n",
       "      <td>7.003537</td>\n",
       "      <td>4.203823</td>\n",
       "      <td>7.919283</td>\n",
       "      <td>0.881166</td>\n",
       "    </tr>\n",
       "    <tr>\n",
       "      <th>657</th>\n",
       "      <td>4.711624</td>\n",
       "      <td>3.067945</td>\n",
       "      <td>3.306930</td>\n",
       "      <td>3.037960</td>\n",
       "      <td>2.713442</td>\n",
       "      <td>2.713442</td>\n",
       "      <td>3.154398</td>\n",
       "      <td>2.988924</td>\n",
       "      <td>4.586814</td>\n",
       "      <td>3.781220</td>\n",
       "      <td>...</td>\n",
       "      <td>7.978261</td>\n",
       "      <td>9.150385</td>\n",
       "      <td>3.972405</td>\n",
       "      <td>5.166082</td>\n",
       "      <td>2.813449</td>\n",
       "      <td>5.117194</td>\n",
       "      <td>5.085635</td>\n",
       "      <td>4.918170</td>\n",
       "      <td>8.208343</td>\n",
       "      <td>0.803193</td>\n",
       "    </tr>\n",
       "    <tr>\n",
       "      <th>658</th>\n",
       "      <td>3.143593</td>\n",
       "      <td>3.779792</td>\n",
       "      <td>5.095163</td>\n",
       "      <td>2.879333</td>\n",
       "      <td>2.749091</td>\n",
       "      <td>2.749091</td>\n",
       "      <td>3.186225</td>\n",
       "      <td>3.359589</td>\n",
       "      <td>4.511721</td>\n",
       "      <td>4.241912</td>\n",
       "      <td>...</td>\n",
       "      <td>8.196766</td>\n",
       "      <td>9.205680</td>\n",
       "      <td>3.515323</td>\n",
       "      <td>5.152341</td>\n",
       "      <td>2.472749</td>\n",
       "      <td>5.046783</td>\n",
       "      <td>6.016707</td>\n",
       "      <td>5.168183</td>\n",
       "      <td>7.063949</td>\n",
       "      <td>0.513477</td>\n",
       "    </tr>\n",
       "    <tr>\n",
       "      <th>659</th>\n",
       "      <td>5.594177</td>\n",
       "      <td>3.032126</td>\n",
       "      <td>3.562195</td>\n",
       "      <td>3.108549</td>\n",
       "      <td>2.767673</td>\n",
       "      <td>2.767673</td>\n",
       "      <td>3.611381</td>\n",
       "      <td>3.247737</td>\n",
       "      <td>4.547910</td>\n",
       "      <td>4.423134</td>\n",
       "      <td>...</td>\n",
       "      <td>7.398583</td>\n",
       "      <td>8.781244</td>\n",
       "      <td>3.574957</td>\n",
       "      <td>5.301549</td>\n",
       "      <td>3.045222</td>\n",
       "      <td>4.952083</td>\n",
       "      <td>4.604161</td>\n",
       "      <td>4.472996</td>\n",
       "      <td>7.675603</td>\n",
       "      <td>0.463716</td>\n",
       "    </tr>\n",
       "  </tbody>\n",
       "</table>\n",
       "<p>660 rows × 19563 columns</p>\n",
       "</div>"
      ],
      "text/plain": [
       "            0         1         2         3         4         5         6  \\\n",
       "0    3.537942  6.364651  5.332441  2.923030  2.815383  2.815383  3.241125   \n",
       "1    3.370950  6.284884  3.485675  2.831562  2.913369  2.913369  3.313028   \n",
       "2    2.927335  2.892365  3.181651  2.926549  2.677943  2.677943  4.295357   \n",
       "3    3.953010  2.858072  2.892599  2.828334  2.729762  2.729762  2.960059   \n",
       "4    2.804009  2.944390  3.178071  2.675572  2.949402  2.949402  3.029297   \n",
       "..        ...       ...       ...       ...       ...       ...       ...   \n",
       "655  3.043994  3.055992  3.532297  2.946112  2.835091  2.835091  3.273226   \n",
       "656  5.167861  3.072842  3.049070  3.098071  3.029716  3.029716  2.990092   \n",
       "657  4.711624  3.067945  3.306930  3.037960  2.713442  2.713442  3.154398   \n",
       "658  3.143593  3.779792  5.095163  2.879333  2.749091  2.749091  3.186225   \n",
       "659  5.594177  3.032126  3.562195  3.108549  2.767673  2.767673  3.611381   \n",
       "\n",
       "            7         8         9  ...     19553      19554     19555  \\\n",
       "0    3.262633  4.722157  4.942126  ...  7.526319   9.274166  3.785757   \n",
       "1    3.096527  4.873621  4.213177  ...  6.526713   8.021952  3.520584   \n",
       "2    3.205598  5.249042  4.495021  ...  7.057572   9.261486  3.492602   \n",
       "3    3.121154  4.445200  4.017422  ...  6.310088   8.021780  3.919468   \n",
       "4    3.024326  4.636786  4.724453  ...  8.657911   9.426794  3.657576   \n",
       "..        ...       ...       ...  ...       ...        ...       ...   \n",
       "655  3.182387  4.474313  4.238488  ...  8.619045  10.392332  3.704526   \n",
       "656  3.318574  4.561866  3.581945  ...  8.048126   8.235304  3.305898   \n",
       "657  2.988924  4.586814  3.781220  ...  7.978261   9.150385  3.972405   \n",
       "658  3.359589  4.511721  4.241912  ...  8.196766   9.205680  3.515323   \n",
       "659  3.247737  4.547910  4.423134  ...  7.398583   8.781244  3.574957   \n",
       "\n",
       "        19556     19557     19558     19559     19560     19561        DR  \n",
       "0    5.201929  2.742575  4.635015  3.940190  4.658663  8.088672  0.169156  \n",
       "1    4.957371  2.636933  4.350120  4.395806  4.598583  7.951146  0.577314  \n",
       "2    4.813163  2.558705  4.580977  4.810975  4.371501  7.974367  0.828724  \n",
       "3    5.923131  2.782005  4.969272  5.481422  5.205446  8.118109  0.726141  \n",
       "4    6.082990  3.148358  5.182059  5.203430  4.806941  8.530606  0.008665  \n",
       "..        ...       ...       ...       ...       ...       ...       ...  \n",
       "655  5.128979  3.082707  4.061633  3.664478  4.276836  7.238275  0.502122  \n",
       "656  4.745612  2.577626  5.215836  7.003537  4.203823  7.919283  0.881166  \n",
       "657  5.166082  2.813449  5.117194  5.085635  4.918170  8.208343  0.803193  \n",
       "658  5.152341  2.472749  5.046783  6.016707  5.168183  7.063949  0.513477  \n",
       "659  5.301549  3.045222  4.952083  4.604161  4.472996  7.675603  0.463716  \n",
       "\n",
       "[660 rows x 19563 columns]"
      ]
     },
     "execution_count": 66,
     "metadata": {},
     "output_type": "execute_result"
    }
   ],
   "source": [
    "data"
   ]
  },
  {
   "cell_type": "markdown",
   "metadata": {},
   "source": [
    "## Speeding up pre-processing"
   ]
  },
  {
   "cell_type": "code",
   "execution_count": 2,
   "metadata": {},
   "outputs": [],
   "source": [
    "gdsc_ge = pd.read_csv('data/Processed/gdsc_cell_ge.csv').fillna(0).set_index('CCL')"
   ]
  },
  {
   "cell_type": "code",
   "execution_count": 3,
   "metadata": {},
   "outputs": [
    {
     "name": "stdout",
     "output_type": "stream",
     "text": [
      "<class 'pandas.core.indexes.base.Index'>\n"
     ]
    }
   ],
   "source": [
    "print(type(gdsc_ge.keys()))"
   ]
  },
  {
   "cell_type": "code",
   "execution_count": 5,
   "metadata": {},
   "outputs": [
    {
     "data": {
      "text/plain": [
       "(706, 19562)"
      ]
     },
     "execution_count": 5,
     "metadata": {},
     "output_type": "execute_result"
    }
   ],
   "source": [
    "gdsc_ge.shape"
   ]
  },
  {
   "cell_type": "code",
   "execution_count": 6,
   "metadata": {},
   "outputs": [
    {
     "data": {
      "text/plain": [
       "706"
      ]
     },
     "execution_count": 6,
     "metadata": {},
     "output_type": "execute_result"
    }
   ],
   "source": [
    "gdsc_ge.shape[0]"
   ]
  },
  {
   "cell_type": "code",
   "execution_count": 8,
   "metadata": {},
   "outputs": [
    {
     "name": "stdout",
     "output_type": "stream",
     "text": [
      "CPU times: user 117 ms, sys: 6.79 ms, total: 124 ms\n",
      "Wall time: 125 ms\n"
     ]
    }
   ],
   "source": [
    "%%time\n",
    "under = (gdsc_ge.to_numpy()>5).T.astype(np.int8)\n",
    "\n",
    "n = [np.count_nonzero(i) > 0.1*gdsc_ge.shape[0] for i in under]\n",
    "names = {gdsc_ge.keys()[k]:v for k, v in enumerate(n)}\n",
    "indices = [k for k,v in names.items() if v]\n",
    "index = gdsc_ge[indices]"
   ]
  },
  {
   "cell_type": "code",
   "execution_count": 9,
   "metadata": {},
   "outputs": [
    {
     "name": "stdout",
     "output_type": "stream",
     "text": [
      "CPU times: user 6.17 s, sys: 127 ms, total: 6.3 s\n",
      "Wall time: 6.36 s\n"
     ]
    }
   ],
   "source": [
    "%%time\n",
    "index2 = pre(gdsc_ge,t=5, p=0.1)"
   ]
  },
  {
   "cell_type": "code",
   "execution_count": 10,
   "metadata": {},
   "outputs": [
    {
     "data": {
      "text/plain": [
       "(706, 9919)"
      ]
     },
     "execution_count": 10,
     "metadata": {},
     "output_type": "execute_result"
    }
   ],
   "source": [
    "index.shape"
   ]
  },
  {
   "cell_type": "code",
   "execution_count": 11,
   "metadata": {},
   "outputs": [
    {
     "data": {
      "text/plain": [
       "(706, 9919)"
      ]
     },
     "execution_count": 11,
     "metadata": {},
     "output_type": "execute_result"
    }
   ],
   "source": [
    "index2.shape"
   ]
  },
  {
   "cell_type": "markdown",
   "metadata": {},
   "source": [
    "## Domain Adaptation experiments"
   ]
  },
  {
   "cell_type": "code",
   "execution_count": 113,
   "metadata": {},
   "outputs": [],
   "source": [
    "X_a = np.random.rand(3, 2) * 3"
   ]
  },
  {
   "cell_type": "code",
   "execution_count": 114,
   "metadata": {},
   "outputs": [],
   "source": [
    "X_b = np.random.rand(3, 2) * 4"
   ]
  },
  {
   "cell_type": "code",
   "execution_count": 115,
   "metadata": {},
   "outputs": [],
   "source": [
    "X_c = np.random.rand(3, 2) * 5"
   ]
  },
  {
   "cell_type": "code",
   "execution_count": 116,
   "metadata": {},
   "outputs": [],
   "source": [
    "def jump(domain, n, data):\n",
    "    result = []\n",
    "    for i, ele in enumerate(data):\n",
    "        result.append(ele)\n",
    "        for j in range(0, domain):\n",
    "            result.append(0)\n",
    "        result.append(ele)\n",
    "        for j in range(0, n-domain-1):\n",
    "            result.append(0)\n",
    "    return result\n",
    "    "
   ]
  },
  {
   "cell_type": "code",
   "execution_count": 117,
   "metadata": {},
   "outputs": [],
   "source": [
    "def feda(domains):\n",
    "    n = len(domains)\n",
    "    \n",
    "    samples = 0\n",
    "    for i in domains:\n",
    "        samples += i.shape[0]\n",
    "    \n",
    "    features = domains[0].shape[1]*(n+1)\n",
    "    \n",
    "    new = np.zeros(features)\n",
    "    for i, data in enumerate(domains):\n",
    "        for j in data:\n",
    "            new = np.vstack([new, jump(i, n, j)])\n",
    "            \n",
    "    return new[1:]"
   ]
  },
  {
   "cell_type": "code",
   "execution_count": 118,
   "metadata": {},
   "outputs": [
    {
     "data": {
      "text/plain": [
       "array([[2.39552445, 2.39552445, 0.        , 0.        , 0.8923882 ,\n",
       "        0.8923882 , 0.        , 0.        ],\n",
       "       [2.09713092, 2.09713092, 0.        , 0.        , 1.99024727,\n",
       "        1.99024727, 0.        , 0.        ],\n",
       "       [2.17421497, 2.17421497, 0.        , 0.        , 2.66618415,\n",
       "        2.66618415, 0.        , 0.        ],\n",
       "       [3.77029806, 0.        , 3.77029806, 0.        , 0.52768015,\n",
       "        0.        , 0.52768015, 0.        ],\n",
       "       [3.03560501, 0.        , 3.03560501, 0.        , 1.3673342 ,\n",
       "        0.        , 1.3673342 , 0.        ],\n",
       "       [2.41889914, 0.        , 2.41889914, 0.        , 3.77142649,\n",
       "        0.        , 3.77142649, 0.        ],\n",
       "       [0.70066211, 0.        , 0.        , 0.70066211, 3.89969596,\n",
       "        0.        , 0.        , 3.89969596],\n",
       "       [1.67451535, 0.        , 0.        , 1.67451535, 0.97901028,\n",
       "        0.        , 0.        , 0.97901028],\n",
       "       [0.52645206, 0.        , 0.        , 0.52645206, 1.13973433,\n",
       "        0.        , 0.        , 1.13973433]])"
      ]
     },
     "execution_count": 118,
     "metadata": {},
     "output_type": "execute_result"
    }
   ],
   "source": [
    "feda([X_a, X_b, X_c])"
   ]
  },
  {
   "cell_type": "markdown",
   "metadata": {},
   "source": [
    "## Mess"
   ]
  },
  {
   "cell_type": "code",
   "execution_count": 1,
   "metadata": {},
   "outputs": [],
   "source": [
    "from methods import fs"
   ]
  },
  {
   "cell_type": "code",
   "execution_count": 2,
   "metadata": {},
   "outputs": [
    {
     "data": {
      "text/plain": [
       "' Returns a subset of {X_train} and {X_test} with features being selected by the method {model}\\n    :param int n: it can be the variance thereshold or the number of chosen features \\n    :\\n    '"
      ]
     },
     "execution_count": 2,
     "metadata": {},
     "output_type": "execute_result"
    }
   ],
   "source": [
    "fs.__doc__"
   ]
  },
  {
   "cell_type": "code",
   "execution_count": 1,
   "metadata": {},
   "outputs": [],
   "source": [
    "from classes import drug\n",
    "import pandas as pd\n",
    "from sklearn.tree import DecisionTreeRegressor\n",
    "from sklearn.feature_selection import SelectKBest, SelectPercentile, f_regression, mutual_info_regression, SelectFromModel, VarianceThreshold"
   ]
  },
  {
   "cell_type": "code",
   "execution_count": 2,
   "metadata": {},
   "outputs": [
    {
     "name": "stdout",
     "output_type": "stream",
     "text": [
      "CPU times: user 19.9 s, sys: 769 ms, total: 20.7 s\n",
      "Wall time: 21.2 s\n"
     ]
    }
   ],
   "source": [
    "%%time\n",
    "gdsc_ge = pd.read_csv('data/Processed/gdsc_cell_ge.csv').fillna(0).set_index('CCL')\n",
    "ctrp_ge = pd.read_csv('data/Processed/ctrp_cell_ge.csv').fillna(0).set_index('CCL')\n",
    "gdsc_dr = pd.read_csv('data/Processed/gdsc_poz_dr.csv').fillna(0)\n",
    "ctrp_dr = pd.read_csv('data/Processed/ctrp_poz_dr.csv').fillna(0)"
   ]
  },
  {
   "cell_type": "code",
   "execution_count": 7,
   "metadata": {
    "collapsed": true,
    "jupyter": {
     "outputs_hidden": true
    }
   },
   "outputs": [
    {
     "name": "stdout",
     "output_type": "stream",
     "text": [
      "Database\n",
      "Drug_name\n",
      "CCL\n",
      "Concentrations_nM\n",
      "Responses\n",
      "Minimal_tested_concentration_nM\n",
      "Maximal_tested_concentration_nM\n",
      "EC50_minimum_asymptote\n",
      "EC50_maximum_asymptote\n",
      "EC50_slope\n",
      "EC50_calculated_nM\n",
      "EC50_nM\n",
      "EC50_residuals\n",
      "EC50_residual_standard_error\n",
      "EC50_quality\n",
      "AUC_EC50\n",
      "IC50_minimum_asymptote\n",
      "IC50_maximum_asymptote\n",
      "IC50_slope\n",
      "IC50_calculated_nM\n",
      "IC50_nM\n",
      "IC50_residuals\n",
      "IC50_residual_standard_error\n",
      "IC50_quality\n",
      "AUC_IC50\n"
     ]
    }
   ],
   "source": [
    "for i in ctrp_dr[:1]:\n",
    "    print(i)"
   ]
  },
  {
   "cell_type": "code",
   "execution_count": 3,
   "metadata": {},
   "outputs": [
    {
     "name": "stdout",
     "output_type": "stream",
     "text": [
      "CPU times: user 1.02 s, sys: 106 ms, total: 1.13 s\n",
      "Wall time: 1.21 s\n"
     ]
    }
   ],
   "source": [
    "%%time\n",
    "aag = drug('17-AAG', {'ctrp': ctrp_ge, 'gdsc': gdsc_ge}, {'ctrp': ctrp_dr, 'gdsc': gdsc_dr})"
   ]
  },
  {
   "cell_type": "code",
   "execution_count": 4,
   "metadata": {
    "jupyter": {
     "source_hidden": true
    }
   },
   "outputs": [
    {
     "name": "stdout",
     "output_type": "stream",
     "text": [
      "data\n",
      "<class 'pandas.core.frame.DataFrame'>\n",
      "dr\n",
      "<class 'pandas.core.frame.DataFrame'>\n",
      "ge\n",
      "<class 'pandas.core.frame.DataFrame'>\n",
      "name\n",
      "<class 'str'>\n"
     ]
    }
   ],
   "source": [
    "aag.to_json()"
   ]
  },
  {
   "cell_type": "code",
   "execution_count": 5,
   "metadata": {},
   "outputs": [
    {
     "name": "stderr",
     "output_type": "stream",
     "text": [
      "/Users/admin/Desktop/Thesis/Code/phc-data-pipeline/methods.py:49: RuntimeWarning: invalid value encountered in greater\n",
      "  under = (data.to_numpy()>t).T.astype(np.int8)\n"
     ]
    },
    {
     "name": "stdout",
     "output_type": "stream",
     "text": [
      "CPU times: user 425 ms, sys: 229 ms, total: 654 ms\n",
      "Wall time: 712 ms\n"
     ]
    }
   ],
   "source": [
    "%%time\n",
    "aag.pre()"
   ]
  },
  {
   "cell_type": "code",
   "execution_count": 6,
   "metadata": {},
   "outputs": [
    {
     "name": "stdout",
     "output_type": "stream",
     "text": [
      "CPU times: user 528 ms, sys: 430 ms, total: 958 ms\n",
      "Wall time: 1.15 s\n"
     ]
    }
   ],
   "source": [
    "%%time\n",
    "aag.combine()"
   ]
  },
  {
   "cell_type": "code",
   "execution_count": 7,
   "metadata": {},
   "outputs": [
    {
     "name": "stdout",
     "output_type": "stream",
     "text": [
      "CPU times: user 155 ms, sys: 104 ms, total: 259 ms\n",
      "Wall time: 277 ms\n"
     ]
    }
   ],
   "source": [
    "%%time\n",
    "aag.split()"
   ]
  },
  {
   "cell_type": "code",
   "execution_count": 8,
   "metadata": {},
   "outputs": [
    {
     "name": "stdout",
     "output_type": "stream",
     "text": [
      "CPU times: user 180 ms, sys: 5.09 ms, total: 185 ms\n",
      "Wall time: 144 ms\n"
     ]
    }
   ],
   "source": [
    "%%time\n",
    "aag.fs(f_regression, n=0.01)"
   ]
  },
  {
   "cell_type": "code",
   "execution_count": 9,
   "metadata": {},
   "outputs": [
    {
     "data": {
      "text/plain": [
       "(827, 206)"
      ]
     },
     "execution_count": 9,
     "metadata": {},
     "output_type": "execute_result"
    }
   ],
   "source": [
    "aag.X['fs_train'].shape"
   ]
  },
  {
   "cell_type": "code",
   "execution_count": null,
   "metadata": {},
   "outputs": [],
   "source": [
    "%%time\n",
    "aag.feda()"
   ]
  },
  {
   "cell_type": "code",
   "execution_count": 9,
   "metadata": {},
   "outputs": [
    {
     "name": "stdout",
     "output_type": "stream",
     "text": [
      "CPU times: user 142 ms, sys: 3.77 ms, total: 146 ms\n",
      "Wall time: 148 ms\n"
     ]
    }
   ],
   "source": [
    "%%time\n",
    "aag.train(DecisionTreeRegressor())"
   ]
  },
  {
   "cell_type": "code",
   "execution_count": 3,
   "metadata": {
    "collapsed": true,
    "jupyter": {
     "outputs_hidden": true
    }
   },
   "outputs": [
    {
     "ename": "NameError",
     "evalue": "name 'aag' is not defined",
     "output_type": "error",
     "traceback": [
      "\u001b[0;31m---------------------------------------------------------------------------\u001b[0m",
      "\u001b[0;31mNameError\u001b[0m                                 Traceback (most recent call last)",
      "\u001b[0;32m<ipython-input-3-eecf5f36120f>\u001b[0m in \u001b[0;36m<module>\u001b[0;34m\u001b[0m\n\u001b[1;32m      4\u001b[0m \u001b[0;32mfrom\u001b[0m \u001b[0msklearn\u001b[0m\u001b[0;34m.\u001b[0m\u001b[0mmetrics\u001b[0m \u001b[0;32mimport\u001b[0m \u001b[0mmedian_absolute_error\u001b[0m\u001b[0;34m\u001b[0m\u001b[0;34m\u001b[0m\u001b[0m\n\u001b[1;32m      5\u001b[0m \u001b[0;34m\u001b[0m\u001b[0m\n\u001b[0;32m----> 6\u001b[0;31m \u001b[0maag\u001b[0m\u001b[0;34m.\u001b[0m\u001b[0mmetrics\u001b[0m\u001b[0;34m(\u001b[0m\u001b[0;34m[\u001b[0m\u001b[0mr2_score\u001b[0m\u001b[0;34m,\u001b[0m \u001b[0mmean_absolute_error\u001b[0m\u001b[0;34m,\u001b[0m \u001b[0mmean_squared_error\u001b[0m\u001b[0;34m,\u001b[0m \u001b[0mmedian_absolute_error\u001b[0m\u001b[0;34m]\u001b[0m\u001b[0;34m)\u001b[0m\u001b[0;34m\u001b[0m\u001b[0;34m\u001b[0m\u001b[0m\n\u001b[0m",
      "\u001b[0;31mNameError\u001b[0m: name 'aag' is not defined"
     ]
    }
   ],
   "source": [
    "from sklearn.metrics import r2_score\n",
    "from sklearn.metrics import mean_absolute_error\n",
    "from sklearn.metrics import mean_squared_error\n",
    "from sklearn.metrics import median_absolute_error\n",
    "\n",
    "aag.metrics([r2_score, mean_absolute_error, mean_squared_error, median_absolute_error])"
   ]
  },
  {
   "cell_type": "code",
   "execution_count": 15,
   "metadata": {},
   "outputs": [
    {
     "name": "stdout",
     "output_type": "stream",
     "text": [
      "X\n",
      "<class 'dict'>\n",
      "data\n",
      "<class 'pandas.core.frame.DataFrame'>\n",
      "dr\n",
      "<class 'pandas.core.frame.DataFrame'>\n",
      "ge\n",
      "<class 'pandas.core.frame.DataFrame'>\n",
      "model\n",
      "<class 'sklearn.tree._classes.DecisionTreeRegressor'>\n",
      "name\n",
      "<class 'str'>\n",
      "y\n",
      "<class 'dict'>\n"
     ]
    }
   ],
   "source": [
    "aag.to_json()"
   ]
  },
  {
   "cell_type": "markdown",
   "metadata": {},
   "source": [
    "## Runs"
   ]
  },
  {
   "cell_type": "code",
   "execution_count": 3,
   "metadata": {},
   "outputs": [],
   "source": [
    "from runs import run\n",
    "from sklearn.svm import SVR\n",
    "from classes import tuning"
   ]
  },
  {
   "cell_type": "code",
   "execution_count": 4,
   "metadata": {},
   "outputs": [],
   "source": [
    "name = ['ZSTK474', 'Afatinib','VX-680','17-AAG']\n",
    "ge = {'ctrp': ctrp_ge, 'gdsc': gdsc_ge}\n",
    "dr = {'ctrp': ctrp_dr, 'gdsc': gdsc_dr}\n",
    "t2 = {\n",
    "    'degree': [2, 3, 4, 5],\n",
    "    'epsilon' : [0.1, 0.2, 0.3, 0.9],\n",
    "    'C':[0.01, 0.1, 1, 10, 100],\n",
    "    'gamma':['scale']\n",
    "}\n",
    "tuning = tuning(t2, iterations=79, cv=3, scoring='r2')"
   ]
  },
  {
   "cell_type": "code",
   "execution_count": 5,
   "metadata": {},
   "outputs": [
    {
     "name": "stdout",
     "output_type": "stream",
     "text": [
      "61\n"
     ]
    }
   ],
   "source": [
    "same = []\n",
    "for i in gdsc_dr['Drug_name'].unique():\n",
    "    if i in ctrp_dr['Drug_name'].unique():\n",
    "        same.append(i)\n",
    "        \n",
    "print(len(same))"
   ]
  },
  {
   "cell_type": "code",
   "execution_count": 6,
   "metadata": {},
   "outputs": [
    {
     "name": "stderr",
     "output_type": "stream",
     "text": [
      "/opt/anaconda3/lib/python3.7/site-packages/sklearn/model_selection/_search.py:842: DeprecationWarning: The default of the `iid` parameter will change from True to False in version 0.22 and will be removed in 0.24. This will change numeric results when test-set sizes are unequal.\n",
      "  DeprecationWarning)\n",
      "/opt/anaconda3/lib/python3.7/site-packages/sklearn/model_selection/_search.py:842: DeprecationWarning: The default of the `iid` parameter will change from True to False in version 0.22 and will be removed in 0.24. This will change numeric results when test-set sizes are unequal.\n",
      "  DeprecationWarning)\n",
      "/opt/anaconda3/lib/python3.7/site-packages/sklearn/model_selection/_search.py:842: DeprecationWarning: The default of the `iid` parameter will change from True to False in version 0.22 and will be removed in 0.24. This will change numeric results when test-set sizes are unequal.\n",
      "  DeprecationWarning)\n",
      "/opt/anaconda3/lib/python3.7/site-packages/sklearn/model_selection/_search.py:842: DeprecationWarning: The default of the `iid` parameter will change from True to False in version 0.22 and will be removed in 0.24. This will change numeric results when test-set sizes are unequal.\n",
      "  DeprecationWarning)\n",
      "/opt/anaconda3/lib/python3.7/site-packages/sklearn/model_selection/_search.py:842: DeprecationWarning: The default of the `iid` parameter will change from True to False in version 0.22 and will be removed in 0.24. This will change numeric results when test-set sizes are unequal.\n",
      "  DeprecationWarning)\n",
      "/opt/anaconda3/lib/python3.7/site-packages/sklearn/model_selection/_search.py:842: DeprecationWarning: The default of the `iid` parameter will change from True to False in version 0.22 and will be removed in 0.24. This will change numeric results when test-set sizes are unequal.\n",
      "  DeprecationWarning)\n",
      "/opt/anaconda3/lib/python3.7/site-packages/sklearn/model_selection/_search.py:842: DeprecationWarning: The default of the `iid` parameter will change from True to False in version 0.22 and will be removed in 0.24. This will change numeric results when test-set sizes are unequal.\n",
      "  DeprecationWarning)\n",
      "/opt/anaconda3/lib/python3.7/site-packages/sklearn/model_selection/_search.py:842: DeprecationWarning: The default of the `iid` parameter will change from True to False in version 0.22 and will be removed in 0.24. This will change numeric results when test-set sizes are unequal.\n",
      "  DeprecationWarning)\n",
      "/opt/anaconda3/lib/python3.7/site-packages/sklearn/model_selection/_search.py:842: DeprecationWarning: The default of the `iid` parameter will change from True to False in version 0.22 and will be removed in 0.24. This will change numeric results when test-set sizes are unequal.\n",
      "  DeprecationWarning)\n",
      "/opt/anaconda3/lib/python3.7/site-packages/sklearn/model_selection/_search.py:842: DeprecationWarning: The default of the `iid` parameter will change from True to False in version 0.22 and will be removed in 0.24. This will change numeric results when test-set sizes are unequal.\n",
      "  DeprecationWarning)\n",
      "/opt/anaconda3/lib/python3.7/site-packages/sklearn/model_selection/_search.py:842: DeprecationWarning: The default of the `iid` parameter will change from True to False in version 0.22 and will be removed in 0.24. This will change numeric results when test-set sizes are unequal.\n",
      "  DeprecationWarning)\n",
      "/opt/anaconda3/lib/python3.7/site-packages/sklearn/model_selection/_search.py:842: DeprecationWarning: The default of the `iid` parameter will change from True to False in version 0.22 and will be removed in 0.24. This will change numeric results when test-set sizes are unequal.\n",
      "  DeprecationWarning)\n",
      "/opt/anaconda3/lib/python3.7/site-packages/sklearn/model_selection/_search.py:842: DeprecationWarning: The default of the `iid` parameter will change from True to False in version 0.22 and will be removed in 0.24. This will change numeric results when test-set sizes are unequal.\n",
      "  DeprecationWarning)\n",
      "/opt/anaconda3/lib/python3.7/site-packages/sklearn/model_selection/_search.py:842: DeprecationWarning: The default of the `iid` parameter will change from True to False in version 0.22 and will be removed in 0.24. This will change numeric results when test-set sizes are unequal.\n",
      "  DeprecationWarning)\n",
      "/opt/anaconda3/lib/python3.7/site-packages/sklearn/model_selection/_search.py:842: DeprecationWarning: The default of the `iid` parameter will change from True to False in version 0.22 and will be removed in 0.24. This will change numeric results when test-set sizes are unequal.\n",
      "  DeprecationWarning)\n",
      "/opt/anaconda3/lib/python3.7/site-packages/sklearn/model_selection/_search.py:842: DeprecationWarning: The default of the `iid` parameter will change from True to False in version 0.22 and will be removed in 0.24. This will change numeric results when test-set sizes are unequal.\n",
      "  DeprecationWarning)\n",
      "/opt/anaconda3/lib/python3.7/site-packages/sklearn/model_selection/_search.py:842: DeprecationWarning: The default of the `iid` parameter will change from True to False in version 0.22 and will be removed in 0.24. This will change numeric results when test-set sizes are unequal.\n",
      "  DeprecationWarning)\n",
      "/opt/anaconda3/lib/python3.7/site-packages/sklearn/model_selection/_search.py:842: DeprecationWarning: The default of the `iid` parameter will change from True to False in version 0.22 and will be removed in 0.24. This will change numeric results when test-set sizes are unequal.\n",
      "  DeprecationWarning)\n",
      "/opt/anaconda3/lib/python3.7/site-packages/sklearn/model_selection/_search.py:842: DeprecationWarning: The default of the `iid` parameter will change from True to False in version 0.22 and will be removed in 0.24. This will change numeric results when test-set sizes are unequal.\n",
      "  DeprecationWarning)\n",
      "/opt/anaconda3/lib/python3.7/site-packages/sklearn/model_selection/_search.py:842: DeprecationWarning: The default of the `iid` parameter will change from True to False in version 0.22 and will be removed in 0.24. This will change numeric results when test-set sizes are unequal.\n",
      "  DeprecationWarning)\n",
      "/opt/anaconda3/lib/python3.7/site-packages/sklearn/model_selection/_search.py:842: DeprecationWarning: The default of the `iid` parameter will change from True to False in version 0.22 and will be removed in 0.24. This will change numeric results when test-set sizes are unequal.\n",
      "  DeprecationWarning)\n",
      "/opt/anaconda3/lib/python3.7/site-packages/sklearn/model_selection/_search.py:842: DeprecationWarning: The default of the `iid` parameter will change from True to False in version 0.22 and will be removed in 0.24. This will change numeric results when test-set sizes are unequal.\n",
      "  DeprecationWarning)\n",
      "/opt/anaconda3/lib/python3.7/site-packages/sklearn/model_selection/_search.py:842: DeprecationWarning: The default of the `iid` parameter will change from True to False in version 0.22 and will be removed in 0.24. This will change numeric results when test-set sizes are unequal.\n",
      "  DeprecationWarning)\n",
      "/opt/anaconda3/lib/python3.7/site-packages/sklearn/model_selection/_search.py:842: DeprecationWarning: The default of the `iid` parameter will change from True to False in version 0.22 and will be removed in 0.24. This will change numeric results when test-set sizes are unequal.\n",
      "  DeprecationWarning)\n",
      "/opt/anaconda3/lib/python3.7/site-packages/sklearn/model_selection/_search.py:842: DeprecationWarning: The default of the `iid` parameter will change from True to False in version 0.22 and will be removed in 0.24. This will change numeric results when test-set sizes are unequal.\n",
      "  DeprecationWarning)\n",
      "/opt/anaconda3/lib/python3.7/site-packages/sklearn/model_selection/_search.py:842: DeprecationWarning: The default of the `iid` parameter will change from True to False in version 0.22 and will be removed in 0.24. This will change numeric results when test-set sizes are unequal.\n",
      "  DeprecationWarning)\n",
      "/opt/anaconda3/lib/python3.7/site-packages/sklearn/model_selection/_search.py:842: DeprecationWarning: The default of the `iid` parameter will change from True to False in version 0.22 and will be removed in 0.24. This will change numeric results when test-set sizes are unequal.\n",
      "  DeprecationWarning)\n",
      "/opt/anaconda3/lib/python3.7/site-packages/sklearn/model_selection/_search.py:842: DeprecationWarning: The default of the `iid` parameter will change from True to False in version 0.22 and will be removed in 0.24. This will change numeric results when test-set sizes are unequal.\n",
      "  DeprecationWarning)\n",
      "/opt/anaconda3/lib/python3.7/site-packages/sklearn/model_selection/_search.py:842: DeprecationWarning: The default of the `iid` parameter will change from True to False in version 0.22 and will be removed in 0.24. This will change numeric results when test-set sizes are unequal.\n",
      "  DeprecationWarning)\n",
      "/opt/anaconda3/lib/python3.7/site-packages/sklearn/model_selection/_search.py:842: DeprecationWarning: The default of the `iid` parameter will change from True to False in version 0.22 and will be removed in 0.24. This will change numeric results when test-set sizes are unequal.\n",
      "  DeprecationWarning)\n"
     ]
    },
    {
     "ename": "KeyboardInterrupt",
     "evalue": "",
     "output_type": "error",
     "traceback": [
      "\u001b[0;31m---------------------------------------------------------------------------\u001b[0m",
      "\u001b[0;31mKeyboardInterrupt\u001b[0m                         Traceback (most recent call last)",
      "\u001b[0;32m<timed exec>\u001b[0m in \u001b[0;36m<module>\u001b[0;34m\u001b[0m\n",
      "\u001b[0;32m~/Desktop/Thesis/Code/phc-data-pipeline/runs.py\u001b[0m in \u001b[0;36mrun\u001b[0;34m(name, ge, dr, fs, feda, model, n, fs_tuning, tuning, p, t, metric, test)\u001b[0m\n\u001b[1;32m     16\u001b[0m         \u001b[0;32mif\u001b[0m \u001b[0mfeda\u001b[0m\u001b[0;34m:\u001b[0m\u001b[0;34m\u001b[0m\u001b[0;34m\u001b[0m\u001b[0m\n\u001b[1;32m     17\u001b[0m             \u001b[0mele\u001b[0m\u001b[0;34m.\u001b[0m\u001b[0mfeda\u001b[0m\u001b[0;34m(\u001b[0m\u001b[0;34m)\u001b[0m\u001b[0;34m\u001b[0m\u001b[0;34m\u001b[0m\u001b[0m\n\u001b[0;32m---> 18\u001b[0;31m         \u001b[0mele\u001b[0m\u001b[0;34m.\u001b[0m\u001b[0mtrain\u001b[0m\u001b[0;34m(\u001b[0m\u001b[0mmodel\u001b[0m\u001b[0;34m,\u001b[0m \u001b[0mtuning\u001b[0m\u001b[0;34m=\u001b[0m\u001b[0mtuning\u001b[0m\u001b[0;34m)\u001b[0m\u001b[0;34m\u001b[0m\u001b[0;34m\u001b[0m\u001b[0m\n\u001b[0m\u001b[1;32m     19\u001b[0m         \u001b[0mele\u001b[0m\u001b[0;34m.\u001b[0m\u001b[0mmetrics\u001b[0m\u001b[0;34m(\u001b[0m\u001b[0;34m[\u001b[0m\u001b[0mr2_score\u001b[0m\u001b[0;34m,\u001b[0m \u001b[0mmean_absolute_error\u001b[0m\u001b[0;34m,\u001b[0m \u001b[0mmean_squared_error\u001b[0m\u001b[0;34m,\u001b[0m \u001b[0mmedian_absolute_error\u001b[0m\u001b[0;34m]\u001b[0m\u001b[0;34m)\u001b[0m\u001b[0;34m\u001b[0m\u001b[0;34m\u001b[0m\u001b[0m\n\u001b[1;32m     20\u001b[0m         \u001b[0mdrugs\u001b[0m\u001b[0;34m[\u001b[0m\u001b[0mi\u001b[0m\u001b[0;34m]\u001b[0m \u001b[0;34m=\u001b[0m \u001b[0mele\u001b[0m\u001b[0;34m\u001b[0m\u001b[0;34m\u001b[0m\u001b[0m\n",
      "\u001b[0;32m~/Desktop/Thesis/Code/phc-data-pipeline/classes.py\u001b[0m in \u001b[0;36mtrain\u001b[0;34m(self, model, tuning)\u001b[0m\n\u001b[1;32m     80\u001b[0m             \u001b[0mtrain\u001b[0m \u001b[0;34m=\u001b[0m \u001b[0;34m'fs_'\u001b[0m\u001b[0;34m+\u001b[0m\u001b[0mtrain\u001b[0m\u001b[0;34m\u001b[0m\u001b[0;34m\u001b[0m\u001b[0m\n\u001b[1;32m     81\u001b[0m \u001b[0;34m\u001b[0m\u001b[0m\n\u001b[0;32m---> 82\u001b[0;31m         \u001b[0mself\u001b[0m\u001b[0;34m.\u001b[0m\u001b[0mmodel\u001b[0m \u001b[0;34m=\u001b[0m \u001b[0mdrp\u001b[0m\u001b[0;34m(\u001b[0m\u001b[0mmodel\u001b[0m\u001b[0;34m,\u001b[0m \u001b[0mself\u001b[0m\u001b[0;34m.\u001b[0m\u001b[0mX\u001b[0m\u001b[0;34m[\u001b[0m\u001b[0mtrain\u001b[0m\u001b[0;34m]\u001b[0m\u001b[0;34m,\u001b[0m \u001b[0mself\u001b[0m\u001b[0;34m.\u001b[0m\u001b[0my\u001b[0m\u001b[0;34m[\u001b[0m\u001b[0;34m'train'\u001b[0m\u001b[0;34m]\u001b[0m\u001b[0;34m,\u001b[0m \u001b[0mtuning\u001b[0m\u001b[0;34m=\u001b[0m\u001b[0mtuning\u001b[0m\u001b[0;34m)\u001b[0m\u001b[0;34m\u001b[0m\u001b[0;34m\u001b[0m\u001b[0m\n\u001b[0m\u001b[1;32m     83\u001b[0m \u001b[0;34m\u001b[0m\u001b[0m\n\u001b[1;32m     84\u001b[0m     \u001b[0;32mdef\u001b[0m \u001b[0mpredict\u001b[0m\u001b[0;34m(\u001b[0m\u001b[0mself\u001b[0m\u001b[0;34m,\u001b[0m \u001b[0mX\u001b[0m \u001b[0;34m=\u001b[0m \u001b[0mpd\u001b[0m\u001b[0;34m.\u001b[0m\u001b[0mDataFrame\u001b[0m\u001b[0;34m(\u001b[0m\u001b[0;34m)\u001b[0m\u001b[0;34m,\u001b[0m \u001b[0my\u001b[0m \u001b[0;34m=\u001b[0m \u001b[0mpd\u001b[0m\u001b[0;34m.\u001b[0m\u001b[0mDataFrame\u001b[0m\u001b[0;34m(\u001b[0m\u001b[0;34m)\u001b[0m\u001b[0;34m,\u001b[0m \u001b[0mmetrics\u001b[0m \u001b[0;34m=\u001b[0m \u001b[0;32mNone\u001b[0m\u001b[0;34m)\u001b[0m\u001b[0;34m:\u001b[0m\u001b[0;34m\u001b[0m\u001b[0;34m\u001b[0m\u001b[0m\n",
      "\u001b[0;32m~/Desktop/Thesis/Code/phc-data-pipeline/methods.py\u001b[0m in \u001b[0;36mdrp\u001b[0;34m(model, X, y, tuning)\u001b[0m\n\u001b[1;32m    122\u001b[0m     \u001b[0;32mif\u001b[0m \u001b[0mtuning\u001b[0m \u001b[0;34m!=\u001b[0m \u001b[0;32mNone\u001b[0m\u001b[0;34m:\u001b[0m\u001b[0;34m\u001b[0m\u001b[0;34m\u001b[0m\u001b[0m\n\u001b[1;32m    123\u001b[0m         \u001b[0mr\u001b[0m \u001b[0;34m=\u001b[0m \u001b[0mRandomizedSearchCV\u001b[0m\u001b[0;34m(\u001b[0m\u001b[0mmodel\u001b[0m\u001b[0;34m,\u001b[0m \u001b[0mtuning\u001b[0m\u001b[0;34m.\u001b[0m\u001b[0mspace\u001b[0m\u001b[0;34m,\u001b[0m \u001b[0mn_iter\u001b[0m \u001b[0;34m=\u001b[0m \u001b[0mtuning\u001b[0m\u001b[0;34m.\u001b[0m\u001b[0miterations\u001b[0m\u001b[0;34m,\u001b[0m \u001b[0mn_jobs\u001b[0m\u001b[0;34m=\u001b[0m\u001b[0mtuning\u001b[0m\u001b[0;34m.\u001b[0m\u001b[0mjobs\u001b[0m\u001b[0;34m,\u001b[0m \u001b[0mcv\u001b[0m\u001b[0;34m=\u001b[0m \u001b[0mtuning\u001b[0m\u001b[0;34m.\u001b[0m\u001b[0mcv\u001b[0m\u001b[0;34m,\u001b[0m \u001b[0mscoring\u001b[0m \u001b[0;34m=\u001b[0m \u001b[0mtuning\u001b[0m\u001b[0;34m.\u001b[0m\u001b[0mscoring\u001b[0m\u001b[0;34m)\u001b[0m\u001b[0;34m\u001b[0m\u001b[0;34m\u001b[0m\u001b[0m\n\u001b[0;32m--> 124\u001b[0;31m         \u001b[0mr\u001b[0m\u001b[0;34m.\u001b[0m\u001b[0mfit\u001b[0m\u001b[0;34m(\u001b[0m\u001b[0mX\u001b[0m\u001b[0;34m,\u001b[0m \u001b[0my\u001b[0m\u001b[0;34m)\u001b[0m\u001b[0;34m\u001b[0m\u001b[0;34m\u001b[0m\u001b[0m\n\u001b[0m\u001b[1;32m    125\u001b[0m         \u001b[0mdrp\u001b[0m \u001b[0;34m=\u001b[0m \u001b[0mr\u001b[0m\u001b[0;34m.\u001b[0m\u001b[0mbest_estimator_\u001b[0m\u001b[0;34m\u001b[0m\u001b[0;34m\u001b[0m\u001b[0m\n\u001b[1;32m    126\u001b[0m     \u001b[0;32melse\u001b[0m\u001b[0;34m:\u001b[0m\u001b[0;34m\u001b[0m\u001b[0;34m\u001b[0m\u001b[0m\n",
      "\u001b[0;32m/opt/anaconda3/lib/python3.7/site-packages/sklearn/model_selection/_search.py\u001b[0m in \u001b[0;36mfit\u001b[0;34m(self, X, y, groups, **fit_params)\u001b[0m\n\u001b[1;32m    721\u001b[0m                 \u001b[0;32mreturn\u001b[0m \u001b[0mresults_container\u001b[0m\u001b[0;34m[\u001b[0m\u001b[0;36m0\u001b[0m\u001b[0;34m]\u001b[0m\u001b[0;34m\u001b[0m\u001b[0;34m\u001b[0m\u001b[0m\n\u001b[1;32m    722\u001b[0m \u001b[0;34m\u001b[0m\u001b[0m\n\u001b[0;32m--> 723\u001b[0;31m             \u001b[0mself\u001b[0m\u001b[0;34m.\u001b[0m\u001b[0m_run_search\u001b[0m\u001b[0;34m(\u001b[0m\u001b[0mevaluate_candidates\u001b[0m\u001b[0;34m)\u001b[0m\u001b[0;34m\u001b[0m\u001b[0;34m\u001b[0m\u001b[0m\n\u001b[0m\u001b[1;32m    724\u001b[0m \u001b[0;34m\u001b[0m\u001b[0m\n\u001b[1;32m    725\u001b[0m         \u001b[0mresults\u001b[0m \u001b[0;34m=\u001b[0m \u001b[0mresults_container\u001b[0m\u001b[0;34m[\u001b[0m\u001b[0;36m0\u001b[0m\u001b[0;34m]\u001b[0m\u001b[0;34m\u001b[0m\u001b[0;34m\u001b[0m\u001b[0m\n",
      "\u001b[0;32m/opt/anaconda3/lib/python3.7/site-packages/sklearn/model_selection/_search.py\u001b[0m in \u001b[0;36m_run_search\u001b[0;34m(self, evaluate_candidates)\u001b[0m\n\u001b[1;32m   1514\u001b[0m         evaluate_candidates(ParameterSampler(\n\u001b[1;32m   1515\u001b[0m             \u001b[0mself\u001b[0m\u001b[0;34m.\u001b[0m\u001b[0mparam_distributions\u001b[0m\u001b[0;34m,\u001b[0m \u001b[0mself\u001b[0m\u001b[0;34m.\u001b[0m\u001b[0mn_iter\u001b[0m\u001b[0;34m,\u001b[0m\u001b[0;34m\u001b[0m\u001b[0;34m\u001b[0m\u001b[0m\n\u001b[0;32m-> 1516\u001b[0;31m             random_state=self.random_state))\n\u001b[0m",
      "\u001b[0;32m/opt/anaconda3/lib/python3.7/site-packages/sklearn/model_selection/_search.py\u001b[0m in \u001b[0;36mevaluate_candidates\u001b[0;34m(candidate_params)\u001b[0m\n\u001b[1;32m    710\u001b[0m                                \u001b[0;32mfor\u001b[0m \u001b[0mparameters\u001b[0m\u001b[0;34m,\u001b[0m \u001b[0;34m(\u001b[0m\u001b[0mtrain\u001b[0m\u001b[0;34m,\u001b[0m \u001b[0mtest\u001b[0m\u001b[0;34m)\u001b[0m\u001b[0;34m\u001b[0m\u001b[0;34m\u001b[0m\u001b[0m\n\u001b[1;32m    711\u001b[0m                                in product(candidate_params,\n\u001b[0;32m--> 712\u001b[0;31m                                           cv.split(X, y, groups)))\n\u001b[0m\u001b[1;32m    713\u001b[0m \u001b[0;34m\u001b[0m\u001b[0m\n\u001b[1;32m    714\u001b[0m                 \u001b[0mall_candidate_params\u001b[0m\u001b[0;34m.\u001b[0m\u001b[0mextend\u001b[0m\u001b[0;34m(\u001b[0m\u001b[0mcandidate_params\u001b[0m\u001b[0;34m)\u001b[0m\u001b[0;34m\u001b[0m\u001b[0;34m\u001b[0m\u001b[0m\n",
      "\u001b[0;32m/opt/anaconda3/lib/python3.7/site-packages/sklearn/externals/joblib/parallel.py\u001b[0m in \u001b[0;36m__call__\u001b[0;34m(self, iterable)\u001b[0m\n\u001b[1;32m    932\u001b[0m \u001b[0;34m\u001b[0m\u001b[0m\n\u001b[1;32m    933\u001b[0m             \u001b[0;32mwith\u001b[0m \u001b[0mself\u001b[0m\u001b[0;34m.\u001b[0m\u001b[0m_backend\u001b[0m\u001b[0;34m.\u001b[0m\u001b[0mretrieval_context\u001b[0m\u001b[0;34m(\u001b[0m\u001b[0;34m)\u001b[0m\u001b[0;34m:\u001b[0m\u001b[0;34m\u001b[0m\u001b[0;34m\u001b[0m\u001b[0m\n\u001b[0;32m--> 934\u001b[0;31m                 \u001b[0mself\u001b[0m\u001b[0;34m.\u001b[0m\u001b[0mretrieve\u001b[0m\u001b[0;34m(\u001b[0m\u001b[0;34m)\u001b[0m\u001b[0;34m\u001b[0m\u001b[0;34m\u001b[0m\u001b[0m\n\u001b[0m\u001b[1;32m    935\u001b[0m             \u001b[0;31m# Make sure that we get a last message telling us we are done\u001b[0m\u001b[0;34m\u001b[0m\u001b[0;34m\u001b[0m\u001b[0;34m\u001b[0m\u001b[0m\n\u001b[1;32m    936\u001b[0m             \u001b[0melapsed_time\u001b[0m \u001b[0;34m=\u001b[0m \u001b[0mtime\u001b[0m\u001b[0;34m.\u001b[0m\u001b[0mtime\u001b[0m\u001b[0;34m(\u001b[0m\u001b[0;34m)\u001b[0m \u001b[0;34m-\u001b[0m \u001b[0mself\u001b[0m\u001b[0;34m.\u001b[0m\u001b[0m_start_time\u001b[0m\u001b[0;34m\u001b[0m\u001b[0;34m\u001b[0m\u001b[0m\n",
      "\u001b[0;32m/opt/anaconda3/lib/python3.7/site-packages/sklearn/externals/joblib/parallel.py\u001b[0m in \u001b[0;36mretrieve\u001b[0;34m(self)\u001b[0m\n\u001b[1;32m    831\u001b[0m             \u001b[0;32mtry\u001b[0m\u001b[0;34m:\u001b[0m\u001b[0;34m\u001b[0m\u001b[0;34m\u001b[0m\u001b[0m\n\u001b[1;32m    832\u001b[0m                 \u001b[0;32mif\u001b[0m \u001b[0mgetattr\u001b[0m\u001b[0;34m(\u001b[0m\u001b[0mself\u001b[0m\u001b[0;34m.\u001b[0m\u001b[0m_backend\u001b[0m\u001b[0;34m,\u001b[0m \u001b[0;34m'supports_timeout'\u001b[0m\u001b[0;34m,\u001b[0m \u001b[0;32mFalse\u001b[0m\u001b[0;34m)\u001b[0m\u001b[0;34m:\u001b[0m\u001b[0;34m\u001b[0m\u001b[0;34m\u001b[0m\u001b[0m\n\u001b[0;32m--> 833\u001b[0;31m                     \u001b[0mself\u001b[0m\u001b[0;34m.\u001b[0m\u001b[0m_output\u001b[0m\u001b[0;34m.\u001b[0m\u001b[0mextend\u001b[0m\u001b[0;34m(\u001b[0m\u001b[0mjob\u001b[0m\u001b[0;34m.\u001b[0m\u001b[0mget\u001b[0m\u001b[0;34m(\u001b[0m\u001b[0mtimeout\u001b[0m\u001b[0;34m=\u001b[0m\u001b[0mself\u001b[0m\u001b[0;34m.\u001b[0m\u001b[0mtimeout\u001b[0m\u001b[0;34m)\u001b[0m\u001b[0;34m)\u001b[0m\u001b[0;34m\u001b[0m\u001b[0;34m\u001b[0m\u001b[0m\n\u001b[0m\u001b[1;32m    834\u001b[0m                 \u001b[0;32melse\u001b[0m\u001b[0;34m:\u001b[0m\u001b[0;34m\u001b[0m\u001b[0;34m\u001b[0m\u001b[0m\n\u001b[1;32m    835\u001b[0m                     \u001b[0mself\u001b[0m\u001b[0;34m.\u001b[0m\u001b[0m_output\u001b[0m\u001b[0;34m.\u001b[0m\u001b[0mextend\u001b[0m\u001b[0;34m(\u001b[0m\u001b[0mjob\u001b[0m\u001b[0;34m.\u001b[0m\u001b[0mget\u001b[0m\u001b[0;34m(\u001b[0m\u001b[0;34m)\u001b[0m\u001b[0;34m)\u001b[0m\u001b[0;34m\u001b[0m\u001b[0;34m\u001b[0m\u001b[0m\n",
      "\u001b[0;32m/opt/anaconda3/lib/python3.7/site-packages/sklearn/externals/joblib/_parallel_backends.py\u001b[0m in \u001b[0;36mwrap_future_result\u001b[0;34m(future, timeout)\u001b[0m\n\u001b[1;32m    519\u001b[0m         AsyncResults.get from multiprocessing.\"\"\"\n\u001b[1;32m    520\u001b[0m         \u001b[0;32mtry\u001b[0m\u001b[0;34m:\u001b[0m\u001b[0;34m\u001b[0m\u001b[0;34m\u001b[0m\u001b[0m\n\u001b[0;32m--> 521\u001b[0;31m             \u001b[0;32mreturn\u001b[0m \u001b[0mfuture\u001b[0m\u001b[0;34m.\u001b[0m\u001b[0mresult\u001b[0m\u001b[0;34m(\u001b[0m\u001b[0mtimeout\u001b[0m\u001b[0;34m=\u001b[0m\u001b[0mtimeout\u001b[0m\u001b[0;34m)\u001b[0m\u001b[0;34m\u001b[0m\u001b[0;34m\u001b[0m\u001b[0m\n\u001b[0m\u001b[1;32m    522\u001b[0m         \u001b[0;32mexcept\u001b[0m \u001b[0mLokyTimeoutError\u001b[0m\u001b[0;34m:\u001b[0m\u001b[0;34m\u001b[0m\u001b[0;34m\u001b[0m\u001b[0m\n\u001b[1;32m    523\u001b[0m             \u001b[0;32mraise\u001b[0m \u001b[0mTimeoutError\u001b[0m\u001b[0;34m(\u001b[0m\u001b[0;34m)\u001b[0m\u001b[0;34m\u001b[0m\u001b[0;34m\u001b[0m\u001b[0m\n",
      "\u001b[0;32m/opt/anaconda3/lib/python3.7/concurrent/futures/_base.py\u001b[0m in \u001b[0;36mresult\u001b[0;34m(self, timeout)\u001b[0m\n\u001b[1;32m    428\u001b[0m                 \u001b[0;32mreturn\u001b[0m \u001b[0mself\u001b[0m\u001b[0;34m.\u001b[0m\u001b[0m__get_result\u001b[0m\u001b[0;34m(\u001b[0m\u001b[0;34m)\u001b[0m\u001b[0;34m\u001b[0m\u001b[0;34m\u001b[0m\u001b[0m\n\u001b[1;32m    429\u001b[0m \u001b[0;34m\u001b[0m\u001b[0m\n\u001b[0;32m--> 430\u001b[0;31m             \u001b[0mself\u001b[0m\u001b[0;34m.\u001b[0m\u001b[0m_condition\u001b[0m\u001b[0;34m.\u001b[0m\u001b[0mwait\u001b[0m\u001b[0;34m(\u001b[0m\u001b[0mtimeout\u001b[0m\u001b[0;34m)\u001b[0m\u001b[0;34m\u001b[0m\u001b[0;34m\u001b[0m\u001b[0m\n\u001b[0m\u001b[1;32m    431\u001b[0m \u001b[0;34m\u001b[0m\u001b[0m\n\u001b[1;32m    432\u001b[0m             \u001b[0;32mif\u001b[0m \u001b[0mself\u001b[0m\u001b[0;34m.\u001b[0m\u001b[0m_state\u001b[0m \u001b[0;32min\u001b[0m \u001b[0;34m[\u001b[0m\u001b[0mCANCELLED\u001b[0m\u001b[0;34m,\u001b[0m \u001b[0mCANCELLED_AND_NOTIFIED\u001b[0m\u001b[0;34m]\u001b[0m\u001b[0;34m:\u001b[0m\u001b[0;34m\u001b[0m\u001b[0;34m\u001b[0m\u001b[0m\n",
      "\u001b[0;32m/opt/anaconda3/lib/python3.7/threading.py\u001b[0m in \u001b[0;36mwait\u001b[0;34m(self, timeout)\u001b[0m\n\u001b[1;32m    294\u001b[0m         \u001b[0;32mtry\u001b[0m\u001b[0;34m:\u001b[0m    \u001b[0;31m# restore state no matter what (e.g., KeyboardInterrupt)\u001b[0m\u001b[0;34m\u001b[0m\u001b[0;34m\u001b[0m\u001b[0m\n\u001b[1;32m    295\u001b[0m             \u001b[0;32mif\u001b[0m \u001b[0mtimeout\u001b[0m \u001b[0;32mis\u001b[0m \u001b[0;32mNone\u001b[0m\u001b[0;34m:\u001b[0m\u001b[0;34m\u001b[0m\u001b[0;34m\u001b[0m\u001b[0m\n\u001b[0;32m--> 296\u001b[0;31m                 \u001b[0mwaiter\u001b[0m\u001b[0;34m.\u001b[0m\u001b[0macquire\u001b[0m\u001b[0;34m(\u001b[0m\u001b[0;34m)\u001b[0m\u001b[0;34m\u001b[0m\u001b[0;34m\u001b[0m\u001b[0m\n\u001b[0m\u001b[1;32m    297\u001b[0m                 \u001b[0mgotit\u001b[0m \u001b[0;34m=\u001b[0m \u001b[0;32mTrue\u001b[0m\u001b[0;34m\u001b[0m\u001b[0;34m\u001b[0m\u001b[0m\n\u001b[1;32m    298\u001b[0m             \u001b[0;32melse\u001b[0m\u001b[0;34m:\u001b[0m\u001b[0;34m\u001b[0m\u001b[0;34m\u001b[0m\u001b[0m\n",
      "\u001b[0;31mKeyboardInterrupt\u001b[0m: "
     ]
    }
   ],
   "source": [
    "%%time\n",
    "r1 = run(same, ge, dr, f_regression, True, SVR(), n = 0.01, tuning = tuning)"
   ]
  },
  {
   "cell_type": "code",
   "execution_count": 17,
   "metadata": {},
   "outputs": [
    {
     "name": "stdout",
     "output_type": "stream",
     "text": [
      "{'r2_score': -0.06956879640001801, 'mean_absolute_error': 0.2065830431735468, 'mean_squared_error': 0.06107421801399721, 'median_absolute_error': 0.1813844899047347}\n",
      "{'r2_score': -0.00438292012475805, 'mean_absolute_error': 0.34758165011889913, 'mean_squared_error': 0.14208366068790543, 'median_absolute_error': 0.3271140557110502}\n",
      "{'r2_score': -0.026766859082241412, 'mean_absolute_error': 0.2272008470365704, 'mean_squared_error': 0.07254323317520861, 'median_absolute_error': 0.20572043687166136}\n",
      "{'r2_score': -0.014053397156007952, 'mean_absolute_error': 0.2567831752942821, 'mean_squared_error': 0.08786774812469669, 'median_absolute_error': 0.25765730196172126}\n"
     ]
    }
   ],
   "source": [
    "for i in r1.values():\n",
    "    print(i.scores)"
   ]
  },
  {
   "cell_type": "code",
   "execution_count": null,
   "metadata": {},
   "outputs": [],
   "source": []
  },
  {
   "cell_type": "code",
   "execution_count": null,
   "metadata": {},
   "outputs": [],
   "source": []
  }
 ],
 "metadata": {
  "file_extension": ".py",
  "kernelspec": {
   "display_name": "Python 3",
   "language": "python",
   "name": "python3"
  },
  "language_info": {
   "codemirror_mode": {
    "name": "ipython",
    "version": 3
   },
   "file_extension": ".py",
   "mimetype": "text/x-python",
   "name": "python",
   "nbconvert_exporter": "python",
   "pygments_lexer": "ipython3",
   "version": "3.7.6"
  },
  "mimetype": "text/x-python",
  "name": "python",
  "npconvert_exporter": "python",
  "pygments_lexer": "ipython3",
  "version": 3
 },
 "nbformat": 4,
 "nbformat_minor": 4
}
