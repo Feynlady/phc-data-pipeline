{
 "cells": [
  {
   "cell_type": "code",
   "execution_count": 9,
   "metadata": {},
   "outputs": [],
   "source": [
    "import pandas as pd\n",
    "import numpy as np\n",
    "from sklearn import linear_model\n",
    "from sklearn.feature_selection import SelectKBest, SelectPercentile, f_regression, mutual_info_regression, SelectFromModel, VarianceThreshold\n",
    "from sklearn.ensemble import RandomForestRegressor\n",
    "from sklearn.svm import SVR\n",
    "from sklearn.neighbors import KNeighborsRegressor\n",
    "from sklearn.tree import DecisionTreeRegressor\n",
    "from sklearn.model_selection import RandomizedSearchCV"
   ]
  },
  {
   "cell_type": "markdown",
   "metadata": {},
   "source": [
    "# Loading data and pre-processing"
   ]
  },
  {
   "cell_type": "code",
   "execution_count": 10,
   "metadata": {},
   "outputs": [],
   "source": [
    "gdsc_ge = pd.read_csv('data/Processed/gdsc_cell_ge.csv').fillna(0)"
   ]
  },
  {
   "cell_type": "code",
   "execution_count": 11,
   "metadata": {},
   "outputs": [],
   "source": [
    "gdsc_ge = gdsc_ge.set_index('CCL')"
   ]
  },
  {
   "cell_type": "code",
   "execution_count": 12,
   "metadata": {},
   "outputs": [],
   "source": [
    "from methods import pre\n",
    "from methods import combine\n",
    "gdsc_ge = pre(gdsc_ge)"
   ]
  },
  {
   "cell_type": "code",
   "execution_count": 13,
   "metadata": {},
   "outputs": [
    {
     "data": {
      "text/html": [
       "<div>\n",
       "<style scoped>\n",
       "    .dataframe tbody tr th:only-of-type {\n",
       "        vertical-align: middle;\n",
       "    }\n",
       "\n",
       "    .dataframe tbody tr th {\n",
       "        vertical-align: top;\n",
       "    }\n",
       "\n",
       "    .dataframe thead th {\n",
       "        text-align: right;\n",
       "    }\n",
       "</style>\n",
       "<table border=\"1\" class=\"dataframe\">\n",
       "  <thead>\n",
       "    <tr style=\"text-align: right;\">\n",
       "      <th></th>\n",
       "      <th>Database</th>\n",
       "      <th>Drug_name</th>\n",
       "      <th>CCL</th>\n",
       "      <th>Concentrations_nM</th>\n",
       "      <th>Responses</th>\n",
       "      <th>Minimal_tested_concentration_nM</th>\n",
       "      <th>Maximal_tested_concentration_nM</th>\n",
       "      <th>EC50_minimum_asymptote</th>\n",
       "      <th>EC50_maximum_asymptote</th>\n",
       "      <th>EC50_slope</th>\n",
       "      <th>...</th>\n",
       "      <th>AUC_EC50</th>\n",
       "      <th>IC50_minimum_asymptote</th>\n",
       "      <th>IC50_maximum_asymptote</th>\n",
       "      <th>IC50_slope</th>\n",
       "      <th>IC50_calculated_nM</th>\n",
       "      <th>IC50_nM</th>\n",
       "      <th>IC50_residuals</th>\n",
       "      <th>IC50_residual_standard_error</th>\n",
       "      <th>IC50_quality</th>\n",
       "      <th>AUC_IC50</th>\n",
       "    </tr>\n",
       "  </thead>\n",
       "  <tbody>\n",
       "    <tr>\n",
       "      <th>0</th>\n",
       "      <td>GDSC</td>\n",
       "      <td>17-AAG</td>\n",
       "      <td>22RV1</td>\n",
       "      <td>3.90625,7.8125,15.625,31.25,62.5,125,250,500,1000</td>\n",
       "      <td>-14.5095959564424,-3.53048130477734,16.9945566...</td>\n",
       "      <td>3.90625</td>\n",
       "      <td>1000.0</td>\n",
       "      <td>0.000100</td>\n",
       "      <td>99.999900</td>\n",
       "      <td>3.071579</td>\n",
       "      <td>...</td>\n",
       "      <td>0.169155</td>\n",
       "      <td>0.000001</td>\n",
       "      <td>99.99999</td>\n",
       "      <td>3.071565</td>\n",
       "      <td>979.987139</td>\n",
       "      <td>979.987139</td>\n",
       "      <td>-14.50960122126,-3.53051815845083,16.994254192...</td>\n",
       "      <td>14.635703</td>\n",
       "      <td>Medium</td>\n",
       "      <td>0.169156</td>\n",
       "    </tr>\n",
       "    <tr>\n",
       "      <th>1</th>\n",
       "      <td>GDSC</td>\n",
       "      <td>17-AAG</td>\n",
       "      <td>2313287</td>\n",
       "      <td>3.90625,7.8125,15.625,31.25,62.5,125,250,500,1000</td>\n",
       "      <td>-0.336672081539447,9.61056434338505,30.4731475...</td>\n",
       "      <td>3.90625</td>\n",
       "      <td>1000.0</td>\n",
       "      <td>0.000100</td>\n",
       "      <td>54.841986</td>\n",
       "      <td>3.275553</td>\n",
       "      <td>...</td>\n",
       "      <td>0.540825</td>\n",
       "      <td>0.000000</td>\n",
       "      <td>99.99999</td>\n",
       "      <td>0.382639</td>\n",
       "      <td>163.788481</td>\n",
       "      <td>163.788481</td>\n",
       "      <td>-19.6537585795021,-14.177900885471,1.549336725...</td>\n",
       "      <td>17.642523</td>\n",
       "      <td>Medium</td>\n",
       "      <td>0.577314</td>\n",
       "    </tr>\n",
       "    <tr>\n",
       "      <th>2</th>\n",
       "      <td>GDSC</td>\n",
       "      <td>17-AAG</td>\n",
       "      <td>5637</td>\n",
       "      <td>3.90625,7.8125,15.625,31.25,62.5,125,250,500,1000</td>\n",
       "      <td>-8.62345652011631,-13.110294830825,17.16952091...</td>\n",
       "      <td>3.90625</td>\n",
       "      <td>1000.0</td>\n",
       "      <td>-13.110295</td>\n",
       "      <td>77.432501</td>\n",
       "      <td>1.876653</td>\n",
       "      <td>...</td>\n",
       "      <td>0.768743</td>\n",
       "      <td>0.000000</td>\n",
       "      <td>99.99999</td>\n",
       "      <td>1.044336</td>\n",
       "      <td>64.313118</td>\n",
       "      <td>64.313118</td>\n",
       "      <td>-13.714768291127,-23.0718721353021,-1.40915988...</td>\n",
       "      <td>16.302534</td>\n",
       "      <td>High</td>\n",
       "      <td>0.828724</td>\n",
       "    </tr>\n",
       "    <tr>\n",
       "      <th>3</th>\n",
       "      <td>GDSC</td>\n",
       "      <td>17-AAG</td>\n",
       "      <td>639V</td>\n",
       "      <td>3.90625,7.8125,15.625,31.25,62.5,125,250,500,1000</td>\n",
       "      <td>-6.27751625558379,-19.5969329619637,-25.916862...</td>\n",
       "      <td>3.90625</td>\n",
       "      <td>1000.0</td>\n",
       "      <td>-20.965191</td>\n",
       "      <td>100.000000</td>\n",
       "      <td>1.856359</td>\n",
       "      <td>...</td>\n",
       "      <td>0.758255</td>\n",
       "      <td>0.000000</td>\n",
       "      <td>99.99999</td>\n",
       "      <td>2.449172</td>\n",
       "      <td>218.473871</td>\n",
       "      <td>218.473871</td>\n",
       "      <td>-6.28276080295625,-19.6255668662989,-26.073033...</td>\n",
       "      <td>21.372020</td>\n",
       "      <td>High</td>\n",
       "      <td>0.726141</td>\n",
       "    </tr>\n",
       "    <tr>\n",
       "      <th>4</th>\n",
       "      <td>GDSC</td>\n",
       "      <td>17-AAG</td>\n",
       "      <td>647V</td>\n",
       "      <td>3.90625,7.8125,15.625,31.25,62.5,125,250,500,1000</td>\n",
       "      <td>10.621242958296,22.226269038109,-2.00067607686...</td>\n",
       "      <td>3.90625</td>\n",
       "      <td>1000.0</td>\n",
       "      <td>-3.659835</td>\n",
       "      <td>99.999900</td>\n",
       "      <td>18.555546</td>\n",
       "      <td>...</td>\n",
       "      <td>0.011578</td>\n",
       "      <td>0.000000</td>\n",
       "      <td>99.99999</td>\n",
       "      <td>20.995054</td>\n",
       "      <td>1077.729727</td>\n",
       "      <td>inf</td>\n",
       "      <td>10.621242958296,22.226269038109,-2.00067607686...</td>\n",
       "      <td>20.036073</td>\n",
       "      <td>Low</td>\n",
       "      <td>0.008665</td>\n",
       "    </tr>\n",
       "  </tbody>\n",
       "</table>\n",
       "<p>5 rows × 25 columns</p>\n",
       "</div>"
      ],
      "text/plain": [
       "  Database Drug_name      CCL  \\\n",
       "0     GDSC    17-AAG    22RV1   \n",
       "1     GDSC    17-AAG  2313287   \n",
       "2     GDSC    17-AAG     5637   \n",
       "3     GDSC    17-AAG     639V   \n",
       "4     GDSC    17-AAG     647V   \n",
       "\n",
       "                                   Concentrations_nM  \\\n",
       "0  3.90625,7.8125,15.625,31.25,62.5,125,250,500,1000   \n",
       "1  3.90625,7.8125,15.625,31.25,62.5,125,250,500,1000   \n",
       "2  3.90625,7.8125,15.625,31.25,62.5,125,250,500,1000   \n",
       "3  3.90625,7.8125,15.625,31.25,62.5,125,250,500,1000   \n",
       "4  3.90625,7.8125,15.625,31.25,62.5,125,250,500,1000   \n",
       "\n",
       "                                           Responses  \\\n",
       "0  -14.5095959564424,-3.53048130477734,16.9945566...   \n",
       "1  -0.336672081539447,9.61056434338505,30.4731475...   \n",
       "2  -8.62345652011631,-13.110294830825,17.16952091...   \n",
       "3  -6.27751625558379,-19.5969329619637,-25.916862...   \n",
       "4  10.621242958296,22.226269038109,-2.00067607686...   \n",
       "\n",
       "   Minimal_tested_concentration_nM  Maximal_tested_concentration_nM  \\\n",
       "0                          3.90625                           1000.0   \n",
       "1                          3.90625                           1000.0   \n",
       "2                          3.90625                           1000.0   \n",
       "3                          3.90625                           1000.0   \n",
       "4                          3.90625                           1000.0   \n",
       "\n",
       "   EC50_minimum_asymptote  EC50_maximum_asymptote  EC50_slope  ...  AUC_EC50  \\\n",
       "0                0.000100               99.999900    3.071579  ...  0.169155   \n",
       "1                0.000100               54.841986    3.275553  ...  0.540825   \n",
       "2              -13.110295               77.432501    1.876653  ...  0.768743   \n",
       "3              -20.965191              100.000000    1.856359  ...  0.758255   \n",
       "4               -3.659835               99.999900   18.555546  ...  0.011578   \n",
       "\n",
       "   IC50_minimum_asymptote IC50_maximum_asymptote  IC50_slope  \\\n",
       "0                0.000001               99.99999    3.071565   \n",
       "1                0.000000               99.99999    0.382639   \n",
       "2                0.000000               99.99999    1.044336   \n",
       "3                0.000000               99.99999    2.449172   \n",
       "4                0.000000               99.99999   20.995054   \n",
       "\n",
       "  IC50_calculated_nM     IC50_nM  \\\n",
       "0         979.987139  979.987139   \n",
       "1         163.788481  163.788481   \n",
       "2          64.313118   64.313118   \n",
       "3         218.473871  218.473871   \n",
       "4        1077.729727         inf   \n",
       "\n",
       "                                      IC50_residuals  \\\n",
       "0  -14.50960122126,-3.53051815845083,16.994254192...   \n",
       "1  -19.6537585795021,-14.177900885471,1.549336725...   \n",
       "2  -13.714768291127,-23.0718721353021,-1.40915988...   \n",
       "3  -6.28276080295625,-19.6255668662989,-26.073033...   \n",
       "4  10.621242958296,22.226269038109,-2.00067607686...   \n",
       "\n",
       "   IC50_residual_standard_error  IC50_quality  AUC_IC50  \n",
       "0                     14.635703        Medium  0.169156  \n",
       "1                     17.642523        Medium  0.577314  \n",
       "2                     16.302534          High  0.828724  \n",
       "3                     21.372020          High  0.726141  \n",
       "4                     20.036073           Low  0.008665  \n",
       "\n",
       "[5 rows x 25 columns]"
      ]
     },
     "execution_count": 13,
     "metadata": {},
     "output_type": "execute_result"
    }
   ],
   "source": [
    "gdsc_dr = pd.read_csv('data/Processed/gdsc_poz_dr.csv').fillna(0)\n",
    "gdsc_dr.head()"
   ]
  },
  {
   "cell_type": "code",
   "execution_count": 14,
   "metadata": {},
   "outputs": [],
   "source": [
    "X, y = combine(gdsc_ge, gdsc_dr, '17-AAG')"
   ]
  },
  {
   "cell_type": "markdown",
   "metadata": {},
   "source": [
    "d1 = []\n",
    "j = 0\n",
    "rows = []\n",
    "for i in t1[t1['CCL'].isin(gdsc_ge.index)]['CCL']:\n",
    "    d1.extend(list(gdsc_ge.loc[i].values))\n",
    "    if len(list(gdsc_ge.loc[i].values)) != 12501:\n",
    "        print(i)\n",
    "        print(len(list(gdsc_ge.loc[i].values)))"
   ]
  },
  {
   "cell_type": "code",
   "execution_count": 15,
   "metadata": {},
   "outputs": [],
   "source": [
    "from sklearn.model_selection import train_test_split\n",
    "\n",
    "X_train, X_test, y_train, y_test = train_test_split(X, y)"
   ]
  },
  {
   "cell_type": "code",
   "execution_count": 16,
   "metadata": {},
   "outputs": [],
   "source": [
    "from methods import fs\n",
    "\n",
    "X_train, var = fs(VarianceThreshold, X_train, y_train, n=2.0)"
   ]
  },
  {
   "cell_type": "code",
   "execution_count": 17,
   "metadata": {},
   "outputs": [
    {
     "data": {
      "text/plain": [
       "(495, 2011)"
      ]
     },
     "execution_count": 17,
     "metadata": {},
     "output_type": "execute_result"
    }
   ],
   "source": [
    "X_train.shape"
   ]
  },
  {
   "cell_type": "code",
   "execution_count": 21,
   "metadata": {},
   "outputs": [
    {
     "data": {
      "text/plain": [
       "'chocolate'"
      ]
     },
     "execution_count": 21,
     "metadata": {},
     "output_type": "execute_result"
    }
   ],
   "source": [
    "from methods import drug\n",
    "l = drug('mint', [0, 1], [1,9])\n",
    "l.select('chocolate')\n",
    "l.model"
   ]
  },
  {
   "cell_type": "code",
   "execution_count": null,
   "metadata": {},
   "outputs": [
    {
     "name": "stderr",
     "output_type": "stream",
     "text": [
      "/rwthfs/rz/cluster/home/kz035322/Thesis/venv/lib/python3.7/site-packages/sklearn/model_selection/_search.py:281: UserWarning: The total space of parameters 30 is smaller than n_iter=300. Running 30 iterations. For exhaustive searches, use GridSearchCV.\n",
      "  % (grid_size, self.n_iter, grid_size), UserWarning)\n"
     ]
    }
   ],
   "source": [
    "from methods import drp\n",
    "from methods import tuning\n",
    "\n",
    "space = {\n",
    "    'n_estimators' : [1, 10,50, 100,200],\n",
    "    'max_depth' : [3,5, 10, 20, 50, 80]\n",
    "}\n",
    "\n",
    "t2 = {\n",
    "    'degree': [2, 3, 4, 5],\n",
    "    'epsilon' : [0.1, 0.2, 0.3, 0.9],\n",
    "    'C':[0.01, 0.1, 1, 10, 100]\n",
    "}\n",
    "\n",
    "mod = drp(RandomForestRegressor(), X_train, y_train, tuning = tuning(space, iterations=300, cv=5, scoring='r2'))\n",
    "mod"
   ]
  },
  {
   "cell_type": "code",
   "execution_count": 17,
   "metadata": {},
   "outputs": [],
   "source": [
    "var = [i for i, x in enumerate(var) if x]"
   ]
  },
  {
   "cell_type": "code",
   "execution_count": 18,
   "metadata": {},
   "outputs": [],
   "source": [
    "X_test = np.apply_along_axis(lambda x: x[var], 1, X_test)"
   ]
  },
  {
   "cell_type": "code",
   "execution_count": 19,
   "metadata": {},
   "outputs": [
    {
     "data": {
      "text/plain": [
       "0.4415409844723902"
      ]
     },
     "execution_count": 19,
     "metadata": {},
     "output_type": "execute_result"
    }
   ],
   "source": [
    "from sklearn.metrics import r2_score\n",
    "y_pred = mod.predict(X_test)\n",
    "r2_score(y_test, y_pred)"
   ]
  },
  {
   "cell_type": "markdown",
   "metadata": {},
   "source": [
    "# Feature Selection"
   ]
  },
  {
   "cell_type": "markdown",
   "metadata": {},
   "source": [
    "from methods import fs\n",
    "from methods import tuning\n",
    "from sklearn.datasets import load_digits\n",
    "X, y = load_digits(return_X_y=True)\n",
    "print(X.shape)\n",
    "\n",
    "space = {\n",
    "    'n_estimators' : [1, 10,50, 100,200],\n",
    "    'max_depth' : [3,5, 10, 20, 50, 80]\n",
    "}\n",
    "t = tuning(space, iterations = 500)"
   ]
  },
  {
   "cell_type": "code",
   "execution_count": null,
   "metadata": {},
   "outputs": [],
   "source": []
  },
  {
   "cell_type": "code",
   "execution_count": 13,
   "metadata": {},
   "outputs": [
    {
     "data": {
      "text/plain": [
       "36.20173240585726"
      ]
     },
     "execution_count": 13,
     "metadata": {},
     "output_type": "execute_result"
    }
   ],
   "source": [
    "X.var()"
   ]
  },
  {
   "cell_type": "code",
   "execution_count": 14,
   "metadata": {},
   "outputs": [
    {
     "data": {
      "text/plain": [
       "(1797, 43)"
      ]
     },
     "execution_count": 14,
     "metadata": {},
     "output_type": "execute_result"
    }
   ],
   "source": [
    "X = fs(VarianceThreshold, X, y, n=10.0)\n",
    "X.shape"
   ]
  },
  {
   "cell_type": "markdown",
   "metadata": {},
   "source": [
    "# Domain Adaptation"
   ]
  },
  {
   "cell_type": "code",
   "execution_count": null,
   "metadata": {},
   "outputs": [],
   "source": []
  },
  {
   "cell_type": "markdown",
   "metadata": {},
   "source": [
    "# Drug Response"
   ]
  },
  {
   "cell_type": "code",
   "execution_count": null,
   "metadata": {},
   "outputs": [],
   "source": [
    "t2 = {\n",
    "    'degree': [2, 3, 4, 5],\n",
    "    'C':[0.01, 0.1, 1, ]\n",
    "}"
   ]
  },
  {
   "cell_type": "code",
   "execution_count": null,
   "metadata": {},
   "outputs": [],
   "source": [
    "from methods import drp\n",
    "drp(SVR(), X, y, tuning = t2)"
   ]
  }
 ],
 "metadata": {
  "file_extension": ".py",
  "kernelspec": {
   "display_name": "Python 3",
   "language": "python",
   "name": "python3"
  },
  "language_info": {
   "codemirror_mode": {
    "name": "ipython",
    "version": 3
   },
   "file_extension": ".py",
   "mimetype": "text/x-python",
   "name": "python",
   "nbconvert_exporter": "python",
   "pygments_lexer": "ipython3",
   "version": "3.7.3"
  },
  "mimetype": "text/x-python",
  "name": "python",
  "npconvert_exporter": "python",
  "pygments_lexer": "ipython3",
  "version": 3
 },
 "nbformat": 4,
 "nbformat_minor": 4
}
