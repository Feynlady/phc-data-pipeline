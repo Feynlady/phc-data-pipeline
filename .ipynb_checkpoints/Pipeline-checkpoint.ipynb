{
 "cells": [
  {
   "cell_type": "code",
   "execution_count": 1,
   "metadata": {},
   "outputs": [],
   "source": [
    "import pandas as pd\n",
    "import numpy as np\n",
    "from sklearn import linear_model\n",
    "from sklearn.feature_selection import SelectKBest, SelectPercentile, f_regression, mutual_info_regression, SelectFromModel, VarianceThreshold\n",
    "from sklearn.ensemble import RandomForestRegressor\n",
    "from sklearn.svm import SVR\n",
    "from sklearn.neighbors import KNeighborsRegressor\n",
    "from sklearn.tree import DecisionTreeRegressor\n",
    "from sklearn.model_selection import RandomizedSearchCV"
   ]
  },
  {
   "cell_type": "markdown",
   "metadata": {},
   "source": [
    "# Loading data and pre-processing"
   ]
  },
  {
   "cell_type": "code",
   "execution_count": 28,
   "metadata": {},
   "outputs": [],
   "source": [
    "gdsc_ge = pd.read_csv('data/Processed/gdsc_cell_ge.csv').fillna(0).set_index('CCL')"
   ]
  },
  {
   "cell_type": "code",
   "execution_count": 29,
   "metadata": {},
   "outputs": [],
   "source": [
    "ctrp_ge = pd.read_csv('data/Processed/ctrp_cell_ge.csv').fillna(0).set_index('CCL')"
   ]
  },
  {
   "cell_type": "code",
   "execution_count": 30,
   "metadata": {},
   "outputs": [
    {
     "data": {
      "text/plain": [
       "(449, 19851)"
      ]
     },
     "execution_count": 30,
     "metadata": {},
     "output_type": "execute_result"
    }
   ],
   "source": [
    "ctrp_ge.shape"
   ]
  },
  {
   "cell_type": "code",
   "execution_count": 31,
   "metadata": {},
   "outputs": [
    {
     "data": {
      "text/plain": [
       "(706, 19562)"
      ]
     },
     "execution_count": 31,
     "metadata": {},
     "output_type": "execute_result"
    }
   ],
   "source": [
    "gdsc_ge.shape"
   ]
  },
  {
   "cell_type": "code",
   "execution_count": 38,
   "metadata": {},
   "outputs": [
    {
     "data": {
      "text/plain": [
       "(1155, 22313)"
      ]
     },
     "execution_count": 38,
     "metadata": {},
     "output_type": "execute_result"
    }
   ],
   "source": [
    "data = pd.concat([gdsc_ge, ctrp_ge], sort = False, keys = ['gdsc', 'ctrp']).fillna(0)\n",
    "data.shape"
   ]
  },
  {
   "cell_type": "code",
   "execution_count": 41,
   "metadata": {},
   "outputs": [
    {
     "data": {
      "text/plain": [
       "Index(['gdsc', 'ctrp'], dtype='object')"
      ]
     },
     "execution_count": 41,
     "metadata": {},
     "output_type": "execute_result"
    }
   ],
   "source": [
    "data.index.levels[0]"
   ]
  },
  {
   "cell_type": "code",
   "execution_count": 43,
   "metadata": {},
   "outputs": [
    {
     "data": {
      "text/html": [
       "<div>\n",
       "<style scoped>\n",
       "    .dataframe tbody tr th:only-of-type {\n",
       "        vertical-align: middle;\n",
       "    }\n",
       "\n",
       "    .dataframe tbody tr th {\n",
       "        vertical-align: top;\n",
       "    }\n",
       "\n",
       "    .dataframe thead th {\n",
       "        text-align: right;\n",
       "    }\n",
       "</style>\n",
       "<table border=\"1\" class=\"dataframe\">\n",
       "  <thead>\n",
       "    <tr style=\"text-align: right;\">\n",
       "      <th></th>\n",
       "      <th></th>\n",
       "      <th>A1BG</th>\n",
       "      <th>A1CF</th>\n",
       "      <th>A2M</th>\n",
       "      <th>A4GALT</th>\n",
       "      <th>A4GNT</th>\n",
       "      <th>AAAS</th>\n",
       "      <th>AACS</th>\n",
       "      <th>AACSP1</th>\n",
       "      <th>AADAC</th>\n",
       "      <th>AADAT</th>\n",
       "      <th>...</th>\n",
       "      <th>ZNF818P</th>\n",
       "      <th>ZNF826P</th>\n",
       "      <th>ZNF836</th>\n",
       "      <th>ZNF850</th>\n",
       "      <th>ZNF865</th>\n",
       "      <th>ZNF891</th>\n",
       "      <th>ZSCAN12P1</th>\n",
       "      <th>ZSCAN16-AS1</th>\n",
       "      <th>ZSWIM8-AS1</th>\n",
       "      <th>ZXDA</th>\n",
       "    </tr>\n",
       "    <tr>\n",
       "      <th></th>\n",
       "      <th>CCL</th>\n",
       "      <th></th>\n",
       "      <th></th>\n",
       "      <th></th>\n",
       "      <th></th>\n",
       "      <th></th>\n",
       "      <th></th>\n",
       "      <th></th>\n",
       "      <th></th>\n",
       "      <th></th>\n",
       "      <th></th>\n",
       "      <th></th>\n",
       "      <th></th>\n",
       "      <th></th>\n",
       "      <th></th>\n",
       "      <th></th>\n",
       "      <th></th>\n",
       "      <th></th>\n",
       "      <th></th>\n",
       "      <th></th>\n",
       "      <th></th>\n",
       "      <th></th>\n",
       "    </tr>\n",
       "  </thead>\n",
       "  <tbody>\n",
       "    <tr>\n",
       "      <th rowspan=\"5\" valign=\"top\">gdsc</th>\n",
       "      <th>22RV1</th>\n",
       "      <td>3.537942</td>\n",
       "      <td>6.364651</td>\n",
       "      <td>5.332441</td>\n",
       "      <td>3.241125</td>\n",
       "      <td>3.262633</td>\n",
       "      <td>4.722157</td>\n",
       "      <td>4.942126</td>\n",
       "      <td>3.537010</td>\n",
       "      <td>2.989766</td>\n",
       "      <td>3.841171</td>\n",
       "      <td>...</td>\n",
       "      <td>0.000000</td>\n",
       "      <td>0.000000</td>\n",
       "      <td>0.000000</td>\n",
       "      <td>0.000000</td>\n",
       "      <td>0.000000</td>\n",
       "      <td>0.000000</td>\n",
       "      <td>0.000000</td>\n",
       "      <td>0.000000</td>\n",
       "      <td>0.000000</td>\n",
       "      <td>0.000000</td>\n",
       "    </tr>\n",
       "    <tr>\n",
       "      <th>2313287</th>\n",
       "      <td>3.370950</td>\n",
       "      <td>6.284884</td>\n",
       "      <td>3.485675</td>\n",
       "      <td>3.313028</td>\n",
       "      <td>3.096527</td>\n",
       "      <td>4.873621</td>\n",
       "      <td>4.213177</td>\n",
       "      <td>3.067134</td>\n",
       "      <td>2.983678</td>\n",
       "      <td>3.139248</td>\n",
       "      <td>...</td>\n",
       "      <td>0.000000</td>\n",
       "      <td>0.000000</td>\n",
       "      <td>0.000000</td>\n",
       "      <td>0.000000</td>\n",
       "      <td>0.000000</td>\n",
       "      <td>0.000000</td>\n",
       "      <td>0.000000</td>\n",
       "      <td>0.000000</td>\n",
       "      <td>0.000000</td>\n",
       "      <td>0.000000</td>\n",
       "    </tr>\n",
       "    <tr>\n",
       "      <th>5637</th>\n",
       "      <td>2.927335</td>\n",
       "      <td>2.892365</td>\n",
       "      <td>3.181651</td>\n",
       "      <td>4.295357</td>\n",
       "      <td>3.205598</td>\n",
       "      <td>5.249042</td>\n",
       "      <td>4.495021</td>\n",
       "      <td>2.788374</td>\n",
       "      <td>3.213285</td>\n",
       "      <td>5.326825</td>\n",
       "      <td>...</td>\n",
       "      <td>0.000000</td>\n",
       "      <td>0.000000</td>\n",
       "      <td>0.000000</td>\n",
       "      <td>0.000000</td>\n",
       "      <td>0.000000</td>\n",
       "      <td>0.000000</td>\n",
       "      <td>0.000000</td>\n",
       "      <td>0.000000</td>\n",
       "      <td>0.000000</td>\n",
       "      <td>0.000000</td>\n",
       "    </tr>\n",
       "    <tr>\n",
       "      <th>639V</th>\n",
       "      <td>3.953010</td>\n",
       "      <td>2.858072</td>\n",
       "      <td>2.892599</td>\n",
       "      <td>2.960059</td>\n",
       "      <td>3.121154</td>\n",
       "      <td>4.445200</td>\n",
       "      <td>4.017422</td>\n",
       "      <td>2.985819</td>\n",
       "      <td>3.109708</td>\n",
       "      <td>5.804184</td>\n",
       "      <td>...</td>\n",
       "      <td>0.000000</td>\n",
       "      <td>0.000000</td>\n",
       "      <td>0.000000</td>\n",
       "      <td>0.000000</td>\n",
       "      <td>0.000000</td>\n",
       "      <td>0.000000</td>\n",
       "      <td>0.000000</td>\n",
       "      <td>0.000000</td>\n",
       "      <td>0.000000</td>\n",
       "      <td>0.000000</td>\n",
       "    </tr>\n",
       "    <tr>\n",
       "      <th>647V</th>\n",
       "      <td>2.804009</td>\n",
       "      <td>2.944390</td>\n",
       "      <td>3.178071</td>\n",
       "      <td>3.029297</td>\n",
       "      <td>3.024326</td>\n",
       "      <td>4.636786</td>\n",
       "      <td>4.724453</td>\n",
       "      <td>3.017293</td>\n",
       "      <td>3.320550</td>\n",
       "      <td>3.749442</td>\n",
       "      <td>...</td>\n",
       "      <td>0.000000</td>\n",
       "      <td>0.000000</td>\n",
       "      <td>0.000000</td>\n",
       "      <td>0.000000</td>\n",
       "      <td>0.000000</td>\n",
       "      <td>0.000000</td>\n",
       "      <td>0.000000</td>\n",
       "      <td>0.000000</td>\n",
       "      <td>0.000000</td>\n",
       "      <td>0.000000</td>\n",
       "    </tr>\n",
       "    <tr>\n",
       "      <th>...</th>\n",
       "      <th>...</th>\n",
       "      <td>...</td>\n",
       "      <td>...</td>\n",
       "      <td>...</td>\n",
       "      <td>...</td>\n",
       "      <td>...</td>\n",
       "      <td>...</td>\n",
       "      <td>...</td>\n",
       "      <td>...</td>\n",
       "      <td>...</td>\n",
       "      <td>...</td>\n",
       "      <td>...</td>\n",
       "      <td>...</td>\n",
       "      <td>...</td>\n",
       "      <td>...</td>\n",
       "      <td>...</td>\n",
       "      <td>...</td>\n",
       "      <td>...</td>\n",
       "      <td>...</td>\n",
       "      <td>...</td>\n",
       "      <td>...</td>\n",
       "      <td>...</td>\n",
       "    </tr>\n",
       "    <tr>\n",
       "      <th rowspan=\"5\" valign=\"top\">ctrp</th>\n",
       "      <th>ZR751</th>\n",
       "      <td>6.694777</td>\n",
       "      <td>3.754769</td>\n",
       "      <td>3.769402</td>\n",
       "      <td>4.574043</td>\n",
       "      <td>4.416972</td>\n",
       "      <td>6.098093</td>\n",
       "      <td>8.485920</td>\n",
       "      <td>3.364098</td>\n",
       "      <td>4.393612</td>\n",
       "      <td>7.023499</td>\n",
       "      <td>...</td>\n",
       "      <td>3.905325</td>\n",
       "      <td>3.692998</td>\n",
       "      <td>5.716371</td>\n",
       "      <td>4.754836</td>\n",
       "      <td>4.278497</td>\n",
       "      <td>3.468215</td>\n",
       "      <td>4.535992</td>\n",
       "      <td>3.817745</td>\n",
       "      <td>6.061334</td>\n",
       "      <td>5.532236</td>\n",
       "    </tr>\n",
       "    <tr>\n",
       "      <th>ZR7530</th>\n",
       "      <td>6.141592</td>\n",
       "      <td>3.820361</td>\n",
       "      <td>4.617683</td>\n",
       "      <td>4.666993</td>\n",
       "      <td>4.387402</td>\n",
       "      <td>7.078184</td>\n",
       "      <td>8.318758</td>\n",
       "      <td>3.519714</td>\n",
       "      <td>5.091833</td>\n",
       "      <td>4.912098</td>\n",
       "      <td>...</td>\n",
       "      <td>5.495265</td>\n",
       "      <td>3.637149</td>\n",
       "      <td>5.185964</td>\n",
       "      <td>5.713535</td>\n",
       "      <td>4.509307</td>\n",
       "      <td>3.438513</td>\n",
       "      <td>5.915627</td>\n",
       "      <td>3.866042</td>\n",
       "      <td>5.395049</td>\n",
       "      <td>6.090865</td>\n",
       "    </tr>\n",
       "    <tr>\n",
       "      <th>OE21</th>\n",
       "      <td>0.000000</td>\n",
       "      <td>0.000000</td>\n",
       "      <td>0.000000</td>\n",
       "      <td>0.000000</td>\n",
       "      <td>0.000000</td>\n",
       "      <td>0.000000</td>\n",
       "      <td>0.000000</td>\n",
       "      <td>0.000000</td>\n",
       "      <td>0.000000</td>\n",
       "      <td>0.000000</td>\n",
       "      <td>...</td>\n",
       "      <td>0.000000</td>\n",
       "      <td>0.000000</td>\n",
       "      <td>0.000000</td>\n",
       "      <td>0.000000</td>\n",
       "      <td>0.000000</td>\n",
       "      <td>0.000000</td>\n",
       "      <td>0.000000</td>\n",
       "      <td>0.000000</td>\n",
       "      <td>0.000000</td>\n",
       "      <td>0.000000</td>\n",
       "    </tr>\n",
       "    <tr>\n",
       "      <th>DOV13</th>\n",
       "      <td>0.000000</td>\n",
       "      <td>0.000000</td>\n",
       "      <td>0.000000</td>\n",
       "      <td>0.000000</td>\n",
       "      <td>0.000000</td>\n",
       "      <td>0.000000</td>\n",
       "      <td>0.000000</td>\n",
       "      <td>0.000000</td>\n",
       "      <td>0.000000</td>\n",
       "      <td>0.000000</td>\n",
       "      <td>...</td>\n",
       "      <td>0.000000</td>\n",
       "      <td>0.000000</td>\n",
       "      <td>0.000000</td>\n",
       "      <td>0.000000</td>\n",
       "      <td>0.000000</td>\n",
       "      <td>0.000000</td>\n",
       "      <td>0.000000</td>\n",
       "      <td>0.000000</td>\n",
       "      <td>0.000000</td>\n",
       "      <td>0.000000</td>\n",
       "    </tr>\n",
       "    <tr>\n",
       "      <th>COLO699</th>\n",
       "      <td>0.000000</td>\n",
       "      <td>0.000000</td>\n",
       "      <td>0.000000</td>\n",
       "      <td>0.000000</td>\n",
       "      <td>0.000000</td>\n",
       "      <td>0.000000</td>\n",
       "      <td>0.000000</td>\n",
       "      <td>0.000000</td>\n",
       "      <td>0.000000</td>\n",
       "      <td>0.000000</td>\n",
       "      <td>...</td>\n",
       "      <td>0.000000</td>\n",
       "      <td>0.000000</td>\n",
       "      <td>0.000000</td>\n",
       "      <td>0.000000</td>\n",
       "      <td>0.000000</td>\n",
       "      <td>0.000000</td>\n",
       "      <td>0.000000</td>\n",
       "      <td>0.000000</td>\n",
       "      <td>0.000000</td>\n",
       "      <td>0.000000</td>\n",
       "    </tr>\n",
       "  </tbody>\n",
       "</table>\n",
       "<p>1155 rows × 18732 columns</p>\n",
       "</div>"
      ],
      "text/plain": [
       "                  A1BG      A1CF       A2M    A4GALT     A4GNT      AAAS  \\\n",
       "     CCL                                                                   \n",
       "gdsc 22RV1    3.537942  6.364651  5.332441  3.241125  3.262633  4.722157   \n",
       "     2313287  3.370950  6.284884  3.485675  3.313028  3.096527  4.873621   \n",
       "     5637     2.927335  2.892365  3.181651  4.295357  3.205598  5.249042   \n",
       "     639V     3.953010  2.858072  2.892599  2.960059  3.121154  4.445200   \n",
       "     647V     2.804009  2.944390  3.178071  3.029297  3.024326  4.636786   \n",
       "...                ...       ...       ...       ...       ...       ...   \n",
       "ctrp ZR751    6.694777  3.754769  3.769402  4.574043  4.416972  6.098093   \n",
       "     ZR7530   6.141592  3.820361  4.617683  4.666993  4.387402  7.078184   \n",
       "     OE21     0.000000  0.000000  0.000000  0.000000  0.000000  0.000000   \n",
       "     DOV13    0.000000  0.000000  0.000000  0.000000  0.000000  0.000000   \n",
       "     COLO699  0.000000  0.000000  0.000000  0.000000  0.000000  0.000000   \n",
       "\n",
       "                  AACS    AACSP1     AADAC     AADAT  ...   ZNF818P   ZNF826P  \\\n",
       "     CCL                                              ...                       \n",
       "gdsc 22RV1    4.942126  3.537010  2.989766  3.841171  ...  0.000000  0.000000   \n",
       "     2313287  4.213177  3.067134  2.983678  3.139248  ...  0.000000  0.000000   \n",
       "     5637     4.495021  2.788374  3.213285  5.326825  ...  0.000000  0.000000   \n",
       "     639V     4.017422  2.985819  3.109708  5.804184  ...  0.000000  0.000000   \n",
       "     647V     4.724453  3.017293  3.320550  3.749442  ...  0.000000  0.000000   \n",
       "...                ...       ...       ...       ...  ...       ...       ...   \n",
       "ctrp ZR751    8.485920  3.364098  4.393612  7.023499  ...  3.905325  3.692998   \n",
       "     ZR7530   8.318758  3.519714  5.091833  4.912098  ...  5.495265  3.637149   \n",
       "     OE21     0.000000  0.000000  0.000000  0.000000  ...  0.000000  0.000000   \n",
       "     DOV13    0.000000  0.000000  0.000000  0.000000  ...  0.000000  0.000000   \n",
       "     COLO699  0.000000  0.000000  0.000000  0.000000  ...  0.000000  0.000000   \n",
       "\n",
       "                ZNF836    ZNF850    ZNF865    ZNF891  ZSCAN12P1  ZSCAN16-AS1  \\\n",
       "     CCL                                                                       \n",
       "gdsc 22RV1    0.000000  0.000000  0.000000  0.000000   0.000000     0.000000   \n",
       "     2313287  0.000000  0.000000  0.000000  0.000000   0.000000     0.000000   \n",
       "     5637     0.000000  0.000000  0.000000  0.000000   0.000000     0.000000   \n",
       "     639V     0.000000  0.000000  0.000000  0.000000   0.000000     0.000000   \n",
       "     647V     0.000000  0.000000  0.000000  0.000000   0.000000     0.000000   \n",
       "...                ...       ...       ...       ...        ...          ...   \n",
       "ctrp ZR751    5.716371  4.754836  4.278497  3.468215   4.535992     3.817745   \n",
       "     ZR7530   5.185964  5.713535  4.509307  3.438513   5.915627     3.866042   \n",
       "     OE21     0.000000  0.000000  0.000000  0.000000   0.000000     0.000000   \n",
       "     DOV13    0.000000  0.000000  0.000000  0.000000   0.000000     0.000000   \n",
       "     COLO699  0.000000  0.000000  0.000000  0.000000   0.000000     0.000000   \n",
       "\n",
       "              ZSWIM8-AS1      ZXDA  \n",
       "     CCL                            \n",
       "gdsc 22RV1      0.000000  0.000000  \n",
       "     2313287    0.000000  0.000000  \n",
       "     5637       0.000000  0.000000  \n",
       "     639V       0.000000  0.000000  \n",
       "     647V       0.000000  0.000000  \n",
       "...                  ...       ...  \n",
       "ctrp ZR751      6.061334  5.532236  \n",
       "     ZR7530     5.395049  6.090865  \n",
       "     OE21       0.000000  0.000000  \n",
       "     DOV13      0.000000  0.000000  \n",
       "     COLO699    0.000000  0.000000  \n",
       "\n",
       "[1155 rows x 18732 columns]"
      ]
     },
     "execution_count": 43,
     "metadata": {},
     "output_type": "execute_result"
    }
   ],
   "source": [
    "from methods import pre\n",
    "pre(data)"
   ]
  },
  {
   "cell_type": "code",
   "execution_count": 19,
   "metadata": {},
   "outputs": [
    {
     "data": {
      "text/plain": [
       "2"
      ]
     },
     "execution_count": 19,
     "metadata": {},
     "output_type": "execute_result"
    }
   ],
   "source": [
    "data.index.levshape[0]"
   ]
  },
  {
   "cell_type": "code",
   "execution_count": 129,
   "metadata": {},
   "outputs": [],
   "source": [
    "from methods import pre\n",
    "data = pre(data, p = 0.01, t=4)"
   ]
  },
  {
   "cell_type": "code",
   "execution_count": 130,
   "metadata": {},
   "outputs": [
    {
     "data": {
      "text/plain": [
       "(784, 16971)"
      ]
     },
     "execution_count": 130,
     "metadata": {},
     "output_type": "execute_result"
    }
   ],
   "source": [
    "data.shape"
   ]
  },
  {
   "cell_type": "code",
   "execution_count": 99,
   "metadata": {},
   "outputs": [],
   "source": [
    "gdsc_dr = pd.read_csv('data/Processed/gdsc_poz_dr.csv').fillna(0)\n",
    "ctrp_dr = pd.read_csv('data/Processed/ctrp_poz_dr.csv').fillna(0)"
   ]
  },
  {
   "cell_type": "code",
   "execution_count": 100,
   "metadata": {},
   "outputs": [],
   "source": [
    "from methods import combine\n",
    "X_gdsc = combine(data.loc['gdsc'], gdsc_dr, '17-AAG')\n",
    "X_ctrp = combine(data.loc['ctrp'], ctrp_dr, '17-AAG')"
   ]
  },
  {
   "cell_type": "code",
   "execution_count": 101,
   "metadata": {},
   "outputs": [],
   "source": [
    "com = pd.concat([X_gdsc, X_ctrp], sort=False, keys = ['gdsc', 'ctrp']).fillna(0)"
   ]
  },
  {
   "cell_type": "code",
   "execution_count": 113,
   "metadata": {},
   "outputs": [],
   "source": [
    "from sklearn.model_selection import train_test_split\n",
    " \n",
    "X_train, X_test, y_train, y_test = train_test_split(com.drop('DR', axis=1), com['DR'], stratify=com.index.get_level_values(0))"
   ]
  },
  {
   "cell_type": "code",
   "execution_count": 114,
   "metadata": {},
   "outputs": [],
   "source": [
    "from methods import fs\n",
    "X_train_fs, X_test_fs, var = fs(f_regression, X_train, X_test, y_train, n=0.01)"
   ]
  },
  {
   "cell_type": "code",
   "execution_count": 115,
   "metadata": {},
   "outputs": [],
   "source": [
    "X_train = pd.DataFrame(X_train_fs, index=X_train.index)"
   ]
  },
  {
   "cell_type": "code",
   "execution_count": 116,
   "metadata": {},
   "outputs": [],
   "source": [
    "from methods import feda\n",
    "X_train = feda([X_train.loc['gdsc'].to_numpy(), X_train.loc['ctrp'].to_numpy()])\n",
    "#data = feda([data.loc['gdsc'].to_numpy(), data.loc['ctrp'].to_numpy()])"
   ]
  },
  {
   "cell_type": "code",
   "execution_count": 117,
   "metadata": {},
   "outputs": [
    {
     "name": "stderr",
     "output_type": "stream",
     "text": [
      "/opt/anaconda3/lib/python3.7/site-packages/sklearn/model_selection/_search.py:281: UserWarning: The total space of parameters 30 is smaller than n_iter=300. Running 30 iterations. For exhaustive searches, use GridSearchCV.\n",
      "  % (grid_size, self.n_iter, grid_size), UserWarning)\n"
     ]
    },
    {
     "data": {
      "text/plain": [
       "RandomForestRegressor(bootstrap=True, ccp_alpha=0.0, criterion='mse',\n",
       "                      max_depth=3, max_features='auto', max_leaf_nodes=None,\n",
       "                      max_samples=None, min_impurity_decrease=0.0,\n",
       "                      min_impurity_split=None, min_samples_leaf=1,\n",
       "                      min_samples_split=2, min_weight_fraction_leaf=0.0,\n",
       "                      n_estimators=200, n_jobs=None, oob_score=False,\n",
       "                      random_state=None, verbose=0, warm_start=False)"
      ]
     },
     "execution_count": 117,
     "metadata": {},
     "output_type": "execute_result"
    }
   ],
   "source": [
    "from methods import drp\n",
    "from methods import tuning\n",
    "\n",
    "space = {\n",
    "    'n_estimators' : [1, 10,50, 100,200],\n",
    "    'max_depth' : [3,5, 10, 20, 50, 80]\n",
    "}\n",
    "\n",
    "t2 = {\n",
    "    'degree': [2, 3, 4, 5],\n",
    "    'epsilon' : [0.1, 0.2, 0.3, 0.9],\n",
    "    'C':[0.01, 0.1, 1, 10, 100]\n",
    "}\n",
    "\n",
    "mod = drp(RandomForestRegressor(), X_train, y_train, tuning = tuning(space, iterations=300, cv=5, scoring='r2'))\n",
    "mod"
   ]
  },
  {
   "cell_type": "code",
   "execution_count": 118,
   "metadata": {},
   "outputs": [],
   "source": [
    "var = [i for i, x in enumerate(var) if x]"
   ]
  },
  {
   "cell_type": "code",
   "execution_count": 120,
   "metadata": {},
   "outputs": [],
   "source": [
    "X_test = pd.DataFrame(X_test_fs, index=X_test.index)\n",
    "X_test = feda([X_test.loc['gdsc'].to_numpy(), X_test.loc['ctrp'].to_numpy()])\n"
   ]
  },
  {
   "cell_type": "code",
   "execution_count": 121,
   "metadata": {},
   "outputs": [
    {
     "data": {
      "text/plain": [
       "0.0059988540607845975"
      ]
     },
     "execution_count": 121,
     "metadata": {},
     "output_type": "execute_result"
    }
   ],
   "source": [
    "from sklearn.metrics import r2_score\n",
    "y_pred = mod.predict(X_test)\n",
    "r2_score(y_test, y_pred)"
   ]
  },
  {
   "cell_type": "markdown",
   "metadata": {},
   "source": [
    "# Feature Selection"
   ]
  },
  {
   "cell_type": "markdown",
   "metadata": {},
   "source": [
    "from methods import fs\n",
    "from methods import tuning\n",
    "from sklearn.datasets import load_digits\n",
    "X, y = load_digits(return_X_y=True)\n",
    "print(X.shape)\n",
    "\n",
    "space = {\n",
    "    'n_estimators' : [1, 10,50, 100,200],\n",
    "    'max_depth' : [3,5, 10, 20, 50, 80]\n",
    "}\n",
    "t = tuning(space, iterations = 500)"
   ]
  },
  {
   "cell_type": "code",
   "execution_count": null,
   "metadata": {},
   "outputs": [],
   "source": []
  },
  {
   "cell_type": "code",
   "execution_count": 13,
   "metadata": {},
   "outputs": [
    {
     "data": {
      "text/plain": [
       "36.20173240585726"
      ]
     },
     "execution_count": 13,
     "metadata": {},
     "output_type": "execute_result"
    }
   ],
   "source": [
    "X.var()"
   ]
  },
  {
   "cell_type": "code",
   "execution_count": 14,
   "metadata": {},
   "outputs": [
    {
     "data": {
      "text/plain": [
       "(1797, 43)"
      ]
     },
     "execution_count": 14,
     "metadata": {},
     "output_type": "execute_result"
    }
   ],
   "source": [
    "X = fs(VarianceThreshold, X, y, n=10.0)\n",
    "X.shape"
   ]
  },
  {
   "cell_type": "markdown",
   "metadata": {},
   "source": [
    "# Domain Adaptation"
   ]
  },
  {
   "cell_type": "code",
   "execution_count": null,
   "metadata": {},
   "outputs": [],
   "source": []
  },
  {
   "cell_type": "markdown",
   "metadata": {},
   "source": [
    "# Drug Response"
   ]
  },
  {
   "cell_type": "code",
   "execution_count": null,
   "metadata": {},
   "outputs": [],
   "source": [
    "t2 = {\n",
    "    'degree': [2, 3, 4, 5],\n",
    "    'C':[0.01, 0.1, 1, ]\n",
    "}"
   ]
  },
  {
   "cell_type": "code",
   "execution_count": null,
   "metadata": {},
   "outputs": [],
   "source": [
    "from methods import drp\n",
    "drp(SVR(), X, y, tuning = t2)"
   ]
  }
 ],
 "metadata": {
  "file_extension": ".py",
  "kernelspec": {
   "display_name": "Python 3",
   "language": "python",
   "name": "python3"
  },
  "language_info": {
   "codemirror_mode": {
    "name": "ipython",
    "version": 3
   },
   "file_extension": ".py",
   "mimetype": "text/x-python",
   "name": "python",
   "nbconvert_exporter": "python",
   "pygments_lexer": "ipython3",
   "version": "3.7.6"
  },
  "mimetype": "text/x-python",
  "name": "python",
  "npconvert_exporter": "python",
  "pygments_lexer": "ipython3",
  "version": 3
 },
 "nbformat": 4,
 "nbformat_minor": 4
}
